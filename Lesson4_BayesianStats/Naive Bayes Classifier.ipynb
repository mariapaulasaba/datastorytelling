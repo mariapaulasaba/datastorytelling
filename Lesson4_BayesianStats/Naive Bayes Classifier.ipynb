{
 "metadata": {
  "name": ""
 },
 "nbformat": 3,
 "nbformat_minor": 0,
 "worksheets": [
  {
   "cells": [
    {
     "cell_type": "code",
     "collapsed": false,
     "input": [
      "import re\n",
      "import string\n",
      "\n",
      "def FreqDist(words):\n",
      "    \"\"\"\n",
      "    FreqDist: Accepts a string of words and returns a dictionary of form {'word': count}\n",
      "    \"\"\"\n",
      "    data = {}\n",
      "    for word in words.split():\n",
      "        data[word] = data.get(word, 0) + 1\n",
      "    return data"
     ],
     "language": "python",
     "metadata": {},
     "outputs": [],
     "prompt_number": 1
    },
    {
     "cell_type": "code",
     "collapsed": false,
     "input": [
      "sentence = \"I like marshmallows and I like fruit.\"\n",
      "print FreqDist(sentence)"
     ],
     "language": "python",
     "metadata": {},
     "outputs": [
      {
       "output_type": "stream",
       "stream": "stdout",
       "text": [
        "{'I': 2, 'marshmallows': 1, 'and': 1, 'fruit.': 1, 'like': 2}\n"
       ]
      }
     ],
     "prompt_number": 2
    },
    {
     "cell_type": "code",
     "collapsed": false,
     "input": [
      "print type(data['politics'])\n",
      "sentence2 = ' '.join(data['politics'])\n",
      "print type(sentence2);"
     ],
     "language": "python",
     "metadata": {},
     "outputs": [
      {
       "output_type": "stream",
       "stream": "stdout",
       "text": [
        "<type 'list'>\n",
        "<type 'str'>\n"
       ]
      }
     ],
     "prompt_number": 11
    },
    {
     "cell_type": "code",
     "collapsed": false,
     "input": [
      "myDict = FreqDist(sentence2)\n",
      "maxo = myDict.keys()[0]\n",
      "for word in myDict.keys():\n",
      "    if (myDict[maxo] < myDict[word]):\n",
      "        maxo = word\n",
      "print myDict[maxo]\n",
      "print maxo\n",
      "    "
     ],
     "language": "python",
     "metadata": {},
     "outputs": [
      {
       "output_type": "stream",
       "stream": "stdout",
       "text": [
        "123\n",
        "the\n"
       ]
      }
     ],
     "prompt_number": 15
    },
    {
     "cell_type": "code",
     "collapsed": false,
     "input": [
      "class NaiveBayesClassifier(object):\n",
      "    \n",
      "    def __init__(self):\n",
      "        self.feature_count = {}\n",
      "        self.category_count = {}\n",
      "    \n",
      "    def probability(self, item, category): # P(art|words)\n",
      "        \"\"\"\n",
      "        probability: prob that an item is in a category\n",
      "        \"\"\"\n",
      "        category_prob = self.get_category_count(category) / sum(self.category_count.values())\n",
      "        return self.document_probability(item, category) * category_prob\n",
      "    \n",
      "    def document_probability(self, item, category):\n",
      "        features = self.get_features(item)\n",
      "        \n",
      "        p = 1\n",
      "        for feature in features:\n",
      "            print \"%s - %s - %s\" % (feature, category, self.weighted_prob(feature, category))\n",
      "            p *= self.weighted_prob(feature, category)\n",
      "            \n",
      "        return p\n",
      "        \n",
      "    def train_from_data(self, data):\n",
      "        for category, documents in data.items():\n",
      "            for doc in documents:\n",
      "                self.train(doc, category)   \n",
      "        # print self.feature_count\n",
      "        \n",
      "    def get_features(self, document):\n",
      "        all_words_freq = FreqDist(document)\n",
      "        #print sorted(all_words_freq.items(), key=lambda(w,c):(-c, w))\n",
      "        return all_words_freq\n",
      "                \n",
      "    def increment_feature(self, feature, category):\n",
      "        self.feature_count.setdefault(feature,{})\n",
      "        self.feature_count[feature].setdefault(category, 0)\n",
      "        self.feature_count[feature][category] += 1\n",
      "        \n",
      "    def increment_cat(self, category):\n",
      "        self.category_count.setdefault(category, 0)\n",
      "        self.category_count[category] += 1\n",
      "        \n",
      "    def get_feature_count(self, feature, category):\n",
      "        if feature in self.feature_count and category in self.feature_count[feature]:\n",
      "            return float(self.feature_count[feature][category])\n",
      "        else:\n",
      "            return 0.0\n",
      "            \n",
      "    def get_category_count(self, category):\n",
      "        if category in self.category_count:\n",
      "            return float(self.category_count[category])\n",
      "        else:\n",
      "            return 0.0\n",
      "    \n",
      "    def feature_prob(self, f, category): # Pr(A|B)\n",
      "        if self.get_category_count(category) == 0:\n",
      "            return 0\n",
      "        \n",
      "        return (self.get_feature_count(f, category) / self.get_category_count(category))\n",
      "        \n",
      "    def weighted_prob(self, f, category, weight=1.0, ap=0.5):\n",
      "        basic_prob = self.feature_prob(f, category)\n",
      "        \n",
      "        totals = sum([self.get_feature_count(f, category) for category in self.category_count.keys()])\n",
      "        \n",
      "        w_prob = ((weight*ap) + (totals * basic_prob)) / (weight + totals)\n",
      "        return w_prob\n",
      "            \n",
      "    def train(self, item, category):\n",
      "        #print item\n",
      "        features = self.get_features(item)\n",
      "        #print features\n",
      "        \n",
      "        for f in features:\n",
      "            self.increment_feature(f, category)\n",
      "        \n",
      "        self.increment_cat(category)"
     ],
     "language": "python",
     "metadata": {},
     "outputs": [],
     "prompt_number": 3
    },
    {
     "cell_type": "code",
     "collapsed": false,
     "input": [
      "nb = NaiveBayesClassifier()"
     ],
     "language": "python",
     "metadata": {},
     "outputs": [],
     "prompt_number": 4
    },
    {
     "cell_type": "code",
     "collapsed": false,
     "input": [
      "#data = {'art': [\"trumpet piano paint draw draw dance\"], 'sports': [\"dance swim fight\"]}\n",
      "\n",
      "data = {}\n",
      "\n",
      "f = open('politics.txt')\n",
      "data['politics'] = [f.read()]\n",
      "f.close()\n",
      "\n",
      "f = open('health.txt')\n",
      "data['health'] = [f.read()]\n",
      "f.close()\n",
      "\n",
      "\n",
      "nb.train_from_data(data)"
     ],
     "language": "python",
     "metadata": {},
     "outputs": [],
     "prompt_number": 5
    },
    {
     "cell_type": "code",
     "collapsed": false,
     "input": [
      "tweet = \"eating well exercise moving around\"\n",
      "\n",
      "print nb.probability(tweet, 'politics')\n",
      "print nb.probability(tweet, 'health')"
     ],
     "language": "python",
     "metadata": {},
     "outputs": [
      {
       "output_type": "stream",
       "stream": "stdout",
       "text": [
        "well - politics - 0.25\n",
        "moving - politics - 0.5\n",
        "eating - politics - 0.5\n",
        "around - politics - 0.5\n",
        "exercise - politics - 0.25\n",
        "0.00390625\n",
        "well - health - 0.75\n",
        "moving - health - 0.5\n",
        "eating - health - 0.5\n",
        "around - health - 0.5\n",
        "exercise - health - 0.75\n",
        "0.03515625\n"
       ]
      }
     ],
     "prompt_number": 6
    },
    {
     "cell_type": "code",
     "collapsed": false,
     "input": [],
     "language": "python",
     "metadata": {},
     "outputs": [],
     "prompt_number": 6
    }
   ],
   "metadata": {}
  }
 ]
}