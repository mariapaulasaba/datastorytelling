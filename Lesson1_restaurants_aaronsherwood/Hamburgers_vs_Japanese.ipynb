{
 "metadata": {
  "name": "Hamburgers_vs_Japanese"
 },
 "nbformat": 3,
 "nbformat_minor": 0,
 "worksheets": [
  {
   "cells": [
    {
     "cell_type": "heading",
     "level": 1,
     "metadata": {},
     "source": [
      "Hamburgers vs Japanese & more..."
     ]
    },
    {
     "cell_type": "heading",
     "level": 4,
     "metadata": {},
     "source": [
      "Where should I go to get burgers near NYU?"
     ]
    },
    {
     "cell_type": "code",
     "collapsed": false,
     "input": [
      "hamburger_data = mlab.csv2rec(\"data/hamburgers.txt\")"
     ],
     "language": "python",
     "metadata": {},
     "outputs": [],
     "prompt_number": 8
    },
    {
     "cell_type": "code",
     "collapsed": false,
     "input": [
      "for places in hamburger_data:\n",
      "    if places[5]==10003 and places [11]!=-1 and places[11]<5 and places[1]!=\"MCDONALD'S\" and places[1]!=\"WENDY'S\":\n",
      "        print places[1], places[3], places[4], places[11]"
     ],
     "language": "python",
     "metadata": {},
     "outputs": [
      {
       "output_type": "stream",
       "stream": "stdout",
       "text": [
        "MARK 33 ST MARKS PLACE 2\n",
        "POPS 42 EAST    8 STREET 4\n"
       ]
      }
     ],
     "prompt_number": 13
    },
    {
     "cell_type": "markdown",
     "metadata": {},
     "source": [
      "After excluding for poor scores, and then further weeding out the fast food restaurants, the above two restaurants look like the best choices."
     ]
    },
    {
     "cell_type": "heading",
     "level": 4,
     "metadata": {},
     "source": [
      " "
     ]
    },
    {
     "cell_type": "heading",
     "level": 4,
     "metadata": {},
     "source": [
      "How do burger restaurant scores compare, overall, to Japanese restaurants?"
     ]
    },
    {
     "cell_type": "code",
     "collapsed": false,
     "input": [
      "jap_data = mlab.csv2rec(\"data/jap_restaurants.txt\")\n"
     ],
     "language": "python",
     "metadata": {},
     "outputs": [
      {
       "output_type": "stream",
       "stream": "stdout",
       "text": [
        "\n"
       ]
      }
     ],
     "prompt_number": 3
    },
    {
     "cell_type": "code",
     "collapsed": false,
     "input": [
      "jap_scores = []\n",
      "for scores in jap_data:\n",
      "    jap_scores.append(scores[11])\n",
      "hamburger_scores = []\n",
      "for scores in hamburger_data:\n",
      "    hamburger_scores.append(scores[11])"
     ],
     "language": "python",
     "metadata": {},
     "outputs": [],
     "prompt_number": 9
    },
    {
     "cell_type": "code",
     "collapsed": false,
     "input": [
      "print \"Japanese Food Median\", numpy.median(jap_scores)\n",
      "print \"Japanese Food Average\", numpy.mean(jap_scores)\n",
      "print \"Japanese Food Variance\", numpy.var(jap_scores)\n",
      "print \"Burger Joints Median\", numpy.median(hamburger_scores)\n",
      "print \"Burger Joints Average\", numpy.mean(hamburger_scores)\n",
      "print \"Burger Joints Variance\", numpy.var(hamburger_scores)"
     ],
     "language": "python",
     "metadata": {},
     "outputs": []
    },
    {
     "cell_type": "markdown",
     "metadata": {},
     "source": [
      "JAPANESE SCORES"
     ]
    },
    {
     "cell_type": "code",
     "collapsed": false,
     "input": [
      "pylab.xlim([0,140])\n",
      "pylab.ylim([0,7000])\n",
      "n, bins, patches = pyplot.hist(jap_scores)"
     ],
     "language": "python",
     "metadata": {},
     "outputs": [
      {
       "output_type": "display_data",
       "png": "[encoded data removed]"
      }
     ],
     "prompt_number": 61
    },
    {
     "cell_type": "markdown",
     "metadata": {},
     "source": [
      "HAMBURGER SCORES"
     ]
    },
    {
     "cell_type": "code",
     "collapsed": false,
     "input": [
      "pylab.xlim([0,140])\n",
      "pylab.ylim([0,7000])\n",
      "n, bins, patches = pyplot.hist(hamburger_scores)"
     ],
     "language": "python",
     "metadata": {},
     "outputs": [
      {
       "output_type": "display_data",
       "png": "[encoded data removed]"
      }
     ],
     "prompt_number": 62
    },
    {
     "cell_type": "markdown",
     "metadata": {},
     "source": [
      "Overall burger joints are getting better ratings. This may because the fastfood restaurants are owned by large corporations, which may hold them to higher standards of hygiene and accountability. "
     ]
    },
    {
     "cell_type": "markdown",
     "metadata": {},
     "source": [
      " "
     ]
    },
    {
     "cell_type": "heading",
     "level": 4,
     "metadata": {},
     "source": [
      "Are there any cuisines for which the variance of scores is very high? Why do you think that might be the case?"
     ]
    },
    {
     "cell_type": "markdown",
     "metadata": {},
     "source": [
      "The variance for Japanese food is higher than others. Perhaps this has to do with working with raw fish? The data looks a little weird to me though, there seem to be a lot of repeats of restaurants... "
     ]
    },
    {
     "cell_type": "markdown",
     "metadata": {},
     "source": [
      " "
     ]
    },
    {
     "cell_type": "heading",
     "level": 4,
     "metadata": {},
     "source": [
      " Is one borough better than others?"
     ]
    },
    {
     "cell_type": "code",
     "collapsed": false,
     "input": [
      "all_rest_data = mlab.csv2rec(\"data/WebExtract.txt\")"
     ],
     "language": "python",
     "metadata": {},
     "outputs": [
      {
       "output_type": "stream",
       "stream": "stdout",
       "text": [
        "\n"
       ]
      }
     ],
     "prompt_number": 7
    },
    {
     "cell_type": "code",
     "collapsed": false,
     "input": [
      "manhattan_scores = []\n",
      "bronx_scores = []\n",
      "broooklyn_scores = []\n",
      "queens_scores = []\n",
      "statenisland_scores = []\n",
      "for boro in all_rest_data:\n",
      "    if boro[2]==1:\n",
      "        manhattan_scores.append(boro[11])\n",
      "    if boro[2]==2:\n",
      "        bronx_scores.append(boro[11])\n",
      "    if boro[2]==3:\n",
      "        broooklyn_scores.append(boro[11])\n",
      "    if boro[2]==4:\n",
      "        queens_scores.append(boro[11])\n",
      "    if boro[2]==5:\n",
      "        statenisland_scores.append(boro[11])"
     ],
     "language": "python",
     "metadata": {},
     "outputs": [],
     "prompt_number": 11
    },
    {
     "cell_type": "code",
     "collapsed": false,
     "input": [
      "print \"Manhattan Median\", numpy.median(manhattan_scores)\n",
      "print \"Manhattan Average\", numpy.mean(manhattan_scores)\n",
      "print \"Manhattan Variance\", numpy.var(manhattan_scores)\n",
      "print \"\"\n",
      "print \"Bronx Median\", numpy.median(bronx_scores)\n",
      "print \"Bronx Average\", numpy.mean(bronx_scores)\n",
      "print \"Bronx Variance\", numpy.var(bronx_scores)\n",
      "print \"\"\n",
      "print \"Brooklyn Median\", numpy.median(broooklyn_scores)\n",
      "print \"Brooklyn Average\", numpy.mean(broooklyn_scores)\n",
      "print \"Brooklyn Variance\", numpy.var(broooklyn_scores)\n",
      "print \"\"\n",
      "print \"Queens Median\", numpy.median(queens_scores)\n",
      "print \"Queens Average\", numpy.mean(queens_scores)\n",
      "print \"Queens Variance\", numpy.var(queens_scores)\n",
      "print \"\"\n",
      "print \"Staten Island Median\", numpy.median(statenisland_scores)\n",
      "print \"Staten Island Average\", numpy.mean(statenisland_scores)\n",
      "print \"Staten Island Variance\", numpy.var(statenisland_scores)"
     ],
     "language": "python",
     "metadata": {},
     "outputs": [
      {
       "output_type": "stream",
       "stream": "stdout",
       "text": [
        "Manhattan Median 20.0\n",
        "Manhattan Average "
       ]
      },
      {
       "output_type": "stream",
       "stream": "stdout",
       "text": [
        "23.4836315512\n",
        "Manhattan Variance 276.597775103\n",
        "\n",
        "Bronx Median 19.0\n",
        "Bronx Average "
       ]
      },
      {
       "output_type": "stream",
       "stream": "stdout",
       "text": [
        "23.0494493672\n",
        "Bronx Variance 296.503432741\n",
        "\n",
        "Brooklyn Median 19.0\n",
        "Brooklyn Average "
       ]
      },
      {
       "output_type": "stream",
       "stream": "stdout",
       "text": [
        "23.1470717711\n",
        "Brooklyn Variance 288.798533403\n",
        "\n",
        "Queens Median 20.0\n",
        "Queens Average "
       ]
      },
      {
       "output_type": "stream",
       "stream": "stdout",
       "text": [
        "23.8101773932\n",
        "Queens Variance 299.671849327\n",
        "\n",
        "Staten Island Median 17.0\n",
        "Staten Island Average 20.4813192315\n",
        "Staten Island Variance 216.405355391\n"
       ]
      }
     ],
     "prompt_number": 12
    },
    {
     "cell_type": "markdown",
     "metadata": {},
     "source": [
      "Staten Island is definitely leading the pack on the scores. Suburbia?"
     ]
    }
   ],
   "metadata": {}
  }
 ]
}