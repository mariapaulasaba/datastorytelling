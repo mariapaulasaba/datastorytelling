{
 "metadata": {
  "name": ""
 },
 "nbformat": 3,
 "nbformat_minor": 0,
 "worksheets": [
  {
   "cells": [
    {
     "cell_type": "heading",
     "level": 1,
     "metadata": {},
     "source": [
      "My Gmail Life in the Year 2009       <img src=\"http://media.idownloadblog.com/wp-content/uploads/2011/02/Gmail-Icon.png\" width=\"80\" height=\"40\" />"
     ]
    },
    {
     "cell_type": "markdown",
     "metadata": {},
     "source": [
      "In 2009, I traveled. A lot. I also moved abroad for the first time. Need to say more?\n",
      "\n",
      "First of all, let's import all my data:"
     ]
    },
    {
     "cell_type": "code",
     "collapsed": false,
     "input": [
      "import gzip\n",
      "import os\n",
      "\n",
      "import re\n",
      "import string\n",
      "import operator\n"
     ],
     "language": "python",
     "metadata": {},
     "outputs": [],
     "prompt_number": 1
    },
    {
     "cell_type": "code",
     "collapsed": false,
     "input": [
      "path = \"data2009/\"\n",
      "months = os.listdir( path )\n",
      "\n",
      "#deleting .DS_Store file\n",
      "del months[0]\n",
      "\n",
      "allFiles = []\n",
      "\n",
      "#reading the file's names\n",
      "for month in months:\n",
      "     files = os.listdir(path + month)\n",
      "     allFiles.append(files)\n",
      "\n",
      "#saving each email in a list, with separated lines     \n",
      "received_lines = []\n",
      "sent_lines = []\n",
      "list_lines = []\n",
      "\n",
      "#for calculating number of emails\n",
      "num_emails = []\n",
      "num_sent = []\n",
      "num_received = []\n",
      "num_lists = []\n",
      "num_totals = []\n",
      "total_emails = 0\n",
      "\n",
      "#saving senders\n",
      "senders = []\n",
      "lists = []\n",
      "\n",
      "for (files, month) in zip(allFiles, months):\n",
      "    count_sent = 0\n",
      "    count_received = 0\n",
      "    count_lists = 0\n",
      "\n",
      "    for file in files:\n",
      "        if 'gz' in file:\n",
      "            total_emails = total_emails + 1\n",
      "            f = gzip.open(path+month+'/'+file, 'rb')\n",
      "            file_content = f.readlines()\n",
      "            \n",
      "            for line in file_content:\n",
      "                #check the sender and if it is myself, count as sent.\n",
      "                if 'From: ' in line:\n",
      "                    if 'mariapaula.saba@gmail.com' in line:\n",
      "                        sent_lines.append(file_content)\n",
      "                        count_sent = count_sent + 1\n",
      "                        break\n",
      "                    else:\n",
      "                        #save the sender    \n",
      "                        index1 = line.find('<')\n",
      "                        index2 = line.find('>')\n",
      "                        address = line[index1+1:index2]\n",
      "                        address = address.replace('\\r', \"\")\n",
      "                        address = address.replace('To:', \"\")\n",
      "                        address = address.replace('From:', \"\")\n",
      "                        address = address.replace('X-ESDI-MailScanner-',\"\")\n",
      "                        continue\n",
      "                if 'Delivered-To:' in line:\n",
      "                    continue\n",
      "                elif 'In-Reply-To:' in line:\n",
      "                    continue\n",
      "                else:\n",
      "                    if 'To:' in line:     \n",
      "                        #check if it was really for me\n",
      "                        if 'mariapaula.saba@gmail.com' in line:                  \n",
      "                            received_lines.append(file_content)\n",
      "                            count_received = count_received + 1\n",
      "                            senders.append(address)\n",
      "                            break\n",
      "                        else:\n",
      "                            count_lists = count_lists + 1\n",
      "                            index1 = line.find('<')\n",
      "                            index2 = line.find('>')\n",
      "                            recipient = line[index1+1:index2]\n",
      "                            recipient = recipient.replace('\\r', \"\")\n",
      "                            recipient = recipient.replace('To:', \"\")\n",
      "                            recipient = recipient.replace('From:', \"\")\n",
      "                            recipient = recipient.replace('X-Apparently- ', \"\")\n",
      "                            list_lines.append(file_content)\n",
      "                            lists.append(recipient)\n",
      "                            break\n",
      "            f.close()\n",
      "            \n",
      "            \n",
      "    num_received.append(count_received)        \n",
      "    num_sent.append(count_sent)\n",
      "    num_emails.append(count_received + count_sent)\n",
      "    num_lists.append(count_lists)\n",
      "    num_totals.append(count_received + count_sent + count_lists)\n",
      " \n",
      "    \n",
      "print \"In 2009, I have sent\", len(sent_lines), \"emails.\"\n",
      "print \"And I probably received more, but I kept\", len(received_lines), \"emails.\"\n",
      "print \"I also received\", len(list_lines), \"emails that were not addressed directly to me.\"\n",
      "print \"Which sums up a total of\", total_emails, \"emails.\"\n"
     ],
     "language": "python",
     "metadata": {},
     "outputs": [
      {
       "output_type": "stream",
       "stream": "stdout",
       "text": [
        "In 2009, I have sent 1340 emails.\n",
        "And I probably received more, but I kept 1063 emails.\n",
        "I also received 2076 emails that were not addressed directly to me.\n",
        "Which sums up a total of 4491 emails.\n"
       ]
      }
     ],
     "prompt_number": 2
    },
    {
     "cell_type": "markdown",
     "metadata": {},
     "source": [
      "Lists become 2x more frequent than regular emails"
     ]
    },
    {
     "cell_type": "code",
     "collapsed": false,
     "input": [
      "# who did I write to?\n",
      "receivers = []\n",
      "count_me = 0\n",
      "\n",
      "for email in sent_lines:\n",
      "    for line in email:\n",
      "        if 'Delivered-To:' in line:\n",
      "            continue\n",
      "        elif 'In-Reply-To:' in line:\n",
      "            #print line\n",
      "            continue\n",
      "        else:\n",
      "            if 'To:' in line:\n",
      "                if 'mariapaula.saba@gmail.com' in line:\n",
      "                    count_me = count_me + 1\n",
      "                    break\n",
      "                else:\n",
      "                   # print line\n",
      "                    index1 = line.find('<')\n",
      "                    index2 = line.find('>')\n",
      "                    address = line[index1+1:index2]\n",
      "                    address = address.replace('\\r', \"\")\n",
      "                    address = address.replace('To:', \"\")\n",
      "                    receivers.append(address)  \n",
      "                    break\n",
      "\n",
      "            \n",
      "            \n",
      "print \"I wrote\", count_me, \"emails for myself (that were not deleted)!!!\"            \n",
      "print \"And I actually sent\", len(receivers), \"emails out to the world.\"\n"
     ],
     "language": "python",
     "metadata": {},
     "outputs": [
      {
       "output_type": "stream",
       "stream": "stdout",
       "text": [
        "I wrote 35 emails for myself (that were not deleted)!!!\n",
        "And I actually sent 1305 emails out to the world.\n"
       ]
      }
     ],
     "prompt_number": 3
    },
    {
     "cell_type": "raw",
     "metadata": {},
     "source": [
      "Next thing to do is to check if there is any pattern across time. My email usage certainly did increase over time. But how much? And how is the increase related to events in my life? Let's plot a graphic to find out!"
     ]
    },
    {
     "cell_type": "markdown",
     "metadata": {},
     "source": [
      "Peak in March 2009. This was the month I knew I won a scholarship to study in Germany. I had to tell the worlds and I didn't have facebook yet. I only went in August (small peak). Not sure what happened in October that made me send less emails...\n"
     ]
    },
    {
     "cell_type": "code",
     "collapsed": false,
     "input": [
      "pyplot.plot(range(1,len(months)+1), num_totals)\n",
      "pyplot.plot(range(1,len(months)+1), num_received)\n",
      "pyplot.plot(range(1,len(months)+1), num_sent)\n",
      "\n"
     ],
     "language": "python",
     "metadata": {},
     "outputs": [
      {
       "metadata": {},
       "output_type": "pyout",
       "prompt_number": 4,
       "text": [
        "[<matplotlib.lines.Line2D at 0x1863d8c90>]"
       ]
      },
      {
       "metadata": {},
       "output_type": "display_data",
       "png": "[encoded data removed]",
       "text": [
        "<matplotlib.figure.Figure at 0x110a9c050>"
       ]
      }
     ],
     "prompt_number": 4
    },
    {
     "cell_type": "code",
     "collapsed": false,
     "input": [
      "pyplot.plot(range(1,len(months)+1), num_emails)\n",
      "pyplot.plot(range(1,len(months)+1), num_received)\n",
      "pyplot.plot(range(1,len(months)+1), num_sent)\n",
      "\n",
      "\n"
     ],
     "language": "python",
     "metadata": {},
     "outputs": [
      {
       "metadata": {},
       "output_type": "pyout",
       "prompt_number": 5,
       "text": [
        "[<matplotlib.lines.Line2D at 0x186489f10>]"
       ]
      },
      {
       "metadata": {},
       "output_type": "display_data",
       "png": "[encoded data removed]",
       "text": [
        "<matplotlib.figure.Figure at 0x1863d4950>"
       ]
      }
     ],
     "prompt_number": 5
    },
    {
     "cell_type": "code",
     "collapsed": false,
     "input": [
      "pyplot.plot(range(1,len(months)+1), num_lists)\n",
      "pyplot.plot(range(1,len(months)+1), num_received)\n",
      "\n"
     ],
     "language": "python",
     "metadata": {},
     "outputs": [
      {
       "metadata": {},
       "output_type": "pyout",
       "prompt_number": 6,
       "text": [
        "[<matplotlib.lines.Line2D at 0x18645f5d0>]"
       ]
      },
      {
       "metadata": {},
       "output_type": "display_data",
       "png": "[encoded data removed]",
       "text": [
        "<matplotlib.figure.Figure at 0x186486bd0>"
       ]
      }
     ],
     "prompt_number": 6
    },
    {
     "cell_type": "code",
     "collapsed": false,
     "input": [
      "smon = 0\n",
      "stue = 0\n",
      "swed = 0\n",
      "sthu = 0\n",
      "sfri = 0\n",
      "ssat = 0\n",
      "ssun = 0\n",
      "\n",
      "#sent_weekdays = {}\n",
      "\n",
      "for email in sent_lines:\n",
      "    for line in email:\n",
      "        if 'Date: Mon' in line:\n",
      "#            index = line.find(',')\n",
      "#            date = line[index+2:index+13]\n",
      "#            sent_weekdays[date] = 'Monday'\n",
      "            smon = smon + 1\n",
      "        if 'Date: Tue' in line:\n",
      "#            index = line.find(',')\n",
      "#            date = line[index+2:index+13]\n",
      "#            sent_weekdays[date] = 'Tuesday'\n",
      "            stue = stue + 1\n",
      "        if 'Date: Wed' in line:\n",
      "#            index = line.find(',')\n",
      "#            date = line[index+2:index+13]\n",
      "#            sent_weekdays[date] = 'Wednesday'\n",
      "            swed = swed + 1\n",
      "        if 'Date: Thu' in line:\n",
      "#            index = line.find(',')\n",
      "#            date = line[index+2:index+13]\n",
      "#            sent_weekdays[date] = 'Thursday'\n",
      "            sthu = sthu + 1\n",
      "        if 'Date: Fri' in line:\n",
      "#            index = line.find(',')\n",
      "#            date = line[index+2:index+13]\n",
      "#            sent_weekdays[date] = 'Friday'\n",
      "            sfri = sfri + 1\n",
      "        if 'Date: Sat' in line:\n",
      "#            index = line.find(',')\n",
      "#            date = line[index+2:index+13]\n",
      "#            sent_weekdays[date] = 'Saturday'\n",
      "            ssat = ssat + 1\n",
      "        if 'Date: Sun' in line:\n",
      "#            index = line.find(',')\n",
      "#            date = line[index+2:index+13]\n",
      "#            sent_weekdays[date] = 'Sunday'\n",
      "            ssun = ssun + 1\n",
      "            \n",
      "#print len(sent_weekdays)\n",
      "print \"I've sent\", smon, \"emails on Mondays.\"\n",
      "print \"I've sent\", stue, \"emails on Tuesdays.\"\n",
      "print \"I've sent\", swed, \"emails on Wednesdays.\"\n",
      "print \"I've sent\", sthu, \"emails on Thursdays.\"\n",
      "print \"I've sent\", sfri, \"emails on Fridays.\"\n",
      "print \"I've sent\", ssat, \"emails on Saturdays.\"\n",
      "print \"I've sent\", ssun, \"emails on Sundays.\"\n",
      "\n",
      "sent_week = [smon, stue, swed, sthu, sfri, ssat, ssun]\n"
     ],
     "language": "python",
     "metadata": {},
     "outputs": [
      {
       "output_type": "stream",
       "stream": "stdout",
       "text": [
        "I've sent 245 emails on Mondays.\n",
        "I've sent 271 emails on Tuesdays.\n",
        "I've sent 255 emails on Wednesdays.\n",
        "I've sent 196 emails on Thursdays.\n",
        "I've sent 211 emails on Fridays.\n",
        "I've sent 106 emails on Saturdays.\n",
        "I've sent 120 emails on Sundays.\n"
       ]
      }
     ],
     "prompt_number": 7
    },
    {
     "cell_type": "code",
     "collapsed": false,
     "input": [
      "rmon = 0\n",
      "rtue = 0\n",
      "rwed = 0\n",
      "rthu = 0\n",
      "rfri = 0\n",
      "rsat = 0\n",
      "rsun = 0\n",
      "\n",
      "#received_weekdays = {}\n",
      "\n",
      "for email in received_lines:\n",
      "    for line in email:\n",
      "        if 'Date: Mon' in line:\n",
      "#            index = line.find(',')\n",
      "#            date = line[index+2:index+13]\n",
      "#            sent_weekdays[date] = 'Monday'\n",
      "            rmon = rmon + 1\n",
      "        if 'Date: Tue' in line:\n",
      "#            index = line.find(',')\n",
      "#            date = line[index+2:index+13]\n",
      "#            sent_weekdays[date] = 'Tuesday'\n",
      "            rtue = rtue + 1\n",
      "        if 'Date: Wed' in line:\n",
      "#            index = line.find(',')\n",
      "#            date = line[index+2:index+13]\n",
      "#            sent_weekdays[date] = 'Wednesday'\n",
      "            rwed = rwed + 1\n",
      "        if 'Date: Thu' in line:\n",
      "#            index = line.find(',')\n",
      "#            date = line[index+2:index+13]\n",
      "#            sent_weekdays[date] = 'Thursday'\n",
      "            rthu = rthu + 1\n",
      "        if 'Date: Fri' in line:\n",
      "#            index = line.find(',')\n",
      "#            date = line[index+2:index+13]\n",
      "#            sent_weekdays[date] = 'Friday'\n",
      "            rfri = rfri + 1\n",
      "        if 'Date: Sat' in line:\n",
      "#            index = line.find(',')\n",
      "#            date = line[index+2:index+13]\n",
      "#            sent_weekdays[date] = 'Saturday'\n",
      "            rsat = rsat + 1\n",
      "        if 'Date: Sun' in line:\n",
      "#            index = line.find(',')\n",
      "#            date = line[index+2:index+13]\n",
      "#            sent_weekdays[date] = 'Sunday'\n",
      "            rsun = rsun + 1\n",
      "            \n",
      "#print len(sent_weekdays)\n",
      "print \"I've received\", rmon, \"emails on Mondays.\"\n",
      "print \"I've received\", rtue, \"emails on Tuesdays.\"\n",
      "print \"I've received\", rwed, \"emails on Wednesdays.\"\n",
      "print \"I've received\", rthu, \"emails on Thursdays.\"\n",
      "print \"I've received\", rfri, \"emails on Fridays.\"\n",
      "print \"I've received\", rsat, \"emails on Saturdays.\"\n",
      "print \"I've received\", rsun, \"emails on Sundays.\"\n",
      "\n",
      "received_week = [rmon, rtue, rwed, rthu, rfri, rsat, rsun]\n"
     ],
     "language": "python",
     "metadata": {},
     "outputs": [
      {
       "output_type": "stream",
       "stream": "stdout",
       "text": [
        "I've received 206 emails on Mondays.\n",
        "I've received 197 emails on Tuesdays.\n",
        "I've received 214 emails on Wednesdays.\n",
        "I've received 158 emails on Thursdays.\n",
        "I've received 212 emails on Fridays.\n",
        "I've received 91 emails on Saturdays.\n",
        "I've received 104 emails on Sundays.\n"
       ]
      }
     ],
     "prompt_number": 8
    },
    {
     "cell_type": "code",
     "collapsed": false,
     "input": [
      "lmon = 0\n",
      "ltue = 0\n",
      "lwed = 0\n",
      "lthu = 0\n",
      "lfri = 0\n",
      "lsat = 0\n",
      "lsun = 0\n",
      "\n",
      "\n",
      "for email in list_lines:\n",
      "    for line in email:\n",
      "        if 'Date: Mon' in line:\n",
      "            lmon = lmon + 1\n",
      "        if 'Date: Tue' in line:\n",
      "            ltue = ltue + 1\n",
      "        if 'Date: Wed' in line:\n",
      "            lwed = lwed + 1\n",
      "        if 'Date: Thu' in line:\n",
      "            lthu = lthu + 1\n",
      "        if 'Date: Fri' in line:\n",
      "            lfri = lfri + 1\n",
      "        if 'Date: Sat' in line:\n",
      "            lsat = lsat + 1\n",
      "        if 'Date: Sun' in line:\n",
      "            lsun = lsun + 1\n",
      "            \n",
      "#print len(sent_weekdays)\n",
      "print \"I've received from lists\", lmon, \"emails on Mondays.\"\n",
      "print \"I've received from lists\", ltue, \"emails on Tuesdays.\"\n",
      "print \"I've received from lists\", lwed, \"emails on Wednesdays.\"\n",
      "print \"I've received from lists\", lthu, \"emails on Thursdays.\"\n",
      "print \"I've received from lists\", lfri, \"emails on Fridays.\"\n",
      "print \"I've received from lists\", lsat, \"emails on Saturdays.\"\n",
      "print \"I've received from lists\", lsun, \"emails on Sundays.\"\n",
      "\n",
      "lists_week = [lmon, ltue, lwed, lthu, lfri, lsat, lsun]\n"
     ],
     "language": "python",
     "metadata": {},
     "outputs": [
      {
       "output_type": "stream",
       "stream": "stdout",
       "text": [
        "I've received from lists 391 emails on Mondays.\n",
        "I've received from lists 266 emails on Tuesdays.\n",
        "I've received from lists 470 emails on Wednesdays.\n",
        "I've received from lists 486 emails on Thursdays.\n",
        "I've received from lists 376 emails on Fridays.\n",
        "I've received from lists 105 emails on Saturdays.\n",
        "I've received from lists 154 emails on Sundays.\n"
       ]
      }
     ],
     "prompt_number": 9
    },
    {
     "cell_type": "code",
     "collapsed": false,
     "input": [
      "pyplot.bar(range(7), received_week, 0.7, color = 'r')"
     ],
     "language": "python",
     "metadata": {},
     "outputs": [
      {
       "metadata": {},
       "output_type": "pyout",
       "prompt_number": 10,
       "text": [
        "<Container object of 7 artists>"
       ]
      },
      {
       "metadata": {},
       "output_type": "display_data",
       "png": "[encoded data removed]",
       "text": [
        "<matplotlib.figure.Figure at 0x186491290>"
       ]
      }
     ],
     "prompt_number": 10
    },
    {
     "cell_type": "code",
     "collapsed": false,
     "input": [
      "pyplot.bar(range(7), lists_week, 0.7)\n"
     ],
     "language": "python",
     "metadata": {},
     "outputs": [
      {
       "metadata": {},
       "output_type": "pyout",
       "prompt_number": 11,
       "text": [
        "<Container object of 7 artists>"
       ]
      },
      {
       "metadata": {},
       "output_type": "display_data",
       "png": "[encoded data removed]",
       "text": [
        "<matplotlib.figure.Figure at 0x1863cc990>"
       ]
      }
     ],
     "prompt_number": 11
    },
    {
     "cell_type": "code",
     "collapsed": false,
     "input": [
      "pyplot.bar(range(7), sent_week, 0.7, color = 'g')\n"
     ],
     "language": "python",
     "metadata": {},
     "outputs": [
      {
       "metadata": {},
       "output_type": "pyout",
       "prompt_number": 12,
       "text": [
        "<Container object of 7 artists>"
       ]
      },
      {
       "metadata": {},
       "output_type": "display_data",
       "png": "[encoded data removed]",
       "text": [
        "<matplotlib.figure.Figure at 0x18652bd10>"
       ]
      }
     ],
     "prompt_number": 12
    },
    {
     "cell_type": "code",
     "collapsed": false,
     "input": [
      "#A year has 52 weeks. Averages are below:\n",
      "\n",
      "print 'Average from Monday to Sunday:'\n",
      "\n",
      "for number in sent_week:\n",
      "    average = number/52\n",
      "    print 'Sent:', average, 'per day'\n",
      "    \n",
      "for number in received_week:\n",
      "    average = number/52\n",
      "    print 'Received:', average, 'per day'\n",
      "    \n",
      "       \n",
      "for number in lists_week:\n",
      "    average = number/52\n",
      "    print 'Received from lists:', average, 'per day'\n",
      "    \n",
      "       "
     ],
     "language": "python",
     "metadata": {},
     "outputs": [
      {
       "output_type": "stream",
       "stream": "stdout",
       "text": [
        "Average from Monday to Sunday:\n",
        "Sent: 4 per day\n",
        "Sent: 5 per day\n",
        "Sent: 4 per day\n",
        "Sent: 3 per day\n",
        "Sent: 4 per day\n",
        "Sent: 2 per day\n",
        "Sent: 2 per day\n",
        "Received: 3 per day\n",
        "Received: 3 per day\n",
        "Received: 4 per day\n",
        "Received: 3 per day\n",
        "Received: 4 per day\n",
        "Received: 1 per day\n",
        "Received: 2 per day\n",
        "Received from lists: 7 per day\n",
        "Received from lists: 5 per day\n",
        "Received from lists: 9 per day\n",
        "Received from lists: 9 per day\n",
        "Received from lists: 7 per day\n",
        "Received from lists: 2 per day\n",
        "Received from lists: 2 per day\n"
       ]
      }
     ],
     "prompt_number": 13
    },
    {
     "cell_type": "code",
     "collapsed": false,
     "input": [
      "def FreqDist(words):   \n",
      "    data = {}\n",
      "    for word in words.split():\n",
      "        data[word] = data.get(word,0) + 1\n",
      "    #data = sorted(data.iteritems(), key=operator.itemgetter(1))  \n",
      "    return data\n",
      "\n",
      "def FreqDistSorted(words):   \n",
      "    data = {}\n",
      "    for word in words.split():\n",
      "        data[word] = data.get(word,0) + 1\n",
      "    data = sorted(data.iteritems(), key=operator.itemgetter(1))  \n",
      "    return data\n",
      "\n",
      "def LinesToTextList(emails):\n",
      "    saveText = []\n",
      "    for email in emails:\n",
      "        #transforming a list of lines into text\n",
      "        text = '\\''.join(map(str, email))\n",
      "        #to avoid portuguese bugs, I'm replacing our weird signs back again \n",
      "        text = text.replace(\"\\'\", \"\")\n",
      "        text = text.replace(\"=E7\", \"\u00e7\")\n",
      "        text = text.replace(\"=E9\", \"\u00e9\")\n",
      "        text = text.replace(\"=EA\", \"\u00ea\")\n",
      "        text = text.replace(\"=F5\", \"\u00f5\")\n",
      "        text = text.replace(\"=F3\", \"\u00f3\")    \n",
      "        text = text.replace(\"=E1\", \"\u00e1\")\n",
      "        text = text.replace(\"=E3\", \"\u00e3\")   \n",
      "        text = text.replace(\"=ED\", \"\u00ed\")\n",
      "        text = text.replace(\"=FA\", \"\u00fa\")\n",
      "        text = text.replace(\"=\", \"\")\n",
      "        \n",
      "        \n",
      "        #avoid email language words\n",
      "        text = text.replace(\"<font>\",\"\")\n",
      "        text = text.replace(\"<br>\", \"\")\n",
      "        text = text.replace(\"<span>\", \"\")\n",
      "        text = text.replace(\"<div>\", \"\")\n",
      "        text = text.replace(\"</div>\", \"\")\n",
      "        text = text.replace(\"<a>\", \"\")\n",
      "        text = text.replace(\"</a>\", \"\")\n",
      "        text = text.replace(\">\", \"\")\n",
      "        text = text.replace(\"<\", \"\")\n",
      "        text = text.replace(\"Yahoo\", \"\")\n",
      "        text = text.replace(\"target3D\\\"_blank\\\"\", \"\")\n",
      "        text = text.replace(\"&gt;\", \"\")\n",
      "        text = text.replace(\"|\", \"\")\n",
      "        text = text.replace(\"style3D\\\"LINE-HEIGHT:\", \"\")\n",
      "        text = text.replace(\"style3D\\\"MARGIN:\", \"\")\n",
      "        text = text.replace(\"style3D\\\"BORDER-COLLAPSE:\", \"\")\n",
      "        text = text.replace(\"style3D\\\"MIN-HEIGHT:\", \"\")\n",
      "        text = text.replace(\"font-family:\", \"\")\n",
      "        text = text.replace(\"font-weight:\", \"\")\n",
      "        text = text.replace(\"Arial\", \"\")       \n",
      "        text = text.replace(\"Sans-serif\", \"\")       \n",
      "        text = text.replace(\"margin:\", \"\")\n",
      "        text = text.replace(\"dir3Dltr&lt;A:\", \"\")\n",
      "        text = text.replace(\"padding\",\"\")\n",
      "        text = text.replace(\"Content-Type:\",\"\")\n",
      "        text = text.replace(\"0px\\\"font'\",\"\")\n",
      "        text = text.replace(\"YAHOO.COM.BR\",\"\")\n",
      "        text = text.replace(\"style3D\\\"font-family:\",\"\")\n",
      "        text = text.replace(\"style3D\\\"FONT-FAMILY:\",\"\")\n",
      "        text = text.replace(\"style3D\\\"FONT-WEIGHT:\",\"\")\n",
      "        text = text.replace(\"lang3D\\\"EN-GB\\\">A0</span></p>\",\"\")\n",
      "        text = text.replace(\"style3D\\\"padding-left\",\"\")\n",
      "        text = text.replace(\"text-decoration:\",\"\")\n",
      "        text = text.replace(\"rel3D\\\"nofollow\\\"\",\"\")\n",
      "        text = text.replace(\"bgcolor3D\",\"\")\n",
      "        text = text.replace(\"&nbsp;\",\"\")\n",
      "                           \n",
      "                            \n",
      "        #avoid numbers\n",
      "        text = text.replace(\"1\",\"\")\n",
      "        text = text.replace(\"2\",\"\")\n",
      "        text = text.replace(\"3\",\"\")\n",
      "        text = text.replace(\"4\",\"\")\n",
      "        text = text.replace(\"5\",\"\")\n",
      "        text = text.replace(\"6\",\"\")\n",
      "        text = text.replace(\"7\",\"\")\n",
      "        text = text.replace(\"8\",\"\")\n",
      "        text = text.replace(\"9\",\"\")\n",
      "\n",
      "   \n",
      "        #save text in a list of text-emails\n",
      "        saveText.append(text)\n",
      "    return saveText\n",
      "\n",
      "def FindSentEmailsBy(name):\n",
      "    saveEmails = []\n",
      "    for email in received_lines:\n",
      "        for line in email:\n",
      "            if 'From: ' in line:\n",
      "                if name in line:\n",
      "                    saveEmails.append(email)\n",
      "                    break\n",
      "    return saveEmails\n",
      "\n",
      "\n",
      "def FindSentEmailsTo(name):\n",
      "    saveEmails = []\n",
      "    for email in sent_lines:\n",
      "        for line in email:\n",
      "            if 'Delivered-To:' in line:\n",
      "                continue\n",
      "            elif 'In-Reply-To:' in line:\n",
      "                #print line\n",
      "                continue\n",
      "            else:\n",
      "                if 'To:' in line:                  \n",
      "                    if name in line:\n",
      "                        saveEmails.append(email)\n",
      "                        break\n",
      "    return saveEmails\n",
      "\n",
      "\n",
      "def TextListToFreq(textList):\n",
      "    finalFreq = {}\n",
      "    for email in textList:\n",
      "        freq = FreqDist(email)\n",
      "        finalFreq = dict(finalFreq.items() + freq.items())\n",
      "\n",
      "    bigValues = []    \n",
      "    for k, v in finalFreq.iteritems():\n",
      "        if len(k) > 30:\n",
      "            bigValues.append(k)        \n",
      "    for word in bigValues:\n",
      "        del finalFreq[word]\n",
      "    \n",
      "    sortedFreq = sorted(finalFreq.iteritems(), key=operator.itemgetter(1))\n",
      "    return sortedFreq\n",
      "\n",
      "\n",
      "def ReceivedTopWords(sender):\n",
      "    senderEmails = FindSentEmailsBy(sender)\n",
      "    senderTextList = LinesToTextList(senderEmails)\n",
      "    \n",
      "    freqWords = TextListToFreq(senderTextList)\n",
      "    top100 = len(freqWords)-100\n",
      "    return freqWords[top100:]\n",
      "\n",
      "\n",
      "def SentTopWords(receiver):\n",
      "    receiverEmails = FindSentEmailsTo(receiver)\n",
      "    receiverTextList = LinesToTextList(receiverEmails)\n",
      "    \n",
      "    freqWords = TextListToFreq(receiverTextList)\n",
      "    top100 = len(freqWords)-100\n",
      "    return freqWords[top100:]"
     ],
     "language": "python",
     "metadata": {},
     "outputs": [],
     "prompt_number": 14
    },
    {
     "cell_type": "code",
     "collapsed": false,
     "input": [
      "senders_text = '\\''.join(map(str, senders))\n",
      "senders_text = senders_text.replace('\\'', \" \")\n",
      "\n",
      "freqSenders = FreqDistSorted(senders_text)\n",
      "top10 = len(freqSenders)-10\n",
      "\n",
      "print freqSenders[top10:]\n"
     ],
     "language": "python",
     "metadata": {},
     "outputs": [
      {
       "output_type": "stream",
       "stream": "stdout",
       "text": [
        "[('rodrigo@rodrigoparedes.com', 15), ('andresiggia@yahoo.com.br', 23), ('jorge.teororo@gmail.com', 30), ('neuter@thuya.com.br', 33), ('lilly.laylou@gmail.com', 34), ('lvelho@impa.br', 36), ('ilanapaterman@gmail.com', 37), ('clagoulart@gmail.com', 68), ('schorrdesign@gmail.com', 101), ('andmax@gmail.com', 102)]\n"
       ]
      }
     ],
     "prompt_number": 15
    },
    {
     "cell_type": "code",
     "collapsed": false,
     "input": [
      "receivers_text = '\\''.join(map(str, receivers))\n",
      "receivers_text = receivers_text.replace('\\'', \" \")\n",
      "\n",
      "freqReceivers = FreqDistSorted(receivers_text)\n",
      "top10 = len(freqReceivers)-10\n",
      "\n",
      "print freqReceivers[top10:]\n"
     ],
     "language": "python",
     "metadata": {},
     "outputs": [
      {
       "output_type": "stream",
       "stream": "stdout",
       "text": [
        "[('ilanapaterman@gmail.com', 27), ('neuter@thuya.com.br', 30), ('andresiggia@yahoo.com.br', 32), ('aloysiomello@gmail.com', 32), ('lilly.laylou@gmail.com', 33), ('lvelho@impa.br', 33), ('clagoulart@gmail.com', 60), ('andmax@gmail.com', 77), ('esdi-42@googlegroups.com', 100), ('schorrdesign@gmail.com', 178)]\n"
       ]
      }
     ],
     "prompt_number": 16
    },
    {
     "cell_type": "code",
     "collapsed": false,
     "input": [
      "list_text = '\\''.join(map(str, lists))\n",
      "list_text = list_text.replace('\\'', \" \")\n",
      "\n",
      "freqList = FreqDistSorted(list_text)\n",
      "top10 = len(freqList)-10\n",
      "\n",
      "print freqList[top10:]\n"
     ],
     "language": "python",
     "metadata": {},
     "outputs": [
      {
       "output_type": "stream",
       "stream": "stdout",
       "text": [
        "[('Reply-', 34), ('s=s1024;', 34), ('c=relaxed/relaxed;', 38), ('a=rsa-sha256;', 38), ('DKIM-Signature:', 40), ('v=1;', 40), ('csbbravo@gmail.com', 41), ('riograss_site@googlegroups.com', 48), ('etnografiadesign@googlegroups.com', 133), ('esdi-42@googlegroups.com', 1157)]\n"
       ]
      }
     ],
     "prompt_number": 17
    },
    {
     "cell_type": "markdown",
     "metadata": {},
     "source": [
      "School also dominates my email. But there is one interesting change. My dad know appears in both sender and receiver lists. Why? I started designing for his company."
     ]
    },
    {
     "cell_type": "code",
     "collapsed": false,
     "input": [
      "print SentTopWords('schorrdesign@gmail.com')\n",
      "print '-----------------------------------------------'\n",
      "print ReceivedTopWords('schorrdesign@gmail.com')\n"
     ],
     "language": "python",
     "metadata": {},
     "outputs": [
      {
       "output_type": "stream",
       "stream": "stdout",
       "text": [
        "[('Paredes', 7), ('0cm;\"span', 7), ('could', 8), ('HORARIO', 8), ('different', 8), ('PC', 8), ('queijo', 8), ('capo', 8), ('LISBON', 8), ('TARIFA', 8), ('de', 8), ('sharing', 8), ('styleD\"PADDING-LEFT:', 8), ('concept', 8), ('Resid\\xc3\\xaancia', 8), ('requerimento', 8), ('id\\xc3\\xa9ia', 8), ('Faca', 8), ('Oschery', 8), (':,', 8), ('BORDER-LEFT:', 8), ('CHEGADA:', 8), ('H', 8), ('not', 8), ('0.000pt', 8), ('plan', 8), ('Hindu', 8), ('HHPXM', 8), ('voc\\xc3\\xaa', 8), ('go', 8), ('OK', 8), ('travelling', 8), ('0cm', 8), ('para', 8), ('reuni\\xc3\\xa3o', 8), ('RIO', 8), ('styleD\"', 8), ('less', 8), ('pontap\\xc3\\xa9', 8), ('\\xc3\\xa9', 8), ('-0.pt', 8), ('when', 8), ('travellers', 9), ('bibliografia', 9), ('classD\"MsoNormal\"bspan', 9), ('CBA', 9), ('Aria', 9), ('a', 9), ('GIG', 9), ('in', 9), ('/0/00,', 9), ('Isabel', 9), ('CC:', 9), ('l;\"', 9), ('on', 10), ('of', 10), ('cinema', 10), ('cultural', 10), ('ter\\xc3\\xa7a', 10), ('*', 10), ('ideia', 10), ('there', 10), ('we', 10), ('styleD\"line-height:', 10), ('s', 11), ('pspan', 11), ('Arcadier', 11), ('o', 11), ('SEP', 12), ('FEB', 12), ('TP', 12), ('rgb(,', 12), ('escreveu:', 13), ('texto', 14), ('Bianca', 14), ('DO', 14), ('Anastassakis', 14), ('people', 15), ('Bucker', 15), ('Alemanha', 15), ('TERMINAL:', 16), ('new', 16), ('D', 16), ('que', 16), ('pe\\xc3\\xa7a', 16), ('un', 16), ('normal;', 16), ('classD\"MsoNormal\"', 16), ('can', 18), ('the', 22), ('styleD\"-left:', 26), ('Rafael', 27), ('DE', 32), ('Zoy', 37), ('langD\"EN-GB\"A0/span/p', 42), ('classD\"MsoNormal\"span', 55), (';\"', 70), ('styleD\"font-size:', 70), ('0pt;', 80), ('p', 81)]\n",
        "-----------------------------------------------\n",
        "[('aspects', 6), ('vc', 6), ('pelas', 6), ('environment', 6), ('lan', 6), ('Eu', 6), ('BILHETE', 6), ('Martins', 6), ('Alemanha', 7), ('passa', 7), ('para', 7), ('David', 7), ('styleD\"margin-bottom:', 7), ('It', 7), ('carbon', 7), ('The', 7), ('m\\xc3\\xa3e', 7), ('Lessa', 7), ('travelling', 7), ('they', 7), ('0);\"', 7), ('could', 8), ('concept', 8), ('CHEGADA:', 8), ('H', 8), ('different', 8), ('blog', 8), ('PC', 8), ('not', 8), ('Bischoff', 8), ('RIO', 8), ('final', 8), ('-----', 8), ('HORARIO', 8), ('ele,', 8), ('less', 8), ('HHPXM', 8), ('LISBON', 8), ('OK', 8), ('TARIFA', 8), ('crise', 8), ('or', 8), ('we', 8), ('classD\"MsoNormal\"', 8), ('when', 8), ('condi\\xc3\\xa7\\xc3\\xa3o', 8), ('go', 8), ('sharing', 8), ('*', 8), ('Daniel', 9), ('CAPES/DAAD/UNIBRAL', 9), ('CBA', 9), ('travellers', 9), ('an', 9), ('classD\"MsoNormal\"bspan', 9), ('dizer', 9), ('l;\"', 9), ('Aria', 9), ('GIG', 9), ('eu', 10), ('j\\xc3\\xa1', 10), ('cultural', 10), ('coisas', 10), ('pessoas', 10), ('there', 10), ('it', 11), ('sexo', 11), ('FEB', 12), ('TP', 12), ('styleD\"color:', 12), ('coisa', 12), ('SEP', 12), ('cinema', 12), ('room', 13), ('n\\xc3\\xa3o', 13), ('que', 13), ('DO', 14), ('for', 14), ('people', 15), ('voc\\xc3\\xaa', 15), ('can', 16), ('TERMINAL:', 16), ('new', 16), ('quer', 16), ('s\\xc3\\xb3', 19), ('de', 19), ('are', 19), ('local', 20), ('be', 20), ('is', 29), ('DE', 32), ('the', 34), ('langD\"EN-GB\"A0/span/p', 41), ('in', 44), ('to', 61), ('classD\"MsoNormal\"span', 61), (';\"', 70), ('styleD\"font-size:', 75), ('0pt;', 79), ('and', 85)]"
       ]
      },
      {
       "output_type": "stream",
       "stream": "stdout",
       "text": [
        "\n"
       ]
      }
     ],
     "prompt_number": 18
    },
    {
     "cell_type": "markdown",
     "metadata": {},
     "source": [
      "Maria Paula -> Bernardo in 2009: Alemanha ideia cinema cultural people"
     ]
    },
    {
     "cell_type": "markdown",
     "metadata": {},
     "source": [
      "Bernardo -> Maria Paula in 2009: people, cinema, sexo, cultural (cultural related. first word in english)"
     ]
    },
    {
     "cell_type": "code",
     "collapsed": false,
     "input": [
      "print SentTopWords('crissaba@petrobras.com.br')\n",
      "print '-----------------------------------------------'\n",
      "print ReceivedTopWords('crissaba@petrobras.com.br')\n"
     ],
     "language": "python",
     "metadata": {},
     "outputs": [
      {
       "output_type": "stream",
       "stream": "stdout",
       "text": [
        "[('Ele', 2), ('vai', 2), ('Qdo', 2), ('otimo!', 2), ('lago', 2), ('aqui,', 2), ('quanto', 2), ('Cheguei', 2), ('troca', 2), ('dormir', 2), ('link', 2), ('telefonar', 2), ('ultimo', 2), ('GMT', 2), ('Industrial', 2), ('cuidar', 2), ('devida', 2), ('um', 2), ('mto', 2), ('distribution', 2), ('Hor', 2), ('Sin', 2), ('Mas', 2), ('no', 2), ('nao', 2), ('sizeD\"\"', 2), ('visualizando', 2), ('EST', 2), ('disciplinaria,', 2), ('prohibidas', 2), ('Amanha', 2), ('adecuado.', 2), ('e-mail,', 2), ('for', 2), ('noticias.', 2), ('Alemanha', 2), ('Cristina', 2), ('sizeD\"\"O', 3), ('terapia', 3), ('viagem', 3), ('alignD\"right\"font', 3), ('interativo@tam.com.br', 3), ('horario', 3), ('table', 3), ('O', 3), ('tbodytr', 3), ('0pt', 3), ('&lt;a', 3), (':', 3), ('imposto', 3), ('Caso', 3), ('est\\xc3\\xa1', 4), ('to', 4), ('me', 4), ('mae,', 4), ('Cabe', 4), ('clique', 4), ('para', 4), ('n\\xc3\\xa3o', 4), ('su', 4), ('internas', 4), ('Sistema', 4), ('normas', 4), ('minha', 4), ('localizador', 4), ('encaminhada', 4), ('e-ticket', 4), ('voo', 4), ('the', 4), ('papel', 4), ('sizeD\"\"/font', 4), ('aqui.', 4), ('e-mail', 4), ('uma', 4), ('or', 4), ('civil', 4), ('*', 4), ('ao', 4), ('May', 4), ('na', 4), ('/font', 4), ('td', 5), ('valignD\"top\"', 5), ('eu', 5), ('Petrobras', 6), ('and', 6), ('este', 6), ('pra', 6), ('y', 6), ('da', 6), ('of', 6), ('Fidelidade', 6), ('Programa', 7), ('-----', 8), ('de', 8), ('e', 9), ('TAM', 10), ('A0', 11), ('o', 11), ('que', 12)]\n",
        "-----------------------------------------------\n",
        "[('.0', 2), ('quanto', 2), ('troca', 2), ('dormir', 2), ('..00-', 2), ('charset\"utf-\"', 2), ('ultimo', 2), ('cuidar', 2), ('devida', 2), ('um', 2), ('distribution', 2), ('al', 2), ('HFAugust', 2), ('Hor', 2), ('Sin', 2), ('coisa', 2), ('no', 2), ('na', 2), ('s\\xc3\\xa3o', 2), ('proibidas', 2), ('disciplinaria,', 2), ('prohibidas', 2), ('adecuado.', 2), ('estCAn', 2), ('destinatCArio', 2), ('for', 2), ('alignDrightfont', 2), ('noticias.', 2), ('Espinheira', 3), ('--_alternative', 3), ('0...', 3), ('sizeDO', 3), ('em', 3), ('..', 3), ('Received:', 3), (':0:,', 3), ('(PDT)', 3), ('internas', 3), ('crissaba@petrobras.com.br', 3), ('0::0', 3), ('with', 3), ('Notes', 3), ('Paula', 3), ('0,', 3), ('table', 3), ('id', 3), ('BR', 3), ('(PST)', 3), ('horario', 3), ('O', 3), ('at', 3), ('terapia', 4), ('Serialize', 4), ('to', 4), ('su', 4), ('Cabe', 4), ('Jan', 4), ('Sun,', 4), ('Apr', 4), ('Sistema', 4), ('normas', 4), ('Cristina', 4), ('tudo', 4), ('0::', 4), ('localizador', 4), ('0/0/00', 4), ('sizeD/font', 4), ('por', 4), ('e-ticket', 4), ('is', 4), ('voo', 4), ('vou', 4), ('Saba', 4), ('the', 4), ('Mon,', 4), ('Thu,', 4), ('-000', 4), ('uma', 4), ('or', 4), ('civil', 4), ('ao', 4), ('imposto', 4), ('/font', 4), ('tr', 5), ('by', 5), ('o', 5), ('00', 5), ('::0', 5), ('as', 5), ('Maria', 5), ('and', 6), ('y', 6), ('Petrobras', 6), ('sizeD', 8), ('of', 8), ('0', 9), ('para', 10), ('de', 10), ('e', 10), ('a', 11)]"
       ]
      },
      {
       "output_type": "stream",
       "stream": "stdout",
       "text": [
        "\n"
       ]
      }
     ],
     "prompt_number": 19
    },
    {
     "cell_type": "markdown",
     "metadata": {},
     "source": [
      "Mother -> Maria Paula: civil localizador tudo terapia horario"
     ]
    },
    {
     "cell_type": "markdown",
     "metadata": {},
     "source": [
      "Maria Paula -> Mother : e-mail encaminhada papel imposto viagem"
     ]
    },
    {
     "cell_type": "code",
     "collapsed": false,
     "input": [
      "print SentTopWords('cris@nikem.com.br')\n",
      "print '-----------------------------------------------'\n",
      "print ReceivedTopWords('cris@nikem.com.br')"
     ],
     "language": "python",
     "metadata": {},
     "outputs": [
      {
       "output_type": "stream",
       "stream": "stdout",
       "text": [
        "[]\n",
        "-----------------------------------------------\n",
        "[('oi,', 1), ('application/msword;', 1), ('0C00', 1), ('spfpass', 1), ('atualizada', 1), ('ok?', 1), ('bem?', 1), ('tinha', 1), ('Sender:', 1), ('novembro.', 1), ('0.0..', 1), ('bit', 1), ('application/vnd.ms-excel;', 1), (':0:', 1), ('0sivws..00..0...;', 1), ('[.0.0.])', 1), ('(localhost', 1), ('FC00B', 1), ('mx.google.com', 1), ('gcsyba;', 1), ('BCEFC0', 1), ('This', 1), ('si0vws..00..0..0.0;', 1), ('puder,', 1), ('mes,', 1), ('nunca', 1), ('(smtpauth-0.infolink.com.br', 1), ('MIME', 1), ('Return-Path:', 1), ('name\"AMS', 1), ('no', 1), ('HTTP', 1), ('b.ba.cb.00@nikem.com.br', 1), ('despesas', 1), ('vencimento', 1), ('filhota,', 1), ('0.0..0', 1), ('os', 1), ('To:', 1), ('si0vws..00..0...;', 1), ('Paula,', 1), ('segue', 1), ('Subject:', 1), ('Re:', 1), ('ccsybm;', 1), ('/0/00.', 1), ('Segue', 1), ('0.0..00', 1), ('paula,', 1), ('MIME-Version:', 1), ('normal', 1), ('Maria', 1), ('mariapaula.saba@gmail.com', 2), ('for', 2), ('(google.com:', 2), ('mariapaula.saba@gmail.com;', 2), ('---_webmail0.infolink.com.brba', 2), ('Cart?iso--?B??', 2), ('domain', 2), ('a', 2), ('(BRST)', 2), ('Saba', 2), ('Content-Transfer-Encoding:', 2), ('00...', 2), ('designates', 2), ('[00...])', 2), ('Paula.xls\"', 2), ('SMTP', 2), ('(Postfix)', 2), ('---_webmail0.infolink.com.brb', 2), (':0:00', 2), ('permitted', 2), ('Neuter.doc\"', 2), ('of', 2), ('sender)', 2), ('0::0', 2), ('0...0', 2), ('0...', 2), ('::', 3), ('as', 3), ('(PST)', 3), ('ESMTP', 3), ('0', 3), ('0::', 3), (':0:0', 3), ('from', 4), ('smtpauth-0.infolink.com.br', 4), ('with', 5), ('cris@nikem.com.br', 5), ('id', 5), ('Mon,', 6), ('by', 6), ('Received:', 6), ('Sun,', 6), ('Nov', 6), ('Tue,', 6), ('00', 6), ('-000', 6), ('Dec', 6), ('Thu,', 6)]"
       ]
      },
      {
       "output_type": "stream",
       "stream": "stdout",
       "text": [
        "\n"
       ]
      }
     ],
     "prompt_number": 21
    },
    {
     "cell_type": "code",
     "collapsed": false,
     "input": [
      "print SentTopWords('lilly.laylou@gmail.com')\n",
      "print '-----------------------------------------------'\n",
      "print ReceivedTopWords('lilly.laylou@gmail.com')\n"
     ],
     "language": "python",
     "metadata": {},
     "outputs": [
      {
       "output_type": "stream",
       "stream": "stdout",
       "text": [
        "[('choro.', 2), ('tema', 2), ('vou...mas', 2), ('emocionalmente,', 2), ('pode', 2), ('l\\xc3\\xa1', 2), ('ele.', 3), ('uma', 3), ('se', 3), ('Guga', 3), ('LIVIA', 3), ('roupas', 3), ('ex;\"', 3), ('CANUTO', 3), ('----------', 3), ('em', 3), ('intercambio', 3), ('comemora\\xc3\\xa7\\xc3\\xa3o', 3), ('nao', 3), ('0px', 3), ('Vamos', 3), ('n\\xc3\\xa3o', 3), ('para', 3), ('comemoracao', 3), ('webcam', 3), ('pspan', 3), ('quero', 3), ('contribui\\xc3\\xa7\\xc3\\xa3o', 3), ('das', 3), ('Draug', 3), ('estava', 3), ('descobrir', 3), ('casa', 3), ('Odna', 3), ('verde', 4), ('corpo', 4), ('be', 4), ('despedida', 4), ('tava', 4), ('tratamento', 4), ('ligando', 4), ('N\\xc3\\xa3o', 4), ('classD\"gmail_quote\"00//', 4), ('disse', 4), ('distEncia', 4), ('de', 4), ('da', 4), ('tentando', 4), ('decidi', 4), ('Bem,', 4), ('nem', 4), ('Bittencourt', 4), ('dos', 4), ('falar', 4), ('Be,', 4), ('q', 4), ('consegui', 4), ('meio', 4), ('Rua', 4), ('Tiago', 4), ('sinto', 4), ('m\\xc3\\xa9dico', 4), ('casa,', 4), ('casar', 4), ('antes', 4), ('bebidas', 4), ('tem', 4), ('acho', 4), ('maric\\xc3\\xa1', 4), ('rgb(0,', 5), ('Eu', 5), ('desenho', 5), ('vontade', 6), ('Agora', 6), ('design', 6), ('ter', 6), ('span', 7), ('te', 7), ('do', 7), ('blockquote', 7), ('que', 7), ('muito', 8), ('/blockquote', 8), ('classD\"gmail_quote\"', 8), ('-left:', 8), ('0);', 8), ('dirD\"ltr\"&lt;a', 8), ('solid', 8), ('na', 8), ('styleD\"border-left:', 8), ('px', 8), ('vai', 8), ('0.ex;', 8), ('eu', 10), ('0,', 10), ('festa', 11), ('e', 11), ('ele', 23), ('0pt', 24), ('&lt;a', 30)]\n",
        "-----------------------------------------------\n",
        "[('00', 4), ('C', 4), ('-000', 4), ('0', 4), ('Be,', 4), ('pai,', 4), ('poder', 4), ('bebidas', 4), ('outras', 4), ('e', 4), ('B', 4), ('Lynch,', 4), ('Tiago', 4), ('feriado', 4), ('David', 4), ('Como', 4), ('seria', 4), ('est\\xc3\\xa1', 4), ('contribui\\xc3\\xa7\\xc3\\xa3o', 4), ('m\\xc3\\xa9dico', 4), ('dieta', 4), ('casar', 4), ('l\\xc3\\xa1,', 4), ('jantar', 4), ('Tue,', 4), ('quase', 4), ('Mon,', 4), ('falar', 4), ('pena,', 4), ('descobrir', 4), ('dores', 4), ('Oct', 4), ('\\xc3\\xb3timo,', 4), ('0...', 4), ('0::0', 4), ('dos', 4), ('maric\\xc3\\xa1', 4), ('pode', 4), ('se', 5), ('---', 5), ('assuntos', 5), ('//0,', 5), ('q', 5), ('Eu', 5), ('t\\xc3\\xa1', 5), ('odnadraug@hotmail.com', 5), ('escreveu:', 6), ('Assunto:', 6), ('+Buscados', 6), ('vontade', 6), ('Miyahira', 6), ('Para:', 6), ('Filmim?', 6), ('um', 6), ('vc', 6), ('entendo', 6), ('Agora', 6), ('acho', 6), ('desenho', 6), ('&quot;Maria', 6), ('Veja', 6), ('!', 6), ('Quinta-feira,', 6), ('de', 6), ('que', 6), ('\"Maria', 6), ('Jantarzim?', 6), ('s\\xc3\\xb3', 6), ('icmiyahira@yahoo.com.br', 6), ('De:', 6), ('noctifer@go.com,', 6), ('design', 6), ('qui,', 6), ('vcs', 6), ('Data:', 6), ('esta', 7), ('ir', 7), ('Igor', 7), ('vou', 8), ('Janeiro', 8), ('do', 8), ('da', 8), ('\\xc3\\xa9', 8), ('ynara@pop.com.br', 8), ('blockquote', 8), ('vai', 8), ('/blockquote', 9), ('styleD\"border-left:', 9), ('dirD\"ltr\"&lt;a', 9), ('mais', 10), ('ter', 10), ('tem', 10), ('festa', 12), ('pra', 12), ('muito', 14), ('na', 14), ('estou', 15), ('eu', 20), ('para', 22), ('ele', 29)]"
       ]
      },
      {
       "output_type": "stream",
       "stream": "stdout",
       "text": [
        "\n"
       ]
      }
     ],
     "prompt_number": 20
    },
    {
     "cell_type": "markdown",
     "metadata": {},
     "source": [
      "Aline -> Maria Paula: festa ele muito eu design  "
     ]
    },
    {
     "cell_type": "markdown",
     "metadata": {},
     "source": [
      "Maria Paula -> Aline design desenho vontade bebidas casar (I can see names like Guga and Tiago - her ex-husband and new boyfriend)"
     ]
    },
    {
     "cell_type": "code",
     "collapsed": false,
     "input": [],
     "language": "python",
     "metadata": {},
     "outputs": []
    }
   ],
   "metadata": {}
  }
 ]
}