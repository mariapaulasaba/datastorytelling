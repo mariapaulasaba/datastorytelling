{
 "metadata": {
  "name": ""
 },
 "nbformat": 3,
 "nbformat_minor": 0,
 "worksheets": [
  {
   "cells": [
    {
     "cell_type": "heading",
     "level": 1,
     "metadata": {},
     "source": [
      "My Gmail Life in the Year 2012      <img src=\"http://media.idownloadblog.com/wp-content/uploads/2011/02/Gmail-Icon.png\" width=\"80\" height=\"40\" />"
     ]
    },
    {
     "cell_type": "markdown",
     "metadata": {},
     "source": [
      "In 2012, I moved to NY and started ITP.\n",
      "\n",
      "First of all, let's import all my data:"
     ]
    },
    {
     "cell_type": "code",
     "collapsed": false,
     "input": [
      "import gzip\n",
      "import os\n",
      "\n",
      "import re\n",
      "import string\n",
      "import operator\n"
     ],
     "language": "python",
     "metadata": {},
     "outputs": [],
     "prompt_number": 1
    },
    {
     "cell_type": "code",
     "collapsed": false,
     "input": [
      "path = \"data2012/\"\n",
      "months = os.listdir( path )\n",
      "\n",
      "#deleting .DS_Store file\n",
      "del months[0]\n",
      "\n",
      "allFiles = []\n",
      "\n",
      "#reading the file's names\n",
      "for month in months:\n",
      "     files = os.listdir(path + month)\n",
      "     allFiles.append(files)\n",
      "\n",
      "#saving each email in a list, with separated lines     \n",
      "received_lines = []\n",
      "sent_lines = []\n",
      "list_lines = []\n",
      "\n",
      "#for calculating number of emails\n",
      "num_emails = []\n",
      "num_sent = []\n",
      "num_received = []\n",
      "num_lists = []\n",
      "num_totals = []\n",
      "total_emails = 0\n",
      "\n",
      "#saving senders\n",
      "senders = []\n",
      "lists = []\n",
      "\n",
      "for (files, month) in zip(allFiles, months):\n",
      "    count_sent = 0\n",
      "    count_received = 0\n",
      "    count_lists = 0\n",
      "\n",
      "    for file in files:\n",
      "        if 'gz' in file:\n",
      "            total_emails = total_emails + 1\n",
      "            f = gzip.open(path+month+'/'+file, 'rb')\n",
      "            file_content = f.readlines()\n",
      "            \n",
      "            for line in file_content:\n",
      "                #check the sender and if it is myself, count as sent.\n",
      "                if 'From: ' in line:\n",
      "                    if 'mariapaula.saba@gmail.com' in line:\n",
      "                        sent_lines.append(file_content)\n",
      "                        count_sent = count_sent + 1\n",
      "                        break\n",
      "                    else:\n",
      "                        #save the sender    \n",
      "                        index1 = line.find('<')\n",
      "                        index2 = line.find('>')\n",
      "                        address = line[index1+1:index2]\n",
      "                        address = address.replace('\\r', \"\")\n",
      "                        address = address.replace('To:', \"\")\n",
      "                        address = address.replace('From:', \"\")\n",
      "                        address = address.replace('X-ESDI-MailScanner-',\"\")\n",
      "                        continue\n",
      "                if 'Delivered-To:' in line:\n",
      "                    continue\n",
      "                elif 'In-Reply-To:' in line:\n",
      "                    continue\n",
      "                else:\n",
      "                    if 'To:' in line:     \n",
      "                        #check if it was really for me\n",
      "                        if 'mariapaula.saba@gmail.com' in line:                  \n",
      "                            received_lines.append(file_content)\n",
      "                            count_received = count_received + 1\n",
      "                            senders.append(address)\n",
      "                            break\n",
      "                        else:\n",
      "                            count_lists = count_lists + 1\n",
      "                            index1 = line.find('<')\n",
      "                            index2 = line.find('>')\n",
      "                            recipient = line[index1+1:index2]\n",
      "                            recipient = recipient.replace('\\r', \"\")\n",
      "                            recipient = recipient.replace('To:', \"\")\n",
      "                            recipient = recipient.replace('From:', \"\")\n",
      "                            recipient = recipient.replace('X-Apparently- ', \"\")\n",
      "                            list_lines.append(file_content)\n",
      "                            lists.append(recipient)\n",
      "                            break\n",
      "            f.close()\n",
      "            \n",
      "            \n",
      "    num_received.append(count_received)        \n",
      "    num_sent.append(count_sent)\n",
      "    num_emails.append(count_received + count_sent)\n",
      "    num_lists.append(count_lists)\n",
      "    num_totals.append(count_received + count_sent + count_lists)\n",
      " \n",
      "    \n",
      "print \"In 2012, I have sent\", len(sent_lines), \"emails.\"\n",
      "print \"And I probably received more, but I kept\", len(received_lines), \"emails.\"\n",
      "print \"I also received\", len(list_lines), \"emails that were not addressed directly to me.\"\n",
      "print \"Which sums up a total of\", total_emails, \"emails.\"\n"
     ],
     "language": "python",
     "metadata": {},
     "outputs": [
      {
       "output_type": "stream",
       "stream": "stdout",
       "text": [
        "In 2012, I have sent 1959 emails.\n",
        "And I probably received more, but I kept 1480 emails.\n",
        "I also received 8865 emails that were not addressed directly to me.\n",
        "Which sums up a total of 12315 emails.\n"
       ]
      }
     ],
     "prompt_number": 2
    },
    {
     "cell_type": "code",
     "collapsed": false,
     "input": [
      "# who did I write to?\n",
      "receivers = []\n",
      "count_me = 0\n",
      "\n",
      "for email in sent_lines:\n",
      "    for line in email:\n",
      "        if 'Delivered-To:' in line:\n",
      "            continue\n",
      "        elif 'In-Reply-To:' in line:\n",
      "            #print line\n",
      "            continue\n",
      "        else:\n",
      "            if 'To:' in line:\n",
      "                if 'mariapaula.saba@gmail.com' in line:\n",
      "                    count_me = count_me + 1\n",
      "                    break\n",
      "                else:\n",
      "                   # print line\n",
      "                    index1 = line.find('<')\n",
      "                    index2 = line.find('>')\n",
      "                    address = line[index1+1:index2]\n",
      "                    address = address.replace('\\r', \"\")\n",
      "                    address = address.replace('To:', \"\")\n",
      "                    receivers.append(address)  \n",
      "                    break\n",
      "\n",
      "            \n",
      "            \n",
      "print \"I wrote\", count_me, \"emails for myself (that were not deleted)!!!\"            \n",
      "print \"And I actually sent\", len(receivers), \"emails out to the world.\"\n"
     ],
     "language": "python",
     "metadata": {},
     "outputs": [
      {
       "output_type": "stream",
       "stream": "stdout",
       "text": [
        "I wrote 45 emails for myself (that were not deleted)!!!\n",
        "And I actually sent 1907 emails out to the world.\n"
       ]
      }
     ],
     "prompt_number": 3
    },
    {
     "cell_type": "raw",
     "metadata": {},
     "source": [
      "Next thing to do is to check if there is any pattern across time. My email usage certainly did increase over time. But how much? And how is the increase related to events in my life? Let's plot a graphic to find out!"
     ]
    },
    {
     "cell_type": "code",
     "collapsed": false,
     "input": [
      "pyplot.plot(range(1,len(months)+1), num_totals)\n",
      "pyplot.plot(range(1,len(months)+1), num_received)\n",
      "pyplot.plot(range(1,len(months)+1), num_sent)\n"
     ],
     "language": "python",
     "metadata": {},
     "outputs": [
      {
       "metadata": {},
       "output_type": "pyout",
       "prompt_number": 4,
       "text": [
        "[<matplotlib.lines.Line2D at 0x1a1846a90>]"
       ]
      },
      {
       "metadata": {},
       "output_type": "display_data",
       "png": "[encoded data removed]",
       "text": [
        "<matplotlib.figure.Figure at 0x10833c090>"
       ]
      }
     ],
     "prompt_number": 4
    },
    {
     "cell_type": "code",
     "collapsed": false,
     "input": [
      "pyplot.plot(range(1,len(months)+1), num_emails)\n",
      "pyplot.plot(range(1,len(months)+1), num_received)\n",
      "pyplot.plot(range(1,len(months)+1), num_sent)\n",
      "\n",
      "\n"
     ],
     "language": "python",
     "metadata": {},
     "outputs": [
      {
       "metadata": {},
       "output_type": "pyout",
       "prompt_number": 5,
       "text": [
        "[<matplotlib.lines.Line2D at 0x1a18f4d50>]"
       ]
      },
      {
       "metadata": {},
       "output_type": "display_data",
       "png": "[encoded data removed]",
       "text": [
        "<matplotlib.figure.Figure at 0x1a1843810>"
       ]
      }
     ],
     "prompt_number": 5
    },
    {
     "cell_type": "code",
     "collapsed": false,
     "input": [
      "pyplot.plot(range(1,len(months)+1), num_lists)\n",
      "pyplot.plot(range(1,len(months)+1), num_received)\n",
      "\n"
     ],
     "language": "python",
     "metadata": {},
     "outputs": [
      {
       "metadata": {},
       "output_type": "pyout",
       "prompt_number": 6,
       "text": [
        "[<matplotlib.lines.Line2D at 0x1a190add0>]"
       ]
      },
      {
       "metadata": {},
       "output_type": "display_data",
       "png": "[encoded data removed]",
       "text": [
        "<matplotlib.figure.Figure at 0x1a183b790>"
       ]
      }
     ],
     "prompt_number": 6
    },
    {
     "cell_type": "markdown",
     "metadata": {},
     "source": [
      "Explaining the peaks: March 2012 I heard from ITP. May 2012 Bernardo heard from Parsons. But this time we already had Facebook. ;) There is a drop in July. I was in Cuba = almost no internet...\n",
      "Then I moved in August. I joined the intense ITP students list in September, but I started deleting emails. Around October I just gave up."
     ]
    },
    {
     "cell_type": "code",
     "collapsed": false,
     "input": [
      "smon = 0\n",
      "stue = 0\n",
      "swed = 0\n",
      "sthu = 0\n",
      "sfri = 0\n",
      "ssat = 0\n",
      "ssun = 0\n",
      "\n",
      "#sent_weekdays = {}\n",
      "\n",
      "for email in sent_lines:\n",
      "    for line in email:\n",
      "        if 'Date: Mon' in line:\n",
      "#            index = line.find(',')\n",
      "#            date = line[index+2:index+13]\n",
      "#            sent_weekdays[date] = 'Monday'\n",
      "            smon = smon + 1\n",
      "        if 'Date: Tue' in line:\n",
      "#            index = line.find(',')\n",
      "#            date = line[index+2:index+13]\n",
      "#            sent_weekdays[date] = 'Tuesday'\n",
      "            stue = stue + 1\n",
      "        if 'Date: Wed' in line:\n",
      "#            index = line.find(',')\n",
      "#            date = line[index+2:index+13]\n",
      "#            sent_weekdays[date] = 'Wednesday'\n",
      "            swed = swed + 1\n",
      "        if 'Date: Thu' in line:\n",
      "#            index = line.find(',')\n",
      "#            date = line[index+2:index+13]\n",
      "#            sent_weekdays[date] = 'Thursday'\n",
      "            sthu = sthu + 1\n",
      "        if 'Date: Fri' in line:\n",
      "#            index = line.find(',')\n",
      "#            date = line[index+2:index+13]\n",
      "#            sent_weekdays[date] = 'Friday'\n",
      "            sfri = sfri + 1\n",
      "        if 'Date: Sat' in line:\n",
      "#            index = line.find(',')\n",
      "#            date = line[index+2:index+13]\n",
      "#            sent_weekdays[date] = 'Saturday'\n",
      "            ssat = ssat + 1\n",
      "        if 'Date: Sun' in line:\n",
      "#            index = line.find(',')\n",
      "#            date = line[index+2:index+13]\n",
      "#            sent_weekdays[date] = 'Sunday'\n",
      "            ssun = ssun + 1\n",
      "            \n",
      "#print len(sent_weekdays)\n",
      "print \"I've sent\", smon, \"emails on Mondays.\"\n",
      "print \"I've sent\", stue, \"emails on Tuesdays.\"\n",
      "print \"I've sent\", swed, \"emails on Wednesdays.\"\n",
      "print \"I've sent\", sthu, \"emails on Thursdays.\"\n",
      "print \"I've sent\", sfri, \"emails on Fridays.\"\n",
      "print \"I've sent\", ssat, \"emails on Saturdays.\"\n",
      "print \"I've sent\", ssun, \"emails on Sundays.\"\n",
      "\n",
      "sent_week = [smon, stue, swed, sthu, sfri, ssat, ssun]\n"
     ],
     "language": "python",
     "metadata": {},
     "outputs": [
      {
       "output_type": "stream",
       "stream": "stdout",
       "text": [
        "I've sent 462 emails on Mondays.\n",
        "I've sent 388 emails on Tuesdays.\n",
        "I've sent 367 emails on Wednesdays.\n",
        "I've sent 429 emails on Thursdays.\n",
        "I've sent 312 emails on Fridays.\n",
        "I've sent 157 emails on Saturdays.\n",
        "I've sent 220 emails on Sundays.\n"
       ]
      }
     ],
     "prompt_number": 7
    },
    {
     "cell_type": "code",
     "collapsed": false,
     "input": [
      "rmon = 0\n",
      "rtue = 0\n",
      "rwed = 0\n",
      "rthu = 0\n",
      "rfri = 0\n",
      "rsat = 0\n",
      "rsun = 0\n",
      "\n",
      "#received_weekdays = {}\n",
      "\n",
      "for email in received_lines:\n",
      "    for line in email:\n",
      "        if 'Date: Mon' in line:\n",
      "#            index = line.find(',')\n",
      "#            date = line[index+2:index+13]\n",
      "#            sent_weekdays[date] = 'Monday'\n",
      "            rmon = rmon + 1\n",
      "        if 'Date: Tue' in line:\n",
      "#            index = line.find(',')\n",
      "#            date = line[index+2:index+13]\n",
      "#            sent_weekdays[date] = 'Tuesday'\n",
      "            rtue = rtue + 1\n",
      "        if 'Date: Wed' in line:\n",
      "#            index = line.find(',')\n",
      "#            date = line[index+2:index+13]\n",
      "#            sent_weekdays[date] = 'Wednesday'\n",
      "            rwed = rwed + 1\n",
      "        if 'Date: Thu' in line:\n",
      "#            index = line.find(',')\n",
      "#            date = line[index+2:index+13]\n",
      "#            sent_weekdays[date] = 'Thursday'\n",
      "            rthu = rthu + 1\n",
      "        if 'Date: Fri' in line:\n",
      "#            index = line.find(',')\n",
      "#            date = line[index+2:index+13]\n",
      "#            sent_weekdays[date] = 'Friday'\n",
      "            rfri = rfri + 1\n",
      "        if 'Date: Sat' in line:\n",
      "#            index = line.find(',')\n",
      "#            date = line[index+2:index+13]\n",
      "#            sent_weekdays[date] = 'Saturday'\n",
      "            rsat = rsat + 1\n",
      "        if 'Date: Sun' in line:\n",
      "#            index = line.find(',')\n",
      "#            date = line[index+2:index+13]\n",
      "#            sent_weekdays[date] = 'Sunday'\n",
      "            rsun = rsun + 1\n",
      "            \n",
      "#print len(sent_weekdays)\n",
      "print \"I've received\", rmon, \"emails on Mondays.\"\n",
      "print \"I've received\", rtue, \"emails on Tuesdays.\"\n",
      "print \"I've received\", rwed, \"emails on Wednesdays.\"\n",
      "print \"I've received\", rthu, \"emails on Thursdays.\"\n",
      "print \"I've received\", rfri, \"emails on Fridays.\"\n",
      "print \"I've received\", rsat, \"emails on Saturdays.\"\n",
      "print \"I've received\", rsun, \"emails on Sundays.\"\n",
      "\n",
      "received_week = [rmon, rtue, rwed, rthu, rfri, rsat, rsun]\n"
     ],
     "language": "python",
     "metadata": {},
     "outputs": [
      {
       "output_type": "stream",
       "stream": "stdout",
       "text": [
        "I've received 335 emails on Mondays.\n",
        "I've received 254 emails on Tuesdays.\n",
        "I've received 284 emails on Wednesdays.\n",
        "I've received 318 emails on Thursdays.\n",
        "I've received 248 emails on Fridays.\n",
        "I've received 107 emails on Saturdays.\n",
        "I've received 158 emails on Sundays.\n"
       ]
      }
     ],
     "prompt_number": 8
    },
    {
     "cell_type": "code",
     "collapsed": false,
     "input": [
      "lmon = 0\n",
      "ltue = 0\n",
      "lwed = 0\n",
      "lthu = 0\n",
      "lfri = 0\n",
      "lsat = 0\n",
      "lsun = 0\n",
      "\n",
      "\n",
      "for email in list_lines:\n",
      "    for line in email:\n",
      "        if 'Date: Mon' in line:\n",
      "            lmon = lmon + 1\n",
      "        if 'Date: Tue' in line:\n",
      "            ltue = ltue + 1\n",
      "        if 'Date: Wed' in line:\n",
      "            lwed = lwed + 1\n",
      "        if 'Date: Thu' in line:\n",
      "            lthu = lthu + 1\n",
      "        if 'Date: Fri' in line:\n",
      "            lfri = lfri + 1\n",
      "        if 'Date: Sat' in line:\n",
      "            lsat = lsat + 1\n",
      "        if 'Date: Sun' in line:\n",
      "            lsun = lsun + 1\n",
      "            \n",
      "#print len(sent_weekdays)\n",
      "print \"I've received from lists\", lmon, \"emails on Mondays.\"\n",
      "print \"I've received from lists\", ltue, \"emails on Tuesdays.\"\n",
      "print \"I've received from lists\", lwed, \"emails on Wednesdays.\"\n",
      "print \"I've received from lists\", lthu, \"emails on Thursdays.\"\n",
      "print \"I've received from lists\", lfri, \"emails on Fridays.\"\n",
      "print \"I've received from lists\", lsat, \"emails on Saturdays.\"\n",
      "print \"I've received from lists\", lsun, \"emails on Sundays.\"\n",
      "\n",
      "lists_week = [lmon, ltue, lwed, lthu, lfri, lsat, lsun]\n"
     ],
     "language": "python",
     "metadata": {},
     "outputs": [
      {
       "output_type": "stream",
       "stream": "stdout",
       "text": [
        "I've received from lists 1578 emails on Mondays.\n",
        "I've received from lists 1831 emails on Tuesdays.\n",
        "I've received from lists 1814 emails on Wednesdays.\n",
        "I've received from lists 1631 emails on Thursdays.\n",
        "I've received from lists 1642 emails on Fridays.\n",
        "I've received from lists 735 emails on Saturdays.\n",
        "I've received from lists 632 emails on Sundays.\n"
       ]
      }
     ],
     "prompt_number": 9
    },
    {
     "cell_type": "code",
     "collapsed": false,
     "input": [
      "pyplot.bar(range(7), received_week, 0.7, color = 'r')"
     ],
     "language": "python",
     "metadata": {},
     "outputs": [
      {
       "metadata": {},
       "output_type": "pyout",
       "prompt_number": 10,
       "text": [
        "<Container object of 7 artists>"
       ]
      },
      {
       "metadata": {},
       "output_type": "display_data",
       "png": "[encoded data removed]",
       "text": [
        "<matplotlib.figure.Figure at 0x1a1858350>"
       ]
      }
     ],
     "prompt_number": 10
    },
    {
     "cell_type": "code",
     "collapsed": false,
     "input": [
      "pyplot.bar(range(7), lists_week, 0.7)\n"
     ],
     "language": "python",
     "metadata": {},
     "outputs": [
      {
       "metadata": {},
       "output_type": "pyout",
       "prompt_number": 11,
       "text": [
        "<Container object of 7 artists>"
       ]
      },
      {
       "metadata": {},
       "output_type": "display_data",
       "png": "[encoded data removed]",
       "text": [
        "<matplotlib.figure.Figure at 0x1a1904cd0>"
       ]
      }
     ],
     "prompt_number": 11
    },
    {
     "cell_type": "code",
     "collapsed": false,
     "input": [
      "pyplot.bar(range(7), sent_week, 0.7, color = 'g')\n"
     ],
     "language": "python",
     "metadata": {},
     "outputs": [
      {
       "metadata": {},
       "output_type": "pyout",
       "prompt_number": 12,
       "text": [
        "<Container object of 7 artists>"
       ]
      },
      {
       "metadata": {},
       "output_type": "display_data",
       "png": "[encoded data removed]",
       "text": [
        "<matplotlib.figure.Figure at 0x1a18f8310>"
       ]
      }
     ],
     "prompt_number": 12
    },
    {
     "cell_type": "code",
     "collapsed": false,
     "input": [
      "#A year has 52 weeks. Averages are below:\n",
      "\n",
      "print 'Average from Monday to Sunday:'\n",
      "\n",
      "for number in sent_week:\n",
      "    average = number/52\n",
      "    print 'Sent:', average, 'per day'\n",
      "    \n",
      "for number in received_week:\n",
      "    average = number/52\n",
      "    print 'Received:', average, 'per day'\n",
      "    \n",
      "       \n",
      "for number in lists_week:\n",
      "    average = number/52\n",
      "    print 'Received from lists:', average, 'per day'\n",
      "    \n",
      "       "
     ],
     "language": "python",
     "metadata": {},
     "outputs": [
      {
       "output_type": "stream",
       "stream": "stdout",
       "text": [
        "Average from Monday to Sunday:\n",
        "Sent: 8 per day\n",
        "Sent: 7 per day\n",
        "Sent: 7 per day\n",
        "Sent: 8 per day\n",
        "Sent: 6 per day\n",
        "Sent: 3 per day\n",
        "Sent: 4 per day\n",
        "Received: 6 per day\n",
        "Received: 4 per day\n",
        "Received: 5 per day\n",
        "Received: 6 per day\n",
        "Received: 4 per day\n",
        "Received: 2 per day\n",
        "Received: 3 per day\n",
        "Received from lists: 30 per day\n",
        "Received from lists: 35 per day\n",
        "Received from lists: 34 per day\n",
        "Received from lists: 31 per day\n",
        "Received from lists: 31 per day\n",
        "Received from lists: 14 per day\n",
        "Received from lists: 12 per day\n"
       ]
      }
     ],
     "prompt_number": 13
    },
    {
     "cell_type": "code",
     "collapsed": false,
     "input": [
      "def FreqDist(words):   \n",
      "    data = {}\n",
      "    for word in words.split():\n",
      "        data[word] = data.get(word,0) + 1\n",
      "    #data = sorted(data.iteritems(), key=operator.itemgetter(1))  \n",
      "    return data\n",
      "\n",
      "def FreqDistSorted(words):   \n",
      "    data = {}\n",
      "    for word in words.split():\n",
      "        data[word] = data.get(word,0) + 1\n",
      "    data = sorted(data.iteritems(), key=operator.itemgetter(1))  \n",
      "    return data\n",
      "\n",
      "def LinesToTextList(emails):\n",
      "    saveText = []\n",
      "    for email in emails:\n",
      "        #transforming a list of lines into text\n",
      "        text = '\\''.join(map(str, email))\n",
      "        #to avoid portuguese bugs, I'm replacing our weird signs back again \n",
      "        text = text.replace(\"\\'\", \"\")\n",
      "        text = text.replace(\"=E7\", \"\u00e7\")\n",
      "        text = text.replace(\"=E9\", \"\u00e9\")\n",
      "        text = text.replace(\"=EA\", \"\u00ea\")\n",
      "        text = text.replace(\"=F5\", \"\u00f5\")\n",
      "        text = text.replace(\"=F3\", \"\u00f3\")    \n",
      "        text = text.replace(\"=E1\", \"\u00e1\")\n",
      "        text = text.replace(\"=E3\", \"\u00e3\")   \n",
      "        text = text.replace(\"=ED\", \"\u00ed\")\n",
      "        text = text.replace(\"=FA\", \"\u00fa\")\n",
      "        text = text.replace(\"=\", \"\")\n",
      "        \n",
      "        \n",
      "        #avoid email language words\n",
      "        text = text.replace(\"<font>\",\"\")\n",
      "        text = text.replace(\"<br>\", \"\")\n",
      "        text = text.replace(\"<span>\", \"\")\n",
      "        text = text.replace(\"<div>\", \"\")\n",
      "        text = text.replace(\"</div>\", \"\")\n",
      "        text = text.replace(\"<a>\", \"\")\n",
      "        text = text.replace(\"</a>\", \"\")\n",
      "        text = text.replace(\">\", \"\")\n",
      "        text = text.replace(\"<\", \"\")\n",
      "        text = text.replace(\"Yahoo\", \"\")\n",
      "        text = text.replace(\"target3D\\\"_blank\\\"\", \"\")\n",
      "        text = text.replace(\"&gt;\", \"\")\n",
      "        text = text.replace(\"|\", \"\")\n",
      "        text = text.replace(\"style3D\\\"LINE-HEIGHT:\", \"\")\n",
      "        text = text.replace(\"style3D\\\"MARGIN:\", \"\")\n",
      "        text = text.replace(\"style3D\\\"BORDER-COLLAPSE:\", \"\")\n",
      "        text = text.replace(\"style3D\\\"MIN-HEIGHT:\", \"\")\n",
      "        text = text.replace(\"font-family:\", \"\")\n",
      "        text = text.replace(\"font-weight:\", \"\")\n",
      "        text = text.replace(\"Arial\", \"\")       \n",
      "        text = text.replace(\"Sans-serif\", \"\")       \n",
      "        text = text.replace(\"margin:\", \"\")\n",
      "        text = text.replace(\"dir3Dltr&lt;A:\", \"\")\n",
      "        text = text.replace(\"padding\",\"\")\n",
      "        text = text.replace(\"Content-Type:\",\"\")\n",
      "        text = text.replace(\"0px\\\"font'\",\"\")\n",
      "        text = text.replace(\"YAHOO.COM.BR\",\"\")\n",
      "        text = text.replace(\"style3D\\\"font-family:\",\"\")\n",
      "        text = text.replace(\"style3D\\\"FONT-FAMILY:\",\"\")\n",
      "        text = text.replace(\"style3D\\\"FONT-WEIGHT:\",\"\")\n",
      "        text = text.replace(\"lang3D\\\"EN-GB\\\">A0</span></p>\",\"\")\n",
      "        text = text.replace(\"style3D\\\"padding-left\",\"\")\n",
      "        text = text.replace(\"text-decoration:\",\"\")\n",
      "        text = text.replace(\"rel3D\\\"nofollow\\\"\",\"\")\n",
      "        text = text.replace(\"bgcolor3D\",\"\")\n",
      "        text = text.replace(\"&nbsp;\",\"\")\n",
      "                           \n",
      "                            \n",
      "        #avoid numbers\n",
      "        text = text.replace(\"1\",\"\")\n",
      "        text = text.replace(\"2\",\"\")\n",
      "        text = text.replace(\"3\",\"\")\n",
      "        text = text.replace(\"4\",\"\")\n",
      "        text = text.replace(\"5\",\"\")\n",
      "        text = text.replace(\"6\",\"\")\n",
      "        text = text.replace(\"7\",\"\")\n",
      "        text = text.replace(\"8\",\"\")\n",
      "        text = text.replace(\"9\",\"\")\n",
      "\n",
      "   \n",
      "        #save text in a list of text-emails\n",
      "        saveText.append(text)\n",
      "    return saveText\n",
      "\n",
      "def FindSentEmailsBy(name):\n",
      "    saveEmails = []\n",
      "    for email in received_lines:\n",
      "        for line in email:\n",
      "            if 'From: ' in line:\n",
      "                if name in line:\n",
      "                    saveEmails.append(email)\n",
      "                    break\n",
      "    return saveEmails\n",
      "\n",
      "\n",
      "def FindSentEmailsTo(name):\n",
      "    saveEmails = []\n",
      "    for email in sent_lines:\n",
      "        for line in email:\n",
      "            if 'Delivered-To:' in line:\n",
      "                continue\n",
      "            elif 'In-Reply-To:' in line:\n",
      "                continue\n",
      "            else:\n",
      "                if 'To:' in line:                  \n",
      "                    if name in line:\n",
      "                        saveEmails.append(email)\n",
      "                        break\n",
      "    return saveEmails\n",
      "\n",
      "\n",
      "def TextListToFreq(textList):\n",
      "    finalFreq = {}\n",
      "    for email in textList:\n",
      "        freq = FreqDist(email)\n",
      "        finalFreq = dict(finalFreq.items() + freq.items())\n",
      "\n",
      "    bigValues = []    \n",
      "    for k, v in finalFreq.iteritems():\n",
      "        if len(k) > 30:\n",
      "            bigValues.append(k)        \n",
      "    for word in bigValues:\n",
      "        del finalFreq[word]\n",
      "    \n",
      "    sortedFreq = sorted(finalFreq.iteritems(), key=operator.itemgetter(1))\n",
      "    return sortedFreq\n",
      "\n",
      "\n",
      "def ReceivedTopWords(sender):\n",
      "    senderEmails = FindSentEmailsBy(sender)\n",
      "    senderTextList = LinesToTextList(senderEmails)\n",
      "    \n",
      "    freqWords = TextListToFreq(senderTextList)\n",
      "    top100 = len(freqWords)-100\n",
      "    return freqWords[top100:]\n",
      "\n",
      "\n",
      "def SentTopWords(receiver):\n",
      "    receiverEmails = FindSentEmailsTo(receiver)\n",
      "    receiverTextList = LinesToTextList(receiverEmails)\n",
      "    \n",
      "    freqWords = TextListToFreq(receiverTextList)\n",
      "    top100 = len(freqWords)-100\n",
      "    return freqWords[top100:]"
     ],
     "language": "python",
     "metadata": {},
     "outputs": [],
     "prompt_number": 14
    },
    {
     "cell_type": "code",
     "collapsed": false,
     "input": [
      "senders_text = '\\''.join(map(str, senders))\n",
      "senders_text = senders_text.replace('\\'', \" \")\n",
      "\n",
      "freqSenders = FreqDistSorted(senders_text)\n",
      "top10 = len(freqSenders)-10\n",
      "\n",
      "print freqSenders[top10:]\n"
     ],
     "language": "python",
     "metadata": {},
     "outputs": [
      {
       "output_type": "stream",
       "stream": "stdout",
       "text": [
        "[('marcela.esteves@siemens.com', 21), ('jeanmrc@gmail.com', 24), ('neuter@riograss.com.br', 25), ('tassioknop@gmail.com', 27), ('cicconet@gmail.com', 28), ('andre.siggia@gmail.com', 36), ('patrik.rj@gmail.com', 38), ('marcio@chaledoagronomo.com.br', 38), ('neuter@thuya.com.br', 63), ('schorrdesign@gmail.com', 185)]\n"
       ]
      }
     ],
     "prompt_number": 15
    },
    {
     "cell_type": "code",
     "collapsed": false,
     "input": [
      "receivers_text = '\\''.join(map(str, receivers))\n",
      "receivers_text = receivers_text.replace('\\'', \" \")\n",
      "\n",
      "freqReceivers = FreqDistSorted(receivers_text)\n",
      "top10 = len(freqReceivers)-10\n",
      "\n",
      "print freqReceivers[top10:]\n"
     ],
     "language": "python",
     "metadata": {},
     "outputs": [
      {
       "output_type": "stream",
       "stream": "stdout",
       "text": [
        "[('sal.macedo@yahoo.com.br', 30), ('crissaba@petrobras.com.br', 31), ('esdi-42@googlegroups.com', 32), ('andresmonat@yahoo.com.br', 36), ('ixdariostaff@googlegroups.com', 36), ('andre.siggia@gmail.com', 39), ('patrik.rj@gmail.com', 65), ('neuter@thuya.com.br', 95), ('the-angries@googlegroups.com', 144), ('schorrdesign@gmail.com', 319)]\n"
       ]
      }
     ],
     "prompt_number": 16
    },
    {
     "cell_type": "code",
     "collapsed": false,
     "input": [
      "list_text = '\\''.join(map(str, lists))\n",
      "list_text = list_text.replace('\\'', \" \")\n",
      "\n",
      "freqList = FreqDistSorted(list_text)\n",
      "top10 = len(freqList)-10\n",
      "\n",
      "print freqList[top10:]\n"
     ],
     "language": "python",
     "metadata": {},
     "outputs": [
      {
       "output_type": "stream",
       "stream": "stdout",
       "text": [
        "[('paralelas@yahoogroups.com', 107), ('hightechlowtech@googlegroups.com', 153), ('labvis2@googlegroups.com', 186), ('itp-accepts-discuss@lists.nyu.edu', 190), ('esdi-42@googlegroups.com', 246), ('ixdariostaff@googlegroups.com', 293), ('Reply-', 300), ('itp-students@lists.nyu.edu', 1876), ('diario_grafico@yahoogrupos.com.br', 2021), ('the-angries@googlegroups.com', 2726)]\n"
       ]
      }
     ],
     "prompt_number": 17
    },
    {
     "cell_type": "markdown",
     "metadata": {},
     "source": [
      "Keeping the pattern in senders... oh wait, my mon appeared in the receivers! As well as my current roommate."
     ]
    },
    {
     "cell_type": "code",
     "collapsed": false,
     "input": [
      "print SentTopWords('schorrdesign@gmail.com')\n",
      "print '-----------------------------------------------'\n",
      "print ReceivedTopWords('schorrdesign@gmail.com')\n"
     ],
     "language": "python",
     "metadata": {},
     "outputs": [
      {
       "ename": "KeyboardInterrupt",
       "evalue": "",
       "output_type": "pyerr",
       "traceback": [
        "\u001b[0;31m---------------------------------------------------------------------------\u001b[0m\n\u001b[0;31mKeyboardInterrupt\u001b[0m                         Traceback (most recent call last)",
        "\u001b[0;32m<ipython-input-23-a16f113c4f12>\u001b[0m in \u001b[0;36m<module>\u001b[0;34m()\u001b[0m\n\u001b[0;32m----> 1\u001b[0;31m \u001b[0;32mprint\u001b[0m \u001b[0mSentTopWords\u001b[0m\u001b[0;34m(\u001b[0m\u001b[0;34m'schorrdesign@gmail.com'\u001b[0m\u001b[0;34m)\u001b[0m\u001b[0;34m\u001b[0m\u001b[0m\n\u001b[0m\u001b[1;32m      2\u001b[0m \u001b[0;32mprint\u001b[0m \u001b[0;34m'-----------------------------------------------'\u001b[0m\u001b[0;34m\u001b[0m\u001b[0m\n\u001b[1;32m      3\u001b[0m \u001b[0;32mprint\u001b[0m \u001b[0mReceivedTopWords\u001b[0m\u001b[0;34m(\u001b[0m\u001b[0;34m'schorrdesign@gmail.com'\u001b[0m\u001b[0;34m)\u001b[0m\u001b[0;34m\u001b[0m\u001b[0m\n",
        "\u001b[0;32m<ipython-input-14-cac796af3cdf>\u001b[0m in \u001b[0;36mSentTopWords\u001b[0;34m(receiver)\u001b[0m\n\u001b[1;32m    144\u001b[0m     \u001b[0mreceiverTextList\u001b[0m \u001b[0;34m=\u001b[0m \u001b[0mLinesToTextList\u001b[0m\u001b[0;34m(\u001b[0m\u001b[0mreceiverEmails\u001b[0m\u001b[0;34m)\u001b[0m\u001b[0;34m\u001b[0m\u001b[0m\n\u001b[1;32m    145\u001b[0m \u001b[0;34m\u001b[0m\u001b[0m\n\u001b[0;32m--> 146\u001b[0;31m     \u001b[0mfreqWords\u001b[0m \u001b[0;34m=\u001b[0m \u001b[0mTextListToFreq\u001b[0m\u001b[0;34m(\u001b[0m\u001b[0mreceiverTextList\u001b[0m\u001b[0;34m)\u001b[0m\u001b[0;34m\u001b[0m\u001b[0m\n\u001b[0m\u001b[1;32m    147\u001b[0m     \u001b[0mtop100\u001b[0m \u001b[0;34m=\u001b[0m \u001b[0mlen\u001b[0m\u001b[0;34m(\u001b[0m\u001b[0mfreqWords\u001b[0m\u001b[0;34m)\u001b[0m\u001b[0;34m-\u001b[0m\u001b[0;36m100\u001b[0m\u001b[0;34m\u001b[0m\u001b[0m\n\u001b[1;32m    148\u001b[0m     \u001b[0;32mreturn\u001b[0m \u001b[0mfreqWords\u001b[0m\u001b[0;34m[\u001b[0m\u001b[0mtop100\u001b[0m\u001b[0;34m:\u001b[0m\u001b[0;34m]\u001b[0m\u001b[0;34m\u001b[0m\u001b[0m\n",
        "\u001b[0;32m<ipython-input-14-cac796af3cdf>\u001b[0m in \u001b[0;36mTextListToFreq\u001b[0;34m(textList)\u001b[0m\n\u001b[1;32m    118\u001b[0m     \u001b[0;32mfor\u001b[0m \u001b[0memail\u001b[0m \u001b[0;32min\u001b[0m \u001b[0mtextList\u001b[0m\u001b[0;34m:\u001b[0m\u001b[0;34m\u001b[0m\u001b[0m\n\u001b[1;32m    119\u001b[0m         \u001b[0mfreq\u001b[0m \u001b[0;34m=\u001b[0m \u001b[0mFreqDist\u001b[0m\u001b[0;34m(\u001b[0m\u001b[0memail\u001b[0m\u001b[0;34m)\u001b[0m\u001b[0;34m\u001b[0m\u001b[0m\n\u001b[0;32m--> 120\u001b[0;31m         \u001b[0mfinalFreq\u001b[0m \u001b[0;34m=\u001b[0m \u001b[0mdict\u001b[0m\u001b[0;34m(\u001b[0m\u001b[0mfinalFreq\u001b[0m\u001b[0;34m.\u001b[0m\u001b[0mitems\u001b[0m\u001b[0;34m(\u001b[0m\u001b[0;34m)\u001b[0m \u001b[0;34m+\u001b[0m \u001b[0mfreq\u001b[0m\u001b[0;34m.\u001b[0m\u001b[0mitems\u001b[0m\u001b[0;34m(\u001b[0m\u001b[0;34m)\u001b[0m\u001b[0;34m)\u001b[0m\u001b[0;34m\u001b[0m\u001b[0m\n\u001b[0m\u001b[1;32m    121\u001b[0m \u001b[0;34m\u001b[0m\u001b[0m\n\u001b[1;32m    122\u001b[0m     \u001b[0mbigValues\u001b[0m \u001b[0;34m=\u001b[0m \u001b[0;34m[\u001b[0m\u001b[0;34m]\u001b[0m\u001b[0;34m\u001b[0m\u001b[0m\n",
        "\u001b[0;31mKeyboardInterrupt\u001b[0m: "
       ]
      }
     ],
     "prompt_number": 23
    },
    {
     "cell_type": "code",
     "collapsed": false,
     "input": [
      "print SentTopWords('crissaba@petrobras.com.br')\n",
      "print '-----------------------------------------------'\n",
      "print ReceivedTopWords('crissaba@petrobras.com.br')\n"
     ],
     "language": "python",
     "metadata": {},
     "outputs": [
      {
       "output_type": "stream",
       "stream": "stdout",
       "text": [
        "[('sido', 6), ('contas.', 6), ('contas,', 6), ('estoy', 6), ('Att,', 6), ('entender', 6), ('00-0*', 6), ('Andreia', 6), ('[RCB-LATAM]', 6), ('sobre', 6), ('and', 6), ('usamos', 6), ('altD\"\"', 6), ('Quando', 6), ('documentos', 6), ('parece', 6), ('declara\\xc3\\xa7\\xc3\\xa3o', 6), ('visto', 6), ('mais', 6), ('cobran\\xc3\\xa7a', 6), ('[RCB-LATAM];', 7), ('mar\\xc3\\xa7o', 7), ('nome', 7), ('Relacionamento', 7), ('ficou', 7), ('isso', 7), ('e0', 7), ('$', 7), ('havia', 7), ('oferecer', 7), ('sizeD\"\"', 7), ('esta', 7), ('comprar', 8), ('tarifas.', 8), ('Estados', 8), ('A0', 8), ('fechar', 8), ('dizendo', 8), ('de', 8), ('depois', 8), ('my', 8), ('Nathalie,', 8), ('Tem', 8), ('()', 8), ('lo', 8), ('o', 8), ('para', 8), ('pela', 8), ('internacionais', 8), ('Ela', 8), ('fazer', 8), ('estante', 8), ('que', 9), ('gostaria', 9), ('no', 9), ('USA', 9), ('saque', 9), ('tinha', 9), ('por', 10), ('resposta', 10), ('os', 10), ('sizeD\"\"s', 10), ('faceD\"Tahoma\"', 10), ('sizeD\"\"span', 10), ('isen\\xc3\\xa7\\xc3\\xa3o', 10), ('dia', 10), ('n\\xc3\\xa3o', 10), ('AMS', 11), ('dinheiro', 11), ('tarifa', 11), ('saques', 11), ('colorD\"navy\"s', 12), ('nova', 13), ('Reis,', 13), ('colorD\"navy\"span', 13), ('Fatima', 14), ('nossa', 14), ('na', 14), ('era', 15), ('faceD\"Comic', 15), ('MS\"', 15), ('gerente', 15), ('alignD\"left\"font', 15), ('cart\\xc3\\xa3o', 16), ('pois', 17), ('estava', 17), ('como', 17), ('sizeD\"\"spa', 19), ('ela', 20), ('a', 21), ('colorD\"gray\"span', 27), ('sem', 30), ('Sans', 30), ('langD\"PT-BR\"', 32), ('faceD\"Times', 34), ('New', 34), ('Roman\"', 34), ('conta', 43), ('faceD\"\"', 48), ('classD\"MsoNormal\"font', 52)]\n",
        "-----------------------------------------------\n",
        "[('enviou', 5), ('cellspacingD\"0\"', 5), ('pre\\xc3\\xa7os', 5), ('Cenpes/CIPD', 5), ('usamos', 5), ('contas', 5), ('mudou', 5), ('hosting', 5), ('andre.siggia@gmail.com', 5), ('conseguiu', 5), ('externo', 5), ('Content-type:', 5), ('cellD\"0\"tr', 5), ('conteCBAdo', 5), ('fim', 6), ('designers', 6), ('e', 6), ('boa', 6), ('divulgaCACAo,', 6), ('c/', 6), ('faceD\"\"span', 6), ('Saba', 6), ('y', 6), ('rei', 6), ('tudo?', 6), ('mi', 6), ('partir', 6), ('todos', 6), ('tem', 6), ('un', 6), ('Carmen', 6), ('Bruno', 6), ('logo', 6), ('ya', 6), ('mas', 6), ('a,', 6), ('por', 6), ('Maria', 6), ('$', 6), ('aparador.', 6), ('declara\\xc3\\xa7\\xc3\\xa3o', 6), ('Petrobras', 6), ('estoy', 6), ('dia', 6), ('mais', 6), ('---/0/0', 6), ('and', 6), ('Tem', 6), ('aCACAo', 7), ('comprar', 7), ('autorizaCACAo,', 7), ('--Apple-Mail---000', 7), ('autorizaciCBn,', 7), ('sanCACAo', 7), ('sCAo', 7), ('Apr', 7), ('distribuiCACAo', 7), ('CA', 7), ('destinatCArio', 7), ('CRISTINA', 8), ('passCADveis', 8), ('reproducciCBn,', 8), ('estCAn', 8), ('serCAn', 8), ('A0', 8), ('de', 8), ('styleD\"font-size:0.0pt;', 8), ('of', 8), ('endereCAamento.', 8), ('lo', 8), ('CA0', 8), ('fazer', 8), ('divulgaciCBn,', 8), ('pela', 8), ('acciCBn', 8), ('carta', 8), ('cCADvel', 8), ('responsCAvel', 8), ('ficou', 9), ('jacque@isdi.co.cu', 9), ('vamos', 9), ('estante', 9), ('mCAe,', 10), ('que', 11), ('n\\xc3\\xa3o', 11), ('0', 12), ('a', 12), ('na', 13), ('\"div', 14), ('sizeD\"\"', 17), ('como', 22), ('AMS', 23), ('color:', 26), ('font:', 26), ('styleD\"margin-top:', 26), ('rgb(,', 26), ('px/normal', 26), ('Helvetica;', 26), ('margin-bottom:', 26), ('normal', 78)]"
       ]
      },
      {
       "output_type": "stream",
       "stream": "stdout",
       "text": [
        "\n"
       ]
      }
     ],
     "prompt_number": 20
    },
    {
     "cell_type": "markdown",
     "metadata": {},
     "source": [
      "Maria Paula => mom: gerente dinheiro resposta internationais (more bank stuff)"
     ]
    },
    {
     "cell_type": "markdown",
     "metadata": {},
     "source": [
      "Mom -> Maria Paula respons\u00e1vel jacque@isdi.co.cu (there are some words in spanish and this email, from a friend I visited in July in Cuba"
     ]
    },
    {
     "cell_type": "code",
     "collapsed": false,
     "input": [
      "print SentTopWords('cris@nikem.com.br')\n",
      "print '-----------------------------------------------'\n",
      "print ReceivedTopWords('cris@nikem.com.br')"
     ],
     "language": "python",
     "metadata": {},
     "outputs": [
      {
       "output_type": "stream",
       "stream": "stdout",
       "text": [
        "[('CRIAR', 2), ('heloisa', 2), ('pela', 2), ('passagem', 2), ('br', 2), ('ocupando', 2), ('--bcaecbdbad0ce', 2), ('chefe', 2), ('oi', 2), ('of', 2), ('styleD\"border', 2), ('RELEVANTES', 2), ('styleD\"&#;Trebuchet', 2), ('empresa', 2), ('SUA', 2), ('Jun', 2), ('NA', 2), ('*', 2), ('custos', 2), ('Como', 2), ('um', 2), ('empreendedor', 2), ('v', 2), ('interesse', 2), ('May', 2), ('s\\xc3\\xa3o', 2), ('A0', 2), ('neg\\xc3\\xb3cios', 2), ('E', 2), ('typeD\"cite\"', 2), ('pesquisa', 2), ('transfere', 2), ('acompanhe', 2), ('daquela', 2), ('pode', 2), ('neg\\xc3\\xb3cio,', 2), ('relevantes', 2), ('inova\\xc3\\xa7\\xc3\\xa3o', 3), ('0%\"img', 3), ('experi\\xc3\\xaancia', 3), ('order-collapse:collapse\"', 3), ('dados', 3), ('colspanD\"\"', 3), ('\"', 3), ('styleD\"b', 3), ('alignD\"none\"', 3), ('&lt;a', 3), ('Maria', 3), ('DESIGN', 3), ('Paula', 3), ('img', 3), ('THINKING', 3), ('o', 3), ('Cristina', 3), ('alignD\"center\"', 4), ('design', 4), ('eft\"h', 4), ('diretora', 4), ('LUZ', 4), ('que', 4), ('styleD\"t', 4), ('para', 4), ('bem', 4), ('DE', 4), ('00', 4), ('Consultoria,', 4), ('Guilherme', 4), ('s', 4), ('por', 4), ('uma', 4), ('Lito', 4), ('Loja', 4), ('tr', 5), ('dingD\"0\"', 5), ('altD\"\"', 5), ('Saba', 5), ('cellpad', 5), ('\\xc3\\xa9', 6), ('seu', 6), ('widthD\"00\"', 6), ('heightD\"0\"', 6), ('widthD\"00%\"', 7), ('cellspacingD\"0\"', 7), ('span', 7), ('cellD\"0\"', 7), ('da', 8), ('com', 8), ('widthD\"0\"', 8), ('no', 8), ('styleD\"c', 10), ('tbodytr', 12), ('/tbody/table', 12), ('table', 12), ('borderD\"0\"', 17), ('/tr', 17), ('valignD\"top\"', 19), ('e', 20), ('/td', 22), ('td', 22), ('div', 24)]\n",
        "-----------------------------------------------\n",
        "[('por', 4), ('of', 4), ('design', 4), ('\"', 4), ('para', 4), ('&lt;a', 4), ('smtpauth-0.infolink.com.br', 4), ('00%;outline:', 5), ('0;:', 5), ('with', 5), ('0%;\"', 5), ('by', 5), ('none;display:', 5), ('\"border-collapse:collapse\"', 5), ('none;border-width:', 5), ('0%;text-align', 5), ('id', 5), ('Received:', 5), ('altD\"\"', 5), ('#FFFFFF;\"', 5), (';', 5), ('styleD\"', 5), ('0px;', 5), ('none;', 5), ('\"0\"', 5), ('tr', 5), ('#;', 5), ('ingD\"0\"', 5), ('styleD\"border:', 5), ('classD\"h\"', 5), ('tyleD\"border-collapse:', 5), ('0:0:', 5), ('cellpadd', 5), ('px;height:', 6), ('s', 6), ('Mon,', 6), ('0;\"', 6), ('seu', 6), ('Sun,', 6), ('widthD\"00\"', 6), ('0,', 6), ('-000', 6), (':0:0', 6), ('::', 6), ('Tue,', 6), ('inline;\"', 6), ('Jun', 6), ('Top', 6), ('em', 6), ('span', 7), ('normal;', 7), ('do', 7), ('cris@nikem.com.br', 7), ('0px;line-height:', 7), ('0);', 7), ('widthD\"00%\"', 7), ('font-size:', 7), ('styleD\"text-align:', 7), ('Mar', 7), ('Template', 8), ('da', 8), ('com', 8), ('CA', 8), ('no', 8), ('Content', 8), ('styleD', 8), ('styleD\"co', 9), ('styleD\"background-color:', 9), ('cellspacingD\"0\"', 9), ('lor:', 10), ('End', 11), ('Begin', 11), ('/tbody/table', 12), ('tbodytr', 12), ('table', 12), ('a', 13), ('Module:', 14), (');', 14), ('collapse;\"', 14), ('px;line-height:', 15), ('de', 15), ('rgb(,', 16), ('/tr', 17), ('borderD\"0\"', 17), (',', 18), ('valignD\"top\"', 18), ('styleD\"color:', 18), ('#000;', 19), (';font-size:', 20), (':', 20), ('\\\\\\\\', 20), ('px;', 21), ('td', 22), ('/td', 22), ('//', 22), ('--', 24), ('e', 24), ('div', 24), ('!--', 24), ('0', 69)]"
       ]
      },
      {
       "output_type": "stream",
       "stream": "stdout",
       "text": [
        "\n"
       ]
      }
     ],
     "prompt_number": 22
    },
    {
     "cell_type": "code",
     "collapsed": false,
     "input": [
      "print SentTopWords('lilly.laylou@gmail.com')\n",
      "print '-----------------------------------------------'\n",
      "print ReceivedTopWords('lilly.laylou@gmail.com')\n"
     ],
     "language": "python",
     "metadata": {},
     "outputs": [
      {
       "output_type": "stream",
       "stream": "stdout",
       "text": [
        "[('lugar', 4), ('l\\xc3\\xa1,', 4), ('poderia', 4), ('momento', 4), ('h.', 4), ('fazendo', 4), ('tamb\\xc3\\xa9m', 4), ('meu', 5), ('vida.', 5), ('styleD\"FONT:0pt', 5), ('post', 5), ('dia', 5), ('Rock', 5), ('/s\\xc3\\xa1bado', 5), ('faz', 5), ('todo', 5), ('anos', 5), ('fui', 5), ('carona', 5), ('est\\xc3\\xa1', 5), ('tentar', 5), ('nada', 5), ('vida', 5), ('l\\xc3\\xa1', 5), ('era', 6), ('Nat', 6), ('patina\\xc3\\xa7\\xc3\\xa3o', 6), ('m\\xc3\\xa3e', 6), ('lembro', 6), ('n\\xc3\\xa3o', 6), ('pra', 6), ('(e', 6), ('agora', 6), ('umas', 6), ('talvez', 6), ('pessoas', 6), ('voc\\xc3\\xaa,', 6), ('se', 6), ('tudo', 6), ('posso', 6), ('vc', 6), ('vai', 6), ('nem', 7), ('ano', 7), ('&lt;a', 7), ('mim', 7), ('font-size:', 8), ('-top:', 8), ('queria', 8), ('!important;', 8), ('ag\\xc3\\xaancia', 8), ('Ch\\xc3\\xa1', 8), ('eu', 8), ('fazer', 8), ('#cd', 8), ('Dan\\xc3\\xa7ante', 8), ('ff;', 8), ('esse', 8), ('acho', 8), ('!important;\"/div', 8), ('tempo', 8), ('que', 8), ('line-height:', 8), ('coisa', 8), ('Let\\xc3\\xadcia', 9), ('gente', 9), ('aquele', 9), ('styleD\"', 9), ('sei', 9), ('as', 9), ('background-color:', 10), ('falar', 10), ('estar', 10), ('tenha', 10), ('quero', 10), ('ficar', 10), ('meio', 10), ('sobre', 11), ('na', 11), ('mesmo', 11), ('sempre', 11), ('E', 12), ('ou', 12), ('j\\xc3\\xa1', 12), ('foi', 13), ('uma', 14), ('seu', 15), ('no', 16), ('da', 16), ('estava', 16), ('px;', 18), ('isso', 18), ('ter', 20), ('quando', 21), ('porque', 22), ('por', 23), ('com', 26), ('muito', 26), ('Eu', 26), ('mais', 32)]\n",
        "-----------------------------------------------\n",
        "[('estou', 6), ('por', 6), ('tenho', 6), ('legal', 6), ('os', 6), ('amiga', 6), ('vamos', 6), ('mestrado.', 6), ('verdade', 6), ('parece', 6), ('&lt;a', 6), ('Google', 6), ('tempo,', 6), ('perguntava', 6), ('conversar', 6), ('muitas', 6), ('aquilo', 6), ('bairro', 6), ('fez', 6), ('sinto', 6), ('al\\xc3\\xa9m', 6), ('parecia', 6), ('disse', 6), ('fato', 6), ('entendo', 6), ('amigos', 7), ('A', 7), ('Quando', 7), ('precisa', 7), ('t;', 7), ('tinha', 7), ('gt;', 7), ('N\\xc3\\xa3o', 7), ('inveja', 7), ('nem', 8), ('pouco', 8), ('\\xc3\\xaa', 8), ('at\\xc3\\xa9', 8), ('comigo', 8), ('sou', 8), ('na', 8), ('ag\\xc3\\xaancia', 8), ('faculdade', 8), ('fases', 8), ('numa', 8), ('disse,', 8), ('mal,', 8), ('minhas', 8), ('todo', 8), ('passei', 8), ('talvez', 8), ('voc', 8), ('a\\xc3\\xad', 8), ('fica', 8), ('momento', 8), ('ficado', 8), ('lugar', 8), ('duas', 8), ('l\\xc3\\xa1,', 8), ('tudo', 8), ('vida.', 9), ('anos', 9), ('sentir', 10), ('num', 10), ('post', 10), ('mais', 10), ('fui', 10), ('nada', 10), ('posso', 10), ('aqui', 10), ('rela\\xc3\\xa7\\xc3\\xa3o', 11), ('mas', 12), ('lembro', 12), ('ano', 12), ('n', 13), ('em', 13), ('agora', 13), ('voc\\xc3\\xaa,', 13), ('pode', 13), ('muito', 14), ('mim', 14), ('O', 16), ('ficar', 17), ('aquele', 18), ('estar', 19), ('quero', 19), ('gente', 20), ('uma', 20), ('sobre', 22), ('com', 22), ('meio', 22), ('do', 24), ('ou', 25), ('j\\xc3\\xa1', 25), ('estava', 33), ('o', 43), ('porque', 43), ('Eu', 53), ('a', 59), ('de', 68)]"
       ]
      },
      {
       "output_type": "stream",
       "stream": "stdout",
       "text": [
        "\n"
       ]
      }
     ],
     "prompt_number": 21
    },
    {
     "cell_type": "markdown",
     "metadata": {},
     "source": [
      "Aline - > Maria Paula: gente lembro ano aqui momento fases "
     ]
    },
    {
     "cell_type": "markdown",
     "metadata": {},
     "source": [
      "Maria Paula -> Aline: coisa tempo sempre estava eu muito. we had this weird conversations about our relationship."
     ]
    },
    {
     "cell_type": "code",
     "collapsed": false,
     "input": [],
     "language": "python",
     "metadata": {},
     "outputs": []
    }
   ],
   "metadata": {}
  }
 ]
}