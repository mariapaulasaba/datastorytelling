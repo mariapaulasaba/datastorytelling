{
 "metadata": {
  "name": ""
 },
 "nbformat": 3,
 "nbformat_minor": 0,
 "worksheets": [
  {
   "cells": [
    {
     "cell_type": "heading",
     "level": 1,
     "metadata": {},
     "source": [
      "My Gmail Life       <img src=\"http://media.idownloadblog.com/wp-content/uploads/2011/02/Gmail-Icon.png\" width=\"80\" height=\"40\" />"
     ]
    },
    {
     "cell_type": "markdown",
     "metadata": {},
     "source": [
      "I want to tell the story of my life under a differente perspective: my main digital communication tool. I started using Gmail in 2007. By that time, I was in undergrad design school in Rio. Since then, I've lived abroad 3x and in 5 different cities, worked for 6 different companies. I've downloaded all my Gmail data to try to understand if there are any patterns in my life, and how they correspond to different stages (student, intern, full-time employee) and places (Rio, Wuppertal, Princeton, New York and Sunnyvale). The questions I'm asking myself are: Do I use more e-mail when I live abroad? Which time of the year/month/week I'm more digitally active? I'm also interested in understanding which words I use more often and how does it change according to whom I'm sending.\n",
      "\n",
      "First of all, let's import all my data:"
     ]
    },
    {
     "cell_type": "code",
     "collapsed": false,
     "input": [
      "import gzip\n",
      "import os\n",
      "\n",
      "import re\n",
      "import string\n",
      "import operator\n"
     ],
     "language": "python",
     "metadata": {},
     "outputs": [],
     "prompt_number": 3
    },
    {
     "cell_type": "code",
     "collapsed": false,
     "input": [
      "path = \"data/\"\n",
      "months = os.listdir( path )\n",
      "\n",
      "#deleting .DS_Store file\n",
      "del months[0]\n",
      "\n",
      "allFiles = []\n",
      "\n",
      "#reading the file's names\n",
      "for month in months:\n",
      "     files = os.listdir(path + month)\n",
      "     allFiles.append(files)\n",
      "\n",
      "#saving each email in a list, with separated lines     \n",
      "received_lines = []\n",
      "sent_lines = []\n",
      "list_lines = []\n",
      "\n",
      "#for calculating number of emails\n",
      "num_emails = []\n",
      "num_sent = []\n",
      "num_received = []\n",
      "num_lists = []\n",
      "num_totals = []\n",
      "total_emails = 0\n",
      "\n",
      "#saving senders\n",
      "senders = []\n",
      "lists = []\n",
      "\n",
      "for (files, month) in zip(allFiles, months):\n",
      "    count_sent = 0\n",
      "    count_received = 0\n",
      "    count_lists = 0\n",
      "\n",
      "    for file in files:\n",
      "        if 'gz' in file:\n",
      "            total_emails = total_emails + 1\n",
      "            f = gzip.open(path+month+'/'+file, 'rb')\n",
      "            file_content = f.readlines()\n",
      "            \n",
      "            for line in file_content:\n",
      "                #check the sender and if it is myself, count as sent.\n",
      "                if 'From: ' in line:\n",
      "                    if 'mariapaula.saba@gmail.com' in line:\n",
      "                        sent_lines.append(file_content)\n",
      "                        count_sent = count_sent + 1\n",
      "                        break\n",
      "                    else:\n",
      "                        #save the sender    \n",
      "                        index1 = line.find('<')\n",
      "                        index2 = line.find('>')\n",
      "                        address = line[index1+1:index2]\n",
      "                        address = address.replace('\\r', \"\")\n",
      "                        address = address.replace('To:', \"\")\n",
      "                        address = address.replace('From:', \"\")\n",
      "                        address = address.replace('X-ESDI-MailScanner-',\"\")\n",
      "                        continue\n",
      "                if 'Delivered-To:' in line:\n",
      "                    continue\n",
      "                elif 'In-Reply-To:' in line:\n",
      "                    continue\n",
      "                else:\n",
      "                    if 'To:' in line:     \n",
      "                        #check if it was really for me\n",
      "                        if 'mariapaula.saba@gmail.com' in line:                  \n",
      "                            received_lines.append(file_content)\n",
      "                            count_received = count_received + 1\n",
      "                            senders.append(address)\n",
      "                            break\n",
      "                        else:\n",
      "                            count_lists = count_lists + 1\n",
      "                            index1 = line.find('<')\n",
      "                            index2 = line.find('>')\n",
      "                            recipient = line[index1+1:index2]\n",
      "                            recipient = recipient.replace('\\r', \"\")\n",
      "                            recipient = recipient.replace('To:', \"\")\n",
      "                            recipient = recipient.replace('From:', \"\")\n",
      "                            recipient = recipient.replace('X-Apparently- ', \"\")\n",
      "                            list_lines.append(file_content)\n",
      "                            lists.append(recipient)\n",
      "                            break\n",
      "            f.close()\n",
      "            \n",
      "            \n",
      "    num_received.append(count_received)        \n",
      "    num_sent.append(count_sent)\n",
      "    num_emails.append(count_received + count_sent)\n",
      "    num_lists.append(count_lists)\n",
      "    num_totals.append(count_received + count_sent + count_lists)\n",
      " \n",
      "    \n",
      "print \"Since 2007, I have sent\", len(sent_lines), \"emails.\"\n",
      "print \"And I probably received more, but I kept\", len(received_lines), \"emails.\"\n",
      "print \"I also received\", len(list_lines), \"emails that were not addressed directly to me.\"\n",
      "print \"Which sums up a total of\", total_emails, \"emails.\"\n"
     ],
     "language": "python",
     "metadata": {},
     "outputs": [
      {
       "output_type": "stream",
       "stream": "stdout",
       "text": [
        "Since 2007, I have sent 9165 emails.\n",
        "And I probably received more, but I kept 7845 emails.\n",
        "I also received 41186 emails that were not addressed directly to me.\n",
        "Which sums up a total of 58253 emails.\n"
       ]
      }
     ],
     "prompt_number": 4
    },
    {
     "cell_type": "code",
     "collapsed": false,
     "input": [
      "# who did I write to?\n",
      "receivers = []\n",
      "count_me = 0\n",
      "\n",
      "for email in sent_lines:\n",
      "    for line in email:\n",
      "        if 'Delivered-To:' in line:\n",
      "            continue\n",
      "        elif 'In-Reply-To:' in line:\n",
      "            #print line\n",
      "            continue\n",
      "        else:\n",
      "            if 'To:' in line:\n",
      "                if 'mariapaula.saba@gmail.com' in line:\n",
      "                    count_me = count_me + 1\n",
      "                    break\n",
      "                else:\n",
      "                   # print line\n",
      "                    index1 = line.find('<')\n",
      "                    index2 = line.find('>')\n",
      "                    address = line[index1+1:index2]\n",
      "                    address = address.replace('\\r', \"\")\n",
      "                    address = address.replace('To:', \"\")\n",
      "                    receivers.append(address)  \n",
      "                    break\n",
      "\n",
      "            \n",
      "            \n",
      "print \"I wrote\", count_me, \"emails for myself (that were not deleted)!!!\"            \n",
      "print \"And I actually sent\", len(receivers), \"emails out to the world.\"\n"
     ],
     "language": "python",
     "metadata": {},
     "outputs": [
      {
       "output_type": "stream",
       "stream": "stdout",
       "text": [
        "I wrote 194 emails for myself (that were not deleted)!!!\n",
        "And I actually sent 8839 emails out to the world.\n"
       ]
      }
     ],
     "prompt_number": 5
    },
    {
     "cell_type": "raw",
     "metadata": {},
     "source": [
      "Next thing to do is to check if there is any pattern across time. My email usage certainly did increase over time. But how much? And how is the increase related to events in my life? Let's plot a graphic to find out!"
     ]
    },
    {
     "cell_type": "code",
     "collapsed": false,
     "input": [
      "pyplot.plot(range(1,len(months)+1), num_totals)\n",
      "pyplot.plot(range(1,len(months)+1), num_received)\n",
      "pyplot.plot(range(1,len(months)+1), num_sent)\n",
      "\n"
     ],
     "language": "python",
     "metadata": {},
     "outputs": [
      {
       "metadata": {},
       "output_type": "pyout",
       "prompt_number": 6,
       "text": [
        "[<matplotlib.lines.Line2D at 0x40c52fd90>]"
       ]
      },
      {
       "metadata": {},
       "output_type": "display_data",
       "png": "[encoded data removed]",
       "text": [
        "<matplotlib.figure.Figure at 0x111197590>"
       ]
      }
     ],
     "prompt_number": 6
    },
    {
     "cell_type": "code",
     "collapsed": false,
     "input": [
      "pyplot.plot(range(len(months)), num_emails)\n",
      "pyplot.plot(range(len(months)), num_received)\n",
      "pyplot.plot(range(len(months)), num_sent)\n",
      "\n",
      "\n"
     ],
     "language": "python",
     "metadata": {},
     "outputs": [
      {
       "metadata": {},
       "output_type": "pyout",
       "prompt_number": 7,
       "text": [
        "[<matplotlib.lines.Line2D at 0x40c64b210>]"
       ]
      },
      {
       "metadata": {},
       "output_type": "display_data",
       "png": "[encoded data removed]",
       "text": [
        "<matplotlib.figure.Figure at 0x40c542b50>"
       ]
      }
     ],
     "prompt_number": 7
    },
    {
     "cell_type": "code",
     "collapsed": false,
     "input": [
      "pyplot.plot(range(len(months)), num_received)\n",
      "pyplot.plot(range(len(months)), num_sent)"
     ],
     "language": "python",
     "metadata": {},
     "outputs": [
      {
       "metadata": {},
       "output_type": "pyout",
       "prompt_number": 20,
       "text": [
        "[<matplotlib.lines.Line2D at 0x40c643ed0>]"
       ]
      },
      {
       "metadata": {},
       "output_type": "display_data",
       "png": "[encoded data removed]",
       "text": [
        "<matplotlib.figure.Figure at 0x40c6e8dd0>"
       ]
      }
     ],
     "prompt_number": 20
    },
    {
     "cell_type": "markdown",
     "metadata": {},
     "source": [
      "Without lists, the number never reaches more than 500 per month. I can see seasons of high peak in between months 20 and 28, 32 and 40, 45, 49 and 54, 57 and 60, 68 until now.\n",
      "\n",
      "Let's give dates to numbers:\n",
      "20 -> 2009-02\n",
      "28 -> 2009-10\n",
      "32 -> 2010-02\n",
      "40 -> 2010-10\n",
      "45 -> 2011-03\n",
      "49 -> 2011-07\n",
      "57 -> 2012-03\n",
      "60 -> 2012-07\n",
      "68 -> 2013-02\n",
      "\n",
      "What I learn from this is: I sent less emails in Europe than in Brazil. And I had different phases in the US. \n"
     ]
    },
    {
     "cell_type": "code",
     "collapsed": false,
     "input": [
      "pyplot.plot(range(1,len(months)+1), num_lists)\n",
      "pyplot.plot(range(1,len(months)+1), num_received)\n",
      "\n"
     ],
     "language": "python",
     "metadata": {},
     "outputs": [
      {
       "metadata": {},
       "output_type": "pyout",
       "prompt_number": 8,
       "text": [
        "[<matplotlib.lines.Line2D at 0x1235ce8d0>]"
       ]
      },
      {
       "metadata": {},
       "output_type": "display_data",
       "png": "[encoded data removed]",
       "text": [
        "<matplotlib.figure.Figure at 0x40c654250>"
       ]
      }
     ],
     "prompt_number": 8
    },
    {
     "cell_type": "markdown",
     "metadata": {},
     "source": [
      "You can see two big rises in list emails. In 2011, I joined a list from friends. In 2012, I joined ITP students list. In the beginning, I deleted all emails but around October I just gave up. It is interesting to see how emails sent drop during summer break.\n",
      "\n"
     ]
    },
    {
     "cell_type": "code",
     "collapsed": false,
     "input": [
      "#for reference in the graph    \n",
      "for r in range(len(months)):\n",
      "    i =  r\n",
      "    print i, \"->\", months[i]"
     ],
     "language": "python",
     "metadata": {},
     "outputs": [
      {
       "output_type": "stream",
       "stream": "stdout",
       "text": [
        "0 -> 2007-05\n",
        "1 -> 2007-06\n",
        "2 -> 2007-08\n",
        "3 -> 2007-09\n",
        "4 -> 2007-10\n",
        "5 -> 2007-11\n",
        "6 -> 2007-12\n",
        "7 -> 2008-01\n",
        "8 -> 2008-02\n",
        "9 -> 2008-03\n",
        "10 -> 2008-04\n",
        "11 -> 2008-05\n",
        "12 -> 2008-06\n",
        "13 -> 2008-07\n",
        "14 -> 2008-08\n",
        "15 -> 2008-09\n",
        "16 -> 2008-10\n",
        "17 -> 2008-11\n",
        "18 -> 2008-12\n",
        "19 -> 2009-01\n",
        "20 -> 2009-02\n",
        "21 -> 2009-03\n",
        "22 -> 2009-04\n",
        "23 -> 2009-05\n",
        "24 -> 2009-06\n",
        "25 -> 2009-07\n",
        "26 -> 2009-08\n",
        "27 -> 2009-09\n",
        "28 -> 2009-10\n",
        "29 -> 2009-11\n",
        "30 -> 2009-12\n",
        "31 -> 2010-01\n",
        "32 -> 2010-02\n",
        "33 -> 2010-03\n",
        "34 -> 2010-04\n",
        "35 -> 2010-05\n",
        "36 -> 2010-06\n",
        "37 -> 2010-07\n",
        "38 -> 2010-08\n",
        "39 -> 2010-09\n",
        "40 -> 2010-10\n",
        "41 -> 2010-11\n",
        "42 -> 2010-12\n",
        "43 -> 2011-01\n",
        "44 -> 2011-02\n",
        "45 -> 2011-03\n",
        "46 -> 2011-04\n",
        "47 -> 2011-05\n",
        "48 -> 2011-06\n",
        "49 -> 2011-07\n",
        "50 -> 2011-08\n",
        "51 -> 2011-09\n",
        "52 -> 2011-10\n",
        "53 -> 2011-11\n",
        "54 -> 2011-12\n",
        "55 -> 2012-01\n",
        "56 -> 2012-02\n",
        "57 -> 2012-03\n",
        "58 -> 2012-04\n",
        "59 -> 2012-05\n",
        "60 -> 2012-06\n",
        "61 -> 2012-07\n",
        "62 -> 2012-08\n",
        "63 -> 2012-09\n",
        "64 -> 2012-10\n",
        "65 -> 2012-11\n",
        "66 -> 2012-12\n",
        "67 -> 2013-01\n",
        "68 -> 2013-02\n",
        "69 -> 2013-03\n",
        "70 -> 2013-04\n",
        "71 -> 2013-05\n",
        "72 -> 2013-06\n",
        "73 -> 2013-07\n",
        "74 -> 2013-08\n",
        "75 -> 2013-09\n",
        "76 -> 2013-10\n"
       ]
      }
     ],
     "prompt_number": 9
    },
    {
     "cell_type": "markdown",
     "metadata": {},
     "source": [
      "Cool. What about weekly patterns? What's the day of the week I send more emails? Which day I receive more?"
     ]
    },
    {
     "cell_type": "code",
     "collapsed": false,
     "input": [
      "smon = 0\n",
      "stue = 0\n",
      "swed = 0\n",
      "sthu = 0\n",
      "sfri = 0\n",
      "ssat = 0\n",
      "ssun = 0\n",
      "\n",
      "#sent_weekdays = {}\n",
      "\n",
      "for email in sent_lines:\n",
      "    for line in email:\n",
      "        if 'Date: Mon' in line:\n",
      "#            index = line.find(',')\n",
      "#            date = line[index+2:index+13]\n",
      "#            sent_weekdays[date] = 'Monday'\n",
      "            smon = smon + 1\n",
      "        if 'Date: Tue' in line:\n",
      "#            index = line.find(',')\n",
      "#            date = line[index+2:index+13]\n",
      "#            sent_weekdays[date] = 'Tuesday'\n",
      "            stue = stue + 1\n",
      "        if 'Date: Wed' in line:\n",
      "#            index = line.find(',')\n",
      "#            date = line[index+2:index+13]\n",
      "#            sent_weekdays[date] = 'Wednesday'\n",
      "            swed = swed + 1\n",
      "        if 'Date: Thu' in line:\n",
      "#            index = line.find(',')\n",
      "#            date = line[index+2:index+13]\n",
      "#            sent_weekdays[date] = 'Thursday'\n",
      "            sthu = sthu + 1\n",
      "        if 'Date: Fri' in line:\n",
      "#            index = line.find(',')\n",
      "#            date = line[index+2:index+13]\n",
      "#            sent_weekdays[date] = 'Friday'\n",
      "            sfri = sfri + 1\n",
      "        if 'Date: Sat' in line:\n",
      "#            index = line.find(',')\n",
      "#            date = line[index+2:index+13]\n",
      "#            sent_weekdays[date] = 'Saturday'\n",
      "            ssat = ssat + 1\n",
      "        if 'Date: Sun' in line:\n",
      "#            index = line.find(',')\n",
      "#            date = line[index+2:index+13]\n",
      "#            sent_weekdays[date] = 'Sunday'\n",
      "            ssun = ssun + 1\n",
      "            \n",
      "#print len(sent_weekdays)\n",
      "print \"I've sent\", smon, \"emails on Mondays.\"\n",
      "print \"I've sent\", stue, \"emails on Tuesdays.\"\n",
      "print \"I've sent\", swed, \"emails on Wednesdays.\"\n",
      "print \"I've sent\", sthu, \"emails on Thursdays.\"\n",
      "print \"I've sent\", sfri, \"emails on Fridays.\"\n",
      "print \"I've sent\", ssat, \"emails on Saturdays.\"\n",
      "print \"I've sent\", ssun, \"emails on Sundays.\"\n",
      "\n",
      "sent_week = [smon, stue, swed, sthu, sfri, ssat, ssun]\n"
     ],
     "language": "python",
     "metadata": {},
     "outputs": [
      {
       "output_type": "stream",
       "stream": "stdout",
       "text": [
        "I've sent 1851 emails on Mondays.\n",
        "I've sent 1901 emails on Tuesdays.\n",
        "I've sent 1867 emails on Wednesdays.\n",
        "I've sent 1700 emails on Thursdays.\n",
        "I've sent 1456 emails on Fridays.\n",
        "I've sent 737 emails on Saturdays.\n",
        "I've sent 979 emails on Sundays.\n"
       ]
      }
     ],
     "prompt_number": 10
    },
    {
     "cell_type": "code",
     "collapsed": false,
     "input": [
      "rmon = 0\n",
      "rtue = 0\n",
      "rwed = 0\n",
      "rthu = 0\n",
      "rfri = 0\n",
      "rsat = 0\n",
      "rsun = 0\n",
      "\n",
      "#received_weekdays = {}\n",
      "\n",
      "for email in received_lines:\n",
      "    for line in email:\n",
      "        if 'Date: Mon' in line:\n",
      "#            index = line.find(',')\n",
      "#            date = line[index+2:index+13]\n",
      "#            sent_weekdays[date] = 'Monday'\n",
      "            rmon = rmon + 1\n",
      "        if 'Date: Tue' in line:\n",
      "#            index = line.find(',')\n",
      "#            date = line[index+2:index+13]\n",
      "#            sent_weekdays[date] = 'Tuesday'\n",
      "            rtue = rtue + 1\n",
      "        if 'Date: Wed' in line:\n",
      "#            index = line.find(',')\n",
      "#            date = line[index+2:index+13]\n",
      "#            sent_weekdays[date] = 'Wednesday'\n",
      "            rwed = rwed + 1\n",
      "        if 'Date: Thu' in line:\n",
      "#            index = line.find(',')\n",
      "#            date = line[index+2:index+13]\n",
      "#            sent_weekdays[date] = 'Thursday'\n",
      "            rthu = rthu + 1\n",
      "        if 'Date: Fri' in line:\n",
      "#            index = line.find(',')\n",
      "#            date = line[index+2:index+13]\n",
      "#            sent_weekdays[date] = 'Friday'\n",
      "            rfri = rfri + 1\n",
      "        if 'Date: Sat' in line:\n",
      "#            index = line.find(',')\n",
      "#            date = line[index+2:index+13]\n",
      "#            sent_weekdays[date] = 'Saturday'\n",
      "            rsat = rsat + 1\n",
      "        if 'Date: Sun' in line:\n",
      "#            index = line.find(',')\n",
      "#            date = line[index+2:index+13]\n",
      "#            sent_weekdays[date] = 'Sunday'\n",
      "            rsun = rsun + 1\n",
      "            \n",
      "#print len(sent_weekdays)\n",
      "print \"I've received\", rmon, \"emails on Mondays.\"\n",
      "print \"I've received\", rtue, \"emails on Tuesdays.\"\n",
      "print \"I've received\", rwed, \"emails on Wednesdays.\"\n",
      "print \"I've received\", rthu, \"emails on Thursdays.\"\n",
      "print \"I've received\", rfri, \"emails on Fridays.\"\n",
      "print \"I've received\", rsat, \"emails on Saturdays.\"\n",
      "print \"I've received\", rsun, \"emails on Sundays.\"\n",
      "\n",
      "received_week = [rmon, rtue, rwed, rthu, rfri, rsat, rsun]\n"
     ],
     "language": "python",
     "metadata": {},
     "outputs": [
      {
       "output_type": "stream",
       "stream": "stdout",
       "text": [
        "I've received 1587 emails on Mondays.\n",
        "I've received 1543 emails on Tuesdays.\n",
        "I've received 1574 emails on Wednesdays.\n",
        "I've received 1442 emails on Thursdays.\n",
        "I've received 1251 emails on Fridays.\n",
        "I've received 607 emails on Saturdays.\n",
        "I've received 722 emails on Sundays.\n"
       ]
      }
     ],
     "prompt_number": 11
    },
    {
     "cell_type": "code",
     "collapsed": false,
     "input": [
      "lmon = 0\n",
      "ltue = 0\n",
      "lwed = 0\n",
      "lthu = 0\n",
      "lfri = 0\n",
      "lsat = 0\n",
      "lsun = 0\n",
      "\n",
      "\n",
      "for email in list_lines:\n",
      "    for line in email:\n",
      "        if 'Date: Mon' in line:\n",
      "            lmon = lmon + 1\n",
      "        if 'Date: Tue' in line:\n",
      "            ltue = ltue + 1\n",
      "        if 'Date: Wed' in line:\n",
      "            lwed = lwed + 1\n",
      "        if 'Date: Thu' in line:\n",
      "            lthu = lthu + 1\n",
      "        if 'Date: Fri' in line:\n",
      "            lfri = lfri + 1\n",
      "        if 'Date: Sat' in line:\n",
      "            lsat = lsat + 1\n",
      "        if 'Date: Sun' in line:\n",
      "            lsun = lsun + 1\n",
      "            \n",
      "#print len(sent_weekdays)\n",
      "print \"I've received from lists\", lmon, \"emails on Mondays.\"\n",
      "print \"I've received from lists\", ltue, \"emails on Tuesdays.\"\n",
      "print \"I've received from lists\", lwed, \"emails on Wednesdays.\"\n",
      "print \"I've received from lists\", lthu, \"emails on Thursdays.\"\n",
      "print \"I've received from lists\", lfri, \"emails on Fridays.\"\n",
      "print \"I've received from lists\", lsat, \"emails on Saturdays.\"\n",
      "print \"I've received from lists\", lsun, \"emails on Sundays.\"\n",
      "\n",
      "lists_week = [lmon, ltue, lwed, lthu, lfri, lsat, lsun]\n"
     ],
     "language": "python",
     "metadata": {},
     "outputs": [
      {
       "output_type": "stream",
       "stream": "stdout",
       "text": [
        "I've received from lists 7249 emails on Mondays.\n",
        "I've received from lists 8240 emails on Tuesdays.\n",
        "I've received from lists 8326 emails on Wednesdays.\n",
        "I've received from lists 7825 emails on Thursdays.\n",
        "I've received from lists 7206 emails on Fridays.\n",
        "I've received from lists 2970 emails on Saturdays.\n",
        "I've received from lists 2872 emails on Sundays.\n"
       ]
      }
     ],
     "prompt_number": 12
    },
    {
     "cell_type": "markdown",
     "metadata": {},
     "source": [
      "Tuesday is the winner for sending. But it is pretty close to Mondays and Wednesdays, when I receive most of my emails. What is interesting is: I receive almost same number on Saturdays and Sundays but I send much more on Sundays if compared to Saturdays. "
     ]
    },
    {
     "cell_type": "code",
     "collapsed": false,
     "input": [
      "pyplot.bar(range(7), received_week, 0.7, color = 'r')\n"
     ],
     "language": "python",
     "metadata": {},
     "outputs": [
      {
       "metadata": {},
       "output_type": "pyout",
       "prompt_number": 13,
       "text": [
        "<Container object of 7 artists>"
       ]
      },
      {
       "metadata": {},
       "output_type": "display_data",
       "png": "[encoded data removed]",
       "text": [
        "<matplotlib.figure.Figure at 0x40c64e710>"
       ]
      }
     ],
     "prompt_number": 13
    },
    {
     "cell_type": "code",
     "collapsed": false,
     "input": [
      "pyplot.bar(range(7), lists_week, 0.7)\n"
     ],
     "language": "python",
     "metadata": {},
     "outputs": [
      {
       "metadata": {},
       "output_type": "pyout",
       "prompt_number": 14,
       "text": [
        "<Container object of 7 artists>"
       ]
      },
      {
       "metadata": {},
       "output_type": "display_data",
       "png": "[encoded data removed]",
       "text": [
        "<matplotlib.figure.Figure at 0x40c570750>"
       ]
      }
     ],
     "prompt_number": 14
    },
    {
     "cell_type": "code",
     "collapsed": false,
     "input": [
      "pyplot.bar(range(7), sent_week, 0.7, color = 'g')\n",
      "\n"
     ],
     "language": "python",
     "metadata": {},
     "outputs": [
      {
       "metadata": {},
       "output_type": "pyout",
       "prompt_number": 15,
       "text": [
        "<Container object of 7 artists>"
       ]
      },
      {
       "metadata": {},
       "output_type": "display_data",
       "png": "[encoded data removed]",
       "text": [
        "<matplotlib.figure.Figure at 0x40c89d3d0>"
       ]
      }
     ],
     "prompt_number": 15
    },
    {
     "cell_type": "markdown",
     "metadata": {},
     "source": [
      "I also want to take a look at the frequency of words in my emails. I created some functions to parse the text and sort it in number of appearance. In this way, I can start looking at my top senders/receivers. "
     ]
    },
    {
     "cell_type": "code",
     "collapsed": false,
     "input": [
      "def FreqDist(words):   \n",
      "    data = {}\n",
      "    for word in words.split():\n",
      "        data[word] = data.get(word,0) + 1\n",
      "    #data = sorted(data.iteritems(), key=operator.itemgetter(1))  \n",
      "    return data\n",
      "\n",
      "def FreqDistSorted(words):   \n",
      "    data = {}\n",
      "    for word in words.split():\n",
      "        data[word] = data.get(word,0) + 1\n",
      "    data = sorted(data.iteritems(), key=operator.itemgetter(1))  \n",
      "    return data\n",
      "\n",
      "def LinesToTextList(emails):\n",
      "    saveText = []\n",
      "    for email in emails:\n",
      "        #transforming a list of lines into text\n",
      "        text = '\\''.join(map(str, email))\n",
      "        #to avoid portuguese bugs, I'm replacing our weird signs back again \n",
      "        text = text.replace(\"\\'\", \"\")\n",
      "        text = text.replace(\"=E7\", \"\u00e7\")\n",
      "        text = text.replace(\"=E9\", \"\u00e9\")\n",
      "        text = text.replace(\"=EA\", \"\u00ea\")\n",
      "        text = text.replace(\"=F5\", \"\u00f5\")\n",
      "        text = text.replace(\"=F3\", \"\u00f3\")    \n",
      "        text = text.replace(\"=E1\", \"\u00e1\")\n",
      "        text = text.replace(\"=E3\", \"\u00e3\")   \n",
      "        text = text.replace(\"=ED\", \"\u00ed\")\n",
      "        text = text.replace(\"=FA\", \"\u00fa\")\n",
      "        text = text.replace(\"=\", \"\")\n",
      "        \n",
      "        \n",
      "        #avoid email language words\n",
      "        text = text.replace(\"<font>\",\"\")\n",
      "        text = text.replace(\"<br>\", \"\")\n",
      "        text = text.replace(\"<span>\", \"\")\n",
      "        text = text.replace(\"<div>\", \"\")\n",
      "        text = text.replace(\"</div>\", \"\")\n",
      "        text = text.replace(\"<a>\", \"\")\n",
      "        text = text.replace(\"</a>\", \"\")\n",
      "        text = text.replace(\">\", \"\")\n",
      "        text = text.replace(\"<\", \"\")\n",
      "        text = text.replace(\"Yahoo\", \"\")\n",
      "        text = text.replace(\"target3D\\\"_blank\\\"\", \"\")\n",
      "        text = text.replace(\"&gt;\", \"\")\n",
      "        text = text.replace(\"|\", \"\")\n",
      "        text = text.replace(\"style3D\\\"LINE-HEIGHT:\", \"\")\n",
      "        text = text.replace(\"style3D\\\"MARGIN:\", \"\")\n",
      "        text = text.replace(\"style3D\\\"BORDER-COLLAPSE:\", \"\")\n",
      "        text = text.replace(\"style3D\\\"MIN-HEIGHT:\", \"\")\n",
      "        text = text.replace(\"font-family:\", \"\")\n",
      "        text = text.replace(\"font-weight:\", \"\")\n",
      "        text = text.replace(\"Arial\", \"\")       \n",
      "        text = text.replace(\"Sans-serif\", \"\")       \n",
      "        text = text.replace(\"margin:\", \"\")\n",
      "        text = text.replace(\"dir3Dltr&lt;A:\", \"\")\n",
      "        text = text.replace(\"padding\",\"\")\n",
      "        text = text.replace(\"Content-Type:\",\"\")\n",
      "        text = text.replace(\"0px\\\"font'\",\"\")\n",
      "        text = text.replace(\"YAHOO.COM.BR\",\"\")\n",
      "        text = text.replace(\"style3D\\\"font-family:\",\"\")\n",
      "        text = text.replace(\"style3D\\\"FONT-FAMILY:\",\"\")\n",
      "        text = text.replace(\"style3D\\\"FONT-WEIGHT:\",\"\")\n",
      "        text = text.replace(\"lang3D\\\"EN-GB\\\">A0</span></p>\",\"\")\n",
      "        text = text.replace(\"style3D\\\"padding-left\",\"\")\n",
      "        text = text.replace(\"text-decoration:\",\"\")\n",
      "        text = text.replace(\"rel3D\\\"nofollow\\\"\",\"\")\n",
      "        text = text.replace(\"bgcolor3D\",\"\")\n",
      "        text = text.replace(\"&nbsp;\",\"\")\n",
      "                           \n",
      "                            \n",
      "        #avoid numbers\n",
      "        text = text.replace(\"1\",\"\")\n",
      "        text = text.replace(\"2\",\"\")\n",
      "        text = text.replace(\"3\",\"\")\n",
      "        text = text.replace(\"4\",\"\")\n",
      "        text = text.replace(\"5\",\"\")\n",
      "        text = text.replace(\"6\",\"\")\n",
      "        text = text.replace(\"7\",\"\")\n",
      "        text = text.replace(\"8\",\"\")\n",
      "        text = text.replace(\"9\",\"\")\n",
      "\n",
      "   \n",
      "        #save text in a list of text-emails\n",
      "        saveText.append(text)\n",
      "    return saveText\n",
      "\n",
      "def FindSentEmailsBy(name):\n",
      "    saveEmails = []\n",
      "    for email in received_lines:\n",
      "        for line in email:\n",
      "            if 'From: ' in line:\n",
      "                if name in line:\n",
      "                    saveEmails.append(email)\n",
      "                    break\n",
      "    return saveEmails\n",
      "\n",
      "\n",
      "def FindSentEmailsTo(name):\n",
      "    saveEmails = []\n",
      "    for email in sent_lines:\n",
      "        for line in email:\n",
      "            if 'Delivered-To:' in line:\n",
      "                continue\n",
      "            elif 'In-Reply-To:' in line:\n",
      "                #print line\n",
      "                continue\n",
      "            else:\n",
      "                if 'To:' in line:                  \n",
      "                    if name in line:\n",
      "                        saveEmails.append(email)\n",
      "                        break\n",
      "    return saveEmails\n",
      "\n",
      "\n",
      "def TextListToFreq(textList):\n",
      "    finalFreq = {}\n",
      "    for email in textList:\n",
      "        freq = FreqDist(email)\n",
      "        finalFreq = dict(finalFreq.items() + freq.items())\n",
      "\n",
      "    bigValues = []    \n",
      "    for k, v in finalFreq.iteritems():\n",
      "        if len(k) > 30:\n",
      "            bigValues.append(k)        \n",
      "    for word in bigValues:\n",
      "        del finalFreq[word]\n",
      "    \n",
      "    sortedFreq = sorted(finalFreq.iteritems(), key=operator.itemgetter(1))\n",
      "    return sortedFreq\n",
      "\n",
      "\n",
      "def ReceivedTopWords(sender):\n",
      "    senderEmails = FindSentEmailsBy(sender)\n",
      "    senderTextList = LinesToTextList(senderEmails)\n",
      "    \n",
      "    freqWords = TextListToFreq(senderTextList)\n",
      "    top100 = len(freqWords)-100\n",
      "    return freqWords[top100:]\n",
      "\n",
      "\n",
      "def SentTopWords(receiver):\n",
      "    receiverEmails = FindSentEmailsTo(receiver)\n",
      "    receiverTextList = LinesToTextList(receiverEmails)\n",
      "    \n",
      "    freqWords = TextListToFreq(receiverTextList)\n",
      "    top100 = len(freqWords)-100\n",
      "    return freqWords[top100:]"
     ],
     "language": "python",
     "metadata": {},
     "outputs": [],
     "prompt_number": 16
    },
    {
     "cell_type": "code",
     "collapsed": false,
     "input": [
      "senders_text = '\\''.join(map(str, senders))\n",
      "senders_text = senders_text.replace('\\'', \" \")\n",
      "\n",
      "freqSenders = FreqDistSorted(senders_text)\n",
      "top = len(freqSenders)-50\n",
      "\n",
      "print freqSenders[top:]\n"
     ],
     "language": "python",
     "metadata": {},
     "outputs": [
      {
       "output_type": "stream",
       "stream": "stdout",
       "text": [
        "[('btrigueiro@gmail.com', 25), ('john.s.capogna@gmail.com', 25), ('noreply@youtube.com', 25), ('victoria.fang@intel.com', 27), ('interativo@tam.com.br', 28), ('d.schorr@nfb.ca', 28), ('gianordoligabriel@gmail.com', 29), ('weekly@pinterest.com', 30), ('jacque@isdi.co.cu', 31), ('gloria@aadesign.com.br', 31), ('fernandamirandacs@gmail.com', 32), ('tassioknop@gmail.com', 32), ('cris@nikem.com.br', 34), ('mailer-daemon@googlemail.com', 35), ('rgbucker@gmail.com', 37), ('zoy1974@gmail.com', 38), ('vanessa.cmartins@gmail.com', 38), ('esperanc@cos.ufrj.br', 38), ('annacsaba@gmail.com', 39), ('email.campaign@sg.booking.com', 39), ('biacarvalho28@gmail.com', 41), ('ana.monte@ydreams.com', 41), ('luisafosco@gmail.com', 43), ('f.watson@gmail.com', 44), ('ilanapaterman@gmail.com', 48), ('daniel.terra.pro@gmail.com', 49), ('e@yipit.com', 52), ('csbbravo@gmail.com', 53), ('pinbot@pinterest.com', 62), ('neuter@riograss.com.br', 63), ('patrik.rj@gmail.com', 63), ('marcio@chaledoagronomo.com.br', 64), ('LocalDeals@amazon.com', 66), ('jeanmrc@gmail.com', 67), ('andre.malheiro@gmail.com', 68), ('andresiggia@yahoo.com.br', 71), ('marcela.esteves@siemens.com', 72), ('andre.siggia@gmail.com', 84), ('brenda.f.lucena@gmail.com', 85), ('lvelho@impa.br', 87), ('aloysiomello@gmail.com', 120), ('lilly.laylou@gmail.com', 124), ('clagoulart@gmail.com', 130), ('info@meetup.com', 139), ('jorge.teororo@gmail.com', 145), ('andmax@gmail.com', 170), ('denise.filippo@gmail.com', 238), ('cicconet@gmail.com', 240), ('neuter@thuya.com.br', 260), ('schorrdesign@gmail.com', 532)]\n"
       ]
      }
     ],
     "prompt_number": 17
    },
    {
     "cell_type": "code",
     "collapsed": false,
     "input": [
      "receivers_text = '\\''.join(map(str, receivers))\n",
      "receivers_text = receivers_text.replace('\\'', \" \")\n",
      "\n",
      "freqReceivers = FreqDistSorted(receivers_text)\n",
      "top = len(freqReceivers)-50\n",
      "\n",
      "print freqReceivers[top:]\n"
     ],
     "language": "python",
     "metadata": {},
     "outputs": [
      {
       "output_type": "stream",
       "stream": "stdout",
       "text": [
        "[('rgbucker@gmail.com', 27), ('jacque@isdi.co.cu', 27), ('vanessajoho@gmail.com', 28), ('victoria.fang@intel.com', 31), ('vasconcelos_ieee@yahoo.com', 31), ('perhaxis@gmail.com', 32), ('taiguara@usp.br', 32), ('rcapeto@esdi.uerj.br', 32), ('cris@nikem.com.br', 34), ('luisa.primo@gmail.com', 34), ('marcio@chaledoagronomo.com.br', 34), ('zoy1974@gmail.com', 35), ('silvia.steinberg@gmail.com', 35), ('alexabreu@gmail.com', 37), ('vanessa.cmartins@gmail.com', 37), ('esperanc@cos.ufrj.br', 37), ('ixdariostaff@googlegroups.com', 41), ('csbbravo@gmail.com', 44), ('ilanapaterman@gmail.com', 45), ('sal.macedo@yahoo.com.br', 46), ('luisafosco@gmail.com', 46), ('ana.monte@ydreams.com', 49), ('andre.malheiro@gmail.com', 54), ('fernandamirandacs@gmail.com', 54), ('marcela.esteves@siemens.com', 56), ('neuter@riograss.com.br', 58), ('mariapaula.design@gmail.com', 58), ('f.watson@gmail.com', 58), ('brenda.f.lucena@gmail.com', 59), ('crissaba@petrobras.com.br', 59), ('daniel.terra.pro@gmail.com', 69), ('andresmonat@yahoo.com.br', 73), ('annacsaba@gmail.com', 76), ('jeanmrc@gmail.com', 78), ('lvelho@impa.br', 81), ('andre.siggia@gmail.com', 83), ('andresiggia@yahoo.com.br', 104), ('clagoulart@gmail.com', 118), ('lilly.laylou@gmail.com', 121), ('patrik.rj@gmail.com', 124), ('cicconet@gmail.com', 125), ('andmax@gmail.com', 134), ('jorge.teororo@gmail.com', 145), ('aloysiomello@gmail.com', 159), ('itp-students@lists.nyu.edu', 170), ('denise.filippo@gmail.com', 208), ('esdi-42@googlegroups.com', 244), ('neuter@thuya.com.br', 309), ('the-angries@googlegroups.com', 403), ('schorrdesign@gmail.com', 1166)]\n"
       ]
      }
     ],
     "prompt_number": 18
    },
    {
     "cell_type": "code",
     "collapsed": false,
     "input": [
      "list_text = '\\''.join(map(str, lists))\n",
      "list_text = list_text.replace('\\'', \" \")\n",
      "\n",
      "freqList = FreqDistSorted(list_text)\n",
      "top = len(freqList)-50\n",
      "\n",
      "print freqList[top:]\n"
     ],
     "language": "python",
     "metadata": {},
     "outputs": [
      {
       "output_type": "stream",
       "stream": "stdout",
       "text": [
        "[('vanessa.cmartins@gmail.com', 45), ('h=Reply-Date:Subject:MIME-Version:Content-Type:List-Unsubscribe:Message-ID;', 45), ('f.watson@gmail.com', 48), ('h=Date:Message-ID:Subject:MIME-Version:Content-Type:List-ID:List-Unsubscribe;', 48), ('i=members@e.tripadvisor.com;', 50), ('andresiggia@yahoo.com.br', 51), ('d=yahoo.com.br;', 51), ('h=Date:Subject:MIME-Version:Content-Type;', 51), ('i-media08@googlegroups.com', 55), ('24hs-happy-people@googlegroups.com', 55), ('riograss_site@googlegroups.com', 55), ('undisclosed-recipients:;', 59), ('sal.macedo@yahoo.com.br', 67), ('csbbravo@gmail.com', 71), ('caesdi45@googlegroups.com', 85), ('i=kmart@value.kmart.com;', 91), ('h=Subject:Date:MIME-Version:Content-Type;', 93), ('itp-data-viz@googlegroups.com', 94), ('neuter@thuya.com.br', 95), ('s=s1024;', 101), ('h=Received:Date:Content-Type:Content-Transfer-Encoding:MIME-Version:Reply-Subject:Message-Id:X-Mail-X-Match:X-RCPT-X-Mailer;', 106), ('midori.yasuda@nyu.edu', 109), ('a=rsa-sha256;', 109), ('h=Subject:Date:List-Unsubscribe:MIME-Version:Reply-Message-ID:Content-Type;', 109), ('c=relaxed/relaxed;', 110), ('h=Date:Reply-Message-ID:Subject:MIME-Version:Content-Type:List-Unsubscribe;', 113), ('v=1;', 113), ('DKIM-Signature:', 113), ('h=Subject:Reply-Date:Message-ID:List-Unsubscribe:Sender:Content-Type:MIME-Version;', 124), ('h=Date:Message-ID:Subject:MIME-Version:Content-Type;', 125), ('support@academia.edu', 135), ('etnografiadesign@googlegroups.com', 147), ('h=MIME-Version:Content-Type:Content-Transfer-Encoding:Date:Reply-Subject:List-Unsubscribe:Message-ID;', 147), ('turma43esdi@yahoogrupos.com.br', 148), ('h=Subject:Date:MIME-Version:Content-Type:List-Unsubscribe;', 162), ('itp-accepts-discuss@lists.nyu.edu', 190), ('ca-esdi@googlegroups.com', 195), ('schorrdesign@gmail.com', 200), ('h=DKIM-Signature:Sender:Date:Message-ID:Subject:MIME-Version:Content-Type:X-LinkedIn-Template:X-LinkedIn-Class:X-LinkedIn-fbl;', 204), ('dollsboys@googlegroups.com', 286), ('labvis2@googlegroups.com', 303), ('ixdariostaff@googlegroups.com', 305), ('paralelas@yahoogroups.com', 429), ('hightechlowtech@googlegroups.com', 504), ('formatura_esdi42@googlegroups.com', 509), ('Reply-', 920), ('esdi-42@googlegroups.com', 3009), ('diario_grafico@yahoogrupos.com.br', 5275), ('the-angries@googlegroups.com', 10184), ('itp-students@lists.nyu.edu', 13254)]\n"
       ]
      }
     ],
     "prompt_number": 19
    },
    {
     "cell_type": "raw",
     "metadata": {},
     "source": [
      "Top senders (who sends me): \n",
      "    1. schorrdesign@gmail.com - my partner\n",
      "    2. neuter@thuya.com.br - my dad\n",
      "    3. cicconet@gmail.com - a friend\n",
      "    4. denisefilippo@gmail.com - undergrad thesis advisor\n",
      "    5. andmax@gmail.com - colleague\n",
      "    \n",
      "Top receivers (whom I sent to):\n",
      "    1. schorrdesign@gmail.com - my partner\n",
      "    2. the-angries@googlegroups.com - friends email list\n",
      "    3. neuter@thuya.com.br - my dad (I also do design work for him)\n",
      "    4. esdi-42@googlegroups.com - list from my previous school\n",
      "    5. denise.filippo@gmail.com - my undergrad thesis advisor\n",
      "    6. itp-students@lists.nyu.edu - ITP!\n",
      "\n",
      "Top Lists:\n",
      "    1. itp-students@lists.nyu.edu\n",
      "    2. the-angries@googlegroups.com\n",
      "    3. diario_grafico@yahoogrupos.com.br                                          \n",
      "    "
     ]
    },
    {
     "cell_type": "markdown",
     "metadata": {},
     "source": [
      "What about the frequency of words in the emails? I chose 3 people below."
     ]
    },
    {
     "cell_type": "markdown",
     "metadata": {},
     "source": [
      "print SentTopWords('schorrdesign@gmail.com')\n",
      "print '-----------------------------------------------'\n",
      "print ReceivedTopWords('schorrdesign@gmail.com')\n"
     ]
    },
    {
     "cell_type": "markdown",
     "metadata": {},
     "source": [
      "print SentTopWords('crissaba@petrobras.com.br')\n",
      "print '-----------------------------------------------'\n",
      "print ReceivedTopWords('crissaba@petrobras.com.br')\n"
     ]
    },
    {
     "cell_type": "markdown",
     "metadata": {},
     "source": [
      "print SentTopWords('lilly.laylou@gmail.com')\n",
      "print '-----------------------------------------------'\n",
      "print ReceivedTopWords('lilly.laylou@gmail.com')\n"
     ]
    },
    {
     "cell_type": "markdown",
     "metadata": {},
     "source": [
      "Sorry, couldn't process all this text at once!"
     ]
    },
    {
     "cell_type": "code",
     "collapsed": false,
     "input": [],
     "language": "python",
     "metadata": {},
     "outputs": [],
     "prompt_number": 19
    },
    {
     "cell_type": "code",
     "collapsed": false,
     "input": [],
     "language": "python",
     "metadata": {},
     "outputs": [],
     "prompt_number": 19
    }
   ],
   "metadata": {}
  }
 ]
}