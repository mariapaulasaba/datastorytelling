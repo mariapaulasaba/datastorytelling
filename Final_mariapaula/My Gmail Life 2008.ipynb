{
 "metadata": {
  "name": ""
 },
 "nbformat": 3,
 "nbformat_minor": 0,
 "worksheets": [
  {
   "cells": [
    {
     "cell_type": "heading",
     "level": 1,
     "metadata": {},
     "source": [
      "My Gmail Life in the Year 2008       <img src=\"http://media.idownloadblog.com/wp-content/uploads/2011/02/Gmail-Icon.png\" width=\"80\" height=\"40\" />"
     ]
    },
    {
     "cell_type": "markdown",
     "metadata": {},
     "source": [
      "In 2008, I was in undergrad. I did also two internships in design agencies and a research project at our national computer graphics lab (IMPA). I don't want to say much more because I want the data to reveal it!"
     ]
    },
    {
     "cell_type": "code",
     "collapsed": false,
     "input": [
      "import gzip\n",
      "import os\n",
      "\n",
      "import re\n",
      "import string\n",
      "import operator\n"
     ],
     "language": "python",
     "metadata": {},
     "outputs": [],
     "prompt_number": 1
    },
    {
     "cell_type": "code",
     "collapsed": false,
     "input": [
      "path = \"data2008/\"\n",
      "months = os.listdir( path )\n",
      "\n",
      "#deleting .DS_Store file\n",
      "del months[0]\n",
      "\n",
      "allFiles = []\n",
      "\n",
      "#reading the file's names\n",
      "for month in months:\n",
      "     files = os.listdir(path + month)\n",
      "     allFiles.append(files)\n",
      "\n",
      "#saving each email in a list, with separated lines     \n",
      "received_lines = []\n",
      "sent_lines = []\n",
      "list_lines = []\n",
      "\n",
      "#for calculating number of emails\n",
      "num_emails = []\n",
      "num_sent = []\n",
      "num_received = []\n",
      "num_lists = []\n",
      "num_totals = []\n",
      "total_emails = 0\n",
      "\n",
      "#saving senders\n",
      "senders = []\n",
      "lists = []\n",
      "\n",
      "for (files, month) in zip(allFiles, months):\n",
      "    count_sent = 0\n",
      "    count_received = 0\n",
      "    count_lists = 0\n",
      "\n",
      "    for file in files:\n",
      "        if 'gz' in file:\n",
      "            total_emails = total_emails + 1\n",
      "            f = gzip.open(path+month+'/'+file, 'rb')\n",
      "            file_content = f.readlines()\n",
      "            \n",
      "            for line in file_content:\n",
      "                #check the sender and if it is myself, count as sent.\n",
      "                if 'From: ' in line:\n",
      "                    if 'mariapaula.saba@gmail.com' in line:\n",
      "                        sent_lines.append(file_content)\n",
      "                        count_sent = count_sent + 1\n",
      "                        break\n",
      "                    else:\n",
      "                        #save the sender    \n",
      "                        index1 = line.find('<')\n",
      "                        index2 = line.find('>')\n",
      "                        address = line[index1+1:index2]\n",
      "                        address = address.replace('\\r', \"\")\n",
      "                        address = address.replace('To:', \"\")\n",
      "                        address = address.replace('From:', \"\")\n",
      "                        address = address.replace('X-ESDI-MailScanner-',\"\")\n",
      "                        continue\n",
      "                if 'Delivered-To:' in line:\n",
      "                    continue\n",
      "                elif 'In-Reply-To:' in line:\n",
      "                    continue\n",
      "                else:\n",
      "                    if 'To:' in line:     \n",
      "                        #check if it was really for me\n",
      "                        if 'mariapaula.saba@gmail.com' in line:                  \n",
      "                            received_lines.append(file_content)\n",
      "                            count_received = count_received + 1\n",
      "                            senders.append(address)\n",
      "                            break\n",
      "                        else:\n",
      "                            count_lists = count_lists + 1\n",
      "                            index1 = line.find('<')\n",
      "                            index2 = line.find('>')\n",
      "                            recipient = line[index1+1:index2]\n",
      "                            recipient = recipient.replace('\\r', \"\")\n",
      "                            recipient = recipient.replace('To:', \"\")\n",
      "                            recipient = recipient.replace('From:', \"\")\n",
      "                            recipient = recipient.replace('X-Apparently- ', \"\")\n",
      "                            list_lines.append(file_content)\n",
      "                            lists.append(recipient)\n",
      "                            break\n",
      "            f.close()\n",
      "            \n",
      "            \n",
      "    num_received.append(count_received)        \n",
      "    num_sent.append(count_sent)\n",
      "    num_emails.append(count_received + count_sent)\n",
      "    num_lists.append(count_lists)\n",
      "    num_totals.append(count_received + count_sent + count_lists)\n",
      " \n",
      "    \n",
      "print \"In 2008, I have sent\", len(sent_lines), \"emails.\"\n",
      "print \"And I probably received more, but I kept\", len(received_lines), \"emails.\"\n",
      "print \"I also received\", len(list_lines), \"emails that were not addressed directly to me.\"\n",
      "print \"Which sums up a total of\", total_emails, \"emails.\"\n"
     ],
     "language": "python",
     "metadata": {},
     "outputs": [
      {
       "output_type": "stream",
       "stream": "stdout",
       "text": [
        "In 2008, I have sent 496 emails.\n",
        "And I probably received more, but I kept 329 emails.\n",
        "I also received 527 emails that were not addressed directly to me.\n",
        "Which sums up a total of 1357 emails.\n"
       ]
      }
     ],
     "prompt_number": 2
    },
    {
     "cell_type": "code",
     "collapsed": false,
     "input": [],
     "language": "python",
     "metadata": {},
     "outputs": []
    },
    {
     "cell_type": "code",
     "collapsed": false,
     "input": [
      "# who did I write to?\n",
      "receivers = []\n",
      "count_me = 0\n",
      "\n",
      "for email in sent_lines:\n",
      "    for line in email:\n",
      "        if 'Delivered-To:' in line:\n",
      "            continue\n",
      "        elif 'In-Reply-To:' in line:\n",
      "            #print line\n",
      "            continue\n",
      "        else:\n",
      "            if 'To:' in line:\n",
      "                if 'mariapaula.saba@gmail.com' in line:\n",
      "                    count_me = count_me + 1\n",
      "                    break\n",
      "                else:\n",
      "                   # print line\n",
      "                    index1 = line.find('<')\n",
      "                    index2 = line.find('>')\n",
      "                    address = line[index1+1:index2]\n",
      "                    address = address.replace('\\r', \"\")\n",
      "                    address = address.replace('To:', \"\")\n",
      "                    receivers.append(address)  \n",
      "                    break\n",
      "\n",
      "            \n",
      "            \n",
      "print \"I wrote\", count_me, \"emails for myself (that were not deleted)!!!\"            \n",
      "print \"And I actually sent\", len(receivers), \"emails out to the world.\"\n"
     ],
     "language": "python",
     "metadata": {},
     "outputs": [
      {
       "output_type": "stream",
       "stream": "stdout",
       "text": [
        "I wrote 21 emails for myself (that were not deleted)!!!\n",
        "And I actually sent 475 emails out to the world.\n"
       ]
      }
     ],
     "prompt_number": 3
    },
    {
     "cell_type": "raw",
     "metadata": {},
     "source": [
      "Next thing to do is to check if there is any pattern across time. My email usage certainly did increase over time. But how much? And how is the increase related to events in my life? Let's plot a graphic to find out!"
     ]
    },
    {
     "cell_type": "code",
     "collapsed": false,
     "input": [
      "pyplot.plot(range(1,len(months)+1), num_totals)\n",
      "pyplot.plot(range(1,len(months)+1), num_emails)\n",
      "pyplot.plot(range(1,len(months)+1), num_received)\n",
      "pyplot.plot(range(1,len(months)+1), num_sent)\n",
      "\n",
      "\n",
      "\n"
     ],
     "language": "python",
     "metadata": {},
     "outputs": [
      {
       "metadata": {},
       "output_type": "pyout",
       "prompt_number": 4,
       "text": [
        "[<matplotlib.lines.Line2D at 0x12e7f8c50>]"
       ]
      },
      {
       "metadata": {},
       "output_type": "display_data",
       "png": "[encoded data removed]",
       "text": [
        "<matplotlib.figure.Figure at 0x10632b090>"
       ]
      }
     ],
     "prompt_number": 4
    },
    {
     "cell_type": "code",
     "collapsed": false,
     "input": [
      "pyplot.plot(range(1,len(months)+1), num_emails)\n",
      "pyplot.plot(range(1,len(months)+1), num_received)\n",
      "pyplot.plot(range(1,len(months)+1), num_sent)\n",
      "\n"
     ],
     "language": "python",
     "metadata": {},
     "outputs": [
      {
       "metadata": {},
       "output_type": "pyout",
       "prompt_number": 5,
       "text": [
        "[<matplotlib.lines.Line2D at 0x12e8e3410>]"
       ]
      },
      {
       "metadata": {},
       "output_type": "display_data",
       "png": "[encoded data removed]",
       "text": [
        "<matplotlib.figure.Figure at 0x10632b0d0>"
       ]
      }
     ],
     "prompt_number": 5
    },
    {
     "cell_type": "markdown",
     "metadata": {},
     "source": [
      "There is something very interesting in this graph. I started using Gmail in 2007. So why the beginning of 2008 I barely sent emails? I remember! I did a Yoga intensive course. I was in the mountains for a month and Internet access there was almost impossible. There is also a big increase in October. This was the month I did a research project at IMPA."
     ]
    },
    {
     "cell_type": "code",
     "collapsed": false,
     "input": [
      "pyplot.plot(range(1,len(months)+1), num_lists)\n",
      "pyplot.plot(range(1,len(months)+1), num_received)\n",
      "\n"
     ],
     "language": "python",
     "metadata": {},
     "outputs": [
      {
       "metadata": {},
       "output_type": "pyout",
       "prompt_number": 6,
       "text": [
        "[<matplotlib.lines.Line2D at 0x10632bad0>]"
       ]
      },
      {
       "metadata": {},
       "output_type": "display_data",
       "png": "[encoded data removed]",
       "text": [
        "<matplotlib.figure.Figure at 0x12e8d3f50>"
       ]
      }
     ],
     "prompt_number": 6
    },
    {
     "cell_type": "code",
     "collapsed": false,
     "input": [
      "smon = 0\n",
      "stue = 0\n",
      "swed = 0\n",
      "sthu = 0\n",
      "sfri = 0\n",
      "ssat = 0\n",
      "ssun = 0\n",
      "\n",
      "#sent_weekdays = {}\n",
      "\n",
      "for email in sent_lines:\n",
      "    for line in email:\n",
      "        if 'Date: Mon' in line:\n",
      "#            index = line.find(',')\n",
      "#            date = line[index+2:index+13]\n",
      "#            sent_weekdays[date] = 'Monday'\n",
      "            smon = smon + 1\n",
      "        if 'Date: Tue' in line:\n",
      "#            index = line.find(',')\n",
      "#            date = line[index+2:index+13]\n",
      "#            sent_weekdays[date] = 'Tuesday'\n",
      "            stue = stue + 1\n",
      "        if 'Date: Wed' in line:\n",
      "#            index = line.find(',')\n",
      "#            date = line[index+2:index+13]\n",
      "#            sent_weekdays[date] = 'Wednesday'\n",
      "            swed = swed + 1\n",
      "        if 'Date: Thu' in line:\n",
      "#            index = line.find(',')\n",
      "#            date = line[index+2:index+13]\n",
      "#            sent_weekdays[date] = 'Thursday'\n",
      "            sthu = sthu + 1\n",
      "        if 'Date: Fri' in line:\n",
      "#            index = line.find(',')\n",
      "#            date = line[index+2:index+13]\n",
      "#            sent_weekdays[date] = 'Friday'\n",
      "            sfri = sfri + 1\n",
      "        if 'Date: Sat' in line:\n",
      "#            index = line.find(',')\n",
      "#            date = line[index+2:index+13]\n",
      "#            sent_weekdays[date] = 'Saturday'\n",
      "            ssat = ssat + 1\n",
      "        if 'Date: Sun' in line:\n",
      "#            index = line.find(',')\n",
      "#            date = line[index+2:index+13]\n",
      "#            sent_weekdays[date] = 'Sunday'\n",
      "            ssun = ssun + 1\n",
      "            \n",
      "#print len(sent_weekdays)\n",
      "print \"I've sent\", smon, \"emails on Mondays.\"\n",
      "print \"I've sent\", stue, \"emails on Tuesdays.\"\n",
      "print \"I've sent\", swed, \"emails on Wednesdays.\"\n",
      "print \"I've sent\", sthu, \"emails on Thursdays.\"\n",
      "print \"I've sent\", sfri, \"emails on Fridays.\"\n",
      "print \"I've sent\", ssat, \"emails on Saturdays.\"\n",
      "print \"I've sent\", ssun, \"emails on Sundays.\"\n",
      "\n",
      "sent_week = [smon, stue, swed, sthu, sfri, ssat, ssun]\n"
     ],
     "language": "python",
     "metadata": {},
     "outputs": [
      {
       "output_type": "stream",
       "stream": "stdout",
       "text": [
        "I've sent 93 emails on Mondays.\n",
        "I've sent 91 emails on Tuesdays.\n",
        "I've sent 110 emails on Wednesdays.\n",
        "I've sent 70 emails on Thursdays.\n",
        "I've sent 71 emails on Fridays.\n",
        "I've sent 19 emails on Saturdays.\n",
        "I've sent 46 emails on Sundays.\n"
       ]
      }
     ],
     "prompt_number": 7
    },
    {
     "cell_type": "code",
     "collapsed": false,
     "input": [
      "rmon = 0\n",
      "rtue = 0\n",
      "rwed = 0\n",
      "rthu = 0\n",
      "rfri = 0\n",
      "rsat = 0\n",
      "rsun = 0\n",
      "\n",
      "#received_weekdays = {}\n",
      "\n",
      "for email in received_lines:\n",
      "    for line in email:\n",
      "        if 'Date: Mon' in line:\n",
      "#            index = line.find(',')\n",
      "#            date = line[index+2:index+13]\n",
      "#            sent_weekdays[date] = 'Monday'\n",
      "            rmon = rmon + 1\n",
      "        if 'Date: Tue' in line:\n",
      "#            index = line.find(',')\n",
      "#            date = line[index+2:index+13]\n",
      "#            sent_weekdays[date] = 'Tuesday'\n",
      "            rtue = rtue + 1\n",
      "        if 'Date: Wed' in line:\n",
      "#            index = line.find(',')\n",
      "#            date = line[index+2:index+13]\n",
      "#            sent_weekdays[date] = 'Wednesday'\n",
      "            rwed = rwed + 1\n",
      "        if 'Date: Thu' in line:\n",
      "#            index = line.find(',')\n",
      "#            date = line[index+2:index+13]\n",
      "#            sent_weekdays[date] = 'Thursday'\n",
      "            rthu = rthu + 1\n",
      "        if 'Date: Fri' in line:\n",
      "#            index = line.find(',')\n",
      "#            date = line[index+2:index+13]\n",
      "#            sent_weekdays[date] = 'Friday'\n",
      "            rfri = rfri + 1\n",
      "        if 'Date: Sat' in line:\n",
      "#            index = line.find(',')\n",
      "#            date = line[index+2:index+13]\n",
      "#            sent_weekdays[date] = 'Saturday'\n",
      "            rsat = rsat + 1\n",
      "        if 'Date: Sun' in line:\n",
      "#            index = line.find(',')\n",
      "#            date = line[index+2:index+13]\n",
      "#            sent_weekdays[date] = 'Sunday'\n",
      "            rsun = rsun + 1\n",
      "            \n",
      "#print len(sent_weekdays)\n",
      "print \"I've received\", rmon, \"emails on Mondays.\"\n",
      "print \"I've received\", rtue, \"emails on Tuesdays.\"\n",
      "print \"I've received\", rwed, \"emails on Wednesdays.\"\n",
      "print \"I've received\", rthu, \"emails on Thursdays.\"\n",
      "print \"I've received\", rfri, \"emails on Fridays.\"\n",
      "print \"I've received\", rsat, \"emails on Saturdays.\"\n",
      "print \"I've received\", rsun, \"emails on Sundays.\"\n",
      "\n",
      "received_week = [rmon, rtue, rwed, rthu, rfri, rsat, rsun]\n"
     ],
     "language": "python",
     "metadata": {},
     "outputs": [
      {
       "output_type": "stream",
       "stream": "stdout",
       "text": [
        "I've received 58 emails on Mondays.\n",
        "I've received 77 emails on Tuesdays.\n",
        "I've received 92 emails on Wednesdays.\n",
        "I've received 64 emails on Thursdays.\n",
        "I've received 39 emails on Fridays.\n",
        "I've received 14 emails on Saturdays.\n",
        "I've received 16 emails on Sundays.\n"
       ]
      }
     ],
     "prompt_number": 8
    },
    {
     "cell_type": "code",
     "collapsed": false,
     "input": [
      "lmon = 0\n",
      "ltue = 0\n",
      "lwed = 0\n",
      "lthu = 0\n",
      "lfri = 0\n",
      "lsat = 0\n",
      "lsun = 0\n",
      "\n",
      "\n",
      "for email in list_lines:\n",
      "    for line in email:\n",
      "        if 'Date: Mon' in line:\n",
      "            lmon = lmon + 1\n",
      "        if 'Date: Tue' in line:\n",
      "            ltue = ltue + 1\n",
      "        if 'Date: Wed' in line:\n",
      "            lwed = lwed + 1\n",
      "        if 'Date: Thu' in line:\n",
      "            lthu = lthu + 1\n",
      "        if 'Date: Fri' in line:\n",
      "            lfri = lfri + 1\n",
      "        if 'Date: Sat' in line:\n",
      "            lsat = lsat + 1\n",
      "        if 'Date: Sun' in line:\n",
      "            lsun = lsun + 1\n",
      "            \n",
      "#print len(sent_weekdays)\n",
      "print \"I've received from lists\", lmon, \"emails on Mondays.\"\n",
      "print \"I've received from lists\", ltue, \"emails on Tuesdays.\"\n",
      "print \"I've received from lists\", lwed, \"emails on Wednesdays.\"\n",
      "print \"I've received from lists\", lthu, \"emails on Thursdays.\"\n",
      "print \"I've received from lists\", lfri, \"emails on Fridays.\"\n",
      "print \"I've received from lists\", lsat, \"emails on Saturdays.\"\n",
      "print \"I've received from lists\", lsun, \"emails on Sundays.\"\n",
      "\n",
      "lists_week = [lmon, ltue, lwed, lthu, lfri, lsat, lsun]\n"
     ],
     "language": "python",
     "metadata": {},
     "outputs": [
      {
       "output_type": "stream",
       "stream": "stdout",
       "text": [
        "I've received from lists 152 emails on Mondays.\n",
        "I've received from lists 109 emails on Tuesdays.\n",
        "I've received from lists 101 emails on Wednesdays.\n",
        "I've received from lists 66 emails on Thursdays.\n",
        "I've received from lists 74 emails on Fridays.\n",
        "I've received from lists 46 emails on Saturdays.\n",
        "I've received from lists 43 emails on Sundays.\n"
       ]
      }
     ],
     "prompt_number": 9
    },
    {
     "cell_type": "code",
     "collapsed": false,
     "input": [
      "pyplot.bar(range(7), received_week, 0.7, color = 'r')"
     ],
     "language": "python",
     "metadata": {},
     "outputs": [
      {
       "metadata": {},
       "output_type": "pyout",
       "prompt_number": 10,
       "text": [
        "<Container object of 7 artists>"
       ]
      },
      {
       "metadata": {},
       "output_type": "display_data",
       "png": "[encoded data removed]",
       "text": [
        "<matplotlib.figure.Figure at 0x12e8c6d50>"
       ]
      }
     ],
     "prompt_number": 10
    },
    {
     "cell_type": "code",
     "collapsed": false,
     "input": [
      "pyplot.bar(range(7), lists_week, 0.7)\n"
     ],
     "language": "python",
     "metadata": {},
     "outputs": [
      {
       "metadata": {},
       "output_type": "pyout",
       "prompt_number": 11,
       "text": [
        "<Container object of 7 artists>"
       ]
      },
      {
       "metadata": {},
       "output_type": "display_data",
       "png": "[encoded data removed]",
       "text": [
        "<matplotlib.figure.Figure at 0x12ea041d0>"
       ]
      }
     ],
     "prompt_number": 11
    },
    {
     "cell_type": "code",
     "collapsed": false,
     "input": [
      "pyplot.bar(range(7), sent_week, 0.7, color = 'g')\n"
     ],
     "language": "python",
     "metadata": {},
     "outputs": [
      {
       "metadata": {},
       "output_type": "pyout",
       "prompt_number": 12,
       "text": [
        "<Container object of 7 artists>"
       ]
      },
      {
       "metadata": {},
       "output_type": "display_data",
       "png": "[encoded data removed]",
       "text": [
        "<matplotlib.figure.Figure at 0x12e9d1250>"
       ]
      }
     ],
     "prompt_number": 12
    },
    {
     "cell_type": "markdown",
     "metadata": {},
     "source": [
      "I love how it is clear that I take Saturdays off but not Sundays. Lists were sent more on Mondays, but besides that, Wednesday is the winner."
     ]
    },
    {
     "cell_type": "code",
     "collapsed": false,
     "input": [
      "#A year has 52 weeks. Averages are below:\n",
      "\n",
      "print 'Average from Monday to Sunday:'\n",
      "\n",
      "for number in sent_week:\n",
      "    average = number/52\n",
      "    print 'Sent:', average, 'per day'\n",
      "    \n",
      "for number in received_week:\n",
      "    average = number/52\n",
      "    print 'Received:', average, 'per day'\n",
      "    \n",
      "       \n",
      "for number in lists_week:\n",
      "    average = number/52\n",
      "    print 'Received from lists:', average, 'per day'\n",
      "    \n",
      "       "
     ],
     "language": "python",
     "metadata": {},
     "outputs": [
      {
       "output_type": "stream",
       "stream": "stdout",
       "text": [
        "Average from Monday to Sunday:\n",
        "Sent: 1 per day\n",
        "Sent: 1 per day\n",
        "Sent: 2 per day\n",
        "Sent: 1 per day\n",
        "Sent: 1 per day\n",
        "Sent: 0 per day\n",
        "Sent: 0 per day\n",
        "Received: 1 per day\n",
        "Received: 1 per day\n",
        "Received: 1 per day\n",
        "Received: 1 per day\n",
        "Received: 0 per day\n",
        "Received: 0 per day\n",
        "Received: 0 per day\n",
        "Received from lists: 2 per day\n",
        "Received from lists: 2 per day\n",
        "Received from lists: 1 per day\n",
        "Received from lists: 1 per day\n",
        "Received from lists: 1 per day\n",
        "Received from lists: 0 per day\n",
        "Received from lists: 0 per day\n"
       ]
      }
     ],
     "prompt_number": 13
    },
    {
     "cell_type": "code",
     "collapsed": false,
     "input": [
      "def FreqDist(words):   \n",
      "    data = {}\n",
      "    for word in words.split():\n",
      "        data[word] = data.get(word,0) + 1\n",
      "    #data = sorted(data.iteritems(), key=operator.itemgetter(1))  \n",
      "    return data\n",
      "\n",
      "def FreqDistSorted(words):   \n",
      "    data = {}\n",
      "    for word in words.split():\n",
      "        data[word] = data.get(word,0) + 1\n",
      "    data = sorted(data.iteritems(), key=operator.itemgetter(1))  \n",
      "    return data\n",
      "\n",
      "def LinesToTextList(emails):\n",
      "    saveText = []\n",
      "    for email in emails:\n",
      "        #transforming a list of lines into text\n",
      "        text = '\\''.join(map(str, email))\n",
      "        #to avoid portuguese bugs, I'm replacing our weird signs back again \n",
      "        text = text.replace(\"\\'\", \"\")\n",
      "        text = text.replace(\"=E7\", \"\u00e7\")\n",
      "        text = text.replace(\"=E9\", \"\u00e9\")\n",
      "        text = text.replace(\"=EA\", \"\u00ea\")\n",
      "        text = text.replace(\"=F5\", \"\u00f5\")\n",
      "        text = text.replace(\"=F3\", \"\u00f3\")    \n",
      "        text = text.replace(\"=E1\", \"\u00e1\")\n",
      "        text = text.replace(\"=E3\", \"\u00e3\")   \n",
      "        text = text.replace(\"=ED\", \"\u00ed\")\n",
      "        text = text.replace(\"=FA\", \"\u00fa\")\n",
      "        text = text.replace(\"=\", \"\")\n",
      "        \n",
      "        \n",
      "        #avoid email language words\n",
      "        text = text.replace(\"<font>\",\"\")\n",
      "        text = text.replace(\"<br>\", \"\")\n",
      "        text = text.replace(\"<span>\", \"\")\n",
      "        text = text.replace(\"<div>\", \"\")\n",
      "        text = text.replace(\"</div>\", \"\")\n",
      "        text = text.replace(\"<a>\", \"\")\n",
      "        text = text.replace(\"</a>\", \"\")\n",
      "        text = text.replace(\">\", \"\")\n",
      "        text = text.replace(\"<\", \"\")\n",
      "        text = text.replace(\"Yahoo\", \"\")\n",
      "        text = text.replace(\"target3D\\\"_blank\\\"\", \"\")\n",
      "        text = text.replace(\"&gt;\", \"\")\n",
      "        text = text.replace(\"|\", \"\")\n",
      "        text = text.replace(\"style3D\\\"LINE-HEIGHT:\", \"\")\n",
      "        text = text.replace(\"style3D\\\"MARGIN:\", \"\")\n",
      "        text = text.replace(\"style3D\\\"BORDER-COLLAPSE:\", \"\")\n",
      "        text = text.replace(\"style3D\\\"MIN-HEIGHT:\", \"\")\n",
      "        text = text.replace(\"font-family:\", \"\")\n",
      "        text = text.replace(\"font-weight:\", \"\")\n",
      "        text = text.replace(\"Arial\", \"\")       \n",
      "        text = text.replace(\"Sans-serif\", \"\")       \n",
      "        text = text.replace(\"margin:\", \"\")\n",
      "        text = text.replace(\"dir3Dltr&lt;A:\", \"\")\n",
      "        text = text.replace(\"padding\",\"\")\n",
      "        text = text.replace(\"Content-Type:\",\"\")\n",
      "        text = text.replace(\"0px\\\"font'\",\"\")\n",
      "        text = text.replace(\"YAHOO.COM.BR\",\"\")\n",
      "        text = text.replace(\"style3D\\\"font-family:\",\"\")\n",
      "        text = text.replace(\"style3D\\\"FONT-FAMILY:\",\"\")\n",
      "        text = text.replace(\"style3D\\\"FONT-WEIGHT:\",\"\")\n",
      "        text = text.replace(\"lang3D\\\"EN-GB\\\">A0</span></p>\",\"\")\n",
      "        text = text.replace(\"style3D\\\"padding-left\",\"\")\n",
      "        text = text.replace(\"text-decoration:\",\"\")\n",
      "        text = text.replace(\"rel3D\\\"nofollow\\\"\",\"\")\n",
      "        text = text.replace(\"bgcolor3D\",\"\")\n",
      "        text = text.replace(\"&nbsp;\",\"\")\n",
      "                           \n",
      "                            \n",
      "        #avoid numbers\n",
      "        text = text.replace(\"1\",\"\")\n",
      "        text = text.replace(\"2\",\"\")\n",
      "        text = text.replace(\"3\",\"\")\n",
      "        text = text.replace(\"4\",\"\")\n",
      "        text = text.replace(\"5\",\"\")\n",
      "        text = text.replace(\"6\",\"\")\n",
      "        text = text.replace(\"7\",\"\")\n",
      "        text = text.replace(\"8\",\"\")\n",
      "        text = text.replace(\"9\",\"\")\n",
      "\n",
      "   \n",
      "        #save text in a list of text-emails\n",
      "        saveText.append(text)\n",
      "    return saveText\n",
      "\n",
      "def FindSentEmailsBy(name):\n",
      "    saveEmails = []\n",
      "    for email in received_lines:\n",
      "        for line in email:\n",
      "            if 'From: ' in line:\n",
      "                if name in line:\n",
      "                    continue\n",
      "                else:\n",
      "                    break\n",
      "            if 'Delivered-To:' in line:\n",
      "                continue\n",
      "            elif 'In-Reply-To:' in line:\n",
      "                #print line\n",
      "                continue\n",
      "            else:\n",
      "                if 'To:' in line:     \n",
      "                    if 'mariapaula.saba@gmail.com' in line:\n",
      "                        saveEmails.append(email)\n",
      "                    else:\n",
      "                        break\n",
      "                        \n",
      "    return saveEmails\n",
      "\n",
      "\n",
      "def FindSentEmailsTo(name):\n",
      "    saveEmails = []\n",
      "    for email in sent_lines:\n",
      "        for line in email:\n",
      "            if 'Delivered-To:' in line:\n",
      "                continue\n",
      "            elif 'In-Reply-To:' in line:\n",
      "                #print line\n",
      "                continue\n",
      "            else:\n",
      "                if 'To:' in line:                  \n",
      "                    if name in line:\n",
      "                        saveEmails.append(email)\n",
      "                        break\n",
      "    return saveEmails\n",
      "\n",
      "\n",
      "def TextListToFreq(textList):\n",
      "    finalFreq = {}\n",
      "    for email in textList:\n",
      "        freq = FreqDist(email)\n",
      "        finalFreq = dict(finalFreq.items() + freq.items())\n",
      "\n",
      "    bigValues = []    \n",
      "    for k, v in finalFreq.iteritems():\n",
      "        if len(k) > 30:\n",
      "            bigValues.append(k)        \n",
      "    for word in bigValues:\n",
      "        del finalFreq[word]\n",
      "    \n",
      "    sortedFreq = sorted(finalFreq.iteritems(), key=operator.itemgetter(1))\n",
      "    return sortedFreq\n",
      "\n",
      "\n",
      "def ReceivedTopWords(sender):\n",
      "    senderEmails = FindSentEmailsBy(sender)\n",
      "    senderTextList = LinesToTextList(senderEmails)\n",
      "    \n",
      "    freqWords = TextListToFreq(senderTextList)\n",
      "    top100 = len(freqWords)-100\n",
      "    return freqWords[top100:]\n",
      "\n",
      "\n",
      "def SentTopWords(receiver):\n",
      "    receiverEmails = FindSentEmailsTo(receiver)\n",
      "    receiverTextList = LinesToTextList(receiverEmails)\n",
      "    \n",
      "    freqWords = TextListToFreq(receiverTextList)\n",
      "    top100 = len(freqWords)-100\n",
      "    return freqWords[top100:]"
     ],
     "language": "python",
     "metadata": {},
     "outputs": [],
     "prompt_number": 14
    },
    {
     "cell_type": "code",
     "collapsed": false,
     "input": [
      "senders_text = '\\''.join(map(str, senders))\n",
      "senders_text = senders_text.replace('\\'', \" \")\n",
      "\n",
      "freqSenders = FreqDistSorted(senders_text)\n",
      "top10 = len(freqSenders)-10\n",
      "\n",
      "print freqSenders[top10:]\n"
     ],
     "language": "python",
     "metadata": {},
     "outputs": [
      {
       "output_type": "stream",
       "stream": "stdout",
       "text": [
        "[('renatagebara@mana.cx', 6), ('f.watson@gmail.com', 7), ('lvelho@impa.br', 11), ('mailer-daemon@googlemail.com', 12), ('s.steinberg@terra.com.br', 13), ('clagoulart@gmail.com', 14), ('lilly.laylou@gmail.com', 17), ('schorrdesign@gmail.com', 27), ('daniel.terra.pro@gmail.com', 31), ('andmax@gmail.com', 40)]\n"
       ]
      }
     ],
     "prompt_number": 15
    },
    {
     "cell_type": "code",
     "collapsed": false,
     "input": [
      "receivers_text = '\\''.join(map(str, receivers))\n",
      "receivers_text = receivers_text.replace('\\'', \" \")\n",
      "\n",
      "freqReceivers = FreqDistSorted(receivers_text)\n",
      "top10 = len(freqReceivers)-10\n",
      "\n",
      "print freqReceivers[top10:]\n"
     ],
     "language": "python",
     "metadata": {},
     "outputs": [
      {
       "output_type": "stream",
       "stream": "stdout",
       "text": [
        "[('marasilva22@gmail.com', 9), ('s.steinberg@terra.com.br', 13), ('luisa.primo@gmail.com', 14), ('lilly.laylou@gmail.com', 17), ('vanessa.cmartins@gmail.com', 17), ('ic@indiodacosta.com', 17), ('ca-esdi@googlegroups.com', 19), ('andmax@gmail.com', 37), ('daniel.terra.pro@gmail.com', 43), ('schorrdesign@gmail.com', 65)]\n"
       ]
      }
     ],
     "prompt_number": 16
    },
    {
     "cell_type": "code",
     "collapsed": false,
     "input": [
      "list_text = '\\''.join(map(str, lists))\n",
      "list_text = list_text.replace('\\'', \" \")\n",
      "\n",
      "freqList = FreqDistSorted(list_text)\n",
      "top10 = len(freqList)-10\n",
      "\n",
      "print freqList[top10:]\n"
     ],
     "language": "python",
     "metadata": {},
     "outputs": [
      {
       "output_type": "stream",
       "stream": "stdout",
       "text": [
        "[('etnografiadesign@googlegroups.com', 12), ('geiger.noni@gmail.com', 12), ('schorrdesign@gmail.com', 13), ('yogasivananda@gmail.com', 14), ('Reply-', 19), ('ic@indiodacosta.com', 20), ('i-media08@googlegroups.com', 21), ('paralelas@yahoogroups.com', 23), ('caesdi45@googlegroups.com', 70), ('ca-esdi@googlegroups.com', 183)]\n"
       ]
      }
     ],
     "prompt_number": 17
    },
    {
     "cell_type": "markdown",
     "metadata": {},
     "source": [
      "I can see that most of top senders/receivers are from my school. "
     ]
    },
    {
     "cell_type": "code",
     "collapsed": false,
     "input": [
      "print SentTopWords('schorrdesign@gmail.com')\n",
      "print '-----------------------------------------------'\n",
      "print ReceivedTopWords('schorrdesign@gmail.com')\n"
     ],
     "language": "python",
     "metadata": {},
     "outputs": [
      {
       "output_type": "stream",
       "stream": "stdout",
       "text": [
        "[('faceD\"', 4), ('ja', 4), ('Orkut', 4), ('p\\xc3\\xbablico', 4), ('Greyskull,', 4), ('cerveja,', 4), ('esque\\xc3\\xa7a', 4), ('fica', 4), ('Por', 4), ('educacionais', 4), ('Acabamento:', 4), ('d\\xc3\\xaa', 4), ('0..', 4), ('Maracangalha', 5), ('colorD\"#000000\"font', 5), ('porque', 5), ('.pt;\"/span', 5), ('Tae-Wan', 5), ('0pt;\"/span/font/font/p', 5), ('Todos', 5), ('qual', 5), ('black;', 5), ('tomar', 5), ('soul', 5), ('elas', 5), ('0%;\"/p', 5), ('mal-estar', 5), ('fico', 5), ('bfont', 6), ('projetos', 6), ('Barra-.JPG\"', 6), ('Yoga', 6), ('tempo', 6), ('menos', 6), ('alem', 6), ('saber', 6), ('deve', 6), ('depois', 6), ('0pt', 6), ('vc', 6), ('Eu', 6), ('vinho', 6), ('Goulart', 6), ('Uma', 6), ('n\\xc3\\xbacleo', 6), ('me', 6), ('/span/p', 6), ('deve-se', 6), ('escovar', 6), ('to', 6), ('tento', 6), ('meia', 6), ('Nao', 6), ('iria', 6), ('o', 6), ('a', 6), ('s\\xc3\\xa3o', 6), ('x', 6), ('q', 6), ('vida', 7), ('colorD\"#ff00\"', 7), ('moderna', 7), ('_', 7), ('colorD\"#00000\"', 8), ('dia.', 8), ('bem', 8), ('mto', 8), ('/0/0,', 8), ('you', 10), ('------_Part__0.000', 10), ('quer', 10), ('horas', 10), ('dias', 10), ('styleD\"color:', 10), ('color:', 11), ('alignD\"left\"', 12), ('pt', 12), ('normal;', 12), ('sizeD\"\"/s', 12), ('faceD\"\"', 12), ('rgb(,', 12), ('cm', 12), ('sizeD\"\"/font/span/span/p', 12), ('.pt;', 12), ('pan/font', 12), ('text-align:', 13), ('center;\"', 13), ('font-s', 14), ('0pt;\"font', 14), ('0pt;\"span', 14), ('ize:', 14), ('E', 15), ('font-size:', 20), ('faceD\"Verdana\"', 21), ('styleD\"line-height:', 24), (';', 29), ('alignD\"left\"font', 29), ('styleD\"', 53), ('0cm', 56), ('.', 77)]\n",
        "-----------------------------------------------\n",
        "[('cinema', 4), ('limpeza', 4), ('debate', 4), ('will', 4), ('Sustainable', 4), ('colorD\"#0baa\"A', 5), ('voc\\xc3\\xaa', 5), ('no-reply@issuumail.com', 5), ('novos', 5), ('RIO', 5), ('Total', 5), ('#eeeimg', 5), ('our', 5), ('onclickD\"return', 5), ('design.', 5), ('tamb\\xc3\\xa9m', 5), ('on', 5), ('Jun', 5), ('DRQ', 5), ('X-AntiAbuse:', 5), ('Thu,', 5), ('fazer', 5), ('meio', 5), ('#eeefont', 5), ('Sat,', 5), ('lugar', 5), ('sala', 5), ('pessoas', 5), ('industrial.', 5), ('revolu\\xc3\\xa7\\xc3\\xa3o', 5), ('industrial', 5), ('hhsBQQAOw', 5), ('Oct', 5), ('colocar', 6), ('Swami', 6), ('meu', 6), ('Research', 6), ('for', 6), ('uma', 6), ('Petrobras', 6), ('seu', 6), ('ser', 6), ('UFRJ', 6), ('cm', 6), ('equipe', 6), ('Sep', 6), ('listserv', 6), ('e,', 6), ('ECO', 6), ('primeira', 6), ('ter', 6), ('texto', 6), ('cada', 6), ('atelie', 6), ('muito', 6), ('para', 6), ('Fri,', 6), ('por', 6), ('esdi', 6), ('colorD\"#0baa\"/font', 6), ('novas', 6), ('font', 6), ('industrial,', 6), ('pouco', 6), ('JJ', 6), ('pensamento', 7), ('faceD\"Verdana\"R$', 7), (',0', 7), ('------_Part__0.00', 7), ('mais', 7), ('sistemas', 8), ('bem', 8), ('Espinheira', 8), ('modo', 8), ('Cristina', 8), ('Design', 8), ('widthD%div', 9), ('rela\\xc3\\xa7\\xc3\\xa3o', 9), ('sociedade', 9), ('colorD\"#0baa\"/', 10), ('widthD%', 10), ('px;', 10), ('//', 10), ('Sivananda', 10), ('cultura', 11), ('you', 11), ('widthD00%trtd', 11), ('me', 12), ('widthD%font', 12), ('image/gif', 13), ('e', 14), ('/0/00', 14), ('--_related', 15), ('R$', 16), ('000C0EA_', 16), ('um', 17), ('alignDcenterfont', 28), ('0px\"font', 28), ('que', 40), ('sizeD', 81)]"
       ]
      },
      {
       "output_type": "stream",
       "stream": "stdout",
       "text": [
        "\n"
       ]
      }
     ],
     "prompt_number": 18
    },
    {
     "cell_type": "markdown",
     "metadata": {},
     "source": [
      "Maria Paula -> Bernardo in 2008: vida moderna horas dias normal"
     ]
    },
    {
     "cell_type": "markdown",
     "metadata": {},
     "source": [
      "Bernardo -> Maria Paula in 2008: cultura, Sivananda, you, sistemas, pensamento "
     ]
    },
    {
     "cell_type": "code",
     "collapsed": false,
     "input": [
      "print SentTopWords('crissaba@petrobras.com.br')\n",
      "print '-----------------------------------------------'\n",
      "print ReceivedTopWords('crissaba@petrobras.com.br')\n"
     ],
     "language": "python",
     "metadata": {},
     "outputs": [
      {
       "output_type": "stream",
       "stream": "stdout",
       "text": [
        "[('------_Part__0.', 2), ('dados', 2), ('charsetISO--', 2), ('repassar', 2), ('Fri,', 2), ('eles.', 2), ('Tue,', 2), ('depositarem', 2), ('eles', 2), ('inline', 2), ('sua', 2), ('Content-Transfer-Encoding:', 2), ('dinheiro', 3), ('dos', 4), ('para', 6)]\n",
        "-----------------------------------------------\n",
        "[('fostering', 3), ('SMTP', 3), ('Doug', 3), ('every', 3), ('D', 3), ('devido', 3), ('posts', 3), ('crissaba@petrobras.com.br', 3), ('of', 3), ('web@cbsm.com', 3), ('(PDT)', 3), ('sustainable', 3), ('are', 3), ('Fostering', 3), ('who', 3), ('align', 3), ('how', 4), (',00/fonttdfont', 4), ('Sistema', 4), ('width', 4), ('::', 4), ('current', 4), ('su', 4), ('si', 4), ('Wed,', 4), ('Mon,', 4), ('geral:', 4), ('Reserva', 4), ('cliente:', 4), ('zeD', 4), ('da', 4), ('em', 4), ('that', 4), ('CRISTINA', 4), ('webmaster@mana.cx', 4), ('issue', 4), (',00', 4), ('Tue,', 4), ('conforme', 4), ('::0', 4), ('-000', 4), ('DE', 4), ('normas', 4), ('hosting.arklahomahosting.com', 4), ('E0', 4), ('0/0/00', 4), ('pelo', 4), ('dinheiro', 4), ('Cabe', 4), ('civil', 4), ('from', 4), ('will', 4), ('Sustainable', 4), ('DRQ', 5), ('X-AntiAbuse:', 5), ('with', 5), ('Aug', 5), ('by', 5), ('no-reply@issuumail.com', 5), ('on', 5), ('RIO', 5), ('hhsBQQAOw', 5), ('#eeefont', 5), ('Total', 5), ('Thu,', 5), ('Sat,', 5), ('#eeeimg', 5), ('and', 5), ('Oct', 5), ('our', 5), ('Jun', 5), ('for', 6), ('ao', 6), ('Received:', 6), ('listserv', 6), ('Petrobras', 6), ('para', 6), ('Research', 6), ('por', 6), ('JJ', 6), ('font', 6), (',0', 7), ('Nov', 7), ('00', 7), ('faceD\"Verdana\"R$', 7), ('Cristina', 8), ('Espinheira', 8), ('Design', 8), ('widthD%div', 9), ('widthD%', 10), ('widthD00%trtd', 11), ('you', 11), ('widthD%font', 12), ('image/gif', 13), ('/0/00', 14), ('--_related', 15), ('R$', 16), ('000C0EA_', 16), ('alignDcenterfont', 28), ('sizeD', 81)]\n"
       ]
      }
     ],
     "prompt_number": 19
    },
    {
     "cell_type": "markdown",
     "metadata": {},
     "source": [
      "Maria Paula -> Mother: , civil, cliente devido, dinheiro"
     ]
    },
    {
     "cell_type": "markdown",
     "metadata": {},
     "source": [
      "Mother -> Maria Paula: dados repassar depositarem dinheiro "
     ]
    },
    {
     "cell_type": "code",
     "collapsed": false,
     "input": [
      "print SentTopWords('lilly.laylou@gmail.com')\n",
      "print '-----------------------------------------------'\n",
      "print ReceivedTopWords('lilly.laylou@gmail.com')\n"
     ],
     "language": "python",
     "metadata": {},
     "outputs": [
      {
       "output_type": "stream",
       "stream": "stdout",
       "text": [
        "[('escutados', 2), ('participa\\xc3\\xa7\\xc3\\xa3o', 2), ('seus', 2), ('vero...', 2), ('prometem', 2), ('pode', 2), ('l\\xc3\\xa1', 2), ('bfont', 3), ('com', 3), ('E0s', 3), ('/', 3), ('0px', 3), ('0', 3), ('viagem', 3), ('vanessa.bazarnoir@gmail.com', 3), ('gente', 3), ('voc\\xc3\\xaa', 3), ('tenho', 3), ('0);', 3), ('styleD\"border-left:', 3), ('Maldita', 3), ('to', 3), ('-0', 3), ('ter', 3), ('Ent\\xc3\\xa3o,', 3), ('px', 3), ('solid', 3), ('classD\"gmail_quote\"', 3), ('solid\"', 3), ('vem,', 3), ('-left:', 3), ('span', 3), ('rgb(0,', 3), ('manh\\xc3\\xa3.', 3), ('styleD\"-left:ex;0pt', 3), ('final', 3), ('sonho', 3), ('0.ex;', 3), ('coisa', 3), ('presente', 4), ('casal', 4), ('A', 4), ('Rio', 4), ('n', 4), ('maldita', 4), ('dia', 4), ('Aline', 4), ('mais', 4), ('ano', 4), ('por', 4), ('Na', 4), ('Bonito', 4), ('festa', 4), ('para', 4), ('unissex', 4), ('meio', 4), ('reais)', 4), ('ser', 4), ('sex', 4), ('direto', 4), ('trabalho', 4), ('voc\\xc3\\xaas', 4), ('Novembro,', 4), ('e', 4), ('isso', 4), ('styleD\"-left:ex;0px', 4), ('chamar', 4), ('Saba', 4), ('j\\xc3\\xa1', 4), ('h.', 4), ('0,', 5), ('caf\\xc3\\xa9', 5), ('q', 5), ('casal,', 5), ('Martins', 5), ('Pousada', 5), ('pPousada', 5), ('h,', 5), ('me', 6), ('v\\xc3\\xa3o', 6), ('-', 6), ('0pt', 6), ('E', 6), ('em', 6), ('ou', 6), ('0.ex;border-left:rgb(0,0,0)', 6), ('\\xc3\\xa9', 6), ('Vanessa', 6), ('amigo', 6), ('Maria', 6), ('Tel:', 7), ('coisas', 7), ('R$', 8), ('()', 8), ('as', 10), ('o', 11), ('/p', 12), ('se', 14), ('n\\xc3\\xa3o', 16), ('que', 18)]\n",
        "-----------------------------------------------\n",
        "[('por', 4), ('os', 4), ('ter', 4), ('ficar', 4), ('from', 4), ('cheia', 4), ('reais)', 4), ('ONDE', 4), ('will', 4), ('precisando', 4), ('Sustainable', 4), ('DRQ', 5), ('X-AntiAbuse:', 5), ('h0,', 5), ('Aug', 5), ('-0', 5), ('no-reply@issuumail.com', 5), ('on', 5), ('pPousada', 5), ('0', 5), ('RIO', 5), ('hhsBQQAOw', 5), ('#eeefont', 5), ('Total', 5), ('n', 5), ('Sat,', 5), ('#eeeimg', 5), ('na', 5), ('and', 5), ('Oct', 5), ('our', 5), ('sonho', 5), ('Jun', 5), ('l\\xc3\\xa1', 5), ('E', 6), ('to', 6), ('voc\\xc3\\xaas', 6), ('coisa', 6), ('v\\xc3\\xa3o', 6), ('listserv', 6), ('presente', 6), ('Petrobras', 6), ('Martins', 6), ('me', 6), ('\\xc3\\xa9', 6), ('-', 6), ('E0s', 6), ('no', 6), ('Research', 6), ('tenho', 6), ('ou', 6), ('JJ', 6), ('amigo', 6), ('Maria', 6), ('Paula', 7), ('com', 7), ('Bonito', 7), (',0', 7), ('h.', 7), ('coisas', 7), ('faceD\"Verdana\"R$', 7), ('Rio', 8), ('Cristina', 8), ('Espinheira', 8), ('isso', 8), ('do', 8), ('da', 8), ('Design', 8), ('ele', 8), ('operar', 8), ('manh\\xc3\\xa3.', 9), ('widthD%div', 9), ('caf\\xc3\\xa9', 10), ('o', 10), ('as', 10), ('um', 10), ('Pousada', 10), ('h,', 10), ('widthD%', 10), ('casal,', 10), ('para', 10), ('pode', 10), ('widthD00%trtd', 11), ('you', 11), ('/p', 12), ('widthD%font', 12), ('se', 13), ('a', 13), ('image/gif', 13), ('Tel:', 13), ('e', 14), ('--_related', 15), ('()', 16), ('R$', 16), ('n\\xc3\\xa3o', 16), ('000C0EA_', 16), ('que', 17), ('de', 18), ('alignDcenterfont', 28), ('sizeD', 81)]"
       ]
      },
      {
       "output_type": "stream",
       "stream": "stdout",
       "text": [
        "\n"
       ]
      }
     ],
     "prompt_number": 20
    },
    {
     "cell_type": "markdown",
     "metadata": {},
     "source": [
      "Maria Paula -> Aline: coisas, R$, Vanessa, Pousada casal "
     ]
    },
    {
     "cell_type": "markdown",
     "metadata": {},
     "source": [
      "Aline -> Maria Paula: casal Pousada amigo Bonito presente (friendship and travel related)"
     ]
    }
   ],
   "metadata": {}
  }
 ]
}