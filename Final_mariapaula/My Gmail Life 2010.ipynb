{
 "metadata": {
  "name": ""
 },
 "nbformat": 3,
 "nbformat_minor": 0,
 "worksheets": [
  {
   "cells": [
    {
     "cell_type": "heading",
     "level": 1,
     "metadata": {},
     "source": [
      "My Gmail Life in the Year 2010      <img src=\"http://media.idownloadblog.com/wp-content/uploads/2011/02/Gmail-Icon.png\" width=\"80\" height=\"40\" />"
     ]
    },
    {
     "cell_type": "markdown",
     "metadata": {},
     "source": [
      "In 2010, I came back to Brazil and did my undergrad thesis. \n",
      "\n",
      "First of all, let's import all my data:"
     ]
    },
    {
     "cell_type": "code",
     "collapsed": false,
     "input": [
      "import gzip\n",
      "import os\n",
      "\n",
      "import re\n",
      "import string\n",
      "import operator\n"
     ],
     "language": "python",
     "metadata": {},
     "outputs": [],
     "prompt_number": 1
    },
    {
     "cell_type": "code",
     "collapsed": false,
     "input": [
      "path = \"data2010/\"\n",
      "months = os.listdir( path )\n",
      "\n",
      "#deleting .DS_Store file\n",
      "del months[0]\n",
      "\n",
      "allFiles = []\n",
      "\n",
      "#reading the file's names\n",
      "for month in months:\n",
      "     files = os.listdir(path + month)\n",
      "     allFiles.append(files)\n",
      "\n",
      "#saving each email in a list, with separated lines     \n",
      "received_lines = []\n",
      "sent_lines = []\n",
      "list_lines = []\n",
      "\n",
      "#for calculating number of emails\n",
      "num_emails = []\n",
      "num_sent = []\n",
      "num_received = []\n",
      "num_lists = []\n",
      "num_totals = []\n",
      "total_emails = 0\n",
      "\n",
      "#saving senders\n",
      "senders = []\n",
      "lists = []\n",
      "\n",
      "for (files, month) in zip(allFiles, months):\n",
      "    count_sent = 0\n",
      "    count_received = 0\n",
      "    count_lists = 0\n",
      "\n",
      "    for file in files:\n",
      "        if 'gz' in file:\n",
      "            total_emails = total_emails + 1\n",
      "            f = gzip.open(path+month+'/'+file, 'rb')\n",
      "            file_content = f.readlines()\n",
      "            \n",
      "            for line in file_content:\n",
      "                #check the sender and if it is myself, count as sent.\n",
      "                if 'From: ' in line:\n",
      "                    if 'mariapaula.saba@gmail.com' in line:\n",
      "                        sent_lines.append(file_content)\n",
      "                        count_sent = count_sent + 1\n",
      "                        break\n",
      "                    else:\n",
      "                        #save the sender    \n",
      "                        index1 = line.find('<')\n",
      "                        index2 = line.find('>')\n",
      "                        address = line[index1+1:index2]\n",
      "                        address = address.replace('\\r', \"\")\n",
      "                        address = address.replace('To:', \"\")\n",
      "                        address = address.replace('From:', \"\")\n",
      "                        address = address.replace('X-ESDI-MailScanner-',\"\")\n",
      "                        continue\n",
      "                if 'Delivered-To:' in line:\n",
      "                    continue\n",
      "                elif 'In-Reply-To:' in line:\n",
      "                    continue\n",
      "                else:\n",
      "                    if 'To:' in line:     \n",
      "                        #check if it was really for me\n",
      "                        if 'mariapaula.saba@gmail.com' in line:                  \n",
      "                            received_lines.append(file_content)\n",
      "                            count_received = count_received + 1\n",
      "                            senders.append(address)\n",
      "                            break\n",
      "                        else:\n",
      "                            count_lists = count_lists + 1\n",
      "                            index1 = line.find('<')\n",
      "                            index2 = line.find('>')\n",
      "                            recipient = line[index1+1:index2]\n",
      "                            recipient = recipient.replace('\\r', \"\")\n",
      "                            recipient = recipient.replace('To:', \"\")\n",
      "                            recipient = recipient.replace('From:', \"\")\n",
      "                            recipient = recipient.replace('X-Apparently- ', \"\")\n",
      "                            list_lines.append(file_content)\n",
      "                            lists.append(recipient)\n",
      "                            break\n",
      "            f.close()\n",
      "            \n",
      "            \n",
      "    num_received.append(count_received)        \n",
      "    num_sent.append(count_sent)\n",
      "    num_emails.append(count_received + count_sent)\n",
      "    num_lists.append(count_lists)\n",
      "    num_totals.append(count_received + count_sent + count_lists)\n",
      " \n",
      "    \n",
      "print \"In 2010, I have sent\", len(sent_lines), \"emails.\"\n",
      "print \"And I probably received more, but I kept\", len(received_lines), \"emails.\"\n",
      "print \"I also received\", len(list_lines), \"emails that were not addressed directly to me.\"\n",
      "print \"Which sums up a total of\", total_emails, \"emails.\"\n"
     ],
     "language": "python",
     "metadata": {},
     "outputs": [
      {
       "output_type": "stream",
       "stream": "stdout",
       "text": [
        "In 2010, I have sent 1133 emails.\n",
        "And I probably received more, but I kept 935 emails.\n",
        "I also received 1636 emails that were not addressed directly to me.\n",
        "Which sums up a total of 3710 emails.\n"
       ]
      }
     ],
     "prompt_number": 2
    },
    {
     "cell_type": "code",
     "collapsed": false,
     "input": [
      "# who did I write to?\n",
      "receivers = []\n",
      "count_me = 0\n",
      "\n",
      "for email in sent_lines:\n",
      "    for line in email:\n",
      "        if 'Delivered-To:' in line:\n",
      "            continue\n",
      "        elif 'In-Reply-To:' in line:\n",
      "            #print line\n",
      "            continue\n",
      "        else:\n",
      "            if 'To:' in line:\n",
      "                if 'mariapaula.saba@gmail.com' in line:\n",
      "                    count_me = count_me + 1\n",
      "                    break\n",
      "                else:\n",
      "                   # print line\n",
      "                    index1 = line.find('<')\n",
      "                    index2 = line.find('>')\n",
      "                    address = line[index1+1:index2]\n",
      "                    address = address.replace('\\r', \"\")\n",
      "                    address = address.replace('To:', \"\")\n",
      "                    receivers.append(address)  \n",
      "                    break\n",
      "\n",
      "            \n",
      "            \n",
      "print \"I wrote\", count_me, \"emails for myself (that were not deleted)!!!\"            \n",
      "print \"And I actually sent\", len(receivers), \"emails out to the world.\"\n"
     ],
     "language": "python",
     "metadata": {},
     "outputs": [
      {
       "output_type": "stream",
       "stream": "stdout",
       "text": [
        "I wrote 31 emails for myself (that were not deleted)!!!\n",
        "And I actually sent 1102 emails out to the world.\n"
       ]
      }
     ],
     "prompt_number": 3
    },
    {
     "cell_type": "raw",
     "metadata": {},
     "source": [
      "Next thing to do is to check if there is any pattern across time. My email usage certainly did increase over time. But how much? And how is the increase related to events in my life? Let's plot a graphic to find out!"
     ]
    },
    {
     "cell_type": "code",
     "collapsed": false,
     "input": [
      "pyplot.plot(range(1,len(months)+1), num_totals)\n",
      "pyplot.plot(range(1,len(months)+1), num_received)\n",
      "pyplot.plot(range(1,len(months)+1), num_sent)\n",
      "\n"
     ],
     "language": "python",
     "metadata": {},
     "outputs": [
      {
       "metadata": {},
       "output_type": "pyout",
       "prompt_number": 4,
       "text": [
        "[<matplotlib.lines.Line2D at 0x14f5cbf90>]"
       ]
      },
      {
       "metadata": {},
       "output_type": "display_data",
       "png": "[encoded data removed]",
       "text": [
        "<matplotlib.figure.Figure at 0x105914090>"
       ]
      }
     ],
     "prompt_number": 4
    },
    {
     "cell_type": "code",
     "collapsed": false,
     "input": [
      "pyplot.plot(range(1,len(months)+1), num_emails)\n",
      "pyplot.plot(range(1,len(months)+1), num_received)\n",
      "pyplot.plot(range(1,len(months)+1), num_sent)\n",
      "\n",
      "\n"
     ],
     "language": "python",
     "metadata": {},
     "outputs": [
      {
       "metadata": {},
       "output_type": "pyout",
       "prompt_number": 5,
       "text": [
        "[<matplotlib.lines.Line2D at 0x14f67ab50>]"
       ]
      },
      {
       "metadata": {},
       "output_type": "display_data",
       "png": "[encoded data removed]",
       "text": [
        "<matplotlib.figure.Figure at 0x14f5c6c50>"
       ]
      }
     ],
     "prompt_number": 5
    },
    {
     "cell_type": "code",
     "collapsed": false,
     "input": [
      "pyplot.plot(range(1,len(months)+1), num_lists)\n",
      "pyplot.plot(range(1,len(months)+1), num_received)\n",
      "\n"
     ],
     "language": "python",
     "metadata": {},
     "outputs": [
      {
       "metadata": {},
       "output_type": "pyout",
       "prompt_number": 6,
       "text": [
        "[<matplotlib.lines.Line2D at 0x14f68f690>]"
       ]
      },
      {
       "metadata": {},
       "output_type": "display_data",
       "png": "[encoded data removed]",
       "text": [
        "<matplotlib.figure.Figure at 0x14f5b8150>"
       ]
      }
     ],
     "prompt_number": 6
    },
    {
     "cell_type": "markdown",
     "metadata": {},
     "source": [
      "I went back to Brazil in march and started school in april. I don't know why june is so popular, maybe end of school semester? I travelled abroad July and August and then back to school and emails again!. By October, I believe that amount of emails was from organizing my graduation party."
     ]
    },
    {
     "cell_type": "code",
     "collapsed": false,
     "input": [
      "smon = 0\n",
      "stue = 0\n",
      "swed = 0\n",
      "sthu = 0\n",
      "sfri = 0\n",
      "ssat = 0\n",
      "ssun = 0\n",
      "\n",
      "#sent_weekdays = {}\n",
      "\n",
      "for email in sent_lines:\n",
      "    for line in email:\n",
      "        if 'Date: Mon' in line:\n",
      "#            index = line.find(',')\n",
      "#            date = line[index+2:index+13]\n",
      "#            sent_weekdays[date] = 'Monday'\n",
      "            smon = smon + 1\n",
      "        if 'Date: Tue' in line:\n",
      "#            index = line.find(',')\n",
      "#            date = line[index+2:index+13]\n",
      "#            sent_weekdays[date] = 'Tuesday'\n",
      "            stue = stue + 1\n",
      "        if 'Date: Wed' in line:\n",
      "#            index = line.find(',')\n",
      "#            date = line[index+2:index+13]\n",
      "#            sent_weekdays[date] = 'Wednesday'\n",
      "            swed = swed + 1\n",
      "        if 'Date: Thu' in line:\n",
      "#            index = line.find(',')\n",
      "#            date = line[index+2:index+13]\n",
      "#            sent_weekdays[date] = 'Thursday'\n",
      "            sthu = sthu + 1\n",
      "        if 'Date: Fri' in line:\n",
      "#            index = line.find(',')\n",
      "#            date = line[index+2:index+13]\n",
      "#            sent_weekdays[date] = 'Friday'\n",
      "            sfri = sfri + 1\n",
      "        if 'Date: Sat' in line:\n",
      "#            index = line.find(',')\n",
      "#            date = line[index+2:index+13]\n",
      "#            sent_weekdays[date] = 'Saturday'\n",
      "            ssat = ssat + 1\n",
      "        if 'Date: Sun' in line:\n",
      "#            index = line.find(',')\n",
      "#            date = line[index+2:index+13]\n",
      "#            sent_weekdays[date] = 'Sunday'\n",
      "            ssun = ssun + 1\n",
      "            \n",
      "#print len(sent_weekdays)\n",
      "print \"I've sent\", smon, \"emails on Mondays.\"\n",
      "print \"I've sent\", stue, \"emails on Tuesdays.\"\n",
      "print \"I've sent\", swed, \"emails on Wednesdays.\"\n",
      "print \"I've sent\", sthu, \"emails on Thursdays.\"\n",
      "print \"I've sent\", sfri, \"emails on Fridays.\"\n",
      "print \"I've sent\", ssat, \"emails on Saturdays.\"\n",
      "print \"I've sent\", ssun, \"emails on Sundays.\"\n",
      "\n",
      "sent_week = [smon, stue, swed, sthu, sfri, ssat, ssun]\n"
     ],
     "language": "python",
     "metadata": {},
     "outputs": [
      {
       "output_type": "stream",
       "stream": "stdout",
       "text": [
        "I've sent 229 emails on Mondays.\n",
        "I've sent 218 emails on Tuesdays.\n",
        "I've sent 182 emails on Wednesdays.\n",
        "I've sent 185 emails on Thursdays.\n",
        "I've sent 171 emails on Fridays.\n",
        "I've sent 95 emails on Saturdays.\n",
        "I've sent 106 emails on Sundays.\n"
       ]
      }
     ],
     "prompt_number": 7
    },
    {
     "cell_type": "code",
     "collapsed": false,
     "input": [
      "rmon = 0\n",
      "rtue = 0\n",
      "rwed = 0\n",
      "rthu = 0\n",
      "rfri = 0\n",
      "rsat = 0\n",
      "rsun = 0\n",
      "\n",
      "#received_weekdays = {}\n",
      "\n",
      "for email in received_lines:\n",
      "    for line in email:\n",
      "        if 'Date: Mon' in line:\n",
      "#            index = line.find(',')\n",
      "#            date = line[index+2:index+13]\n",
      "#            sent_weekdays[date] = 'Monday'\n",
      "            rmon = rmon + 1\n",
      "        if 'Date: Tue' in line:\n",
      "#            index = line.find(',')\n",
      "#            date = line[index+2:index+13]\n",
      "#            sent_weekdays[date] = 'Tuesday'\n",
      "            rtue = rtue + 1\n",
      "        if 'Date: Wed' in line:\n",
      "#            index = line.find(',')\n",
      "#            date = line[index+2:index+13]\n",
      "#            sent_weekdays[date] = 'Wednesday'\n",
      "            rwed = rwed + 1\n",
      "        if 'Date: Thu' in line:\n",
      "#            index = line.find(',')\n",
      "#            date = line[index+2:index+13]\n",
      "#            sent_weekdays[date] = 'Thursday'\n",
      "            rthu = rthu + 1\n",
      "        if 'Date: Fri' in line:\n",
      "#            index = line.find(',')\n",
      "#            date = line[index+2:index+13]\n",
      "#            sent_weekdays[date] = 'Friday'\n",
      "            rfri = rfri + 1\n",
      "        if 'Date: Sat' in line:\n",
      "#            index = line.find(',')\n",
      "#            date = line[index+2:index+13]\n",
      "#            sent_weekdays[date] = 'Saturday'\n",
      "            rsat = rsat + 1\n",
      "        if 'Date: Sun' in line:\n",
      "#            index = line.find(',')\n",
      "#            date = line[index+2:index+13]\n",
      "#            sent_weekdays[date] = 'Sunday'\n",
      "            rsun = rsun + 1\n",
      "            \n",
      "#print len(sent_weekdays)\n",
      "print \"I've received\", rmon, \"emails on Mondays.\"\n",
      "print \"I've received\", rtue, \"emails on Tuesdays.\"\n",
      "print \"I've received\", rwed, \"emails on Wednesdays.\"\n",
      "print \"I've received\", rthu, \"emails on Thursdays.\"\n",
      "print \"I've received\", rfri, \"emails on Fridays.\"\n",
      "print \"I've received\", rsat, \"emails on Saturdays.\"\n",
      "print \"I've received\", rsun, \"emails on Sundays.\"\n",
      "\n",
      "received_week = [rmon, rtue, rwed, rthu, rfri, rsat, rsun]\n"
     ],
     "language": "python",
     "metadata": {},
     "outputs": [
      {
       "output_type": "stream",
       "stream": "stdout",
       "text": [
        "I've received 200 emails on Mondays.\n",
        "I've received 184 emails on Tuesdays.\n",
        "I've received 186 emails on Wednesdays.\n",
        "I've received 191 emails on Thursdays.\n",
        "I've received 131 emails on Fridays.\n",
        "I've received 59 emails on Saturdays.\n",
        "I've received 69 emails on Sundays.\n"
       ]
      }
     ],
     "prompt_number": 8
    },
    {
     "cell_type": "code",
     "collapsed": false,
     "input": [
      "lmon = 0\n",
      "ltue = 0\n",
      "lwed = 0\n",
      "lthu = 0\n",
      "lfri = 0\n",
      "lsat = 0\n",
      "lsun = 0\n",
      "\n",
      "\n",
      "for email in list_lines:\n",
      "    for line in email:\n",
      "        if 'Date: Mon' in line:\n",
      "            lmon = lmon + 1\n",
      "        if 'Date: Tue' in line:\n",
      "            ltue = ltue + 1\n",
      "        if 'Date: Wed' in line:\n",
      "            lwed = lwed + 1\n",
      "        if 'Date: Thu' in line:\n",
      "            lthu = lthu + 1\n",
      "        if 'Date: Fri' in line:\n",
      "            lfri = lfri + 1\n",
      "        if 'Date: Sat' in line:\n",
      "            lsat = lsat + 1\n",
      "        if 'Date: Sun' in line:\n",
      "            lsun = lsun + 1\n",
      "            \n",
      "#print len(sent_weekdays)\n",
      "print \"I've received from lists\", lmon, \"emails on Mondays.\"\n",
      "print \"I've received from lists\", ltue, \"emails on Tuesdays.\"\n",
      "print \"I've received from lists\", lwed, \"emails on Wednesdays.\"\n",
      "print \"I've received from lists\", lthu, \"emails on Thursdays.\"\n",
      "print \"I've received from lists\", lfri, \"emails on Fridays.\"\n",
      "print \"I've received from lists\", lsat, \"emails on Saturdays.\"\n",
      "print \"I've received from lists\", lsun, \"emails on Sundays.\"\n",
      "\n",
      "lists_week = [lmon, ltue, lwed, lthu, lfri, lsat, lsun]\n"
     ],
     "language": "python",
     "metadata": {},
     "outputs": [
      {
       "output_type": "stream",
       "stream": "stdout",
       "text": [
        "I've received from lists 341 emails on Mondays.\n",
        "I've received from lists 295 emails on Tuesdays.\n",
        "I've received from lists 317 emails on Wednesdays.\n",
        "I've received from lists 275 emails on Thursdays.\n",
        "I've received from lists 273 emails on Fridays.\n",
        "I've received from lists 97 emails on Saturdays.\n",
        "I've received from lists 81 emails on Sundays.\n"
       ]
      }
     ],
     "prompt_number": 9
    },
    {
     "cell_type": "code",
     "collapsed": false,
     "input": [
      "pyplot.bar(range(7), received_week, 0.7, color = 'r')"
     ],
     "language": "python",
     "metadata": {},
     "outputs": [
      {
       "metadata": {},
       "output_type": "pyout",
       "prompt_number": 10,
       "text": [
        "<Container object of 7 artists>"
       ]
      },
      {
       "metadata": {},
       "output_type": "display_data",
       "png": "[encoded data removed]",
       "text": [
        "<matplotlib.figure.Figure at 0x14f6f3590>"
       ]
      }
     ],
     "prompt_number": 10
    },
    {
     "cell_type": "code",
     "collapsed": false,
     "input": [
      "pyplot.bar(range(7), lists_week, 0.7)\n"
     ],
     "language": "python",
     "metadata": {},
     "outputs": [
      {
       "metadata": {},
       "output_type": "pyout",
       "prompt_number": 11,
       "text": [
        "<Container object of 7 artists>"
       ]
      },
      {
       "metadata": {},
       "output_type": "display_data",
       "png": "[encoded data removed]",
       "text": [
        "<matplotlib.figure.Figure at 0x14f688090>"
       ]
      }
     ],
     "prompt_number": 11
    },
    {
     "cell_type": "code",
     "collapsed": false,
     "input": [
      "pyplot.bar(range(7), sent_week, 0.7, color = 'g')\n"
     ],
     "language": "python",
     "metadata": {},
     "outputs": [
      {
       "metadata": {},
       "output_type": "pyout",
       "prompt_number": 12,
       "text": [
        "<Container object of 7 artists>"
       ]
      },
      {
       "metadata": {},
       "output_type": "display_data",
       "png": "[encoded data removed]",
       "text": [
        "<matplotlib.figure.Figure at 0x14f81ba10>"
       ]
      }
     ],
     "prompt_number": 12
    },
    {
     "cell_type": "code",
     "collapsed": false,
     "input": [
      "#A year has 52 weeks. Averages are below:\n",
      "\n",
      "print 'Average from Monday to Sunday:'\n",
      "\n",
      "for number in sent_week:\n",
      "    average = number/52\n",
      "    print 'Sent:', average, 'per day'\n",
      "    \n",
      "for number in received_week:\n",
      "    average = number/52\n",
      "    print 'Received:', average, 'per day'\n",
      "    \n",
      "       \n",
      "for number in lists_week:\n",
      "    average = number/52\n",
      "    print 'Received from lists:', average, 'per day'\n",
      "    \n",
      "       "
     ],
     "language": "python",
     "metadata": {},
     "outputs": [
      {
       "output_type": "stream",
       "stream": "stdout",
       "text": [
        "Average from Monday to Sunday:\n",
        "Sent: 4 per day\n",
        "Sent: 4 per day\n",
        "Sent: 3 per day\n",
        "Sent: 3 per day\n",
        "Sent: 3 per day\n",
        "Sent: 1 per day\n",
        "Sent: 2 per day\n",
        "Received: 3 per day\n",
        "Received: 3 per day\n",
        "Received: 3 per day\n",
        "Received: 3 per day\n",
        "Received: 2 per day\n",
        "Received: 1 per day\n",
        "Received: 1 per day\n",
        "Received from lists: 6 per day\n",
        "Received from lists: 5 per day\n",
        "Received from lists: 6 per day\n",
        "Received from lists: 5 per day\n",
        "Received from lists: 5 per day\n",
        "Received from lists: 1 per day\n",
        "Received from lists: 1 per day\n"
       ]
      }
     ],
     "prompt_number": 13
    },
    {
     "cell_type": "code",
     "collapsed": false,
     "input": [
      "def FreqDist(words):   \n",
      "    data = {}\n",
      "    for word in words.split():\n",
      "        data[word] = data.get(word,0) + 1\n",
      "    #data = sorted(data.iteritems(), key=operator.itemgetter(1))  \n",
      "    return data\n",
      "\n",
      "def FreqDistSorted(words):   \n",
      "    data = {}\n",
      "    for word in words.split():\n",
      "        data[word] = data.get(word,0) + 1\n",
      "    data = sorted(data.iteritems(), key=operator.itemgetter(1))  \n",
      "    return data\n",
      "\n",
      "def LinesToTextList(emails):\n",
      "    saveText = []\n",
      "    for email in emails:\n",
      "        #transforming a list of lines into text\n",
      "        text = '\\''.join(map(str, email))\n",
      "        #to avoid portuguese bugs, I'm replacing our weird signs back again \n",
      "        text = text.replace(\"\\'\", \"\")\n",
      "        text = text.replace(\"=E7\", \"\u00e7\")\n",
      "        text = text.replace(\"=E9\", \"\u00e9\")\n",
      "        text = text.replace(\"=EA\", \"\u00ea\")\n",
      "        text = text.replace(\"=F5\", \"\u00f5\")\n",
      "        text = text.replace(\"=F3\", \"\u00f3\")    \n",
      "        text = text.replace(\"=E1\", \"\u00e1\")\n",
      "        text = text.replace(\"=E3\", \"\u00e3\")   \n",
      "        text = text.replace(\"=ED\", \"\u00ed\")\n",
      "        text = text.replace(\"=FA\", \"\u00fa\")\n",
      "        text = text.replace(\"=\", \"\")\n",
      "        \n",
      "        \n",
      "        #avoid email language words\n",
      "        text = text.replace(\"<font>\",\"\")\n",
      "        text = text.replace(\"<br>\", \"\")\n",
      "        text = text.replace(\"<span>\", \"\")\n",
      "        text = text.replace(\"<div>\", \"\")\n",
      "        text = text.replace(\"</div>\", \"\")\n",
      "        text = text.replace(\"<a>\", \"\")\n",
      "        text = text.replace(\"</a>\", \"\")\n",
      "        text = text.replace(\">\", \"\")\n",
      "        text = text.replace(\"<\", \"\")\n",
      "        text = text.replace(\"Yahoo\", \"\")\n",
      "        text = text.replace(\"target3D\\\"_blank\\\"\", \"\")\n",
      "        text = text.replace(\"&gt;\", \"\")\n",
      "        text = text.replace(\"|\", \"\")\n",
      "        text = text.replace(\"style3D\\\"LINE-HEIGHT:\", \"\")\n",
      "        text = text.replace(\"style3D\\\"MARGIN:\", \"\")\n",
      "        text = text.replace(\"style3D\\\"BORDER-COLLAPSE:\", \"\")\n",
      "        text = text.replace(\"style3D\\\"MIN-HEIGHT:\", \"\")\n",
      "        text = text.replace(\"font-family:\", \"\")\n",
      "        text = text.replace(\"font-weight:\", \"\")\n",
      "        text = text.replace(\"Arial\", \"\")       \n",
      "        text = text.replace(\"Sans-serif\", \"\")       \n",
      "        text = text.replace(\"margin:\", \"\")\n",
      "        text = text.replace(\"dir3Dltr&lt;A:\", \"\")\n",
      "        text = text.replace(\"padding\",\"\")\n",
      "        text = text.replace(\"Content-Type:\",\"\")\n",
      "        text = text.replace(\"0px\\\"font'\",\"\")\n",
      "        text = text.replace(\"YAHOO.COM.BR\",\"\")\n",
      "        text = text.replace(\"style3D\\\"font-family:\",\"\")\n",
      "        text = text.replace(\"style3D\\\"FONT-FAMILY:\",\"\")\n",
      "        text = text.replace(\"style3D\\\"FONT-WEIGHT:\",\"\")\n",
      "        text = text.replace(\"lang3D\\\"EN-GB\\\">A0</span></p>\",\"\")\n",
      "        text = text.replace(\"style3D\\\"padding-left\",\"\")\n",
      "        text = text.replace(\"text-decoration:\",\"\")\n",
      "        text = text.replace(\"rel3D\\\"nofollow\\\"\",\"\")\n",
      "        text = text.replace(\"bgcolor3D\",\"\")\n",
      "        text = text.replace(\"&nbsp;\",\"\")\n",
      "                           \n",
      "                            \n",
      "        #avoid numbers\n",
      "        text = text.replace(\"1\",\"\")\n",
      "        text = text.replace(\"2\",\"\")\n",
      "        text = text.replace(\"3\",\"\")\n",
      "        text = text.replace(\"4\",\"\")\n",
      "        text = text.replace(\"5\",\"\")\n",
      "        text = text.replace(\"6\",\"\")\n",
      "        text = text.replace(\"7\",\"\")\n",
      "        text = text.replace(\"8\",\"\")\n",
      "        text = text.replace(\"9\",\"\")\n",
      "\n",
      "   \n",
      "        #save text in a list of text-emails\n",
      "        saveText.append(text)\n",
      "    return saveText\n",
      "\n",
      "def FindSentEmailsBy(name):\n",
      "    saveEmails = []\n",
      "    for email in received_lines:\n",
      "        for line in email:\n",
      "            if 'From: ' in line:\n",
      "                if name in line:\n",
      "                    saveEmails.append(email)\n",
      "                    break\n",
      "    return saveEmails\n",
      "\n",
      "\n",
      "def FindSentEmailsTo(name):\n",
      "    saveEmails = []\n",
      "    for email in sent_lines:\n",
      "        for line in email:\n",
      "            if 'Delivered-To:' in line:\n",
      "                continue\n",
      "            elif 'In-Reply-To:' in line:\n",
      "                #print line\n",
      "                continue\n",
      "            else:\n",
      "                if 'To:' in line:                  \n",
      "                    if name in line:\n",
      "                        saveEmails.append(email)\n",
      "                        break\n",
      "    return saveEmails\n",
      "\n",
      "\n",
      "def TextListToFreq(textList):\n",
      "    finalFreq = {}\n",
      "    for email in textList:\n",
      "        freq = FreqDist(email)\n",
      "        finalFreq = dict(finalFreq.items() + freq.items())\n",
      "\n",
      "    bigValues = []    \n",
      "    for k, v in finalFreq.iteritems():\n",
      "        if len(k) > 30:\n",
      "            bigValues.append(k)        \n",
      "    for word in bigValues:\n",
      "        del finalFreq[word]\n",
      "    \n",
      "    sortedFreq = sorted(finalFreq.iteritems(), key=operator.itemgetter(1))\n",
      "    return sortedFreq\n",
      "\n",
      "\n",
      "def ReceivedTopWords(sender):\n",
      "    senderEmails = FindSentEmailsBy(sender)\n",
      "    senderTextList = LinesToTextList(senderEmails)\n",
      "    \n",
      "    freqWords = TextListToFreq(senderTextList)\n",
      "    top100 = len(freqWords)-100\n",
      "    return freqWords[top100:]\n",
      "\n",
      "\n",
      "def SentTopWords(receiver):\n",
      "    receiverEmails = FindSentEmailsTo(receiver)\n",
      "    receiverTextList = LinesToTextList(receiverEmails)\n",
      "    \n",
      "    freqWords = TextListToFreq(receiverTextList)\n",
      "    top100 = len(freqWords)-100\n",
      "    return freqWords[top100:]"
     ],
     "language": "python",
     "metadata": {},
     "outputs": [],
     "prompt_number": 14
    },
    {
     "cell_type": "code",
     "collapsed": false,
     "input": [
      "senders_text = '\\''.join(map(str, senders))\n",
      "senders_text = senders_text.replace('\\'', \" \")\n",
      "\n",
      "freqSenders = FreqDistSorted(senders_text)\n",
      "top10 = len(freqSenders)-10\n",
      "\n",
      "print freqSenders[top10:]\n"
     ],
     "language": "python",
     "metadata": {},
     "outputs": [
      {
       "output_type": "stream",
       "stream": "stdout",
       "text": [
        "[('biacarvalho28@gmail.com', 20), ('clagoulart@gmail.com', 20), ('denise.filippo@gmail.com', 24), ('jorge.teororo@gmail.com', 30), ('neuter@thuya.com.br', 30), ('lvelho@impa.br', 30), ('andresiggia@yahoo.com.br', 32), ('aloysiomello@gmail.com', 35), ('brenda.f.lucena@gmail.com', 36), ('schorrdesign@gmail.com', 83)]\n"
       ]
      }
     ],
     "prompt_number": 15
    },
    {
     "cell_type": "code",
     "collapsed": false,
     "input": [
      "receivers_text = '\\''.join(map(str, receivers))\n",
      "receivers_text = receivers_text.replace('\\'', \" \")\n",
      "\n",
      "freqReceivers = FreqDistSorted(receivers_text)\n",
      "top10 = len(freqReceivers)-10\n",
      "\n",
      "print freqReceivers[top10:]\n"
     ],
     "language": "python",
     "metadata": {},
     "outputs": [
      {
       "output_type": "stream",
       "stream": "stdout",
       "text": [
        "[('lilly.laylou@gmail.com', 23), ('lvelho@impa.br', 27), ('denise.filippo@gmail.com', 29), ('brenda.f.lucena@gmail.com', 30), ('neuter@thuya.com.br', 31), ('esdi-42@googlegroups.com', 33), ('jorge.teororo@gmail.com', 41), ('andresiggia@yahoo.com.br', 41), ('aloysiomello@gmail.com', 61), ('schorrdesign@gmail.com', 173)]\n"
       ]
      }
     ],
     "prompt_number": 16
    },
    {
     "cell_type": "code",
     "collapsed": false,
     "input": [
      "list_text = '\\''.join(map(str, lists))\n",
      "list_text = list_text.replace('\\'', \" \")\n",
      "\n",
      "freqList = FreqDistSorted(list_text)\n",
      "top10 = len(freqList)-10\n",
      "\n",
      "print freqList[top10:]\n"
     ],
     "language": "python",
     "metadata": {},
     "outputs": [
      {
       "output_type": "stream",
       "stream": "stdout",
       "text": [
        "[('schorrdesign@gmail.com', 29), ('c=relaxed/relaxed;', 30), ('s=s1024;', 30), ('a=rsa-sha256;', 30), ('DKIM-Signature:', 30), ('v=1;', 30), ('Reply-', 40), ('turma43esdi@yahoogrupos.com.br', 76), ('formatura_esdi42@googlegroups.com', 361), ('esdi-42@googlegroups.com', 606)]\n"
       ]
      }
     ],
     "prompt_number": 17
    },
    {
     "cell_type": "markdown",
     "metadata": {},
     "source": [
      "I guess I was right. Sooo many emails from my school class."
     ]
    },
    {
     "cell_type": "code",
     "collapsed": false,
     "input": [
      "print SentTopWords('schorrdesign@gmail.com')\n",
      "print '-----------------------------------------------'\n",
      "print ReceivedTopWords('schorrdesign@gmail.com')\n"
     ],
     "language": "python",
     "metadata": {},
     "outputs": [
      {
       "output_type": "stream",
       "stream": "stdout",
       "text": [
        "[('winter', 8), ('her', 8), ('alem\\xc3\\xa3o', 8), ('colorD\"#00000\"', 8), ('BR', 8), ('vivo,', 8), ('list-style-image:', 8), ('Dura\\xc3\\xa7\\xc3\\xa3o:', 8), ('O', 8), ('US', 8), ('end', 8), ('MIS', 8), ('abril', 8), ('widthD\"00\"', 8), ('what', 8), ('test', 8), ('list-style-position:', 8), ('classD\"MsoNormal\"', 8), ('Qua,', 8), ('A0', 8), ('classD\"MsoNormal\"span', 9), ('the0', 9), ('margin-right:', 9), ('It', 9), ('open', 9), ('EXPO', 9), ('--0000cdb00b', 9), ('ppppppppppp', 9), ('0.000pt;\"span', 9), ('manifesto', 9), ('group', 9), ('UniversitEt', 9), ('Madrid', 9), ('de', 9), ('acceptance', 9), ('prototyping', 9), ('Leite', 10), ('Johanna', 10), ('--00c0a0dce', 10), ('horas', 10), ('QUE', 10), ('0', 10), ('voc\\xc3\\xaa', 10), ('programas', 10), ('Erica', 10), ('underline;\"', 11), ('not', 11), ('faceD\"Calibri,', 11), ('Alejandro', 11), ('institution', 11), ('USD', 11), ('0/', 12), ('your', 12), ('Weimar', 12), ('interface', 12), ('a.m.', 12), ('Verdana,', 12), ('styleD\"font-size:', 12), ('inline;', 12), ('faceD\"\"', 12), ('Eduardo', 12), ('p.m.', 12), ('0%;\"', 12), ('She', 13), ('{', 13), ('styleD\"margin-bottom:', 13), ('FD\"A0/span/p', 14), ('hor\\xc3\\xa1ria:', 14), ('letter', 14), ('Workshop:', 14), ('Carga', 14), ('block;', 15), ('sizeD\"\"', 15), ('Theuerkauf', 15), ('0pt;', 15), ('PA', 16), (':00', 16), ('and', 16), ('colorD\"#000\"', 17), ('estagio', 17), ('user', 17), ('copy.jpg\"', 18), ('bis', 18), ('und', 18), ('vaga', 18), ('it', 19), ('sizeD\"\"span', 22), ('sizeD\"\"/fontdiv', 22), ('send', 26), ('styleD\"font-size:.0pt;color:#', 27), ('top;\"', 29), ('styleD\"vertical-align:', 29), ('langD\"ES\"', 31), ('width:', 33), ('Uhr', 35), ('left;\"', 37), ('left;\"font', 38), ('faceD\"Helvetica,', 42), ('/th', 48), ('I', 52)]\n",
        "-----------------------------------------------\n",
        "[('avalia\\xc3\\xa7\\xc3\\xa3o', 12), ('EvaluationDTrabalho', 12), ('excelente', 12), ('coment\\xc3\\xa1rios', 12), ('autores,', 12), ('relevantes', 12), ('DDDDD', 12), ('Uhr', 12), ('Fortemente', 12), ('widthD\"\"/td', 12), ('trabalho,', 12), ('trabalho.', 12), ('un', 12), ('recomendado,', 12), ('S\\xc3\\xa3o', 12), ('texto.', 12), ('\"#0\"', 12), ('outros', 12), ('baixa', 12), ('%', 13), ('for', 13), ('faceD\"\"', 14), ('razo\\xc3\\xa1vel,', 14), ('voc\\xc3\\xaa', 14), ('widthD\"0\"', 14), ('name\"Picture', 14), ('problemas', 14), ('evento', 14), ('candidatos', 14), ('relevante;', 14), (');\"', 14), ('bom,', 14), ('Workshop:', 14), ('go', 14), ('filename\"Picture', 14), ('Carga', 14), ('importEncia', 14), ('hor\\xc3\\xa1ria:', 14), ('widthD\"\"', 14), ('image/png;', 14), ('estagio', 15), ('--00fbccca0fe', 15), ('0pt;', 15), ('DD', 16), ('Marcela', 16), ('can', 16), ('o', 16), ('relacionado;', 16), ('/td', 17), ('user', 17), ('altD\"\"', 17), ('Burg\\xc3\\xa3o', 17), ('R$', 17), ('color:', 18), ('trabalho.):', 18), ('px;', 18), ('t\\xc3\\xa9cnica', 18), ('classD\"MsoNormal\"span', 18), ('rejeitado,', 18), ('pt;', 18), ('fraco', 18), ('autores', 18), ('colspanD\"\"', 18), ('0pt', 19), ('srcD\"\"', 19), ('Normal\"bfont', 19), ('desconto', 20), ('rgb(,', 20), ('que', 20), ('classD\"Mso', 20), ('justify;', 22), ('.pt', 22), ('\"#ffffff\"', 22), (',', 22), ('styleD\"text-align:', 22), ('apresenta', 22), ('(de', 23), ('(Avalie', 24), ('tema', 24), ('Texto', 24), ('resultados', 24), ('SIBGRAPI', 24), ('tr', 25), ('borderD\"0\"', 25), ('styleD\"font-size:', 26), ('fraco,', 26), ('.png\"', 26), ('de', 28), (':Tema', 30), ('p', 33), ('/tr', 34), ('MS&#;,,Helvetica,sans-serif;', 35), ('heightD\"\"', 37), ('contribui\\xc3\\xa7\\xc3\\xb5es', 42), ('***', 42), ('px;\"', 56), (':Trabalho', 57), ('td', 57), ('&#;Trebuchet', 63), ('font-size:', 64)]"
       ]
      },
      {
       "output_type": "stream",
       "stream": "stdout",
       "text": [
        "\n"
       ]
      }
     ],
     "prompt_number": 18
    },
    {
     "cell_type": "markdown",
     "metadata": {},
     "source": [
      "Maria Paula -> Bernardo in 2010: estagio letter instituion programas interface (master/work related)"
     ]
    },
    {
     "cell_type": "markdown",
     "metadata": {},
     "source": [
      "Bernardo -> Maria Paula in 2010: fraco, tema, SIBGRAPI, rejeitado, inscreveu (something about submission. Bernardo presented a paper in this conference) "
     ]
    },
    {
     "cell_type": "code",
     "collapsed": false,
     "input": [
      "print SentTopWords('crissaba@petrobras.com.br')\n",
      "print '-----------------------------------------------'\n",
      "print ReceivedTopWords('crissaba@petrobras.com.br')\n"
     ],
     "language": "python",
     "metadata": {},
     "outputs": [
      {
       "output_type": "stream",
       "stream": "stdout",
       "text": [
        "[('retorna,s\\xc3\\xb3', 2), ('estar\\xc3\\xa1', 2), ('pessoas,', 2), ('outro', 2), ('queixa', 2), ('sendo', 2), ('operadora.', 2), ('muito', 2), ('maneira', 2), ('pela', 2), ('solicite', 2), ('operadora', 2), ('pagamento', 2), ('classD\"MsoNormal\"Op\\xc3\\xa7\\xc3\\xa3o-', 2), ('porte,', 2), ('tipode', 2), ('oi', 2), ('s\\xc3\\xa3o', 2), ('Message', 2), ('Diferente', 2), ('podem', 2), ('vai', 2), ('--0000cacaae0f0dab', 2), (':', 2), ('fora', 2), ('Original', 2), ('seis', 2), ('beatriz@imoveisrosa.com.br', 2), ('POR', 2), ('etc,', 2), ('interessa', 2), ('Fw:', 2), ('Policial', 2), ('avisados', 2), ('lhes', 2), ('rapida', 2), ('no', 2), ('nas', 2), ('disse', 2), ('nosso', 2), ('casos', 2), ('E', 2), ('tarde,', 2), ('portanto,', 2), ('gosta,', 2), ('procurando.Desculpe', 2), ('grupo', 2), ('tamb\\xc3\\xa9m', 2), ('e', 2), ('seu.', 2), ('pois,', 2), ('identifica', 2), ('A0', 2), ('div', 3), ('D\"Times', 3), ('a', 3), ('lhe', 3), ('cris@nikem.com.br', 3), (',', 3), ('loca\\xc3\\xa7\\xc3\\xa3o', 3), ('face', 3), ('Beatriz', 3), ('telefone', 3), ('Para', 3), ('...', 3), ('cola\\xc3\\xa7\\xc3\\xa3o', 3), ('uma', 3), ('o', 3), ('um', 3), ('MsoNormal\"font', 4), ('classD\"', 4), ('-----', 4), ('faceD\"Times', 4), ('todos', 4), ('sido', 4), ('casapara', 4), ('como', 4), ('aqui', 4), ('mandar', 4), ('ele', 4), ('reparo', 4), ('styleD\"font-si', 4), ('seus', 4), ('faceD\"', 5), ('para', 5), ('-', 5), ('Times', 5), ('casa', 6), ('os', 6), ('fez', 6), ('E0', 8), ('styleD\"margin-left:pt\"', 8), ('classD\"MsoNormal\"font', 9), ('sua', 10), ('na', 11), ('classD\"MsoNormal\"A0/p', 12), ('Roman\"span', 13), ('New', 13), ('sizeD\"\"', 13), ('p', 27)]\n",
        "-----------------------------------------------\n",
        "[('condominio', 2), ('darle', 2), ('conseguindo', 2), ('ela', 2), ('...', 2), ('olhada', 2), ('OpCACAo-', 2), ('()', 2), ('authorization,', 2), ('System', 2), ('proper', 2), ('muito', 2), ('adecuado.', 2), ('permitted', 2), ('dias,vou', 2), ('divulgaCACAo,', 2), ('De:', 2), ('(google.com:', 2), ('--00ede0cdf0b00f', 2), ('destinatCArio', 2), ('quanto', 2), ('charset\"utf-\"', 2), ('fora', 2), ('Original', 2), ('beatriz@imoveisrosa.com.br', 2), ('beatriz', 2), ('devida', 2), ('care', 2), ('0%', 2), ('disciplinar,', 2), ('disse', 2), ('divulgaciCBn,', 2), ('From:', 2), ('prohibidas', 2), ('Amanha', 2), ('SMTP', 2), ('estCAn', 2), ('procurando.Desculpe', 2), ('tava', 2), ('quoted-printable', 2), ('0', 3), ('by', 3), ('locaCACAo', 3), ('lhe', 3), ('estCA', 3), (',', 3), ('Received:', 3), ('(PDT)', 3), ('Sistema', 3), ('seu', 3), ('Paula', 3), ('n', 3), ('id', 3), ('s', 3), ('Content-Transfer-Encoding:', 3), ('BR', 3), ('uma', 3), (':', 3), ('with', 3), ('-----', 4), ('or', 4), ('mandar', 4), ('su', 4), ('Cabe', 4), ('civil', 4), ('mariapaula.saba@gmail.com', 4), ('message', 4), ('Sep', 4), ('internas', 4), ('normas', 4), ('Cristina', 4), ('do', 4), ('0::', 4), ('aqui', 4), ('por', 4), ('ao', 4), ('is', 4), ('-000', 4), ('Saba', 4), ('the', 4), ('Sat,', 4), ('Fw:', 4), ('as', 4), ('no', 4), ('Petrobras', 5), ('casapara', 5), ('-', 5), ('to', 6), ('que', 6), ('and', 6), ('00', 6), ('y', 6), ('o', 7), ('em', 7), ('classD\"MsoNormal\"CA0/pp', 8), ('of', 8), ('para', 10), ('de', 10), ('e', 10), ('a', 20)]"
       ]
      },
      {
       "output_type": "stream",
       "stream": "stdout",
       "text": [
        "\n"
       ]
      }
     ],
     "prompt_number": 19
    },
    {
     "cell_type": "markdown",
     "metadata": {},
     "source": [
      "Mom -> Maria Paula: mandar Amanh\u00e3 Desculpe Beatriz"
     ]
    },
    {
     "cell_type": "markdown",
     "metadata": {},
     "source": [
      "Maria Paula -> Mom: disciplicar dias loca\u00e7\u00e3o "
     ]
    },
    {
     "cell_type": "code",
     "collapsed": false,
     "input": [
      "print SentTopWords('cris@nikem.com.br')\n",
      "print '-----------------------------------------------'\n",
      "print ReceivedTopWords('cris@nikem.com.br')"
     ],
     "language": "python",
     "metadata": {},
     "outputs": [
      {
       "output_type": "stream",
       "stream": "stdout",
       "text": [
        "[('melhor', 2), ('melhor.Aguardo', 2), ('estive', 2), ('beatriz', 2), ('--00edabddecd00fde', 2), ('Monday,', 2), ('perceber', 2), ('Nov', 2), ('Uni\\xc3\\xa3o', 2), ('dias,vou', 2), ('ligar', 2), ('----------', 2), ('senhora', 2), ('mais', 2), ('mariapaula.saba@gmail.com', 2), ('inicioi', 2), ('nos', 2), ('em', 2), ('conhecermos', 2), ('September', 2), ('message', 2), ('nosso', 2), ('Sep', 2), ('Araras,', 2), ('/span/p', 2), ('outro', 2), ('dos', 2), ('porque', 2), ('do', 2), ('de', 2), ('op\\xc3\\xa7\\xc3\\xb5es', 2), ('Paula', 2), ('00', 2), ('favor', 2), ('0%', 2), ('email', 2), ('PM', 2), ('uns', 2), ('fotos,ve', 2), ('Forwarded', 2), ('.', 2), ('imovel', 2), ('n', 2), ('Fri,', 2), ('grupo,', 2), ('vc', 2), ('Itaipava', 2), ('duas', 2), ('olhada', 2), ('condominio', 2), ('Saba', 2), ('--00edabddec00fdd', 2), ('conseguindo', 2), ('ela', 2), ('envie', 2), ('assim', 2), ('-000', 2), ('()', 2), ('enviando', 2), ('retorna,s\\xc3\\xb3', 2), ('tava', 2), ('muito', 2), ('pagamento', 2), ('classD\"MsoNormal\"Op\\xc3\\xa7\\xc3\\xa3o-', 2), ('oi', 2), ('Message', 2), ('Op\\xc3\\xa7\\xc3\\xa3o-', 2), (':', 2), ('fora', 2), ('Original', 2), ('beatriz@imoveisrosa.com.br', 2), ('tipode', 2), ('Fw:', 2), ('no', 2), ('nas', 2), ('disse', 2), ('procurando.Desculpe', 2), ('grupo', 2), ('e', 2), ('A0', 2), ('div', 3), ('a', 3), ('lhe', 3), ('cris@nikem.com.br', 3), (',', 3), ('loca\\xc3\\xa7\\xc3\\xa3o', 3), ('Beatriz', 3), ('Para', 3), ('cola\\xc3\\xa7\\xc3\\xa3o', 3), ('uma', 3), ('o', 3), ('um', 3), ('-----', 4), ('casapara', 4), ('aqui', 4), ('mandar', 4), ('para', 5), ('-', 5), ('classD\"MsoNormal\"A0/p', 12), ('p', 27)]\n",
        "-----------------------------------------------\n",
        "[('Beijinhos.', 1), ('cart\\xe3o', 1), ('mudan\\xc3\\xa7a', 1), ('lugar', 1), ('ESMTPA', 1), ('DDECC', 1), ('charsetUTF-', 1), ('Filhota,', 1), ('Original', 1), ('Paulita,', 1), ('vencimento', 1), ('existe', 1), ('Paula', 1), ('fato,', 1), ('ganhos', 1), ('bmr0ybf..;', 1), ('X-RoundCube-Server:', 1), ('si0yxe..00.0.0...;', 1), ('fatura', 1), ('Saba', 1), ('rv:..0.0)', 1), ('(.NET', 1), ('onde', 1), ('mandado', 1), ('MIME-Version:', 1), ('bafe.f.ea.0@nikem.com.br', 1), ('historia', 1), ('U;', 1), ('Cc:', 1), ('00...0', 1), ('mmr0qap..;', 1), ('[.0.0.])', 1), ('!!', 1), ('dezembro', 1), ('(localhost', 1), ('troca', 1), ('Maria', 1), ('tamb\\xc3\\xa9m', 1), ('ARTIGO', 2), ('Paula.xls\"', 2), ('Cart?iso--?B??', 2), ('(Postfix)', 2), ('PAULA', 2), ('mariapaula.saba@gmail.com', 2), ('-', 2), ('da', 2), ('ESMTP', 2), ('(smtpauth-0.infolink.com.br', 2), ('for', 2), ('permitted', 2), ('artigo', 2), ('To:', 2), ('--------', 2), ('planilha', 2), ('Date:', 2), ('domain', 2), ('designates', 2), ('[00...])', 2), ('of', 2), ('(google.com:', 2), ('From:', 2), ('sender)', 2), ('para', 2), ('Subject:', 2), ('loja', 2), ('poder\\xc3\\xadamos,', 2), ('\"Gisele\"', 2), ('Gisa', 2), ('MARIA', 2), ('mariapaula.saba@gmail.com;', 2), ('(BRST)', 2), ('---_webmail0.infolink.com.brbf', 2), ('SMTP', 2), ('beijos', 2), ('Re:', 2), ('00...', 3), ('as', 3), ('(PDT)', 3), ('0:0:', 3), ('(PST)', 3), ('from', 3), (':0:', 3), ('(BRT)', 3), ('smtpauth-0.infolink.com.br', 4), ('Received:', 5), ('id', 5), ('a', 5), ('by', 5), ('e', 5), ('with', 5), ('Feb', 6), ('::', 6), ('cris@nikem.com.br', 6), ('Jan', 6), ('Sun,', 6), ('Sat,', 6), ('Sep', 7), ('00', 7), ('-000', 7), ('de', 10)]"
       ]
      },
      {
       "output_type": "stream",
       "stream": "stdout",
       "text": [
        "\n"
       ]
      }
     ],
     "prompt_number": 21
    },
    {
     "cell_type": "code",
     "collapsed": false,
     "input": [
      "print SentTopWords('lilly.laylou@gmail.com')\n",
      "print '-----------------------------------------------'\n",
      "print ReceivedTopWords('lilly.laylou@gmail.com')\n"
     ],
     "language": "python",
     "metadata": {},
     "outputs": [
      {
       "output_type": "stream",
       "stream": "stdout",
       "text": [
        "[('styleD\"-left:', 5), ('EXPO', 5), ('Aline', 5), ('vindas', 5), ('experi\\xc3\\xaancia', 5), ('fica', 5), ('Roman&#;;', 5), ('p\\xc3\\xb3s-gradua\\xc3\\xa7\\xc3\\xa3o', 5), ('n\\xc3\\xa3o', 5), ('are', 5), ('0);\"span', 5), ('dfafbda0f_0.', 6), ('casa', 6), ('application/octet-stream;', 6), ('people', 6), ('tava', 6), ('quero', 6), ('anivers\\xc3\\xa1rio', 6), ('-', 6), ('na', 6), ('or', 6), ('Shakespeare', 6), ('por', 6), ('quinta', 6), ('cellspacingD\"0\"', 6), ('poderia', 6), ('such', 6), ('initial;', 6), ('estar', 6), ('you', 6), ('Bras\\xc3\\xadlia', 7), ('D\"PT-BR\"A0/span/font/p', 7), ('bold;\"', 7), ('*Saiba', 7), ('eu', 7), ('*', 7), ('black;', 7), ('heightD\"\"', 7), ('classD\"MsoNormal\"bfont', 7), ('0);\"', 7), ('Su\\xc3\\xad\\xc3\\xa7a', 7), ('nt-weight:', 7), ('alignD\"left\"ba', 7), ('foi', 8), ('em', 8), ('fo', 8), ('compras', 8), ('para', 8), ('O', 8), ('styleD\"display:block\"', 8), ('will', 8), ('/span/font/p', 9), ('New', 9), ('Embaixada', 9), ('sizeD\"\"span', 9), ('styleD\"color:rgb(,', 9), ('and', 9), ('new', 10), ('\\xc3\\xa9', 10), ('sizeD\"\"spa', 10), ('o', 10), ('that', 10), ('0.000pt;\"font', 10), ('sizeD\"', 11), ('mas', 11), (';\"', 11), ('\"span', 11), ('a', 12), ('Estude', 12), ('faceD\"\"', 14), ('E0s', 14), ('hs', 14), ('to', 14), ('widthD\"\"', 14), ('Das', 14), ('dfafbda0f_0.0.', 15), ('Content-ID:', 16), ('image/gif;', 16), ('name\"image00.gif\"', 16), ('filename\"image00.gif\"', 16), ('borderD\"0\"', 17), ('lang', 20), ('the', 20), ('we', 20), ('sizeD\"\"', 21), ('Content-Disposition:', 22), ('X-Attachment-Id:', 22), ('base', 22), ('attachment;', 22), ('--00edccd00b0c', 23), ('0cm', 26), ('classD\"MsoNormal\"font', 26), ('de', 27), ('black;\"', 29), ('colorD\"black\"', 35), ('Helvetica;', 35), ('faceD\"Helvetica\"', 36), ('color:', 40), ('0pt;', 48), ('styleD\"font-size:', 50)]\n",
        "-----------------------------------------------\n",
        "[('Apr', 5), ('Fri,', 5), ('Mon,', 5), ('0);\"span', 5), ('feira', 5), ('May', 5), ('dunguete@hotmail.com', 5), ('Thu,', 5), (':00:', 5), ('ou', 5), ('tem', 5), ('valignD\"top\"', 5), ('cellspacingD\"0\"', 5), ('Jun', 5), ('ver', 6), ('trazer', 6), ('tava', 6), ('tenho', 6), ('seu', 6), ('ser', 6), ('s\\xc3\\xa3o', 6), ('lugares', 6), ('Paula', 6), ('almo\\xc3\\xa7o', 6), ('com', 6), ('depois', 6), ('Ilha', 6), ('nas', 6), ('vindas', 6), ('sono.', 6), ('alignD\"left\"ba', 6), ('chegar', 6), ('ir', 6), ('cellD\"0\"', 6), ('B', 6), ('como', 6), ('todos', 6), ('porque', 6), ('00//', 6), ('pode', 6), ('*Saiba', 7), ('uma', 7), ('E', 7), ('as', 7), ('classD\"titulo_tema\"', 7), ('Saba', 7), ('0);\"', 7), ('lilly.laylou@gmail.com', 7), ('&lt;a', 7), ('*', 7), ('Maria', 7), (':,', 8), ('horas', 8), ('mais', 8), ('Mar', 8), ('da', 8), ('praia', 8), ('quinta', 8), ('por', 8), ('tinha', 8), ('muito', 9), ('bjs', 9), ('heightD\"\"', 9), ('Aline', 9), ('Matias', 9), ('Em', 9), ('sua', 9), ('novembro', 10), ('styleD\"display:', 10), ('foi', 10), ('escreveu:', 10), ('ter', 10), ('fica', 10), ('block;\"', 11), ('Estude', 12), ('n\\xc3\\xa3o', 12), ('srcD\"\"', 12), ('-', 12), ('me', 12), ('na', 12), ('rgb(,', 13), ('os', 13), ('styleD\"color:', 13), ('widthD\"\"', 13), ('hs', 14), ('E0s', 14), ('Das', 14), ('borderD\"0\"', 14), ('em', 16), ('para', 16), ('00', 17), ('eu', 19), ('mas', 20), ('\\xc3\\xa9', 22), ('o', 24), ('do', 25), ('e', 31), ('que', 40), ('a', 45), ('de', 59)]"
       ]
      },
      {
       "output_type": "stream",
       "stream": "stdout",
       "text": [
        "\n"
       ]
      }
     ],
     "prompt_number": 20
    },
    {
     "cell_type": "markdown",
     "metadata": {},
     "source": [
      "Maria Paula -> Aline  compras Shakespeare Embaixada aniversario experiencia"
     ]
    },
    {
     "cell_type": "markdown",
     "metadata": {},
     "source": [
      "Aline -> Maria Paula: Estude praia horas lugares bjs"
     ]
    },
    {
     "cell_type": "code",
     "collapsed": false,
     "input": [],
     "language": "python",
     "metadata": {},
     "outputs": []
    }
   ],
   "metadata": {}
  }
 ]
}