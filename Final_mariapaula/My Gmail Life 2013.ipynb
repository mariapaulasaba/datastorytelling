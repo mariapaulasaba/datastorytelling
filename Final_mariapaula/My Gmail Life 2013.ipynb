{
 "metadata": {
  "name": ""
 },
 "nbformat": 3,
 "nbformat_minor": 0,
 "worksheets": [
  {
   "cells": [
    {
     "cell_type": "heading",
     "level": 1,
     "metadata": {},
     "source": [
      "My Gmail Life in the Year 2013      <img src=\"http://media.idownloadblog.com/wp-content/uploads/2011/02/Gmail-Icon.png\" width=\"80\" height=\"40\" />"
     ]
    },
    {
     "cell_type": "markdown",
     "metadata": {},
     "source": [
      "In 2013, besides ITP, I did a summer internship in California.\n",
      "\n",
      "First of all, let's import all my data:"
     ]
    },
    {
     "cell_type": "code",
     "collapsed": false,
     "input": [
      "import gzip\n",
      "import os\n",
      "\n",
      "import re\n",
      "import string\n",
      "import operator\n"
     ],
     "language": "python",
     "metadata": {},
     "outputs": [],
     "prompt_number": 20
    },
    {
     "cell_type": "code",
     "collapsed": false,
     "input": [
      "path = \"data2013/\"\n",
      "months = os.listdir( path )\n",
      "\n",
      "#deleting .DS_Store file\n",
      "del months[0]\n",
      "\n",
      "allFiles = []\n",
      "\n",
      "#reading the file's names\n",
      "for month in months:\n",
      "     files = os.listdir(path + month)\n",
      "     allFiles.append(files)\n",
      "\n",
      "#saving each email in a list, with separated lines     \n",
      "received_lines = []\n",
      "sent_lines = []\n",
      "list_lines = []\n",
      "\n",
      "#for calculating number of emails\n",
      "num_emails = []\n",
      "num_sent = []\n",
      "num_received = []\n",
      "num_lists = []\n",
      "num_totals = []\n",
      "total_emails = 0\n",
      "\n",
      "#saving senders\n",
      "senders = []\n",
      "lists = []\n",
      "\n",
      "for (files, month) in zip(allFiles, months):\n",
      "    count_sent = 0\n",
      "    count_received = 0\n",
      "    count_lists = 0\n",
      "\n",
      "    for file in files:\n",
      "        if 'gz' in file:\n",
      "            total_emails = total_emails + 1\n",
      "            f = gzip.open(path+month+'/'+file, 'rb')\n",
      "            file_content = f.readlines()\n",
      "            \n",
      "            for line in file_content:\n",
      "                #check the sender and if it is myself, count as sent.\n",
      "                if 'From: ' in line:\n",
      "                    if 'mariapaula.saba@gmail.com' in line:\n",
      "                        sent_lines.append(file_content)\n",
      "                        count_sent = count_sent + 1\n",
      "                        break\n",
      "                    else:\n",
      "                        #save the sender    \n",
      "                        index1 = line.find('<')\n",
      "                        index2 = line.find('>')\n",
      "                        address = line[index1+1:index2]\n",
      "                        address = address.replace('\\r', \"\")\n",
      "                        address = address.replace('To:', \"\")\n",
      "                        address = address.replace('From:', \"\")\n",
      "                        address = address.replace('X-ESDI-MailScanner-',\"\")\n",
      "                        continue\n",
      "                if 'Delivered-To:' in line:\n",
      "                    continue\n",
      "                elif 'In-Reply-To:' in line:\n",
      "                    continue\n",
      "                else:\n",
      "                    if 'To:' in line:     \n",
      "                        #check if it was really for me\n",
      "                        if 'mariapaula.saba@gmail.com' in line:                  \n",
      "                            received_lines.append(file_content)\n",
      "                            count_received = count_received + 1\n",
      "                            senders.append(address)\n",
      "                            break\n",
      "                        else:\n",
      "                            count_lists = count_lists + 1\n",
      "                            index1 = line.find('<')\n",
      "                            index2 = line.find('>')\n",
      "                            recipient = line[index1+1:index2]\n",
      "                            recipient = recipient.replace('\\r', \"\")\n",
      "                            recipient = recipient.replace('To:', \"\")\n",
      "                            recipient = recipient.replace('From:', \"\")\n",
      "                            recipient = recipient.replace('X-Apparently- ', \"\")\n",
      "                            list_lines.append(file_content)\n",
      "                            lists.append(recipient)\n",
      "                            break\n",
      "            f.close()\n",
      "            \n",
      "            \n",
      "    num_received.append(count_received)        \n",
      "    num_sent.append(count_sent)\n",
      "    num_emails.append(count_received + count_sent)\n",
      "    num_lists.append(count_lists)\n",
      "    num_totals.append(count_received + count_sent + count_lists)\n",
      " \n",
      "    \n",
      "print \"In 2013, I have sent\", len(sent_lines), \"emails.\"\n",
      "print \"And I probably received more, but I kept\", len(received_lines), \"emails.\"\n",
      "print \"I also received\", len(list_lines), \"emails that were not addressed directly to me.\"\n",
      "print \"Which sums up a total of\", total_emails, \"emails.\"\n"
     ],
     "language": "python",
     "metadata": {},
     "outputs": [
      {
       "output_type": "stream",
       "stream": "stdout",
       "text": [
        "In 2013, I have sent 1782 emails.\n",
        "And I probably received more, but I kept 2034 emails.\n",
        "I also received 16812 emails that were not addressed directly to me.\n",
        "Which sums up a total of 20641 emails.\n"
       ]
      }
     ],
     "prompt_number": 21
    },
    {
     "cell_type": "heading",
     "level": 3,
     "metadata": {},
     "source": [
      "More than 80% of my emails come from lists and non-direct sources"
     ]
    },
    {
     "cell_type": "code",
     "collapsed": false,
     "input": [
      "# who did I write to?\n",
      "receivers = []\n",
      "count_me = 0\n",
      "\n",
      "for email in sent_lines:\n",
      "    for line in email:\n",
      "        if 'Delivered-To:' in line:\n",
      "            continue\n",
      "        elif 'In-Reply-To:' in line:\n",
      "            #print line\n",
      "            continue\n",
      "        else:\n",
      "            if 'To:' in line:\n",
      "                if 'mariapaula.saba@gmail.com' in line:\n",
      "                    count_me = count_me + 1\n",
      "                    break\n",
      "                else:\n",
      "                   # print line\n",
      "                    index1 = line.find('<')\n",
      "                    index2 = line.find('>')\n",
      "                    address = line[index1+1:index2]\n",
      "                    address = address.replace('\\r', \"\")\n",
      "                    address = address.replace('To:', \"\")\n",
      "                    receivers.append(address)  \n",
      "                    break\n",
      "\n",
      "            \n",
      "            \n",
      "print \"I wrote\", count_me, \"emails for myself (that were not deleted)!!!\"            \n",
      "print \"And I actually sent\", len(receivers), \"emails out to the world.\"\n"
     ],
     "language": "python",
     "metadata": {},
     "outputs": [
      {
       "output_type": "stream",
       "stream": "stdout",
       "text": [
        "I wrote 25 emails for myself (that were not deleted)!!!\n",
        "And I actually sent 1646 emails out to the world.\n"
       ]
      }
     ],
     "prompt_number": 22
    },
    {
     "cell_type": "raw",
     "metadata": {},
     "source": [
      "Next thing to do is to check if there is any pattern across time. My email usage certainly did increase over time. But how much? And how is the increase related to events in my life? Let's plot a graphic to find out!"
     ]
    },
    {
     "cell_type": "code",
     "collapsed": false,
     "input": [
      "pyplot.plot(range(1,len(months)+1), num_totals)\n",
      "pyplot.plot(range(1,len(months)+1), num_received)\n",
      "pyplot.plot(range(1,len(months)+1), num_sent)\n",
      "\n"
     ],
     "language": "python",
     "metadata": {},
     "outputs": [
      {
       "metadata": {},
       "output_type": "pyout",
       "prompt_number": 23,
       "text": [
        "[<matplotlib.lines.Line2D at 0x1caa9ddd0>]"
       ]
      },
      {
       "metadata": {},
       "output_type": "display_data",
       "png": "[encoded data removed]",
       "text": [
        "<matplotlib.figure.Figure at 0x1c571b890>"
       ]
      }
     ],
     "prompt_number": 23
    },
    {
     "cell_type": "code",
     "collapsed": false,
     "input": [
      "pyplot.plot(range(1,len(months)+1), num_emails)\n",
      "pyplot.plot(range(1,len(months)+1), num_received)\n",
      "pyplot.plot(range(1,len(months)+1), num_sent)\n",
      "\n"
     ],
     "language": "python",
     "metadata": {},
     "outputs": [
      {
       "metadata": {},
       "output_type": "pyout",
       "prompt_number": 24,
       "text": [
        "[<matplotlib.lines.Line2D at 0x1cab50c90>]"
       ]
      },
      {
       "metadata": {},
       "output_type": "display_data",
       "png": "[encoded data removed]",
       "text": [
        "<matplotlib.figure.Figure at 0x1caa92b10>"
       ]
      }
     ],
     "prompt_number": 24
    },
    {
     "cell_type": "code",
     "collapsed": false,
     "input": [
      "pyplot.plot(range(1,len(months)+1), num_lists)\n",
      "pyplot.plot(range(1,len(months)+1), num_received)\n",
      "\n",
      "\n"
     ],
     "language": "python",
     "metadata": {},
     "outputs": [
      {
       "metadata": {},
       "output_type": "pyout",
       "prompt_number": 25,
       "text": [
        "[<matplotlib.lines.Line2D at 0x1c55e09d0>]"
       ]
      },
      {
       "metadata": {},
       "output_type": "display_data",
       "png": "[encoded data removed]",
       "text": [
        "<matplotlib.figure.Figure at 0x1caa92bd0>"
       ]
      }
     ],
     "prompt_number": 25
    },
    {
     "cell_type": "markdown",
     "metadata": {},
     "source": [
      "Now I receive about 10x more emails than I send (it was about 6x before ITP students list). I asked myself if the reason was groupon and other promotions emails but I delete most of them. The students list is definetely to blame, since we can see the decrease of emails from lists in summer time. "
     ]
    },
    {
     "cell_type": "code",
     "collapsed": false,
     "input": [
      "smon = 0\n",
      "stue = 0\n",
      "swed = 0\n",
      "sthu = 0\n",
      "sfri = 0\n",
      "ssat = 0\n",
      "ssun = 0\n",
      "\n",
      "#sent_weekdays = {}\n",
      "\n",
      "for email in sent_lines:\n",
      "    for line in email:\n",
      "        if 'Date: Mon' in line:\n",
      "#            index = line.find(',')\n",
      "#            date = line[index+2:index+13]\n",
      "#            sent_weekdays[date] = 'Monday'\n",
      "            smon = smon + 1\n",
      "        if 'Date: Tue' in line:\n",
      "#            index = line.find(',')\n",
      "#            date = line[index+2:index+13]\n",
      "#            sent_weekdays[date] = 'Tuesday'\n",
      "            stue = stue + 1\n",
      "        if 'Date: Wed' in line:\n",
      "#            index = line.find(',')\n",
      "#            date = line[index+2:index+13]\n",
      "#            sent_weekdays[date] = 'Wednesday'\n",
      "            swed = swed + 1\n",
      "        if 'Date: Thu' in line:\n",
      "#            index = line.find(',')\n",
      "#            date = line[index+2:index+13]\n",
      "#            sent_weekdays[date] = 'Thursday'\n",
      "            sthu = sthu + 1\n",
      "        if 'Date: Fri' in line:\n",
      "#            index = line.find(',')\n",
      "#            date = line[index+2:index+13]\n",
      "#            sent_weekdays[date] = 'Friday'\n",
      "            sfri = sfri + 1\n",
      "        if 'Date: Sat' in line:\n",
      "#            index = line.find(',')\n",
      "#            date = line[index+2:index+13]\n",
      "#            sent_weekdays[date] = 'Saturday'\n",
      "            ssat = ssat + 1\n",
      "        if 'Date: Sun' in line:\n",
      "#            index = line.find(',')\n",
      "#            date = line[index+2:index+13]\n",
      "#            sent_weekdays[date] = 'Sunday'\n",
      "            ssun = ssun + 1\n",
      "            \n",
      "#print len(sent_weekdays)\n",
      "print \"I've sent\", smon, \"emails on Mondays.\"\n",
      "print \"I've sent\", stue, \"emails on Tuesdays.\"\n",
      "print \"I've sent\", swed, \"emails on Wednesdays.\"\n",
      "print \"I've sent\", sthu, \"emails on Thursdays.\"\n",
      "print \"I've sent\", sfri, \"emails on Fridays.\"\n",
      "print \"I've sent\", ssat, \"emails on Saturdays.\"\n",
      "print \"I've sent\", ssun, \"emails on Sundays.\"\n",
      "\n",
      "sent_week = [smon, stue, swed, sthu, sfri, ssat, ssun]\n"
     ],
     "language": "python",
     "metadata": {},
     "outputs": [
      {
       "output_type": "stream",
       "stream": "stdout",
       "text": [
        "I've sent 361 emails on Mondays.\n",
        "I've sent 348 emails on Tuesdays.\n",
        "I've sent 415 emails on Wednesdays.\n",
        "I've sent 359 emails on Thursdays.\n",
        "I've sent 248 emails on Fridays.\n",
        "I've sent 220 emails on Saturdays.\n",
        "I've sent 317 emails on Sundays.\n"
       ]
      }
     ],
     "prompt_number": 26
    },
    {
     "cell_type": "code",
     "collapsed": false,
     "input": [
      "rmon = 0\n",
      "rtue = 0\n",
      "rwed = 0\n",
      "rthu = 0\n",
      "rfri = 0\n",
      "rsat = 0\n",
      "rsun = 0\n",
      "\n",
      "#received_weekdays = {}\n",
      "\n",
      "for email in received_lines:\n",
      "    for line in email:\n",
      "        if 'Date: Mon' in line:\n",
      "#            index = line.find(',')\n",
      "#            date = line[index+2:index+13]\n",
      "#            sent_weekdays[date] = 'Monday'\n",
      "            rmon = rmon + 1\n",
      "        if 'Date: Tue' in line:\n",
      "#            index = line.find(',')\n",
      "#            date = line[index+2:index+13]\n",
      "#            sent_weekdays[date] = 'Tuesday'\n",
      "            rtue = rtue + 1\n",
      "        if 'Date: Wed' in line:\n",
      "#            index = line.find(',')\n",
      "#            date = line[index+2:index+13]\n",
      "#            sent_weekdays[date] = 'Wednesday'\n",
      "            rwed = rwed + 1\n",
      "        if 'Date: Thu' in line:\n",
      "#            index = line.find(',')\n",
      "#            date = line[index+2:index+13]\n",
      "#            sent_weekdays[date] = 'Thursday'\n",
      "            rthu = rthu + 1\n",
      "        if 'Date: Fri' in line:\n",
      "#            index = line.find(',')\n",
      "#            date = line[index+2:index+13]\n",
      "#            sent_weekdays[date] = 'Friday'\n",
      "            rfri = rfri + 1\n",
      "        if 'Date: Sat' in line:\n",
      "#            index = line.find(',')\n",
      "#            date = line[index+2:index+13]\n",
      "#            sent_weekdays[date] = 'Saturday'\n",
      "            rsat = rsat + 1\n",
      "        if 'Date: Sun' in line:\n",
      "#            index = line.find(',')\n",
      "#            date = line[index+2:index+13]\n",
      "#            sent_weekdays[date] = 'Sunday'\n",
      "            rsun = rsun + 1\n",
      "            \n",
      "#print len(sent_weekdays)\n",
      "print \"I've received\", rmon, \"emails on Mondays.\"\n",
      "print \"I've received\", rtue, \"emails on Tuesdays.\"\n",
      "print \"I've received\", rwed, \"emails on Wednesdays.\"\n",
      "print \"I've received\", rthu, \"emails on Thursdays.\"\n",
      "print \"I've received\", rfri, \"emails on Fridays.\"\n",
      "print \"I've received\", rsat, \"emails on Saturdays.\"\n",
      "print \"I've received\", rsun, \"emails on Sundays.\"\n",
      "\n",
      "received_week = [rmon, rtue, rwed, rthu, rfri, rsat, rsun]\n"
     ],
     "language": "python",
     "metadata": {},
     "outputs": [
      {
       "output_type": "stream",
       "stream": "stdout",
       "text": [
        "I've received 405 emails on Mondays.\n",
        "I've received 400 emails on Tuesdays.\n",
        "I've received 393 emails on Wednesdays.\n",
        "I've received 349 emails on Thursdays.\n",
        "I've received 313 emails on Fridays.\n",
        "I've received 204 emails on Saturdays.\n",
        "I've received 199 emails on Sundays.\n"
       ]
      }
     ],
     "prompt_number": 27
    },
    {
     "cell_type": "code",
     "collapsed": false,
     "input": [
      "lmon = 0\n",
      "ltue = 0\n",
      "lwed = 0\n",
      "lthu = 0\n",
      "lfri = 0\n",
      "lsat = 0\n",
      "lsun = 0\n",
      "\n",
      "\n",
      "for email in list_lines:\n",
      "    for line in email:\n",
      "        if 'Date: Mon' in line:\n",
      "            lmon = lmon + 1\n",
      "        if 'Date: Tue' in line:\n",
      "            ltue = ltue + 1\n",
      "        if 'Date: Wed' in line:\n",
      "            lwed = lwed + 1\n",
      "        if 'Date: Thu' in line:\n",
      "            lthu = lthu + 1\n",
      "        if 'Date: Fri' in line:\n",
      "            lfri = lfri + 1\n",
      "        if 'Date: Sat' in line:\n",
      "            lsat = lsat + 1\n",
      "        if 'Date: Sun' in line:\n",
      "            lsun = lsun + 1\n",
      "            \n",
      "#print len(sent_weekdays)\n",
      "print \"I've received from lists\", lmon, \"emails on Mondays.\"\n",
      "print \"I've received from lists\", ltue, \"emails on Tuesdays.\"\n",
      "print \"I've received from lists\", lwed, \"emails on Wednesdays.\"\n",
      "print \"I've received from lists\", lthu, \"emails on Thursdays.\"\n",
      "print \"I've received from lists\", lfri, \"emails on Fridays.\"\n",
      "print \"I've received from lists\", lsat, \"emails on Saturdays.\"\n",
      "print \"I've received from lists\", lsun, \"emails on Sundays.\"\n",
      "\n",
      "lists_week = [lmon, ltue, lwed, lthu, lfri, lsat, lsun]\n"
     ],
     "language": "python",
     "metadata": {},
     "outputs": [
      {
       "output_type": "stream",
       "stream": "stdout",
       "text": [
        "I've received 2904 emails on Mondays.\n",
        "I've received 3065 emails on Tuesdays.\n",
        "I've received 3179 emails on Wednesdays.\n",
        "I've received 3247 emails on Thursdays.\n",
        "I've received 2737 emails on Fridays.\n",
        "I've received 1349 emails on Saturdays.\n",
        "I've received 1441 emails on Sundays.\n"
       ]
      }
     ],
     "prompt_number": 36
    },
    {
     "cell_type": "code",
     "collapsed": false,
     "input": [
      "pyplot.bar(range(7), received_week, 0.7, color = 'r')"
     ],
     "language": "python",
     "metadata": {},
     "outputs": [
      {
       "metadata": {},
       "output_type": "pyout",
       "prompt_number": 28,
       "text": [
        "<Container object of 7 artists>"
       ]
      },
      {
       "metadata": {},
       "output_type": "display_data",
       "png": "[encoded data removed]",
       "text": [
        "<matplotlib.figure.Figure at 0x1cac516d0>"
       ]
      }
     ],
     "prompt_number": 28
    },
    {
     "cell_type": "code",
     "collapsed": false,
     "input": [
      "pyplot.bar(range(7), lists_week, 0.7)\n"
     ],
     "language": "python",
     "metadata": {},
     "outputs": [
      {
       "metadata": {},
       "output_type": "pyout",
       "prompt_number": 37,
       "text": [
        "<Container object of 7 artists>"
       ]
      },
      {
       "metadata": {},
       "output_type": "display_data",
       "png": "[encoded data removed]",
       "text": [
        "<matplotlib.figure.Figure at 0x1caacc950>"
       ]
      }
     ],
     "prompt_number": 37
    },
    {
     "cell_type": "code",
     "collapsed": false,
     "input": [
      "pyplot.bar(range(7), sent_week, 0.7, color = 'g')\n"
     ],
     "language": "python",
     "metadata": {},
     "outputs": [
      {
       "metadata": {},
       "output_type": "pyout",
       "prompt_number": 38,
       "text": [
        "<Container object of 7 artists>"
       ]
      },
      {
       "metadata": {},
       "output_type": "display_data",
       "png": "[encoded data removed]",
       "text": [
        "<matplotlib.figure.Figure at 0x1a4ccf890>"
       ]
      }
     ],
     "prompt_number": 38
    },
    {
     "cell_type": "markdown",
     "metadata": {},
     "source": [
      "At ITP, Sundays are not weekends. Actually Fridays are more weekend than Sundays."
     ]
    },
    {
     "cell_type": "code",
     "collapsed": false,
     "input": [
      "#A year has 52 weeks. Averages are below:\n",
      "\n",
      "print 'Average from Monday to Sunday:'\n",
      "\n",
      "for number in sent_week:\n",
      "    average = number/52\n",
      "    print 'Sent:', average, 'per day'\n",
      "    \n",
      "for number in received_week:\n",
      "    average = number/52\n",
      "    print 'Received:', average, 'per day'\n",
      "    \n",
      "       \n",
      "for number in lists_week:\n",
      "    average = number/52\n",
      "    print 'Received from lists:', average, 'per day'\n",
      "    \n",
      "       "
     ],
     "language": "python",
     "metadata": {},
     "outputs": [
      {
       "output_type": "stream",
       "stream": "stdout",
       "text": [
        "Average from Monday to Sunday:\n",
        "Sent: 6 per day\n",
        "Sent: 6 per day\n",
        "Sent: 7 per day\n",
        "Sent: 6 per day\n",
        "Sent: 4 per day\n",
        "Sent: 4 per day\n",
        "Sent: 6 per day\n",
        "Received: 7 per day\n",
        "Received: 7 per day\n",
        "Received: 7 per day\n",
        "Received: 6 per day\n",
        "Received: 6 per day\n",
        "Received: 3 per day\n",
        "Received: 3 per day\n",
        "Received from lists: 55 per day\n",
        "Received from lists: 58 per day\n",
        "Received from lists: 61 per day\n",
        "Received from lists: 62 per day\n",
        "Received from lists: 52 per day\n",
        "Received from lists: 25 per day\n",
        "Received from lists: 27 per day\n"
       ]
      }
     ],
     "prompt_number": 39
    },
    {
     "cell_type": "markdown",
     "metadata": {},
     "source": [
      "Emails from list increased form around 30 to 60 a day!"
     ]
    },
    {
     "cell_type": "code",
     "collapsed": false,
     "input": [
      "def FreqDist(words):   \n",
      "    data = {}\n",
      "    for word in words.split():\n",
      "        data[word] = data.get(word,0) + 1\n",
      "    #data = sorted(data.iteritems(), key=operator.itemgetter(1))  \n",
      "    return data\n",
      "\n",
      "def FreqDistSorted(words):   \n",
      "    data = {}\n",
      "    for word in words.split():\n",
      "        data[word] = data.get(word,0) + 1\n",
      "    data = sorted(data.iteritems(), key=operator.itemgetter(1))  \n",
      "    return data\n",
      "\n",
      "def LinesToTextList(emails):\n",
      "    saveText = []\n",
      "    for email in emails:\n",
      "        #transforming a list of lines into text\n",
      "        text = '\\''.join(map(str, email))\n",
      "        #to avoid portuguese bugs, I'm replacing our weird signs back again \n",
      "        text = text.replace(\"\\'\", \"\")\n",
      "        text = text.replace(\"=E7\", \"\u00e7\")\n",
      "        text = text.replace(\"=E9\", \"\u00e9\")\n",
      "        text = text.replace(\"=EA\", \"\u00ea\")\n",
      "        text = text.replace(\"=F5\", \"\u00f5\")\n",
      "        text = text.replace(\"=F3\", \"\u00f3\")    \n",
      "        text = text.replace(\"=E1\", \"\u00e1\")\n",
      "        text = text.replace(\"=E3\", \"\u00e3\")   \n",
      "        text = text.replace(\"=ED\", \"\u00ed\")\n",
      "        text = text.replace(\"=FA\", \"\u00fa\")\n",
      "        text = text.replace(\"=\", \"\")\n",
      "        \n",
      "        \n",
      "        #avoid email language words\n",
      "        text = text.replace(\"<font>\",\"\")\n",
      "        text = text.replace(\"<br>\", \"\")\n",
      "        text = text.replace(\"<span>\", \"\")\n",
      "        text = text.replace(\"<div>\", \"\")\n",
      "        text = text.replace(\"</div>\", \"\")\n",
      "        text = text.replace(\"<a>\", \"\")\n",
      "        text = text.replace(\"</a>\", \"\")\n",
      "        text = text.replace(\">\", \"\")\n",
      "        text = text.replace(\"<\", \"\")\n",
      "        text = text.replace(\"Yahoo\", \"\")\n",
      "        text = text.replace(\"target3D\\\"_blank\\\"\", \"\")\n",
      "        text = text.replace(\"&gt;\", \"\")\n",
      "        text = text.replace(\"|\", \"\")\n",
      "        text = text.replace(\"style3D\\\"LINE-HEIGHT:\", \"\")\n",
      "        text = text.replace(\"style3D\\\"MARGIN:\", \"\")\n",
      "        text = text.replace(\"style3D\\\"BORDER-COLLAPSE:\", \"\")\n",
      "        text = text.replace(\"style3D\\\"MIN-HEIGHT:\", \"\")\n",
      "        text = text.replace(\"font-family:\", \"\")\n",
      "        text = text.replace(\"font-weight:\", \"\")\n",
      "        text = text.replace(\"Arial\", \"\")       \n",
      "        text = text.replace(\"Sans-serif\", \"\")       \n",
      "        text = text.replace(\"margin:\", \"\")\n",
      "        text = text.replace(\"dir3Dltr&lt;A:\", \"\")\n",
      "        text = text.replace(\"padding\",\"\")\n",
      "        text = text.replace(\"Content-Type:\",\"\")\n",
      "        text = text.replace(\"0px\\\"font'\",\"\")\n",
      "        text = text.replace(\"YAHOO.COM.BR\",\"\")\n",
      "        text = text.replace(\"style3D\\\"font-family:\",\"\")\n",
      "        text = text.replace(\"style3D\\\"FONT-FAMILY:\",\"\")\n",
      "        text = text.replace(\"style3D\\\"FONT-WEIGHT:\",\"\")\n",
      "        text = text.replace(\"lang3D\\\"EN-GB\\\">A0</span></p>\",\"\")\n",
      "        text = text.replace(\"style3D\\\"padding-left\",\"\")\n",
      "        text = text.replace(\"text-decoration:\",\"\")\n",
      "        text = text.replace(\"rel3D\\\"nofollow\\\"\",\"\")\n",
      "        text = text.replace(\"bgcolor3D\",\"\")\n",
      "        text = text.replace(\"&nbsp;\",\"\")\n",
      "                           \n",
      "                            \n",
      "        #avoid numbers\n",
      "        text = text.replace(\"1\",\"\")\n",
      "        text = text.replace(\"2\",\"\")\n",
      "        text = text.replace(\"3\",\"\")\n",
      "        text = text.replace(\"4\",\"\")\n",
      "        text = text.replace(\"5\",\"\")\n",
      "        text = text.replace(\"6\",\"\")\n",
      "        text = text.replace(\"7\",\"\")\n",
      "        text = text.replace(\"8\",\"\")\n",
      "        text = text.replace(\"9\",\"\")\n",
      "\n",
      "   \n",
      "        #save text in a list of text-emails\n",
      "        saveText.append(text)\n",
      "    return saveText\n",
      "\n",
      "def FindSentEmailsBy(name):\n",
      "    saveEmails = []\n",
      "    for email in received_lines:\n",
      "        for line in email:\n",
      "            if 'From: ' in line:\n",
      "                if name in line:\n",
      "                    saveEmails.append(email)\n",
      "                    break\n",
      "    return saveEmails\n",
      "\n",
      "\n",
      "def FindSentEmailsTo(name):\n",
      "    saveEmails = []\n",
      "    for email in sent_lines:\n",
      "        for line in email:\n",
      "            if 'Delivered-To:' in line:\n",
      "                continue\n",
      "            elif 'In-Reply-To:' in line:\n",
      "                #print line\n",
      "                continue\n",
      "            else:\n",
      "                if 'To:' in line:                  \n",
      "                    if name in line:\n",
      "                        saveEmails.append(email)\n",
      "                        break\n",
      "    return saveEmails\n",
      "\n",
      "\n",
      "def TextListToFreq(textList):\n",
      "    finalFreq = {}\n",
      "    for email in textList:\n",
      "        freq = FreqDist(email)\n",
      "        finalFreq = dict(finalFreq.items() + freq.items())\n",
      "\n",
      "    bigValues = []    \n",
      "    for k, v in finalFreq.iteritems():\n",
      "        if len(k) > 30:\n",
      "            bigValues.append(k)        \n",
      "    for word in bigValues:\n",
      "        del finalFreq[word]\n",
      "    \n",
      "    sortedFreq = sorted(finalFreq.iteritems(), key=operator.itemgetter(1))\n",
      "    return sortedFreq\n",
      "\n",
      "\n",
      "def ReceivedTopWords(sender):\n",
      "    senderEmails = FindSentEmailsBy(sender)\n",
      "    senderTextList = LinesToTextList(senderEmails)\n",
      "    \n",
      "    freqWords = TextListToFreq(senderTextList)\n",
      "    top100 = len(freqWords)-100\n",
      "    return freqWords[top100:]\n",
      "\n",
      "\n",
      "def SentTopWords(receiver):\n",
      "    receiverEmails = FindSentEmailsTo(receiver)\n",
      "    receiverTextList = LinesToTextList(receiverEmails)\n",
      "    \n",
      "    freqWords = TextListToFreq(receiverTextList)\n",
      "    top100 = len(freqWords)-100\n",
      "    return freqWords[top100:]"
     ],
     "language": "python",
     "metadata": {},
     "outputs": [],
     "prompt_number": 31
    },
    {
     "cell_type": "code",
     "collapsed": false,
     "input": [
      "senders_text = '\\''.join(map(str, senders))\n",
      "senders_text = senders_text.replace('\\'', \" \")\n",
      "\n",
      "freqSenders = FreqDistSorted(senders_text)\n",
      "top10 = len(freqSenders)-10\n",
      "\n",
      "print freqSenders[top10:]\n"
     ],
     "language": "python",
     "metadata": {},
     "outputs": [
      {
       "output_type": "stream",
       "stream": "stdout",
       "text": [
        "[('victoria.fang@intel.com', 27), ('interativo@tam.com.br', 28), ('email.campaign@sg.booking.com', 30), ('denise.filippo@gmail.com', 31), ('schorrdesign@gmail.com', 48), ('neuter@thuya.com.br', 51), ('e@yipit.com', 52), ('pinbot@pinterest.com', 55), ('LocalDeals@amazon.com', 66), ('info@meetup.com', 131)]\n"
       ]
      }
     ],
     "prompt_number": 32
    },
    {
     "cell_type": "code",
     "collapsed": false,
     "input": [
      "receivers_text = '\\''.join(map(str, receivers))\n",
      "receivers_text = receivers_text.replace('\\'', \" \")\n",
      "\n",
      "freqReceivers = FreqDistSorted(receivers_text)\n",
      "top10 = len(freqReceivers)-10\n",
      "\n",
      "print freqReceivers[top10:]\n"
     ],
     "language": "python",
     "metadata": {},
     "outputs": [
      {
       "output_type": "stream",
       "stream": "stdout",
       "text": [
        "[('csinders@gmail.com', 24), ('jcorrea2@cca.edu', 24), ('patrik.rj@gmail.com', 26), ('victoria.fang@intel.com', 31), ('perhaxis@gmail.com', 32), ('alexabreu@gmail.com', 37), ('neuter@thuya.com.br', 53), ('the-angries@googlegroups.com', 69), ('itp-students@lists.nyu.edu', 154), ('schorrdesign@gmail.com', 185)]\n"
       ]
      }
     ],
     "prompt_number": 33
    },
    {
     "cell_type": "code",
     "collapsed": false,
     "input": [
      "list_text = '\\''.join(map(str, lists))\n",
      "list_text = list_text.replace('\\'', \" \")\n",
      "\n",
      "freqList = FreqDistSorted(list_text)\n",
      "top10 = len(freqList)-10\n",
      "\n",
      "print freqList[top10:]\n"
     ],
     "language": "python",
     "metadata": {},
     "outputs": [
      {
       "output_type": "stream",
       "stream": "stdout",
       "text": [
        "[('h=Date:Message-ID:Subject:MIME-Version:Content-Type;', 123), ('support@academia.edu', 127), ('h=MIME-Version:Content-Type:Content-Transfer-Encoding:Date:Reply-Subject:List-Unsubscribe:Message-ID;', 146), ('esdi-42@googlegroups.com', 153), ('h=Subject:Date:MIME-Version:Content-Type:List-Unsubscribe;', 161), ('h=DKIM-Signature:Sender:Date:Message-ID:Subject:MIME-Version:Content-Type:X-LinkedIn-Template:X-LinkedIn-Class:X-LinkedIn-fbl;', 180), ('Reply-', 279), ('the-angries@googlegroups.com', 995), ('diario_grafico@yahoogrupos.com.br', 1233), ('itp-students@lists.nyu.edu', 11378)]\n"
       ]
      }
     ],
     "prompt_number": 42
    },
    {
     "cell_type": "markdown",
     "metadata": {},
     "source": [
      "ITPers. You've sent me more than 10.000 emails this year! You beated my friends list by far! Well, I can't complain because the Student list is the second address I most send emails to (after Bernardo). And people at Intel (my sumer job) have big presence in the ranking, even though it was only 3 months (out of 10). Imagine if this was my regular job!"
     ]
    },
    {
     "cell_type": "code",
     "collapsed": false,
     "input": [
      "print SentTopWords('schorrdesign@gmail.com')\n",
      "print '-----------------------------------------------'\n",
      "print ReceivedTopWords('schorrdesign@gmail.com')\n"
     ],
     "language": "python",
     "metadata": {},
     "outputs": [
      {
       "output_type": "stream",
       "stream": "stdout",
       "text": [
        "[('brain-computer', 8), ('till', 8), ('hardware', 8), ('Sheiva', 8), ('Moving', 8), ('styleD\"&#;Times', 8), ('see.', 8), ('Airlines', 8), ('styleD\"font-siz', 8), ('easy', 8), ('submissions', 8), ('sold', 8), ('jam', 8), ('modo', 8), ('langD\"PT-BR\"', 8), ('Sleep', 8), ('Microsoft', 8), ('Rezvani', 8), ('LD', 8), ('magazine', 8), ('Inline', 8), ('Frank-Ratchye', 8), ('Museum', 8), ('Project', 8), ('artist', 8), ('routing', 8), ('serif\"', 8), ('dev', 8), ('por', 8), ('Flight', 8), ('SU', 8), ('Studio', 8), ('Research', 9), ('nD\"\"', 9), ('festival', 9), ('Napa', 9), ('/tr', 9), ('filesp0@gmail.com', 9), ('Groundbreaker', 9), ('prototypes', 9), ('community', 9), ('langD\"PT-BR\"u/uA0u/u/span/p', 9), ('MSR', 9), ('img', 10), ('and', 10), ('tuition', 10), ('--0dbaafcef0e0d', 10), ('STUDIO', 10), ('tem', 10), ('e-mail', 10), ('classD\"\"td', 10), ('pensar', 10), ('yaa', 10), ('cellD\"0\"tbodytrtd', 10), ('May', 10), ('this', 10), ('Dorkshop', 11), ('hspaceD\"0\"', 11), ('Games', 11), ('Beneficiary', 11), ('vspaceD\"0\"', 11), ('Max', 11), ('or', 12), ('Ticket', 12), ('/td', 12), ('Hey', 12), ('nCAo', 12), ('styleD\"text-align:justify\"', 12), ('work', 13), ('Marla', 13), ('classD\"MsoNormal\"span', 13), ('A0', 13), ('faceD\"verdana,', 14), ('is', 14), ('P', 14), ('styleD\"&#;neo', 14), ('image', 14), ('emotion', 14), ('Bank', 14), ('do', 14), ('Hack-A-Brain', 15), ('td', 15), ('Creative', 15), ('sans', 15), ('game', 15), ('styleD\"text-align:justify\"span', 16), ('/td/tr/tbody/table', 17), ('style-', 17), ('-00--', 17), ('shapeD\"rect\"', 18), ('/spana', 18), ('styleD\"white-space:pre-wrap\"', 20), ('**', 21), ('--------------', 22), ('b//b', 27), ('*/*', 27), ('IndieCade', 32), ('widthD\"00%\"', 36), ('px', 37), ('styleD\":px', 45)]\n",
        "-----------------------------------------------\n",
        "[('Jun', 7), ('Jul', 7), ('Oct', 7), ('project', 8), ('has', 8), ('se', 8), ('let', 8), ('()', 8), ('found', 8), ('Students', 8), ('us', 8), ('order', 8), ('we', 8), ('both', 8), ('software', 8), ('alignD\"middle\"', 8), ('Microsoft', 8), ('testing', 8), ('if', 8), ('group', 8), ('Right\"', 8), ('conditional', 8), ('York', 8), ('my', 8), ('Project', 8), ('Best', 8), ('Nokia', 8), ('long', 8), ('see', 8), ('also', 9), ('classD\"MsoNormal\"span', 9), ('n/strong/p', 9), ('Supnick', 9), ('he', 9), ('MSR', 9), ('widthD\"\"', 9), ('prototypes', 9), ('styleD\"Times;normal\"A0/spa', 9), ('styleD\"Times;normal\"A0/span/b', 9), ('Research', 9), ('borderD\"0\"', 9), ('Bernardo.', 10), ('best', 10), ('classD\"datadisplaytable\"', 10), ('full', 10), ('include', 10), ('number', 10), ('resources', 10), ('your', 10), ('Meeting', 10), ('ITP', 10), ('Type', 10), ('Registered**', 10), ('SU', 10), ('ext.', 10), ('Nov', 10), ('ask', 10), ('/p', 10), ('Studio', 10), ('Sat,', 10), ('Inquiry.', 10), ('Letter', 10), ('fan', 10), ('are', 10), ('Field', 11), ('state', 11), ('K.', 11), ('altD\"E-mail\"', 12), ('Street', 12), ('+', 12), ('GSP', 12), ('human', 12), ('Corner', 12), ('our', 12), ('Creative', 13), ('/tbody/table', 13), ('development', 13), ('nameD\"web_email\"', 14), ('such', 14), ('E-mail]', 14), ('very', 14), ('emotion', 14), ('Unified', 14), ('tbodytr', 14), ('summaryD\"This', 15), ('titleD\"E-mail\"', 15), ('0', 15), ('user', 16), ('classD\"dddefault\"', 16), ('\\xc3\\xa9', 16), ('classD\"headerImg\"', 17), ('vspaceD\"0\"', 18), ('Marla', 22), ('0/td', 22), ('hspaceD\"0\"', 22), ('heightD\"\"', 25), (':0cm\"strongspan', 32), (':0cm\"bspan', 32), ('classD\"ddheader\"', 35), ('classD\"ddlabel\"', 40)]"
       ]
      },
      {
       "output_type": "stream",
       "stream": "stdout",
       "text": [
        "\n"
       ]
      }
     ],
     "prompt_number": 45
    },
    {
     "cell_type": "markdown",
     "metadata": {},
     "source": [
      "Maria Paula -> Bernardo: work, Marla, Ticket, Max, tuition\n"
     ]
    },
    {
     "cell_type": "markdown",
     "metadata": {},
     "source": [
      "Bernardo -> Maria Paula: emotion, development, Creative, human, resources"
     ]
    },
    {
     "cell_type": "code",
     "collapsed": false,
     "input": [
      "print SentTopWords('crissaba@petrobras.com.br')\n",
      "print '-----------------------------------------------'\n",
      "print ReceivedTopWords('crissaba@petrobras.com.br')\n"
     ],
     "language": "python",
     "metadata": {},
     "outputs": [
      {
       "output_type": "stream",
       "stream": "stdout",
       "text": [
        "[('os', 4), ('ao', 4), ('sus', 4), ('vamos', 4), ('Intel', 4), ('Si', 4), ('SF', 4), ('intended', 4), ('talvez', 4), ('AXA', 4), ('are', 4), ('00-', 4), ('O', 4), ('acho', 4), ('The', 4), ('um', 4), ('ASSISTANCE', 4), ('hrefD\"tel:-00--\"', 4), ('America', 4), ('named', 4), ('Cabe', 4), ('atrav\\xc3\\xa9s', 4), ('day', 4), ('Sausalito', 4), ('entertainment', 4), ('tempo', 4), ('que', 4), ('have', 4), ('face', 4), ('Independence', 4), ('Islands', 4), ('balloon', 4), ('j\\xc3\\xa1', 4), ('e-mail', 4), (',', 5), ('o', 5), ('st', 5), ('Administra\\xc3\\xa7\\xc3\\xa3o', 5), ('on', 5), ('/spanspan', 5), ('yleD\"color:rgb(0,,0)\"span', 5), ('by', 5), ('this', 5), ('will', 5), ('Carmel', 5), ('lispan', 5), ('Unidade', 6), ('passeio', 6), ('Petrobras', 6), ('este', 6), ('contents', 6), ('is', 6), ('fireworks', 6), ('se', 6), ('es', 6), ('and', 6), ('Passear', 6), ('mas', 6), ('styleD\"verdana,genev', 6), ('you', 6), ('Great', 6), ('a,sans-serif\"strongspan', 6), ('Benef\\xc3\\xadcios', 6), ('dos', 6), ('-00-0-0', 6), ('Muir', 6), ('Argentina', 6), ('intel&', 7), ('styleD\"font-size:px\"span', 7), ('00', 7), ('****', 7), ('valueD\"+00\"', 7), ('styleD\"font-siz', 8), ('-', 8), ('do', 8), ('the', 8), ('not', 8), ('langD\"PT-BR\"', 8), ('y', 8), ('style-', 9), ('langD\"PT-BR\"u/uA0u/u/span/p', 9), ('Napa', 9), ('no', 10), ('langD\"EN-US\"', 10), ('por', 10), ('e', 10), ('0', 11), ('stylediv', 11), ('styleD\"&#;neo', 14), ('sans', 15), ('styleD\"text-align:justify\"span', 16), ('-00--', 17), ('classD\"MsoNormal\"', 21), ('classD\"MsoNormal\"span', 23), ('a', 24), ('*/*', 27), ('b//b', 27), ('**', 35), ('p', 47), ('de', 54)]\n",
        "-----------------------------------------------\n",
        "[('Day', 4), ('respons\\xc3\\xa1vel', 4), ('r', 4), ('pra', 4), ('pro', 4), ('qualquer', 4), ('its', 4), ('trip', 4), ('nossa', 4), ('opini\\xc3\\xa3o', 4), ('passei', 4), ('any', 4), ('talvez', 4), ('tratamiento', 4), ('melhor', 4), ('vcs', 4), ('fica', 4), ('reproducci\\xc3\\xb3n,', 4), ('cuidar', 4), ('Maria', 4), ('0.pdf', 4), ('by', 5), ('at', 5), ('neuter', 5), ('Paula', 5), ('Carmel', 5), ('do', 5), ('em', 5), ('Saba', 5), ('Content-type:', 5), ('Muir', 5), ('will', 5), ('0.pdf)/ii(See', 6), ('for', 6), (':,', 6), ('Passear', 6), ('um', 6), ('faceD\"serif\"/fontpfont', 6), ('eu', 6), ('Carolina', 6), ('Great', 6), ('Reis', 6), ('setembro', 6), ('fireworks', 6), ('mas', 6), ('fazer', 6), ('0/0/0,', 6), ('passeio', 6), ('E0s', 6), ('despesas', 6), ('are', 6), ('Jul', 6), (',', 7), ('as', 7), ('internas', 7), ('name\"ams', 7), ('o', 7), ('your', 7), ('filename\"ams', 7), ('0', 7), ('dia', 7), ('se', 7), ('novembro', 8), ('su', 8), ('ao', 8), ('to', 8), ('dezembro', 8), ('Anna', 8), ('the', 8), ('Sistema', 8), ('Cabe', 8), ('attachment;', 8), ('is', 8), ('normas', 8), ('Napa', 8), ('application/pdf;', 8), ('civil', 8), ('por', 8), ('or', 8), ('faceD\"serif\"-', 8), ('agosto', 10), ('janeiro', 11), ('and', 11), ('Petrobras', 12), ('fevereiro', 12), ('e', 12), ('y', 12), ('styleD\"neo', 12), ('que', 13), ('de', 14), ('0.pdf)(See', 14), ('0.pdf\"', 14), ('-', 14), ('of', 14), ('sans', 15), ('sizeD\"\"', 19), ('a', 24), ('attached', 24), ('file:', 26), ('ams', 42)]"
       ]
      },
      {
       "output_type": "stream",
       "stream": "stdout",
       "text": [
        "\n"
       ]
      }
     ],
     "prompt_number": 44
    },
    {
     "cell_type": "markdown",
     "metadata": {},
     "source": [
      "Mother -> Maria Paula: fevereiro, Anna despesas internas passeio "
     ]
    },
    {
     "cell_type": "markdown",
     "metadata": {},
     "source": [
      "Maria Paula -> Mom: Napa Intel Muir Argentina Carmel (all travel related)"
     ]
    },
    {
     "cell_type": "code",
     "collapsed": false,
     "input": [
      "print SentTopWords('cris@nikem.com.br')\n",
      "print '-----------------------------------------------'\n",
      "print ReceivedTopWords('cris@nikem.com.br')"
     ],
     "language": "python",
     "metadata": {},
     "outputs": [
      {
       "output_type": "stream",
       "stream": "stdout",
       "text": [
        "[('acci\\xc3\\xb3n', 2), ('publication,', 2), ('boundary0dbedfdb00d0fd', 2), ('this', 2), ('qualquer', 2), ('esses', 2), ('la', 2), ('tratamiento', 2), ('Fone:', 2), ('seu', 2), ('Without', 2), ('est\\xc3\\xa1n', 2), ('confrontar', 2), ('--0dbedfdb00d0fd--', 2), ('aqui', 2), ('autoriza\\xc3\\xa7\\xc3\\xa3o,', 2), ('cuidar', 2), ('criminal', 2), ('segunda-feira,', 2), ('styleu/uA0u/u/span/pp', 2), ('Saba', 2), ('BT', 2), ('Cc:', 2), ('proper', 2), ('quoted-printable', 2), ('De:', 2), ('divulga\\xc3\\xa7\\xc3\\xa3o,', 2), ('targetD\"', 2), ('distribution', 2), ('Fwd:', 3), ('despesas', 3), ('estou', 3), ('A0', 3), ('os', 3), ('style', 3), ('&lt;a', 3), ('Neuter', 3), ('neuter', 3), ('Carolina', 3), ('Anna', 4), ('novembro', 4), ('is', 4), ('the', 4), ('civil', 4), ('su', 4), ('janeiro', 4), ('em', 4), ('eu', 4), ('message', 4), ('Sistema', 4), ('normas', 4), ('por', 4), ('or', 4), ('ao', 4), ('as', 4), ('internas', 4), ('AMS', 4), ('--0dbedfdb00d0fd', 4), ('Cabe', 4), ('que', 4), ('devendo', 4), ('dezembro', 4), ('filename\"ams', 5), ('application/pdf;', 5), ('na', 5), ('----------', 5), ('()', 5), ('to', 5), ('name\"ams', 5), ('dccdbf0eed_0.', 5), ('span', 5), ('__0CBBFDFDfea@petrobras.com.br', 5), ('attachment;', 5), ('Content-Disposition:', 5), ('Petrobras', 6), ('com', 6), ('agosto', 6), ('Content-ID:', 6), ('and', 6), ('--0dbedfdb0a0d0fd', 6), ('of', 6), ('base', 6), ('X-Attachment-Id:', 6), ('y', 6), ('Reis', 6), ('o', 7), ('fevereiro', 7), ('0.pdf)(See', 7), ('attached', 10), ('p', 10), ('file:', 10), ('e', 10), ('0.pdf\"', 10), ('classD\"MsoNormal\"span', 11), ('do', 12), ('dos', 12), ('a', 15), ('ams', 19), ('de', 22), ('**', 24)]\n",
        "-----------------------------------------------\n",
        "[('\"El', 2), ('prohibidas', 2), ('(BRT)', 2), ('adecuado.', 2), ('CA0s', 2), ('estCAn', 2), ('viajou)', 2), ('confrontar', 2), ('div', 3), ('Date:', 3), ('0cm', 3), ('criminal', 3), ('janeiro', 3), ('em', 3), ('es', 3), ('classD\"MsoNormal\"', 3), ('0::0', 3), ('Neuter', 3), ('estou', 3), ('0.', 3), ('.', 3), ('Content-Transfer-Encoding:', 3), ('De:', 3), ('(PST)', 3), ('Cristina', 3), ('::', 4), ('te', 4), ('despesas', 4), ('from', 4), ('devendo', 4), ('0...', 4), ('su', 4), ('Cabe', 4), ('cris@nikem.com.br', 4), ('mariapaula.saba@gmail.com', 4), ('eu', 4), ('Carolina', 4), ('annacsaba@gmail.com', 4), ('dezembro', 4), ('message', 4), ('Petrobras', 4), ('para', 4), ('Sistema', 4), ('normas', 4), ('da', 4), ('novembro', 4), ('por', 4), ('is', 4), ('the', 4), ('&lt;a', 4), ('AMS', 4), ('internas', 4), ('or', 4), ('civil', 4), ('ao', 4), ('for', 4), ('neuter', 4), ('to', 5), ('typeD\"cite\"&lt;ams', 5), ('----------', 5), ('la', 5), ('Received:', 5), ('Paula', 5), ('vc', 5), ('()', 5), ('span', 5), ('with', 5), ('na', 5), ('agosto', 6), ('and', 6), ('com', 6), ('as', 6), ('id', 6), ('Reis', 6), ('0.pdf', 6), ('y', 6), ('by', 6), ('fevereiro', 7), (':0:', 7), ('Anna', 7), ('Maria', 7), ('-000', 7), ('Mon,', 7), ('Feb', 7), ('0.pdf)(See', 7), ('que', 8), ('of', 8), ('classD\"MsoNormal\"span', 9), ('p', 10), ('file:', 10), ('attached', 10), ('Saba', 11), ('do', 12), ('dos', 12), ('o', 12), ('e', 13), ('a', 18), ('de', 24), ('ams', 24), ('0', 72)]"
       ]
      },
      {
       "output_type": "stream",
       "stream": "stdout",
       "text": [
        "\n"
       ]
      }
     ],
     "prompt_number": 46
    },
    {
     "cell_type": "code",
     "collapsed": false,
     "input": [
      "print SentTopWords('lilly.laylou@gmail.com')\n",
      "print '-----------------------------------------------'\n",
      "print ReceivedTopWords('lilly.laylou@gmail.com')\n"
     ],
     "language": "python",
     "metadata": {},
     "outputs": [
      {
       "output_type": "stream",
       "stream": "stdout",
       "text": [
        "[('drinks', 4), ('melhor', 4), ('mala', 4), ('pra', 4), ('qualquer', 4), ('toca', 4), ('casa', 4), ('tenho', 4), ('ficar', 4), ('porque', 4), ('dicas', 4), ('vai', 4), ('*', 4), ('No', 5), ('bjs', 5), ('N\\xc3\\xa3o', 5), ('era', 5), ('t', 5), ('lilly.laylou@gmail.com', 5), ('C', 5), ('dia', 5), ('na', 5), ('dirD\"ltr\"&lt;a', 5), ('muito,', 5), ('o', 6), ('vez', 6), ('se', 6), ('via', 6), ('esteja', 6), ('Uma', 6), ('vou', 6), ('this', 6), ('h', 6), ('email', 6), ('hora', 6), ('the', 6), ('Berry', 6), ('em', 6), ('a', 6), ('minha', 6), ('iPhone', 6), ('bem', 6), ('mensagem', 6), ('Vamos', 6), ('stylediv', 6), ('E0', 6), ('meio', 6), ('0/0/0,', 6), ('dirD\"auto\"', 6), ('escreveu:', 6), ('pela', 6), ('coisas', 6), ('bairro', 6), ('no', 6), ('of', 6), ('faz', 6), ('East', 6), ('AND', 6), ('n\\xc3\\xa9?', 6), ('pode', 6), ('.', 7), ('solid;MARGIN:0px', 7), ('s\\xc3\\xa3o', 7), ('de', 7), ('typeD\"cite\"', 7), ('styleD\"BORDER-LEFT:#ccc', 7), ('agora', 7), ('0.ex;PA', 7), ('DDING-LEFT:ex\"', 7), ('px', 7), ('muito', 8), ('te', 8), ('span', 8), ('s\\xc3\\xb3', 8), ('estou', 8), ('Restaurante', 8), ('E0s', 8), ('me', 8), ('\\xc3\\xa9', 8), ('classD\"gmail_quote\"', 9), ('os', 9), ('Em', 10), ('semana', 10), ('tem', 11), ('rua', 12), ('mais', 12), ('quando', 14), ('0px', 14), ('blockquote', 15), ('voc\\xc3\\xaa', 15), ('A0', 15), ('&#;&#;,&#;sans', 15), ('do', 16), ('Roman&#;', 19), ('&#;Times', 21), ('New', 27), ('-', 28), ('classD\"MsoNormal\"span', 34), ('**', 43), ('p', 43)]\n",
        "-----------------------------------------------\n",
        "[('que', 5), ('vou', 5), ('Apr', 5), ('A', 5), ('mensagem', 5), ('de', 5), ('C', 5), ('the', 5), ('o', 5), ('Jan', 5), ('Sun,', 5), ('Fri,', 5), ('bjs', 5), ('Jul', 5), ('agora', 5), ('NCAo', 5), ('Aug', 5), ('minha', 5), ('N\\xc3\\xa3o', 5), ('Mar', 5), ('estava', 5), ('East', 6), ('.', 6), ('id', 6), ('bairro', 6), ('no', 6), ('na', 6), ('E', 6), ('vez', 6), ('dia', 6), ('Berry', 6), ('h', 6), ('classD\"MsoNormal\"s', 6), ('Vamos', 6), ('(tel.:', 6), ('coisas', 6), ('dirD\"auto\"', 6), ('Na', 6), ('with', 6), ('CA0', 6), ('coisa', 6), ('(PDT)', 6), ('Uma', 6), ('AND', 6), ('by', 6), ('this', 6), ('parque', 6), ('email', 6), ('n\\xc3\\xa9?', 6), ('pode', 6), ('Restaurante', 7), ('0.pt;MARGIN:0cm', 7), ('DING-LEFT:ex\"', 7), (',', 7), ('Sep', 7), ('-000', 7), ('Sat,', 7), ('solid;MARGIN:0px', 7), ('Mon,', 7), ('Wed,', 7), ('DDING-LEFT:ex\"', 7), ('E0', 7), ('0:0:', 7), ('px', 7), ('d', 7), ('typeD\"cite\"', 7), ('styleD\"BORDER-LEFT:#ccc', 7), ('s\\xc3\\xa3o', 7), ('FONT-SIZE:pt\"u/uu/u/span/p', 7), ('0.ex;PA', 7), ('0.ex;PAD', 7), ('e', 7), ('Thu,', 7), ('\\xc3\\xa9', 8), ('primavera', 8), ('E0s', 8), ('s\\xc3\\xb3', 8), ('estou', 8), ('sCAo', 8), ('styleD\"FONT-F', 8), ('estCA', 8), ('semana', 10), ('os', 10), ('rua', 12), ('0px', 14), (',sans-serif;COLOR', 14), ('voc\\xc3\\xaa', 15), ('A0', 15), ('&#;&#;,&#;sans', 15), ('0', 16), ('0pt\"', 18), ('Roman,serif;', 19), ('Roman&#;', 19), ('&#;Times', 21), ('Times', 22), ('-', 26), ('New', 27), ('0cm', 29), ('classD\"MsoNormal\"span', 34), ('**', 42)]"
       ]
      },
      {
       "output_type": "stream",
       "stream": "stdout",
       "text": [
        "\n"
       ]
      }
     ],
     "prompt_number": 43
    },
    {
     "cell_type": "markdown",
     "metadata": {},
     "source": [
      "Maria Paula -> Aline: semana Restaurante rua quando agora (time-based and routine)"
     ]
    },
    {
     "cell_type": "markdown",
     "metadata": {},
     "source": [
      "Aline -> Maria Paula: same but I like some words related to my place appear, like Berry (my street. She visited me this year)"
     ]
    },
    {
     "cell_type": "code",
     "collapsed": false,
     "input": [],
     "language": "python",
     "metadata": {},
     "outputs": []
    }
   ],
   "metadata": {}
  }
 ]
}