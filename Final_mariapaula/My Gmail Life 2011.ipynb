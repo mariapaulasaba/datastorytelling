{
 "metadata": {
  "name": ""
 },
 "nbformat": 3,
 "nbformat_minor": 0,
 "worksheets": [
  {
   "cells": [
    {
     "cell_type": "heading",
     "level": 1,
     "metadata": {},
     "source": [
      "My Gmail Life in the Year 2011      <img src=\"http://media.idownloadblog.com/wp-content/uploads/2011/02/Gmail-Icon.png\" width=\"80\" height=\"40\" />"
     ]
    },
    {
     "cell_type": "markdown",
     "metadata": {},
     "source": [
      "In 2011, I was done with school and lived in Princeton for 7 months. And prepared my application to ITP.\n",
      "\n",
      "First of all, let's import all my data:"
     ]
    },
    {
     "cell_type": "code",
     "collapsed": false,
     "input": [
      "import gzip\n",
      "import os\n",
      "\n",
      "import re\n",
      "import string\n",
      "import operator\n"
     ],
     "language": "python",
     "metadata": {},
     "outputs": [],
     "prompt_number": 1
    },
    {
     "cell_type": "code",
     "collapsed": false,
     "input": [
      "path = \"data2011/\"\n",
      "months = os.listdir( path )\n",
      "\n",
      "#deleting .DS_Store file\n",
      "del months[0]\n",
      "\n",
      "allFiles = []\n",
      "\n",
      "#reading the file's names\n",
      "for month in months:\n",
      "     files = os.listdir(path + month)\n",
      "     allFiles.append(files)\n",
      "\n",
      "#saving each email in a list, with separated lines     \n",
      "received_lines = []\n",
      "sent_lines = []\n",
      "list_lines = []\n",
      "\n",
      "#for calculating number of emails\n",
      "num_emails = []\n",
      "num_sent = []\n",
      "num_received = []\n",
      "num_lists = []\n",
      "num_totals = []\n",
      "total_emails = 0\n",
      "\n",
      "#saving senders\n",
      "senders = []\n",
      "lists = []\n",
      "\n",
      "for (files, month) in zip(allFiles, months):\n",
      "    count_sent = 0\n",
      "    count_received = 0\n",
      "    count_lists = 0\n",
      "\n",
      "    for file in files:\n",
      "        if 'gz' in file:\n",
      "            total_emails = total_emails + 1\n",
      "            f = gzip.open(path+month+'/'+file, 'rb')\n",
      "            file_content = f.readlines()\n",
      "            \n",
      "            for line in file_content:\n",
      "                #check the sender and if it is myself, count as sent.\n",
      "                if 'From: ' in line:\n",
      "                    if 'mariapaula.saba@gmail.com' in line:\n",
      "                        sent_lines.append(file_content)\n",
      "                        count_sent = count_sent + 1\n",
      "                        break\n",
      "                    else:\n",
      "                        #save the sender    \n",
      "                        index1 = line.find('<')\n",
      "                        index2 = line.find('>')\n",
      "                        address = line[index1+1:index2]\n",
      "                        address = address.replace('\\r', \"\")\n",
      "                        address = address.replace('To:', \"\")\n",
      "                        address = address.replace('From:', \"\")\n",
      "                        address = address.replace('X-ESDI-MailScanner-',\"\")\n",
      "                        continue\n",
      "                if 'Delivered-To:' in line:\n",
      "                    continue\n",
      "                elif 'In-Reply-To:' in line:\n",
      "                    continue\n",
      "                else:\n",
      "                    if 'To:' in line:     \n",
      "                        #check if it was really for me\n",
      "                        if 'mariapaula.saba@gmail.com' in line:                  \n",
      "                            received_lines.append(file_content)\n",
      "                            count_received = count_received + 1\n",
      "                            senders.append(address)\n",
      "                            break\n",
      "                        else:\n",
      "                            count_lists = count_lists + 1\n",
      "                            index1 = line.find('<')\n",
      "                            index2 = line.find('>')\n",
      "                            recipient = line[index1+1:index2]\n",
      "                            recipient = recipient.replace('\\r', \"\")\n",
      "                            recipient = recipient.replace('To:', \"\")\n",
      "                            recipient = recipient.replace('From:', \"\")\n",
      "                            recipient = recipient.replace('X-Apparently- ', \"\")\n",
      "                            list_lines.append(file_content)\n",
      "                            lists.append(recipient)\n",
      "                            break\n",
      "            f.close()\n",
      "            \n",
      "            \n",
      "    num_received.append(count_received)        \n",
      "    num_sent.append(count_sent)\n",
      "    num_emails.append(count_received + count_sent)\n",
      "    num_lists.append(count_lists)\n",
      "    num_totals.append(count_received + count_sent + count_lists)\n",
      " \n",
      "    \n",
      "print \"In 2011, I have sent\", len(sent_lines), \"emails.\"\n",
      "print \"And I probably received more, but I kept\", len(received_lines), \"emails.\"\n",
      "print \"I also received\", len(list_lines), \"emails that were not addressed directly to me.\"\n",
      "print \"Which sums up a total of\", total_emails, \"emails.\"\n"
     ],
     "language": "python",
     "metadata": {},
     "outputs": [
      {
       "output_type": "stream",
       "stream": "stdout",
       "text": [
        "In 2011, I have sent 2438 emails.\n",
        "And I probably received more, but I kept 1974 emails.\n",
        "I also received 11251 emails that were not addressed directly to me.\n",
        "Which sums up a total of 15673 emails.\n"
       ]
      }
     ],
     "prompt_number": 2
    },
    {
     "cell_type": "code",
     "collapsed": false,
     "input": [
      "# who did I write to?\n",
      "receivers = []\n",
      "count_me = 0\n",
      "\n",
      "for email in sent_lines:\n",
      "    for line in email:\n",
      "        if 'Delivered-To:' in line:\n",
      "            continue\n",
      "        elif 'In-Reply-To:' in line:\n",
      "            #print line\n",
      "            continue\n",
      "        else:\n",
      "            if 'To:' in line:\n",
      "                if 'mariapaula.saba@gmail.com' in line:\n",
      "                    count_me = count_me + 1\n",
      "                    break\n",
      "                else:\n",
      "                   # print line\n",
      "                    index1 = line.find('<')\n",
      "                    index2 = line.find('>')\n",
      "                    address = line[index1+1:index2]\n",
      "                    address = address.replace('\\r', \"\")\n",
      "                    address = address.replace('To:', \"\")\n",
      "                    receivers.append(address)  \n",
      "                    break\n",
      "\n",
      "            \n",
      "            \n",
      "print \"I wrote\", count_me, \"emails for myself (that were not deleted)!!!\"            \n",
      "print \"And I actually sent\", len(receivers), \"emails out to the world.\"\n"
     ],
     "language": "python",
     "metadata": {},
     "outputs": [
      {
       "output_type": "stream",
       "stream": "stdout",
       "text": [
        "I wrote 36 emails for myself (that were not deleted)!!!\n",
        "And I actually sent 2388 emails out to the world.\n"
       ]
      }
     ],
     "prompt_number": 3
    },
    {
     "cell_type": "raw",
     "metadata": {},
     "source": [
      "Next thing to do is to check if there is any pattern across time. My email usage certainly did increase over time. But how much? And how is the increase related to events in my life? Let's plot a graphic to find out!"
     ]
    },
    {
     "cell_type": "code",
     "collapsed": false,
     "input": [
      "pyplot.plot(range(1,len(months)+1), num_totals)\n",
      "pyplot.plot(range(1,len(months)+1), num_received)\n",
      "pyplot.plot(range(1,len(months)+1), num_sent)\n",
      "\n",
      "\n"
     ],
     "language": "python",
     "metadata": {},
     "outputs": [
      {
       "metadata": {},
       "output_type": "pyout",
       "prompt_number": 4,
       "text": [
        "[<matplotlib.lines.Line2D at 0x1c17a3d10>]"
       ]
      },
      {
       "metadata": {},
       "output_type": "display_data",
       "png": "[encoded data removed]",
       "text": [
        "<matplotlib.figure.Figure at 0x1075903d0>"
       ]
      }
     ],
     "prompt_number": 4
    },
    {
     "cell_type": "code",
     "collapsed": false,
     "input": [
      "pyplot.plot(range(1,len(months)+1), num_emails)\n",
      "pyplot.plot(range(1,len(months)+1), num_received)\n",
      "pyplot.plot(range(1,len(months)+1), num_sent)\n",
      "\n"
     ],
     "language": "python",
     "metadata": {},
     "outputs": [
      {
       "metadata": {},
       "output_type": "pyout",
       "prompt_number": 5,
       "text": [
        "[<matplotlib.lines.Line2D at 0x1c17e20d0>]"
       ]
      },
      {
       "metadata": {},
       "output_type": "display_data",
       "png": "[encoded data removed]",
       "text": [
        "<matplotlib.figure.Figure at 0x1c17bdb50>"
       ]
      }
     ],
     "prompt_number": 5
    },
    {
     "cell_type": "code",
     "collapsed": false,
     "input": [
      "pyplot.plot(range(1,len(months)+1), num_lists)\n",
      "pyplot.plot(range(1,len(months)+1), num_received)\n"
     ],
     "language": "python",
     "metadata": {},
     "outputs": [
      {
       "metadata": {},
       "output_type": "pyout",
       "prompt_number": 6,
       "text": [
        "[<matplotlib.lines.Line2D at 0x1c1792c50>]"
       ]
      },
      {
       "metadata": {},
       "output_type": "display_data",
       "png": "[encoded data removed]",
       "text": [
        "<matplotlib.figure.Figure at 0x1c1754f10>"
       ]
      }
     ],
     "prompt_number": 6
    },
    {
     "cell_type": "markdown",
     "metadata": {},
     "source": [
      "I joined one list in February and the peak was in March (which was also my moving date to the US). Another peak is in July but I moved back only in September though..."
     ]
    },
    {
     "cell_type": "code",
     "collapsed": false,
     "input": [
      "smon = 0\n",
      "stue = 0\n",
      "swed = 0\n",
      "sthu = 0\n",
      "sfri = 0\n",
      "ssat = 0\n",
      "ssun = 0\n",
      "\n",
      "#sent_weekdays = {}\n",
      "\n",
      "for email in sent_lines:\n",
      "    for line in email:\n",
      "        if 'Date: Mon' in line:\n",
      "#            index = line.find(',')\n",
      "#            date = line[index+2:index+13]\n",
      "#            sent_weekdays[date] = 'Monday'\n",
      "            smon = smon + 1\n",
      "        if 'Date: Tue' in line:\n",
      "#            index = line.find(',')\n",
      "#            date = line[index+2:index+13]\n",
      "#            sent_weekdays[date] = 'Tuesday'\n",
      "            stue = stue + 1\n",
      "        if 'Date: Wed' in line:\n",
      "#            index = line.find(',')\n",
      "#            date = line[index+2:index+13]\n",
      "#            sent_weekdays[date] = 'Wednesday'\n",
      "            swed = swed + 1\n",
      "        if 'Date: Thu' in line:\n",
      "#            index = line.find(',')\n",
      "#            date = line[index+2:index+13]\n",
      "#            sent_weekdays[date] = 'Thursday'\n",
      "            sthu = sthu + 1\n",
      "        if 'Date: Fri' in line:\n",
      "#            index = line.find(',')\n",
      "#            date = line[index+2:index+13]\n",
      "#            sent_weekdays[date] = 'Friday'\n",
      "            sfri = sfri + 1\n",
      "        if 'Date: Sat' in line:\n",
      "#            index = line.find(',')\n",
      "#            date = line[index+2:index+13]\n",
      "#            sent_weekdays[date] = 'Saturday'\n",
      "            ssat = ssat + 1\n",
      "        if 'Date: Sun' in line:\n",
      "#            index = line.find(',')\n",
      "#            date = line[index+2:index+13]\n",
      "#            sent_weekdays[date] = 'Sunday'\n",
      "            ssun = ssun + 1\n",
      "            \n",
      "#print len(sent_weekdays)\n",
      "print \"I've sent\", smon, \"emails on Mondays.\"\n",
      "print \"I've sent\", stue, \"emails on Tuesdays.\"\n",
      "print \"I've sent\", swed, \"emails on Wednesdays.\"\n",
      "print \"I've sent\", sthu, \"emails on Thursdays.\"\n",
      "print \"I've sent\", sfri, \"emails on Fridays.\"\n",
      "print \"I've sent\", ssat, \"emails on Saturdays.\"\n",
      "print \"I've sent\", ssun, \"emails on Sundays.\"\n",
      "\n",
      "sent_week = [smon, stue, swed, sthu, sfri, ssat, ssun]\n"
     ],
     "language": "python",
     "metadata": {},
     "outputs": [
      {
       "output_type": "stream",
       "stream": "stdout",
       "text": [
        "I've sent 460 emails on Mondays.\n",
        "I've sent 583 emails on Tuesdays.\n",
        "I've sent 536 emails on Wednesdays.\n",
        "I've sent 460 emails on Thursdays.\n",
        "I've sent 438 emails on Fridays.\n",
        "I've sent 136 emails on Saturdays.\n",
        "I've sent 168 emails on Sundays.\n"
       ]
      }
     ],
     "prompt_number": 7
    },
    {
     "cell_type": "code",
     "collapsed": false,
     "input": [
      "rmon = 0\n",
      "rtue = 0\n",
      "rwed = 0\n",
      "rthu = 0\n",
      "rfri = 0\n",
      "rsat = 0\n",
      "rsun = 0\n",
      "\n",
      "#received_weekdays = {}\n",
      "\n",
      "for email in received_lines:\n",
      "    for line in email:\n",
      "        if 'Date: Mon' in line:\n",
      "#            index = line.find(',')\n",
      "#            date = line[index+2:index+13]\n",
      "#            sent_weekdays[date] = 'Monday'\n",
      "            rmon = rmon + 1\n",
      "        if 'Date: Tue' in line:\n",
      "#            index = line.find(',')\n",
      "#            date = line[index+2:index+13]\n",
      "#            sent_weekdays[date] = 'Tuesday'\n",
      "            rtue = rtue + 1\n",
      "        if 'Date: Wed' in line:\n",
      "#            index = line.find(',')\n",
      "#            date = line[index+2:index+13]\n",
      "#            sent_weekdays[date] = 'Wednesday'\n",
      "            rwed = rwed + 1\n",
      "        if 'Date: Thu' in line:\n",
      "#            index = line.find(',')\n",
      "#            date = line[index+2:index+13]\n",
      "#            sent_weekdays[date] = 'Thursday'\n",
      "            rthu = rthu + 1\n",
      "        if 'Date: Fri' in line:\n",
      "#            index = line.find(',')\n",
      "#            date = line[index+2:index+13]\n",
      "#            sent_weekdays[date] = 'Friday'\n",
      "            rfri = rfri + 1\n",
      "        if 'Date: Sat' in line:\n",
      "#            index = line.find(',')\n",
      "#            date = line[index+2:index+13]\n",
      "#            sent_weekdays[date] = 'Saturday'\n",
      "            rsat = rsat + 1\n",
      "        if 'Date: Sun' in line:\n",
      "#            index = line.find(',')\n",
      "#            date = line[index+2:index+13]\n",
      "#            sent_weekdays[date] = 'Sunday'\n",
      "            rsun = rsun + 1\n",
      "            \n",
      "#print len(sent_weekdays)\n",
      "print \"I've received\", rmon, \"emails on Mondays.\"\n",
      "print \"I've received\", rtue, \"emails on Tuesdays.\"\n",
      "print \"I've received\", rwed, \"emails on Wednesdays.\"\n",
      "print \"I've received\", rthu, \"emails on Thursdays.\"\n",
      "print \"I've received\", rfri, \"emails on Fridays.\"\n",
      "print \"I've received\", rsat, \"emails on Saturdays.\"\n",
      "print \"I've received\", rsun, \"emails on Sundays.\"\n",
      "\n",
      "received_week = [rmon, rtue, rwed, rthu, rfri, rsat, rsun]\n"
     ],
     "language": "python",
     "metadata": {},
     "outputs": [
      {
       "output_type": "stream",
       "stream": "stdout",
       "text": [
        "I've received 380 emails on Mondays.\n",
        "I've received 427 emails on Tuesdays.\n",
        "I've received 402 emails on Wednesdays.\n",
        "I've received 358 emails on Thursdays.\n",
        "I've received 303 emails on Fridays.\n",
        "I've received 127 emails on Saturdays.\n",
        "I've received 170 emails on Sundays.\n"
       ]
      }
     ],
     "prompt_number": 8
    },
    {
     "cell_type": "code",
     "collapsed": false,
     "input": [
      "lmon = 0\n",
      "ltue = 0\n",
      "lwed = 0\n",
      "lthu = 0\n",
      "lfri = 0\n",
      "lsat = 0\n",
      "lsun = 0\n",
      "\n",
      "\n",
      "for email in list_lines:\n",
      "    for line in email:\n",
      "        if 'Date: Mon' in line:\n",
      "            lmon = lmon + 1\n",
      "        if 'Date: Tue' in line:\n",
      "            ltue = ltue + 1\n",
      "        if 'Date: Wed' in line:\n",
      "            lwed = lwed + 1\n",
      "        if 'Date: Thu' in line:\n",
      "            lthu = lthu + 1\n",
      "        if 'Date: Fri' in line:\n",
      "            lfri = lfri + 1\n",
      "        if 'Date: Sat' in line:\n",
      "            lsat = lsat + 1\n",
      "        if 'Date: Sun' in line:\n",
      "            lsun = lsun + 1\n",
      "            \n",
      "#print len(sent_weekdays)\n",
      "print \"I've received from lists\", lmon, \"emails on Mondays.\"\n",
      "print \"I've received from lists\", ltue, \"emails on Tuesdays.\"\n",
      "print \"I've received from lists\", lwed, \"emails on Wednesdays.\"\n",
      "print \"I've received from lists\", lthu, \"emails on Thursdays.\"\n",
      "print \"I've received from lists\", lfri, \"emails on Fridays.\"\n",
      "print \"I've received from lists\", lsat, \"emails on Saturdays.\"\n",
      "print \"I've received from lists\", lsun, \"emails on Sundays.\"\n",
      "\n",
      "lists_week = [lmon, ltue, lwed, lthu, lfri, lsat, lsun]\n"
     ],
     "language": "python",
     "metadata": {},
     "outputs": [
      {
       "output_type": "stream",
       "stream": "stdout",
       "text": [
        "I've received from lists 1877 emails on Mondays.\n",
        "I've received from lists 2672 emails on Tuesdays.\n",
        "I've received from lists 2441 emails on Wednesdays.\n",
        "I've received from lists 2118 emails on Thursdays.\n",
        "I've received from lists 2102 emails on Fridays.\n",
        "I've received from lists 636 emails on Saturdays.\n",
        "I've received from lists 520 emails on Sundays.\n"
       ]
      }
     ],
     "prompt_number": 9
    },
    {
     "cell_type": "code",
     "collapsed": false,
     "input": [
      "pyplot.bar(range(7), received_week, 0.7, color = 'r')"
     ],
     "language": "python",
     "metadata": {},
     "outputs": [
      {
       "metadata": {},
       "output_type": "pyout",
       "prompt_number": 10,
       "text": [
        "<Container object of 7 artists>"
       ]
      },
      {
       "metadata": {},
       "output_type": "display_data",
       "png": "[encoded data removed]",
       "text": [
        "<matplotlib.figure.Figure at 0x1c17b5150>"
       ]
      }
     ],
     "prompt_number": 10
    },
    {
     "cell_type": "code",
     "collapsed": false,
     "input": [
      "pyplot.bar(range(7), lists_week, 0.7 , color = 'g')\n"
     ],
     "language": "python",
     "metadata": {},
     "outputs": [
      {
       "metadata": {},
       "output_type": "pyout",
       "prompt_number": 11,
       "text": [
        "<Container object of 7 artists>"
       ]
      },
      {
       "metadata": {},
       "output_type": "display_data",
       "png": "[encoded data removed]",
       "text": [
        "<matplotlib.figure.Figure at 0x1c17dac10>"
       ]
      }
     ],
     "prompt_number": 11
    },
    {
     "cell_type": "code",
     "collapsed": false,
     "input": [
      "pyplot.bar(range(7), sent_week, 0.7)\n"
     ],
     "language": "python",
     "metadata": {},
     "outputs": [
      {
       "metadata": {},
       "output_type": "pyout",
       "prompt_number": 12,
       "text": [
        "<Container object of 7 artists>"
       ]
      },
      {
       "metadata": {},
       "output_type": "display_data",
       "png": "[encoded data removed]",
       "text": [
        "<matplotlib.figure.Figure at 0x1c17d2e10>"
       ]
      }
     ],
     "prompt_number": 12
    },
    {
     "cell_type": "code",
     "collapsed": false,
     "input": [
      "#A year has 52 weeks. Averages are below:\n",
      "\n",
      "print 'Average from Monday to Sunday:'\n",
      "\n",
      "for number in sent_week:\n",
      "    average = number/52\n",
      "    print 'Sent:', average, 'per day'\n",
      "    \n",
      "for number in received_week:\n",
      "    average = number/52\n",
      "    print 'Received:', average, 'per day'\n",
      "    \n",
      "       \n",
      "for number in lists_week:\n",
      "    average = number/52\n",
      "    print 'Received from lists:', average, 'per day'\n",
      "    \n",
      "       "
     ],
     "language": "python",
     "metadata": {},
     "outputs": [
      {
       "output_type": "stream",
       "stream": "stdout",
       "text": [
        "Average from Monday to Sunday:\n",
        "Sent: 8 per day\n",
        "Sent: 11 per day\n",
        "Sent: 10 per day\n",
        "Sent: 8 per day\n",
        "Sent: 8 per day\n",
        "Sent: 2 per day\n",
        "Sent: 3 per day\n",
        "Received: 7 per day\n",
        "Received: 8 per day\n",
        "Received: 7 per day\n",
        "Received: 6 per day\n",
        "Received: 5 per day\n",
        "Received: 2 per day\n",
        "Received: 3 per day\n",
        "Received from lists: 36 per day\n",
        "Received from lists: 51 per day\n",
        "Received from lists: 46 per day\n",
        "Received from lists: 40 per day\n",
        "Received from lists: 40 per day\n",
        "Received from lists: 12 per day\n",
        "Received from lists: 10 per day\n"
       ]
      }
     ],
     "prompt_number": 13
    },
    {
     "cell_type": "code",
     "collapsed": false,
     "input": [
      "def FreqDist(words):   \n",
      "    data = {}\n",
      "    for word in words.split():\n",
      "        data[word] = data.get(word,0) + 1\n",
      "    #data = sorted(data.iteritems(), key=operator.itemgetter(1))  \n",
      "    return data\n",
      "\n",
      "def FreqDistSorted(words):   \n",
      "    data = {}\n",
      "    for word in words.split():\n",
      "        data[word] = data.get(word,0) + 1\n",
      "    data = sorted(data.iteritems(), key=operator.itemgetter(1))  \n",
      "    return data\n",
      "\n",
      "def LinesToTextList(emails):\n",
      "    saveText = []\n",
      "    for email in emails:\n",
      "        #transforming a list of lines into text\n",
      "        text = '\\''.join(map(str, email))\n",
      "        #to avoid portuguese bugs, I'm replacing our weird signs back again \n",
      "        text = text.replace(\"\\'\", \"\")\n",
      "        text = text.replace(\"=E7\", \"\u00e7\")\n",
      "        text = text.replace(\"=E9\", \"\u00e9\")\n",
      "        text = text.replace(\"=EA\", \"\u00ea\")\n",
      "        text = text.replace(\"=F5\", \"\u00f5\")\n",
      "        text = text.replace(\"=F3\", \"\u00f3\")    \n",
      "        text = text.replace(\"=E1\", \"\u00e1\")\n",
      "        text = text.replace(\"=E3\", \"\u00e3\")   \n",
      "        text = text.replace(\"=ED\", \"\u00ed\")\n",
      "        text = text.replace(\"=FA\", \"\u00fa\")\n",
      "        text = text.replace(\"=\", \"\")\n",
      "        \n",
      "        \n",
      "        #avoid email language words\n",
      "        text = text.replace(\"<font>\",\"\")\n",
      "        text = text.replace(\"<br>\", \"\")\n",
      "        text = text.replace(\"<span>\", \"\")\n",
      "        text = text.replace(\"<div>\", \"\")\n",
      "        text = text.replace(\"</div>\", \"\")\n",
      "        text = text.replace(\"<a>\", \"\")\n",
      "        text = text.replace(\"</a>\", \"\")\n",
      "        text = text.replace(\">\", \"\")\n",
      "        text = text.replace(\"<\", \"\")\n",
      "        text = text.replace(\"Yahoo\", \"\")\n",
      "        text = text.replace(\"target3D\\\"_blank\\\"\", \"\")\n",
      "        text = text.replace(\"&gt;\", \"\")\n",
      "        text = text.replace(\"|\", \"\")\n",
      "        text = text.replace(\"style3D\\\"LINE-HEIGHT:\", \"\")\n",
      "        text = text.replace(\"style3D\\\"MARGIN:\", \"\")\n",
      "        text = text.replace(\"style3D\\\"BORDER-COLLAPSE:\", \"\")\n",
      "        text = text.replace(\"style3D\\\"MIN-HEIGHT:\", \"\")\n",
      "        text = text.replace(\"font-family:\", \"\")\n",
      "        text = text.replace(\"font-weight:\", \"\")\n",
      "        text = text.replace(\"Arial\", \"\")       \n",
      "        text = text.replace(\"Sans-serif\", \"\")       \n",
      "        text = text.replace(\"margin:\", \"\")\n",
      "        text = text.replace(\"dir3Dltr&lt;A:\", \"\")\n",
      "        text = text.replace(\"padding\",\"\")\n",
      "        text = text.replace(\"Content-Type:\",\"\")\n",
      "        text = text.replace(\"0px\\\"font'\",\"\")\n",
      "        text = text.replace(\"YAHOO.COM.BR\",\"\")\n",
      "        text = text.replace(\"style3D\\\"font-family:\",\"\")\n",
      "        text = text.replace(\"style3D\\\"FONT-FAMILY:\",\"\")\n",
      "        text = text.replace(\"style3D\\\"FONT-WEIGHT:\",\"\")\n",
      "        text = text.replace(\"lang3D\\\"EN-GB\\\">A0</span></p>\",\"\")\n",
      "        text = text.replace(\"style3D\\\"padding-left\",\"\")\n",
      "        text = text.replace(\"text-decoration:\",\"\")\n",
      "        text = text.replace(\"rel3D\\\"nofollow\\\"\",\"\")\n",
      "        text = text.replace(\"bgcolor3D\",\"\")\n",
      "        text = text.replace(\"&nbsp;\",\"\")\n",
      "                           \n",
      "                            \n",
      "        #avoid numbers\n",
      "        text = text.replace(\"1\",\"\")\n",
      "        text = text.replace(\"2\",\"\")\n",
      "        text = text.replace(\"3\",\"\")\n",
      "        text = text.replace(\"4\",\"\")\n",
      "        text = text.replace(\"5\",\"\")\n",
      "        text = text.replace(\"6\",\"\")\n",
      "        text = text.replace(\"7\",\"\")\n",
      "        text = text.replace(\"8\",\"\")\n",
      "        text = text.replace(\"9\",\"\")\n",
      "\n",
      "   \n",
      "        #save text in a list of text-emails\n",
      "        saveText.append(text)\n",
      "    return saveText\n",
      "\n",
      "def FindSentEmailsBy(name):\n",
      "    saveEmails = []\n",
      "    for email in received_lines:\n",
      "        for line in email:\n",
      "            if 'From: ' in line:\n",
      "                if name in line:\n",
      "                    saveEmails.append(email)\n",
      "                    break\n",
      "    return saveEmails\n",
      "\n",
      "\n",
      "def FindSentEmailsTo(name):\n",
      "    saveEmails = []\n",
      "    for email in sent_lines:\n",
      "        for line in email:\n",
      "            if 'Delivered-To:' in line:\n",
      "                continue\n",
      "            elif 'In-Reply-To:' in line:\n",
      "                #print line\n",
      "                continue\n",
      "            else:\n",
      "                if 'To:' in line:                  \n",
      "                    if name in line:\n",
      "                        saveEmails.append(email)\n",
      "                        break\n",
      "    return saveEmails\n",
      "\n",
      "\n",
      "def TextListToFreq(textList):\n",
      "    finalFreq = {}\n",
      "    for email in textList:\n",
      "        freq = FreqDist(email)\n",
      "        finalFreq = dict(finalFreq.items() + freq.items())\n",
      "\n",
      "    bigValues = []    \n",
      "    for k, v in finalFreq.iteritems():\n",
      "        if len(k) > 30:\n",
      "            bigValues.append(k)        \n",
      "    for word in bigValues:\n",
      "        del finalFreq[word]\n",
      "    \n",
      "    sortedFreq = sorted(finalFreq.iteritems(), key=operator.itemgetter(1))\n",
      "    return sortedFreq\n",
      "\n",
      "\n",
      "def ReceivedTopWords(sender):\n",
      "    senderEmails = FindSentEmailsBy(sender)\n",
      "    senderTextList = LinesToTextList(senderEmails)\n",
      "    \n",
      "    freqWords = TextListToFreq(senderTextList)\n",
      "    top100 = len(freqWords)-100\n",
      "    return freqWords[top100:]\n",
      "\n",
      "\n",
      "def SentTopWords(receiver):\n",
      "    receiverEmails = FindSentEmailsTo(receiver)\n",
      "    receiverTextList = LinesToTextList(receiverEmails)\n",
      "    \n",
      "    freqWords = TextListToFreq(receiverTextList)\n",
      "    top100 = len(freqWords)-100\n",
      "    return freqWords[top100:]"
     ],
     "language": "python",
     "metadata": {},
     "outputs": [],
     "prompt_number": 14
    },
    {
     "cell_type": "code",
     "collapsed": false,
     "input": [
      "senders_text = '\\''.join(map(str, senders))\n",
      "senders_text = senders_text.replace('\\'', \" \")\n",
      "\n",
      "freqSenders = FreqDistSorted(senders_text)\n",
      "top10 = len(freqSenders)-10\n",
      "\n",
      "print freqSenders[top10:]\n"
     ],
     "language": "python",
     "metadata": {},
     "outputs": [
      {
       "output_type": "stream",
       "stream": "stdout",
       "text": [
        "[('brenda.f.lucena@gmail.com', 33), ('marcela.esteves@siemens.com', 37), ('jeanmrc@gmail.com', 42), ('andre.malheiro@gmail.com', 47), ('aloysiomello@gmail.com', 52), ('jorge.teororo@gmail.com', 64), ('neuter@thuya.com.br', 80), ('schorrdesign@gmail.com', 88), ('denise.filippo@gmail.com', 163), ('cicconet@gmail.com', 181)]\n"
       ]
      }
     ],
     "prompt_number": 15
    },
    {
     "cell_type": "code",
     "collapsed": false,
     "input": [
      "receivers_text = '\\''.join(map(str, receivers))\n",
      "receivers_text = receivers_text.replace('\\'', \" \")\n",
      "\n",
      "freqReceivers = FreqDistSorted(receivers_text)\n",
      "top10 = len(freqReceivers)-10\n",
      "\n",
      "print freqReceivers[top10:]\n"
     ],
     "language": "python",
     "metadata": {},
     "outputs": [
      {
       "output_type": "stream",
       "stream": "stdout",
       "text": [
        "[('aloysiomello@gmail.com', 47), ('jeanmrc@gmail.com', 51), ('jorge.teororo@gmail.com', 57), ('mariapaula.design@gmail.com', 57), ('esdi-42@googlegroups.com', 59), ('neuter@thuya.com.br', 97), ('cicconet@gmail.com', 99), ('denise.filippo@gmail.com', 134), ('the-angries@googlegroups.com', 190), ('schorrdesign@gmail.com', 244)]\n"
       ]
      }
     ],
     "prompt_number": 16
    },
    {
     "cell_type": "code",
     "collapsed": false,
     "input": [
      "list_text = '\\''.join(map(str, lists))\n",
      "list_text = list_text.replace('\\'', \" \")\n",
      "\n",
      "freqList = FreqDistSorted(list_text)\n",
      "top10 = len(freqList)-10\n",
      "\n",
      "print freqList[top10:]\n"
     ],
     "language": "python",
     "metadata": {},
     "outputs": [
      {
       "output_type": "stream",
       "stream": "stdout",
       "text": [
        "[('turma43esdi@yahoogrupos.com.br', 66), ('labvis2@googlegroups.com', 75), ('dollsboys@googlegroups.com', 147), ('formatura_esdi42@googlegroups.com', 148), ('paralelas@yahoogroups.com', 232), ('Reply-', 248), ('hightechlowtech@googlegroups.com', 344), ('esdi-42@googlegroups.com', 847), ('diario_grafico@yahoogrupos.com.br', 2008), ('the-angries@googlegroups.com', 6463)]\n"
       ]
      }
     ],
     "prompt_number": 17
    },
    {
     "cell_type": "markdown",
     "metadata": {},
     "source": [
      "Top sender is a guy I worked for. Followed by my advisor at school, my partner and my dad. "
     ]
    },
    {
     "cell_type": "code",
     "collapsed": false,
     "input": [
      "print SentTopWords('schorrdesign@gmail.com')\n",
      "print '-----------------------------------------------'\n",
      "print ReceivedTopWords('schorrdesign@gmail.com')\n"
     ],
     "language": "python",
     "metadata": {},
     "outputs": [
      {
       "output_type": "stream",
       "stream": "stdout",
       "text": [
        "[('styleD\"', 13), ('alignD\"center\"', 13), ('BB\"', 13), ('A', 13), ('uma', 13), ('its', 13), ('/tbody/table', 13), ('vertical-align:', 13), ('US)', 14), ('OVERFLOW:', 14), ('Resort', 14), ('incl.', 14), ('FONT-SI', 14), ('you', 14), ('0/0/', 14), ('ZE:', 14), ('production', 14), ('0pt;', 14), ('0px\"img', 14), ('h\\xc3\\xa1', 14), ('comic', 15), ('Top', 15), ('fun\\xc3\\xa7\\xc3\\xa3o', 15), (')\"', 15), ('0pt;color:rgb(0,', 15), ('REUNICO', 15), ('Esteves,', 15), ('Avianca', 15), ('Esperan\\xc3\\xa7a', 15), ('ms,', 15), ('ALMOCO', 16), ('data', 16), ('ticket', 16), ('sans-serif\"a', 16), ('Irina', 16), ('F)', 16), ('block;\"', 16), ('na', 16), ('c\\xc3\\xadrculo', 16), ('0.ex;', 16), ('middle;\"', 16), ('styleD\"CLEAR:', 16), ('(0)', 16), ('Button\"a', 16), ('.em', 17), ('tem', 17), ('Claudio', 17), ('NOITE', 17), ('Marcio', 17), ('#', 18), ('eef0a_0.', 18), ('partida', 18), ('altD\"Share', 18), ('normal;', 18), ('IELTS', 18), ('Travelzoo', 18), ('**', 18), ('de', 18), ('LIVRE', 19), ('Eyebeam', 19), ('sketch', 19), ('LINE-HEIGHT:', 20), ('transporte', 20), ('MAMP', 20), ('--00fe0b0ce', 20), ('ticket)', 20), ('styleD\"color:', 20), ('NT-SIZE:', 20), ('FO', 20), ('#aaa;', 21), ('to', 21), ('SketchFlow', 21), ('Expression', 21), ('SIGGRAPH', 22), ('0pt', 24), ('tr0', 25), ('in', 26), ('Share', 26), ('tarifa', 28), ('vc', 28), ('is', 30), ('June', 32), ('#ff00;', 32), ('Source:', 33), ('TEXT-TRANSFORM:', 33), ('AVIANCA', 34), ('0%;', 35), ('bilhete', 36), ('faceD\",', 36), ('styleD\":0pt', 37), ('center;', 37), ('styleD\":0', 37), (',Helvetica,sans-serif;', 39), ('TEXT-DECORATION:', 40), ('Helvetica,', 40), ('none;\"', 44), ('0.em', 46), ('the', 74), ('and', 83), ('A0', 144)]\n",
        "-----------------------------------------------\n",
        "[('styleD\"mar', 10), ('studies', 10), ('#fff\"', 10), ('colorD\"#0000FF\"', 10), ('days', 10), ('/b/font', 10), ('styleD\":0px', 10), ('0;border-bottom:px', 10), ('found', 10), ('langD\"ES\"A0/span/p', 10), ('colorD\"#FFF\"', 10), ('[', 10), ('Em', 10), ('logo', 10), ('student', 10), ('styleD\"0;:0px', 10), ('Kevin', 10), ('convite', 10), ('Cirque', 11), ('0.000pt;', 11), ('t:0px\"Jun', 11), ('****', 11), ('id\\xc3\\xa9ia', 11), ('do', 11), ('comprovante', 11), ('DAAD', 11), ('sans-ser', 11), (');\"A0/span/p', 11), ('TOTEM', 11), ('internas', 11), ('normas', 12), ('Sistema', 12), ('Ursula', 12), ('\"span', 12), ('June', 12), ('Damm', 12), ('very', 12), ('Cabe', 12), ('have', 12), ('su', 12), ('tsunami', 12), ('0', 12), ('German', 12), ('civil', 12), ('scholarship', 12), ('/fontfont', 13), ('fotos', 13), ('atual', 13), ('US)', 13), ('classD\"Apple-style-span\"', 13), ('marca', 14), ('ul', 14), ('none;', 14), ('bold;', 14), ('Prabhu', 14), ('please', 14), ('0.em;', 14), ('trainee', 14), ('RJ', 14), ('sans-serif\"A0/font', 15), ('Security', 15), ('U.S.', 15), ('Social', 16), ('Esteves,', 16), ('Button\"a', 16), ('Irina', 16), ('N', 17), ('.em;', 18), ('letter', 18), ('IELTS', 18), ('**', 18), ('Petrobras', 18), ('styleD\"line-height:normal\"span', 18), ('styleD\"&#;Helvetica', 19), ('J-', 19), ('styleD\"color:#ff00;none\"', 19), ('0pt;\"', 19), ('Eyebeam', 20), ('I', 20), ('de', 20), ('0\"', 22), ('reserva', 22), (');\"', 22), ('alignD\"left\"font', 22), ('visa', 24), ('.em', 25), ('Share', 26), ('faceD\"Calibri,', 27), ('rgb(,', 27), ('Marcela', 28), ('faceD\",', 31), ('Helvetica,', 31), ('the', 31), ('normal;', 42), ('black;', 44), ('0pt;', 50), ('styleD\":', 57), ('0.em', 70), ('0px;', 77), ('0in', 96)]"
       ]
      },
      {
       "output_type": "stream",
       "stream": "stdout",
       "text": [
        "\n"
       ]
      }
     ],
     "prompt_number": 22
    },
    {
     "cell_type": "markdown",
     "metadata": {},
     "source": [
      "Bernardo -> Maria Paula: visa reserva I Eyebream IELTS letter (I feel master application!) "
     ]
    },
    {
     "cell_type": "markdown",
     "metadata": {},
     "source": [
      "Maria Paula -> Bernardo: tarifa ticket transporte partida Marcio (travelling info and a guy we worked for)"
     ]
    },
    {
     "cell_type": "code",
     "collapsed": false,
     "input": [
      "print SentTopWords('crissaba@petrobras.com.br')\n",
      "print '-----------------------------------------------'\n",
      "print ReceivedTopWords('crissaba@petrobras.com.br')\n"
     ],
     "language": "python",
     "metadata": {},
     "outputs": [
      {
       "output_type": "stream",
       "stream": "stdout",
       "text": [
        "[('J\\xc3\\xa1', 5), ('Wingdings;', 5), ('Gostaria', 5), ('Dfea@petrobras.com.br\"', 5), ('Maria', 5), ('tarifa', 6), ('internacionais', 6), ('Petrobras', 6), ('esta', 6), ('pap\\xc3\\xa9is', 6), ('de', 6), ('[RCB-LATAM];', 6), ('Quando', 6), ('0', 6), ('contas.', 6), ('desde', 6), ('gostaria', 6), ('and', 6), ('#;', 6), ('contas', 6), ('limite', 6), ('Andreia', 6), ('styleD', 6), ('of', 6), ('vale', 6), ('nossa', 6), ('\"FONT-FAMILY:', 6), ('y', 6), ('-', 6), ('AMS', 6), ('entender', 6), ('fez', 6), ('bom!', 6), ('carnaval', 6), ('meus', 6), ('Saba', 6), ('faceD\"Tahoma\"span', 7), ('.pt\"', 7), ('E', 7), ('FONT-WEIGHT:', 7), ('colorD\"#fff\"', 7), ('0pt;', 7), ('langD\"PT-BR\"', 7), ('nome', 7), ('banco', 7), ('mandou', 8), ('Tahoma;', 8), ('altD\"\"', 8), ('dinheiro', 8), ('USA', 8), ('Ela', 8), ('---/0/0', 8), ('isen\\xc3\\xa7\\xc3\\xa3o', 8), ('/fontfont', 8), ('dizendo', 8), ('saques', 9), ('comprovante', 9), ('havia', 9), ('Reis,', 10), ('td', 10), ('das', 10), ('/span/fontfont', 11), ('irm\\xc3\\xa3', 11), ('S\"span', 12), ('FONT-S', 12), ('gerente', 12), ('foi', 12), ('alignD\"left\"font', 12), ('IZE:', 12), ('M', 12), ('pt\"/span/fontA0/p', 12), ('pt\"A0/span/font/p', 12), ('muito', 13), ('fa', 13), ('dirD\"ltr\"', 14), ('font', 14), ('m\\xc3\\xa3e', 14), ('&#;Comic', 14), ('MS&#;;', 15), ('faceD\"Comic', 15), ('Fatima', 16), ('duas', 16), ('pois', 17), ('estava', 17), ('ela', 18), ('gray;', 18), ('colorD\"gray\"', 18), ('faceD\"\"span', 20), ('navy;', 26), ('colorD\"navy\"', 26), ('Sans', 29), ('eD\"FONT-SIZE:', 29), ('styl', 31), ('0pt\"', 33), ('faceD\"Times', 34), ('Roman\"span', 34), ('FONT-SIZE:', 46), ('sizeD\"\"', 47), ('classD\"MsoNormal\"font', 50), ('COLOR:', 57)]\n",
        "-----------------------------------------------\n",
        "[('su', 4), ('q', 4), ('agora,', 4), ('eh', 4), ('eu', 4), ('De', 4), ('Sistema', 4), ('normas', 4), ('0::---Que', 4), ('Fri,', 4), ('or', 4), ('USA', 4), ('ao', 4), ('Cristina', 4), ('tr', 4), ('to', 4), ('te', 4), ('via', 4), ('endere\\xc3\\xa7amento.', 4), ('Energias', 4), ('00:0:-------------', 4), ('font', 4), ('pois', 4), ('restaurante', 4), ('seu', 4), ('0/0/0,', 4), ('achei', 4), ('faceD\"sans-serif\"Maria', 4), ('Mar', 4), ('May', 4), ('Espinheira', 4), ('Cabe', 4), ('vcs', 4), ('precisarem', 4), ('Sep', 4), ('Tue,', 4), ('direccionamiento.', 4), ('aqui', 4), ('table', 4), ('details', 4), ('encontrar,', 4), ('acessar', 4), ('colorD\"#FFF\"', 4), ('Thu,', 4), ('CA0s', 4), ('hide', 5), ('fui', 5), ('+', 5), ('designers', 5), (':)', 5), ('o', 5), ('----------', 5), ('0::', 5), ('cristina', 5), ('Avalia\\xc3\\xa7\\xc3\\xa3o', 5), ('by', 5), ('at', 5), (':0:', 5), ('J\\xc3\\xa1', 5), ('Tecnologia', 6), ('Petrobras', 6), ('Fwd:', 6), ('and', 6), ('Oct', 6), ('por', 6), ('/0/0', 6), ('c/', 6), ('0/0/0', 6), ('Forwarded', 6), ('p/', 6), ('y', 6), ('cellspacingD\"0\"', 6), ('cellD\"0\"tr', 6), ('s\\xc3\\xa3o', 6), ('&lt;/fonta', 6), ('fez', 6), ('bom!', 6), ('email', 6), ('-0/', 6), ('vc', 6), ('/fontfont', 6), ('Maria', 6), ('as', 7), ('valignD\"top\"td', 7), ('Paula', 7), ('targetD\"Fblank\"font', 8), ('of', 8), ('de', 9), ('cart\\xc3\\xa3o', 9), ('---/0/0', 9), ('widthD\"%\"img', 10), ('colorD\"#0000FF\"', 10), ('em', 11), ('comprovante', 11), ('que', 11), ('0', 13), ('a', 14), ('da', 15), ('e', 17), ('sizeD\"\"', 33)]"
       ]
      },
      {
       "output_type": "stream",
       "stream": "stdout",
       "text": [
        "\n"
       ]
      }
     ],
     "prompt_number": 20
    },
    {
     "cell_type": "markdown",
     "metadata": {},
     "source": [
      "Maria Paula -> Mom: Fatima gerente saques dinheiro (all bank related)"
     ]
    },
    {
     "cell_type": "code",
     "collapsed": false,
     "input": [
      "Mom -> Maria Paula: comprovante email designers restaurante"
     ],
     "language": "python",
     "metadata": {},
     "outputs": []
    },
    {
     "cell_type": "markdown",
     "metadata": {},
     "source": [
      "I tried my mom's second email. Found new words: internship, design and project!"
     ]
    },
    {
     "cell_type": "code",
     "collapsed": false,
     "input": [
      "print SentTopWords('cris@nikem.com.br')\n",
      "print '-----------------------------------------------'\n",
      "print ReceivedTopWords('cris@nikem.com.br')"
     ],
     "language": "python",
     "metadata": {},
     "outputs": [
      {
       "output_type": "stream",
       "stream": "stdout",
       "text": [
        "[('(@Prabhu:', 8), ('comments', 8), ('rate', 8), ('Could', 8), ('project', 9), ('that', 9), ('#', 9), ('available', 9), ('was', 9), ('retirada', 9), ('widthD\"\"/td/tr', 9), ('/td/tr', 9), ('styleD\"COLOR:', 9), ('not', 9), ('auto\"', 10), ('reserva', 10), ('\"#cccccc\"font', 10), ('you', 10), ('she', 10), ('heightD\"0\"', 10), ('0px', 10), ('colorD\"#\"', 10), ('compra', 10), ('Paulas', 10), ('Apple', 10), ('nowrap;', 10), ('styleD\"margin-top:', 11), ('ul', 11), ('Hel', 11), ('#00cc\"', 11), ('DISPLAY:', 11), ('margin-bottom:', 11), ('vetica,', 11), ('pt;\"', 11), ('margin-left:', 11), ('all', 11), ('My', 12), ('customer', 12), ('Find', 12), ('different', 12), ('Geneva,', 12), ('FONT-SIZE:', 12), ('or', 12), ('comments:', 12), ('colorD\"#fd\"', 12), ('Lu', 13), ('Sans,', 13), ('F', 13), ('LINE-HEIGHT:', 13), ('Sans', 13), ('ONT-SIZE:', 13), ('-LEFT:', 13), ('PADDING', 13), ('Unicode,', 13), ('cida', 13), (');\"', 13), ('Grande,', 14), ('PADDING-LEFT:', 14), ('MARGIN:', 14), ('internship', 15), ('projects', 15), ('widthD\"\"', 16), ('para', 16), ('design', 16), ('sans-serif\"A0/font', 17), ('.em;', 17), ('widthD\"0\"/td', 18), ('.em', 18), ('on', 18), ('td', 20), ('do', 20), ('supporting', 20), ('in', 21), ('px;', 21), ('0pt;', 22), ('FONT-FAMILY:', 25), ('Verdana,', 25), ('sans-serif;', 25), ('PADDING-RIGHT:', 26), ('PADDING-TOP:', 26), ('Lucida', 27), ('styleD\"PADDING-BOTTOM:', 27), ('your', 27), ('0px\"', 27), ('color:', 27), ('#;', 27), ('alignD\"center\"font', 28), ('faceD\"Calibri,', 28), ('\"#dadada\"', 30), ('her', 32), ('styleD\":', 32), ('faceD\"Verdana,', 34), ('of', 35), ('COLOR:', 37), ('Helvetica,', 37), ('0.em', 38), (',', 39), ('widthD\"\"/td', 39), ('and', 49), ('0px;', 102)]\n",
        "-----------------------------------------------\n",
        "[('and', 6), ('rate', 6), ('Jul', 6), ('0::0', 6), ('compensado', 6), ('se', 6), ('#000;\"', 6), ('tr', 6), ('/br', 6), ('Mon,', 6), ('Mar', 6), ('styleD\"background:', 6), ('management', 6), ('ela', 6), ('Sat,', 6), ('which', 6), ('Por', 6), ('fosco', 6), ('(SCR', 6), ('Oct', 6), ('skills', 6), ('-000', 6), ('Thu,', 6), ('vertical-align:', 6), ('sans-serif\"', 6), ('underline;\"/span/p', 6), ('luisa', 7), ('Manhattan', 7), ('styleD\"color:', 7), ('#BCA;', 7), ('Feb', 7), ('td', 7), ('comprovante', 7), ('Final', 7), ('-left:', 7), ('bold', 7), ('/tr', 7), ('#?):', 8), ('e', 8), ('(@Prabhu:', 8), ('have', 8), ('Could', 8), ('widthD\"%\"', 8), ('foi', 8), ('Aug', 8), ('comments', 8), ('change', 8), ('sans-serif\"/font/div', 8), ('sans-serif\"/font', 8), ('Apr', 8), ('of', 8), ('project', 8), ('Miranda,', 8), ('[RCB-LATAM]', 8), ('work', 8), ('please', 8), ('Hotel', 9), ('was', 9), ('doc', 9), ('PaulaE0s', 9), ('#', 9), ('underline;\"/spanspan', 9), ('de', 10), ('she', 10), ('projects', 10), ('that', 10), ('you', 10), ('styleD\"margin-top:', 11), ('ul', 11), ('margin-bottom:', 11), ('different', 11), ('pt;\"', 11), ('margin-left:', 11), ('customer', 12), ('comments:', 12), ('colorD\"#fd\"', 12), ('0;\"', 13), ('Fatima', 13), ('design', 14), ('solid', 14), ('internship', 15), ('para', 16), ('*', 16), ('a', 16), ('bold;', 16), ('0', 17), ('on', 19), ('supporting', 20), ('in', 21), ('0pt;', 22), ('px', 22), ('styleD\"', 22), ('faceD\"Calibri,', 28), ('her', 31), ('.em;', 34), ('font:', 41), ('px;', 44), ('0;', 52), ('styleD\":', 57), ('.em', 94)]"
       ]
      },
      {
       "output_type": "stream",
       "stream": "stdout",
       "text": [
        "\n"
       ]
      }
     ],
     "prompt_number": 21
    },
    {
     "cell_type": "code",
     "collapsed": false,
     "input": [
      "print SentTopWords('lilly.laylou@gmail.com')\n",
      "print '-----------------------------------------------'\n",
      "print ReceivedTopWords('lilly.laylou@gmail.com')\n"
     ],
     "language": "python",
     "metadata": {},
     "outputs": [
      {
       "output_type": "stream",
       "stream": "stdout",
       "text": [
        "[('it', 6), ('num', 6), ('pessoas', 6), ('0pt', 6), ('medium', 6), ('d\\xc3\\xa1', 6), ('eh', 6), ('pra', 6), ('voc\\xc3\\xaa', 6), ('por', 6), ('New', 6), ('on', 6), ('you', 6), ('experi\\xc3\\xaancias', 6), ('sans-serif\"br', 6), ('\"', 6), ('tdimg', 6), ('porque', 6), ('styleD\"border:', 6), ('br', 6), ('essas', 6), ('styleD\"display:', 6), ('heightD\"\"', 6), ('Kitchen', 6), ('mesmo', 6), ('sans-serif\"span', 7), ('font-size', 7), ('DIY', 7), ('cellD\"0\"', 7), ('full', 7), ('&', 7), ('to', 8), ('widthD\"0\"', 8), ('q', 8), ('eu', 8), ('her', 8), ('ao', 8), ('underline;\"', 8), ('be', 8), ('acho', 8), ('nao', 8), ('we', 8), ('cell', 8), ('our', 8), ('lugar', 8), ('widthD\"00\"', 8), ('height', 8), ('color:', 9), ('the', 9), ('at', 9), ('&amp;', 9), ('sans-serif\"', 10), ('styleD\"color:', 10), ('valignD\"top\"table', 10), ('isso', 10), ('as', 10), ('pode', 10), ('styleD\"text-align:', 11), (',Helvetica,sans-serif;', 11), ('[image:', 11), ('font-size:', 12), ('da', 12), ('D\"0\"', 12), ('muito', 12), ('rgb(,', 12), ('em', 12), ('alignD\"center\"', 13), ('heightD\"\"/td', 13), ('styleD\"font-size:', 14), (');', 14), ('px;\"', 15), ('valignD\"top\"img', 16), ('/tbody/table/td', 16), ('com', 17), ('uma', 17), ('mas', 17), ('and', 17), ('cellspacingD\"0\"', 17), ('mais', 18), ('valignD\"top\"', 18), ('widthD\"00%\"', 18), ('tbodytr', 18), ('img', 19), ('um', 19), ('do', 20), ('/td', 22), ('o', 25), ('de', 27), ('borderD\"0\"', 30), ('widthD\"\"', 30), ('e', 32), ('comic', 35), ('sans', 38), ('ms,', 39), ('alignD\"left\"', 40), ('tr', 43), ('srcD\"\"', 46), ('que', 56), ('/tr', 61), ('td', 74)]\n",
        "-----------------------------------------------\n",
        "[('seja:', 4), ('0::', 4), ('maio', 4), ('nos', 4), ('pra', 4), ('atrav\\xc3\\xa9s', 4), ('New', 4), ('domingo', 4), ('with', 4), ('(PST)', 4), ('gostei', 4), ('meses', 4), ('mily:', 4), ('avo', 4), ('cada', 4), ('molho', 4), ('(PDT)', 4), ('nesse', 4), ('0:0:', 4), ('ser', 4), ('styleD\"font-fa', 4), ('pessoal', 4), ('0.0..', 4), ('-', 4), ('aquela', 4), ('be', 4), ('by', 4), ('gastar', 4), ('vou', 4), ('we', 4), ('carne', 4), ('est\\xc3\\xa1', 4), ('das', 4), ('via', 4), ('rs,', 4), ('aqui', 4), ('da\\xc3\\xad', 4), ('n\\xc3\\xa9?', 4), ('final', 4), ('Sep', 5), ('dois', 5), ('-000', 5), ('no', 5), ('Fri,', 5), ('May', 5), ('Mon,', 5), ('Wed,', 5), ('&lt;a', 5), ('nao', 5), ('Thu,', 5), ('cabaret', 5), ('Nov', 5), ('Feb', 5), ('Tue,', 5), (':0:', 5), ('Jul', 5), ('to', 5), ('Mar', 5), ('hora', 6), ('algumas', 6), ('ter', 6), ('da', 6), ('setembro', 6), ('ir', 6), ('domingo,', 6), ('depois', 6), ('0//', 6), ('em', 6), ('ao', 6), ('experi\\xc3\\xaancias', 6), ('sua', 6), ('porque', 6), ('ms,sans-serif;\"br', 6), ('mesmo', 6), ('ms,sans-serif;\"span', 7), ('isso', 7), ('com', 8), ('quer', 8), ('as', 8), ('lugar', 8), ('ms,sans-serif;\"', 9), ('ou', 10), ('muito', 10), ('pode', 10), ('mas', 12), ('do', 13), ('uma', 13), ('0', 14), ('mais', 15), ('um', 15), ('\\xc3\\xa9', 16), ('para', 17), ('e', 19), ('o', 20), ('a', 23), ('de', 23), ('n\\xc3\\xa3o', 24), ('comic', 35), ('sans', 38), ('que', 44)]"
       ]
      },
      {
       "output_type": "stream",
       "stream": "stdout",
       "text": [
        "\n"
       ]
      }
     ],
     "prompt_number": 19
    },
    {
     "cell_type": "markdown",
     "metadata": {},
     "source": [
      "Aline -> Maria Paula: lugar domingo setembro (yes I come back in september!) cabaret "
     ]
    },
    {
     "cell_type": "markdown",
     "metadata": {},
     "source": [
      "Maria Paula -> Aline: lugar pessoas ... full of garbage this time..."
     ]
    },
    {
     "cell_type": "code",
     "collapsed": false,
     "input": [],
     "language": "python",
     "metadata": {},
     "outputs": []
    }
   ],
   "metadata": {}
  }
 ]
}