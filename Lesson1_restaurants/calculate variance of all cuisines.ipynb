{
 "metadata": {
  "name": ""
 },
 "nbformat": 3,
 "nbformat_minor": 0,
 "worksheets": [
  {
   "cells": [
    {
     "cell_type": "code",
     "collapsed": false,
     "input": [
      "import csv # use python's csv module to make sure we get a clean parse\n",
      "restaurant_reader = csv.reader(open('data/WebExtract.txt'))\n",
      "data = []\n",
      "restaurant_reader.next() # skip the header row\n",
      "for row in restaurant_reader:\n",
      "    data.append(row)"
     ],
     "language": "python",
     "metadata": {},
     "outputs": [],
     "prompt_number": 37
    },
    {
     "cell_type": "code",
     "collapsed": false,
     "input": [
      "all_restaurants = {} # data will be parsed into {'cuisine_code': [score, score... score]...}\n",
      "for record in data:\n",
      "    cuisine_code = record[7] # parse out of the line\n",
      "    score = record[11]\n",
      "\n",
      "    if cuisine_code and score: # if they both have values\n",
      "    \n",
      "        if cuisine_code in all_restaurants.keys():\n",
      "            all_restaurants[cuisine_code].append(int(score)) # if the list already exists, add\n",
      "        else:\n",
      "            all_restaurants[cuisine_code] = [int(score)] # if it doesn't exist, create the list"
     ],
     "language": "python",
     "metadata": {},
     "outputs": [],
     "prompt_number": 44
    },
    {
     "cell_type": "code",
     "collapsed": false,
     "input": [
      "# this is optional, but a little sanity check to make sure the data is correct\n",
      "for cuisine_code,scores in all_restaurants.items():\n",
      "    print cuisine_code\n",
      "    print scores\n",
      "    break"
     ],
     "language": "python",
     "metadata": {},
     "outputs": [
      {
       "output_type": "stream",
       "stream": "stdout",
       "text": [
        "58\n",
        "[2, 10, 2, 13, 13, 10, 12, 12, 12, 12, 11, 11, 11, 11, 16, 10, 16, 4, 10, 16, 5, 5, 10, 10, 16, 38, 33, 38, 38, 12, 27, 2, 38, 38, 27, 27, 38, 9, 38, 27, 19, 12, 20, 12, 31, 31, 31, 10, 12, 33, 12, 12, 12, 31, 12, 4, 20, 38, 12, 9, 31, 12]\n"
       ]
      }
     ],
     "prompt_number": 45
    },
    {
     "cell_type": "code",
     "collapsed": false,
     "input": [
      "cuisine_map = {}\n",
      "\n",
      "cuisine_reader = csv.reader(open('data/Cuisine.txt'))\n",
      "\n",
      "for cuisine_line in cuisine_reader:\n",
      "    code, description = cuisine_line\n",
      "    cuisine_map[code] = description\n",
      "    \n",
      "print cuisine_map"
     ],
     "language": "python",
     "metadata": {},
     "outputs": [
      {
       "output_type": "stream",
       "stream": "stdout",
       "text": [
        "{'24': 'Creole', '25': 'Creole/Cajun', '26': 'Czech', '27': 'Delicatessen', '20': 'Chinese', '21': 'Chinese/Cuban', '22': 'Chinese/Japanese', '23': 'Continental', '28': 'Vietnamese/Cambodian/Malaysia', '29': 'Donuts', '59': 'Pakistani', '58': 'Nuts/Confectionary', '55': 'Mexican', '54': 'Mediterranean', '57': 'Moroccan', '56': 'Middle Eastern', '51': 'Juice, Smoothies, Fruit Salads', '50': 'Jewish/Kosher', '53': 'Latin (Cuban, Dominican, Puerto Rican, South & Central American)', '52': 'Korean', '82': 'Thai', '83': 'Turkish', '80': 'Tapas', '81': 'Tex-Mex', 'CUISINECODE': 'CODEDESC', '02': 'African', '03': 'American ', '00': 'Not Listed/Not Applicable', '01': 'Afghan', '06': 'Australian', '07': 'Bagels/Pretzels', '04': 'Armenian', '05': 'Asian', '08': 'Bakery', '09': 'Bangladeshi', '39': 'Hamburgers', '38': 'Greek', '33': 'Ethiopian', '32': 'English', '31': 'Egyptian', '30': 'Eastern European', '37': 'German', '36': 'Fruits/Vegetables', '35': 'French', '34': 'Filipino', '60': 'Pancakes/Waffles', '61': 'Peruvian', '62': 'Pizza', '63': 'Pizza/Italian', '64': 'Polish', '65': 'Polynesian', '66': 'Portuguese', '67': 'Russian', '68': 'Salads', '69': 'Sandwiches', '99': 'Other', '11': 'Basque', '10': 'Barbecue', '13': 'Brazilian', '12': 'Bottled beverages, including water, sodas, juices, etc.', '15': 'Cajun', '14': 'Caf\\xe9/Coffee/Tea', '17': 'Caribbean', '16': 'Californian', '19': 'Chilean', '18': 'Chicken', '48': 'Italian', '49': 'Japanese', '46': 'Iranian', '47': 'Irish', '44': 'Indian', '45': 'Indonesian', '42': 'Hotdogs/Pretzels', '43': 'Ice Cream, Gelato, Yogurt, Ices', '40': 'Hawaiian', '41': 'Hotdogs', '84': 'Vegetarian', '77': 'Spanish', '76': 'Southwestern', '75': 'Soups & Sandwiches', '74': 'Soups', '73': 'Soul Food', '72': 'Seafood', '71': 'Scandinavian', '70': 'Sandwiches/Salads/Mixed Buffet', '78': 'Steak'}\n"
       ]
      }
     ],
     "prompt_number": 46
    },
    {
     "cell_type": "code",
     "collapsed": false,
     "input": [
      "sd = {}\n",
      "for cuisine_code, scores in all_restaurants.items():\n",
      "    sd[cuisine_code] = std(scores)"
     ],
     "language": "python",
     "metadata": {},
     "outputs": [],
     "prompt_number": 47
    },
    {
     "cell_type": "code",
     "collapsed": false,
     "input": [
      "for cuisine_code, stddev in sd.items():\n",
      "    print \"%s, %s\" % (cuisine_map[cuisine_code], stddev)"
     ],
     "language": "python",
     "metadata": {},
     "outputs": [
      {
       "output_type": "stream",
       "stream": "stdout",
       "text": [
        "Bangladeshi, 22.6966203883\n",
        "Mediterranean, 16.1720762617\n",
        "Hotdogs/Pretzels, 12.1643171713\n",
        "Eastern European, 15.5557550566\n",
        "Ice Cream, Gelato, Yogurt, Ices, 12.8979884902\n",
        "Pancakes/Waffles, 13.1701680408\n",
        "Salads, 11.2520538822\n",
        "Pizza, 15.928758504\n",
        "Pizza/Italian, 15.3837053288\n",
        "Polish, 14.2365928934\n",
        "Japanese, 16.9279636304\n",
        "Portuguese, 16.7229559659\n",
        "Russian, 18.5142967293\n",
        "Thai, 15.9933009225\n",
        "Turkish, 15.7327928068\n",
        "Tapas, 16.9173702499\n",
        "Tex-Mex, 16.8579680469\n",
        "Vegetarian, 15.16689888\n",
        "Armenian, 10.861571857\n",
        "African, 17.4804839466\n",
        "American , 15.6552254789\n",
        "Not Listed/Not Applicable, 18.9676169686\n",
        "Delicatessen, 16.0763317854\n",
        "Australian, 10.8765704022\n",
        "Bagels/Pretzels, 15.1601408953\n",
        "Chinese/Japanese, 19.1109499606\n",
        "Continental, 13.4762549439\n",
        "Iranian, 9.98839450019\n",
        "Irish, 13.8182872629\n",
        "Bakery, 17.606350988\n",
        "Indonesian, 11.5120132272\n",
        "Vietnamese/Cambodian/Malaysia, 19.4002084698\n",
        "Donuts, 12.6221185582\n",
        "Hawaiian, 12.3106315559\n",
        "Hotdogs, 12.4428060473\n",
        "French, 14.672127381\n",
        "Caf\ufffd/Coffee/Tea, 14.0062796369\n",
        "Korean, 16.217379875\n",
        "Asian, 18.1823560653\n",
        "Chicken, 14.9502890963\n",
        "Creole, 24.0001473807\n",
        "Indian, 20.0351162147\n",
        "Creole/Cajun, 17.5415676957\n",
        "Ethiopian, 7.82427221984\n",
        "Hamburgers, 12.9204504083\n",
        "Czech, 13.7028913288\n",
        "Spanish, 17.425107921\n",
        "Southwestern, 10.4086748139\n",
        "Soups & Sandwiches, 9.4091031533\n",
        "Afghan, 19.0021465496\n",
        "Soul Food, 20.6971322965\n",
        "Seafood, 16.9913074776\n",
        "Scandinavian, 10.9873369144\n",
        "Sandwiches/Salads/Mixed Buffet, 14.1731258904\n",
        "Chinese, 17.5059164736\n",
        "Sandwiches, 12.6302949781\n",
        "Polynesian, 8.53869867134\n",
        "Steak, 17.7706771806\n",
        "Barbecue, 15.8052000483\n",
        "Brazilian, 11.2469263608\n",
        "Bottled beverages, including water, sodas, juices, etc., 18.7722173843\n",
        "Cajun, 14.3771158107\n",
        "Nuts/Confectionary, 11.1444960354\n",
        "Caribbean, 17.409334451\n",
        "Greek, 16.2038162141\n",
        "Chilean, 21.1000338524\n",
        "English, 13.0435040753\n",
        "Moroccan, 19.0718175686\n",
        "Middle Eastern, 16.0488310923\n",
        "Juice, Smoothies, Fruit Salads, 12.7878999229\n",
        "Fruits/Vegetables, 16.5614365059\n",
        "Latin (Cuban, Dominican, Puerto Rican, South & Central American), 17.3749115207\n",
        "Filipino, 21.0418819471\n",
        "Other, 16.9330614745\n",
        "Pakistani, 23.974087867\n",
        "Mexican, 16.6100908348\n",
        "Soups, 6.25123426242\n",
        "German, 12.4099008589\n",
        "Chinese/Cuban, 17.2118271287\n",
        "Italian, 16.0514942495\n",
        "Peruvian, 18.7112609983\n",
        "Egyptian, 12.698394896\n",
        "Jewish/Kosher, 16.3772392858\n"
       ]
      }
     ],
     "prompt_number": 50
    }
   ],
   "metadata": {}
  }
 ]
}