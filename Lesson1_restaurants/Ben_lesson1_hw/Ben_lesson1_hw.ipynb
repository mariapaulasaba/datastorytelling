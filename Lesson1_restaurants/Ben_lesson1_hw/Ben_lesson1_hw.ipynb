{
 "metadata": {
  "name": "Ben_lesson1_hw"
 },
 "nbformat": 3,
 "nbformat_minor": 0,
 "worksheets": [
  {
   "cells": [
    {
     "cell_type": "markdown",
     "metadata": {},
     "source": [
      "<script type=\"text/javascript\"> setInterval ( \"IPython.notebook.save_notebook()\", 1*60*1000 );\n",
      "</script>"
     ]
    },
    {
     "cell_type": "markdown",
     "metadata": {},
     "source": [
      "Question 1 : Where should I go to get burgers near NYU?"
     ]
    },
    {
     "cell_type": "code",
     "collapsed": false,
     "input": [
      "hamburgers_data = mlab.csv2rec(\"data/hamburgers.txt\")"
     ],
     "language": "python",
     "metadata": {},
     "outputs": [],
     "prompt_number": 24
    },
    {
     "cell_type": "code",
     "collapsed": false,
     "input": [
      "for hamburger in hamburgers_data:\n",
      "    if hamburger[5]== 10003 and hamburger[11]!= -1 and hamburger[11]<=2: #tweaked the numbers until I reached 2, which is the lowest score in the dataset\n",
      "        print hamburger"
     ],
     "language": "python",
     "metadata": {},
     "outputs": [
      {
       "output_type": "stream",
       "stream": "stdout",
       "text": [
        "(41262328, \"MCDONALD'S\", 1, '39', 'UNION SQUARE WEST', 10003, 2126459079, 39, datetime.datetime(2013, 7, 29, 0, 0), 'D', '10F', 2, 'A', datetime.date(2013, 7, 29), datetime.datetime(2013, 8, 30, 1, 1, 8, 80000))\n",
        "(40724008, \"WENDY'S\", 1, '20', 'EAST   14 STREET', 10003, 2122430438, 39, datetime.datetime(2011, 1, 19, 0, 0), 'D', '10F', 2, 'A', datetime.date(2011, 1, 19), datetime.datetime(2013, 8, 30, 1, 1, 8, 80000))\n",
        "(41452207, 'MARK', 1, '33', 'ST MARKS PLACE', 10003, 2126773132, 39, datetime.datetime(2011, 4, 20, 0, 0), 'D', '10B', 2, 'A', datetime.date(2011, 4, 20), datetime.datetime(2013, 8, 30, 1, 1, 8, 80000))\n",
        "(40724008, \"WENDY'S\", 1, '20', 'EAST   14 STREET', 10003, 2122430438, 39, datetime.datetime(2009, 12, 31, 9, 0), 'D', '10B', 2, '', datetime.date(1, 1, 1), datetime.datetime(2013, 8, 30, 1, 1, 8, 80000))"
       ]
      },
      {
       "output_type": "stream",
       "stream": "stdout",
       "text": [
        "\n"
       ]
      }
     ],
     "prompt_number": 185
    },
    {
     "cell_type": "markdown",
     "metadata": {},
     "source": [
      "Strictly speaking, any of these restaurants near NYU are good choices based on their health record. A quick Yelp search leads me to believe that if you're looking for the best *tasting* burger, \"MARK\" or MARKBURGER on St. Mark's is probably the best bet!"
     ]
    },
    {
     "cell_type": "markdown",
     "metadata": {},
     "source": [
      "*********"
     ]
    },
    {
     "cell_type": "markdown",
     "metadata": {},
     "source": [
      "Question 2: How do burger restaurant scores compare, overall, to Japanese restaurants? Why might this be?"
     ]
    },
    {
     "cell_type": "code",
     "collapsed": false,
     "input": [
      "japaneseRests = mlab.csv2rec(\"data/sushis.txt\")"
     ],
     "language": "python",
     "metadata": {},
     "outputs": [],
     "prompt_number": 34
    },
    {
     "cell_type": "code",
     "collapsed": false,
     "input": [
      "japScores = []\n",
      "for restaurant in japaneseRests:\n",
      "    japScores.append(restaurant[11])"
     ],
     "language": "python",
     "metadata": {},
     "outputs": [],
     "prompt_number": 43
    },
    {
     "cell_type": "code",
     "collapsed": false,
     "input": [
      "burgerScores = []\n",
      "for restaurant in hamburgers_data:\n",
      "    burgerScores.append(restaurant[11])"
     ],
     "language": "python",
     "metadata": {},
     "outputs": [],
     "prompt_number": 44
    },
    {
     "cell_type": "code",
     "collapsed": false,
     "input": [
      "print max(burgerScores)\n",
      "print min(burgerScores)"
     ],
     "language": "python",
     "metadata": {},
     "outputs": [
      {
       "output_type": "stream",
       "stream": "stdout",
       "text": [
        "98\n",
        "-1\n"
       ]
      }
     ],
     "prompt_number": 49
    },
    {
     "cell_type": "code",
     "collapsed": false,
     "input": [
      "print max(japScores)\n",
      "print min(japScores)"
     ],
     "language": "python",
     "metadata": {},
     "outputs": [
      {
       "output_type": "stream",
       "stream": "stdout",
       "text": [
        "133\n",
        "-1\n"
       ]
      }
     ],
     "prompt_number": 50
    },
    {
     "cell_type": "code",
     "collapsed": false,
     "input": [
      "plt.plot(burgerScores)"
     ],
     "language": "python",
     "metadata": {},
     "outputs": [
      {
       "output_type": "pyout",
       "prompt_number": 51,
       "text": [
        "[<matplotlib.lines.Line2D at 0x1076c73d0>]"
       ]
      },
      {
       "output_type": "display_data",
       "png": "[encoded data removed]"
      }
     ],
     "prompt_number": 51
    },
    {
     "cell_type": "code",
     "collapsed": false,
     "input": [
      "plt.plot(japScores)"
     ],
     "language": "python",
     "metadata": {},
     "outputs": [
      {
       "output_type": "pyout",
       "prompt_number": 52,
       "text": [
        "[<matplotlib.lines.Line2D at 0x1071efa50>]"
       ]
      },
      {
       "output_type": "display_data",
       "png": "[encoded data removed]"
      }
     ],
     "prompt_number": 52
    },
    {
     "cell_type": "code",
     "collapsed": false,
     "input": [
      "n, bins, patches = pyplot.hist(burgerScores,bins=20)\n"
     ],
     "language": "python",
     "metadata": {},
     "outputs": [
      {
       "output_type": "display_data",
       "png": "[encoded data removed]"
      }
     ],
     "prompt_number": 63
    },
    {
     "cell_type": "code",
     "collapsed": false,
     "input": [
      "print  numpy.median(burgerScores)\n",
      "print  numpy.mean(burgerScores)\n",
      "print  numpy.std(burgerScores)\n",
      "print  numpy.var(burgerScores)"
     ],
     "language": "python",
     "metadata": {},
     "outputs": [
      {
       "output_type": "stream",
       "stream": "stdout",
       "text": [
        "15.0\n",
        "18.208462087\n",
        "13.155884413\n",
        "173.077294687\n"
       ]
      }
     ],
     "prompt_number": 80
    },
    {
     "cell_type": "code",
     "collapsed": false,
     "input": [
      "n, bins, patches = pyplot.hist(japScores,bins=20)"
     ],
     "language": "python",
     "metadata": {},
     "outputs": [
      {
       "output_type": "display_data",
       "png": "[encoded data removed]"
      }
     ],
     "prompt_number": 58
    },
    {
     "cell_type": "code",
     "collapsed": false,
     "input": [
      "print numpy.median(japScores)\n",
      "print numpy.mean(japScores)\n",
      "print numpy.std(japScores)\n",
      "print numpy.var(japScores)"
     ],
     "language": "python",
     "metadata": {},
     "outputs": [
      {
       "output_type": "stream",
       "stream": "stdout",
       "text": [
        "24.0\n",
        "28.2703553968\n",
        "17.9516742247\n",
        "322.262607471\n"
       ]
      }
     ],
     "prompt_number": 75
    },
    {
     "cell_type": "markdown",
     "metadata": {},
     "source": [
      "Overall, hamburger restaurants fared better in inspections than japanese restaurants. Both mean and median scores for hamburgers are lower by a large margin, and the standard deviation (as well as the visualization) shows that burger restraurant scores are clustered right around upper bounds/break point to get an A rating. Japanese restaurants are more all over the place (higher variance). \n",
      "\n",
      "I think the reason hamburgers came out \"healthier\" is that the \"hamburgers\" cousine code is perhaps disproportionately populated by fast food restaurants, and it seems plausible that these restaurants have more consistent and stricter standards for health and cleanliness since they are run top-down by huge corporations. \n",
      "\n",
      "Also, japanese restaurants handle raw fish and maybe they get reported more often for food poisoning?"
     ]
    },
    {
     "cell_type": "markdown",
     "metadata": {},
     "source": [
      "*********"
     ]
    },
    {
     "cell_type": "markdown",
     "metadata": {},
     "source": [
      "Question 4: \"Is one burough better than other?\""
     ]
    },
    {
     "cell_type": "code",
     "collapsed": false,
     "input": [
      "all_restaurants = mlab.csv2rec(\"data/WebExtract.txt\")"
     ],
     "language": "python",
     "metadata": {},
     "outputs": [],
     "prompt_number": 205
    },
    {
     "cell_type": "code",
     "collapsed": false,
     "input": [
      "some_restaurants = all_restaurants[0:1000]"
     ],
     "language": "python",
     "metadata": {},
     "outputs": [],
     "prompt_number": 247
    },
    {
     "cell_type": "code",
     "collapsed": false,
     "input": [
      "all_restaurants[1]"
     ],
     "language": "python",
     "metadata": {},
     "outputs": [
      {
       "output_type": "pyout",
       "prompt_number": 267,
       "text": [
        "(40362432, 'HO MEI RESTAURANT', 4, '103-05', '37 AVENUE', '11368', '7187796903', 20, datetime.datetime(2013, 6, 4, 0, 0), 'D', '06C', 12, 'A', datetime.datetime(2013, 6, 4, 0, 0), datetime.datetime(2013, 9, 6, 1, 1, 5, 267000))"
       ]
      }
     ],
     "prompt_number": 267
    },
    {
     "cell_type": "code",
     "collapsed": false,
     "input": [
      "manhattan = []\n",
      "bronx = []\n",
      "bk = []\n",
      "queens = []\n",
      "staten = []\n",
      "for restuarant in all_restaurants:\n",
      "    if restuarant[2]== 1:\n",
      "        manhattan.append(restuarant[11])\n",
      "    if restuarant[2]== 5:\n",
      "        staten.append(restuarant[11])\n",
      "    if restuarant[2]== 3:\n",
      "        bk.append(restuarant[11])\n",
      "    if restuarant[2]== 2:\n",
      "        bronx.append(restuarant[11])\n",
      "    if restuarant[2]== 4:\n",
      "        queens.append(restuarant[11])"
     ],
     "language": "python",
     "metadata": {},
     "outputs": [],
     "prompt_number": 276
    },
    {
     "cell_type": "code",
     "collapsed": false,
     "input": [
      "print \"Manhattan mean:\",numpy.mean(manhattan),\"median:\",numpy.median(manhattan)\n",
      "print \"Bronx mean:\", numpy.mean(bronx),\"median:\",numpy.median(bronx)\n",
      "print \"Queens mean:\", numpy.mean(queens),\"median:\",numpy.median(queens)\n",
      "print \"Staten Island:\", numpy.mean(staten),\"median:\",numpy.median(staten)\n",
      "print \"Brooklyn mean:\", numpy.mean(bk),\"median:\",numpy.median(bk)\n"
     ],
     "language": "python",
     "metadata": {},
     "outputs": [
      {
       "output_type": "stream",
       "stream": "stdout",
       "text": [
        "Manhattan mean: 23.4836315512 median: "
       ]
      },
      {
       "output_type": "stream",
       "stream": "stdout",
       "text": [
        "20.0\n",
        "Bronx mean: 23.0494493672 median: 19.0\n",
        "Queens mean: 23.8101773932 median: "
       ]
      },
      {
       "output_type": "stream",
       "stream": "stdout",
       "text": [
        "20.0\n",
        "Staten Island: 20.4813192315 median: 17.0\n",
        "Brooklyn mean: 23.1470717711 median: 19.0\n"
       ]
      }
     ],
     "prompt_number": 282
    },
    {
     "cell_type": "markdown",
     "metadata": {},
     "source": [
      "Of the five buroughs, I'd venture to guess that Staten Island is the most hygenic suburb!"
     ]
    },
    {
     "cell_type": "markdown",
     "metadata": {},
     "source": [
      "********"
     ]
    },
    {
     "cell_type": "markdown",
     "metadata": {},
     "source": [
      "Question 3: \"Are there any cuisines for which the variance of scores is very high? Why do you think that might be the case?\""
     ]
    },
    {
     "cell_type": "code",
     "collapsed": false,
     "input": [],
     "language": "python",
     "metadata": {},
     "outputs": [],
     "prompt_number": 282
    },
    {
     "cell_type": "code",
     "collapsed": false,
     "input": [
      "type(all_restaurants)"
     ],
     "language": "python",
     "metadata": {},
     "outputs": [
      {
       "output_type": "pyout",
       "prompt_number": 283,
       "text": [
        "numpy.core.records.recarray"
       ]
      }
     ],
     "prompt_number": 283
    },
    {
     "cell_type": "code",
     "collapsed": false,
     "input": [
      "all_restaurants[:3]"
     ],
     "language": "python",
     "metadata": {},
     "outputs": [
      {
       "output_type": "pyout",
       "prompt_number": 284,
       "text": [
        "rec.array([ (30075445, 'MORRIS PARK BAKE SHOP', 2, '1007', 'MORRIS PARK AVE', '10462', '7188924968', 8, datetime.datetime(2013, 1, 24, 0, 0), 'U', '10F', 10, 'A', datetime.datetime(2013, 1, 24, 0, 0), datetime.datetime(2013, 9, 6, 1, 1, 5, 267000)),\n",
        "       (40362432, 'HO MEI RESTAURANT', 4, '103-05', '37 AVENUE', '11368', '7187796903', 20, datetime.datetime(2013, 6, 4, 0, 0), 'D', '06C', 12, 'A', datetime.datetime(2013, 6, 4, 0, 0), datetime.datetime(2013, 9, 6, 1, 1, 5, 267000)),\n",
        "       (40362869, \"SHASHEMENE INT'L RESTAURA\", 3, '195', 'EAST 56 STREET', '11203', '3474300871', 17, datetime.datetime(2013, 5, 8, 0, 0), 'D', '10B', 7, 'A', datetime.datetime(2013, 5, 8, 0, 0), datetime.datetime(2013, 9, 6, 1, 1, 5, 267000))], \n",
        "      dtype=[('camis', '<i8'), ('dba', 'S88'), ('boro', '<i8'), ('building', 'S10'), ('street', 'S50'), ('zipcode', 'S5'), ('phone', 'S11'), ('cuisinecode', '<i8'), ('inspdate', 'O'), ('action', 'S1'), ('violcode', 'S3'), ('score', '<i8'), ('currentgrade', 'S1'), ('gradedate', 'O'), ('recorddate', 'O')])"
       ]
      }
     ],
     "prompt_number": 284
    },
    {
     "cell_type": "code",
     "collapsed": false,
     "input": [
      "vars['a']"
     ],
     "language": "python",
     "metadata": {},
     "outputs": [
      {
       "ename": "TypeError",
       "evalue": "'builtin_function_or_method' object is not subscriptable",
       "output_type": "pyerr",
       "traceback": [
        "\u001b[0;31m---------------------------------------------------------------------------\u001b[0m\n\u001b[0;31mTypeError\u001b[0m                                 Traceback (most recent call last)",
        "\u001b[0;32m<ipython-input-285-f87c2964fc12>\u001b[0m in \u001b[0;36m<module>\u001b[0;34m()\u001b[0m\n\u001b[0;32m----> 1\u001b[0;31m \u001b[0mvars\u001b[0m\u001b[0;34m[\u001b[0m\u001b[0;34m'a'\u001b[0m\u001b[0;34m]\u001b[0m\u001b[0;34m\u001b[0m\u001b[0m\n\u001b[0m",
        "\u001b[0;31mTypeError\u001b[0m: 'builtin_function_or_method' object is not subscriptable"
       ]
      }
     ],
     "prompt_number": 285
    },
    {
     "cell_type": "code",
     "collapsed": false,
     "input": [
      "a = all_restaurants[0]"
     ],
     "language": "python",
     "metadata": {},
     "outputs": [],
     "prompt_number": 286
    },
    {
     "cell_type": "code",
     "collapsed": false,
     "input": [
      "a"
     ],
     "language": "python",
     "metadata": {},
     "outputs": [
      {
       "output_type": "pyout",
       "prompt_number": 287,
       "text": [
        "(30075445, 'MORRIS PARK BAKE SHOP', 2, '1007', 'MORRIS PARK AVE', '10462', '7188924968', 8, datetime.datetime(2013, 1, 24, 0, 0), 'U', '10F', 10, 'A', datetime.datetime(2013, 1, 24, 0, 0), datetime.datetime(2013, 9, 6, 1, 1, 5, 267000))"
       ]
      }
     ],
     "prompt_number": 287
    },
    {
     "cell_type": "code",
     "collapsed": false,
     "input": [
      "def take_first_value(x):\n",
      "    return x[11]\n",
      "\n",
      "m = map(take_first_value, all_restaurants)"
     ],
     "language": "python",
     "metadata": {},
     "outputs": [],
     "prompt_number": 305
    },
    {
     "cell_type": "code",
     "collapsed": false,
     "input": [
      "m[:10]"
     ],
     "language": "python",
     "metadata": {},
     "outputs": [
      {
       "output_type": "pyout",
       "prompt_number": 306,
       "text": [
        "[10, 12, 7, 9, 5, 7, 12, 4, 9, 13]"
       ]
      }
     ],
     "prompt_number": 306
    },
    {
     "cell_type": "code",
     "collapsed": false,
     "input": [
      "m = [(x[0], x[1]) for x in all_restaurants]"
     ],
     "language": "python",
     "metadata": {},
     "outputs": [],
     "prompt_number": 300
    },
    {
     "cell_type": "code",
     "collapsed": false,
     "input": [
      "m[2:5]"
     ],
     "language": "python",
     "metadata": {},
     "outputs": [
      {
       "output_type": "pyout",
       "prompt_number": 301,
       "text": [
        "[(40362869, \"SHASHEMENE INT'L RESTAURA\"),\n",
        " (40363093, 'CARVEL ICE CREAM'),\n",
        " (40363117, 'MEJLANDER & MULGANNON')]"
       ]
      }
     ],
     "prompt_number": 301
    },
    {
     "cell_type": "code",
     "collapsed": false,
     "input": [],
     "language": "python",
     "metadata": {},
     "outputs": []
    }
   ],
   "metadata": {}
  }
 ]
}