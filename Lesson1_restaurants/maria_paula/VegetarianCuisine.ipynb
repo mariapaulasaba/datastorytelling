{
 "metadata": {
  "name": ""
 },
 "nbformat": 3,
 "nbformat_minor": 0,
 "worksheets": [
  {
   "cells": [
    {
     "cell_type": "code",
     "collapsed": false,
     "input": [
      "hamburguers_data = mlab.csv2rec(\"data/hamburgers.txt\")\n",
      "vegetarian_data = mlab.csv2rec(\"data/vegetarian.txt\")\n"
     ],
     "language": "python",
     "metadata": {},
     "outputs": [],
     "prompt_number": 1
    },
    {
     "cell_type": "code",
     "collapsed": false,
     "input": [
      "burguerScores = []\n",
      "veggieScores = []\n",
      "\n",
      "for burguer in hamburguers_data:\n",
      "    burguerScores.append(burguer[11])\n",
      "    \n",
      "    \n",
      "for veggie in vegetarian_data:\n",
      "    veggieScores.append(veggie[11])\n",
      "    \n",
      "print len(burguerScores)\n",
      "print len(veggieScores)"
     ],
     "language": "python",
     "metadata": {},
     "outputs": [
      {
       "output_type": "stream",
       "stream": "stdout",
       "text": [
        "8414\n",
        "2450\n"
       ]
      }
     ],
     "prompt_number": 5
    },
    {
     "cell_type": "code",
     "collapsed": false,
     "input": [
      "plt.plot(burguerScores)\n",
      "plt.plot(veggieScores)\n"
     ],
     "language": "python",
     "metadata": {},
     "outputs": [
      {
       "metadata": {},
       "output_type": "pyout",
       "prompt_number": 3,
       "text": [
        "[<matplotlib.lines.Line2D at 0x1125622d0>]"
       ]
      },
      {
       "metadata": {},
       "output_type": "display_data",
       "png": "[encoded data removed]",
       "text": [
        "<matplotlib.figure.Figure at 0x112562510>"
       ]
      }
     ],
     "prompt_number": 3
    },
    {
     "cell_type": "code",
     "collapsed": false,
     "input": [
      "from scipy import stats\n",
      "\n",
      "n, min_max, mean, var, skew, kurt = stats.describe(burguerScores)\n",
      "print n # num of items in dataset\n",
      "print min_max # min and max values\n",
      "print mean"
     ],
     "language": "python",
     "metadata": {},
     "outputs": [
      {
       "output_type": "stream",
       "stream": "stdout",
       "text": [
        "8414\n",
        "(-1, 98)\n",
        "18.208462087\n"
       ]
      }
     ],
     "prompt_number": 11
    },
    {
     "cell_type": "code",
     "collapsed": false,
     "input": [
      "n, min_max, mean, var, skew, kurt = stats.describe(veggieScores)\n",
      "print n # num of items in dataset\n",
      "print min_max # min and max values\n",
      "print mean"
     ],
     "language": "python",
     "metadata": {},
     "outputs": [
      {
       "output_type": "stream",
       "stream": "stdout",
       "text": [
        "2450\n",
        "(-1, 84)\n",
        "27.4840816327\n"
       ]
      }
     ],
     "prompt_number": 12
    },
    {
     "cell_type": "raw",
     "metadata": {},
     "source": [
      "OMG! In average it is safer to eat in burguers than in vegetarian restaurants! Let's check good veggie restaurants to go."
     ]
    },
    {
     "cell_type": "code",
     "collapsed": false,
     "input": [
      "vA = []\n",
      "vB = []\n",
      "vC = []\n",
      "\n",
      "\n",
      "for veggie in vegetarian_data:\n",
      "    if veggie[11] < 13:\n",
      "        vA.append(veggie)\n",
      "    elif veggie[11] > 13 and veggie[11] < 28:\n",
      "        vB.append(veggie)\n",
      "    elif veggie[11] > 27:\n",
      "        vC.append(veggie)\n",
      "\n",
      "print \"Number of A results:\", len(vA)\n",
      "print \"Number of B results:\", len(vB)\n",
      "print \"Number of C or worse results:\", len(vC)\n",
      "\n",
      "        "
     ],
     "language": "python",
     "metadata": {},
     "outputs": [
      {
       "output_type": "stream",
       "stream": "stdout",
       "text": [
        "Number of A results: 651\n",
        "Number of B results: 848\n",
        "Number of C or worse results: 827\n"
       ]
      }
     ],
     "prompt_number": 21
    },
    {
     "cell_type": "code",
     "collapsed": false,
     "input": [
      "hA = []\n",
      "hB = []\n",
      "hC = []\n",
      "\n",
      "\n",
      "for burguer in hamburguers_data:\n",
      "    if burguer[11] < 13:\n",
      "        hA.append(burguer)\n",
      "    elif burguer[11] > 13 and burguer[11] < 28:\n",
      "        hB.append(burguer)\n",
      "    elif burguer[11] > 27:\n",
      "        hC.append(burguer)\n",
      "\n",
      "print \"Number of A results:\", len(hA)\n",
      "print \"Number of B results:\", len(hB)\n",
      "print \"Number of C or worse results:\", len(hC)\n",
      "print len(hA) + len(hB) + len(hC)"
     ],
     "language": "python",
     "metadata": {},
     "outputs": [
      {
       "output_type": "stream",
       "stream": "stdout",
       "text": [
        "Number of A results: 3505\n",
        "Number of B results: 2907\n",
        "Number of C or worse results: 1473\n",
        "7885\n"
       ]
      }
     ],
     "prompt_number": 54
    },
    {
     "cell_type": "code",
     "collapsed": false,
     "input": [
      "print \"Percentage of vegetarian restaurants with grade C or lower:\", (len(vC)*100/len(veggieScores))\n",
      "print \"Percentage of hamburguer restaurants with grade C or lower:\", (len(hC)*100/len(burguerScores))"
     ],
     "language": "python",
     "metadata": {},
     "outputs": [
      {
       "output_type": "stream",
       "stream": "stdout",
       "text": [
        "Percentage of vegetarian restaurants with grade C or lower: 33\n",
        "Percentage of hamburguer restaurants with grade C or lower: 17\n"
       ]
      }
     ],
     "prompt_number": 52
    },
    {
     "cell_type": "raw",
     "metadata": {},
     "source": [
      "So let's focus on the best veggie restaurants:"
     ]
    },
    {
     "cell_type": "code",
     "collapsed": false,
     "input": [
      "for veggie in vA:\n",
      "    if veggie[11] == 2:\n",
      "        print veggie[1], \"at\", veggie[3], veggie[4], \"has grade\", veggie[11]"
     ],
     "language": "python",
     "metadata": {},
     "outputs": [
      {
       "output_type": "stream",
       "stream": "stdout",
       "text": [
        "GOBO at 1426 3 AVENUE has grade 2\n",
        "JIVAMUKTEA CAFE at 841 BROADWAY has grade 2\n",
        "THE ONENESS FOUNTAIN HEART at 157-19 72 AVENUE has grade 2\n",
        "NEWTOWN at 55         WATERBURY STREET                                   has grade 2\n",
        "LOVING HUT at 348 7 AVENUE has grade 2\n",
        "GINGERSNAP'S ORGANIC at 130 EAST    7 STREET has grade 2\n",
        "BEYOND SUSHI at 227-229    E 14TH ST                                          has grade 2\n",
        "THE BUTCHER'S DAUGHTER at 19 KENMARE STREET has grade 2\n",
        "QUEEN at 84 COURT STREET has grade 2\n",
        "HOT & CRUSTY BAKERY at 84 EAST 42 STREET has grade 2\n",
        "HOT & CRUSTY BAKERY at 84 EAST 42 STREET has grade 2\n",
        "BLISS BAKERY & CAFE at 191 BEDFORD AVENUE has grade 2\n",
        "PURE FOOD & WINE at 54 IRVING PLACE has grade 2\n",
        "VEGETARIAN GINGER at 128 MONTAGUE STREET has grade 2\n",
        "PACIFIC OCEAN HOUSE at 84 MANHATTAN AVENUE has grade 2\n",
        "CHAMPS at 176 AINSLIE STREET has grade 2\n",
        "CHAMPS at 176 AINSLIE STREET has grade 2\n",
        "VEGETARIAN PARADISE VP2 at 144 WEST    4 STREET has grade 2\n",
        "CHAMPS at 176 AINSLIE STREET has grade 2\n",
        "HOTEL TORTUGA at 246 EAST   14 STREET has grade 2\n",
        "HOTEL TORTUGA at 246 EAST   14 STREET has grade 2\n",
        "GINGERSNAP'S ORGANIC at 130 EAST    7 STREET has grade 2\n",
        "VEGAN FOODS at 156 5 AVENUE has grade 2\n",
        "BROADWAY AU LAIT at 3070-72 BROADWAY has grade 2\n"
       ]
      }
     ],
     "prompt_number": 55
    },
    {
     "cell_type": "code",
     "collapsed": false,
     "input": [
      "for veggie in vA:\n",
      "    if veggie[11] == 2:\n",
      "        print veggie[1], \"at\", veggie[3], veggie[4]"
     ],
     "language": "python",
     "metadata": {},
     "outputs": [
      {
       "output_type": "stream",
       "stream": "stdout",
       "text": [
        "GOBO at 1426 3 AVENUE\n",
        "JIVAMUKTEA CAFE at 841 BROADWAY\n",
        "THE ONENESS FOUNTAIN HEART at 157-19 72 AVENUE\n",
        "NEWTOWN at 55         WATERBURY STREET                                  \n",
        "LOVING HUT at 348 7 AVENUE\n",
        "GINGERSNAP'S ORGANIC at 130 EAST    7 STREET\n",
        "BEYOND SUSHI at 227-229    E 14TH ST                                         \n",
        "THE BUTCHER'S DAUGHTER at 19 KENMARE STREET\n",
        "QUEEN at 84 COURT STREET\n",
        "HOT & CRUSTY BAKERY at 84 EAST 42 STREET\n",
        "HOT & CRUSTY BAKERY at 84 EAST 42 STREET\n",
        "BLISS BAKERY & CAFE at 191 BEDFORD AVENUE\n",
        "PURE FOOD & WINE at 54 IRVING PLACE\n",
        "VEGETARIAN GINGER at 128 MONTAGUE STREET\n",
        "PACIFIC OCEAN HOUSE at 84 MANHATTAN AVENUE\n",
        "CHAMPS at 176 AINSLIE STREET\n",
        "CHAMPS at 176 AINSLIE STREET\n",
        "VEGETARIAN PARADISE VP2 at 144 WEST    4 STREET\n",
        "CHAMPS at 176 AINSLIE STREET\n",
        "HOTEL TORTUGA at 246 EAST   14 STREET\n",
        "HOTEL TORTUGA at 246 EAST   14 STREET\n",
        "GINGERSNAP'S ORGANIC at 130 EAST    7 STREET\n",
        "VEGAN FOODS at 156 5 AVENUE\n",
        "BROADWAY AU LAIT at 3070-72 BROADWAY\n"
       ]
      }
     ],
     "prompt_number": 35
    },
    {
     "cell_type": "code",
     "collapsed": false,
     "input": [],
     "language": "python",
     "metadata": {},
     "outputs": []
    }
   ],
   "metadata": {}
  }
 ]
}