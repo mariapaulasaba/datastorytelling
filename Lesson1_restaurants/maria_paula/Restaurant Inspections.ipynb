{
 "metadata": {
  "name": ""
 },
 "nbformat": 3,
 "nbformat_minor": 0,
 "worksheets": [
  {
   "cells": [
    {
     "cell_type": "heading",
     "level": 2,
     "metadata": {},
     "source": [
      "Restaurant Inspection Analysis"
     ]
    },
    {
     "cell_type": "markdown",
     "metadata": {},
     "source": [
      "For today's project, we'll be using public restaurant inspection data from New York City. Specifically, we'll be looking at all inspection scores for _hamburger_ restaurants (yes, this is a category of restaurants).\n",
      "\n",
      "First, let's load the data."
     ]
    },
    {
     "cell_type": "code",
     "collapsed": false,
     "input": [
      "restaurant_data = mlab.csv2rec(\"data/hamburgers.txt\")"
     ],
     "language": "python",
     "metadata": {},
     "outputs": [],
     "prompt_number": 2
    },
    {
     "cell_type": "markdown",
     "metadata": {},
     "source": [
      "...and let's take a look at the first row.\n",
      "\n",
      "If we look at the raw data file, the headers are:"
     ]
    },
    {
     "cell_type": "raw",
     "metadata": {},
     "source": [
      "\"CAMIS\",\"DBA\",\"BORO\",\"BUILDING\",\"STREET\",\"ZIPCODE\",\"PHONE\",\"CUISINECODE\",\"INSPDATE\",\"ACTION\",\"VIOLCODE\",\"SCORE\",\"CURRENTGRADE\",\"GRADEDATE\",\"RECORDDATE\""
     ]
    },
    {
     "cell_type": "code",
     "collapsed": false,
     "input": [
      "restaurant_data[0]"
     ],
     "language": "python",
     "metadata": {},
     "outputs": [
      {
       "metadata": {},
       "output_type": "pyout",
       "prompt_number": 3,
       "text": [
        "(30112340, \"WENDY'S\", 3, '469', 'FLATBUSH AVENUE', 11225, 7182875005, 39, datetime.datetime(2013, 4, 30, 0, 0), 'D', '10F', 12, 'A', datetime.date(2013, 4, 30), datetime.datetime(2013, 8, 30, 1, 1, 8, 80000))"
       ]
      }
     ],
     "prompt_number": 3
    },
    {
     "cell_type": "code",
     "collapsed": false,
     "input": [
      "scores = []\n",
      "for restaurant in restaurant_data:\n",
      "    scores.append(restaurant[11])\n",
      "#     print restaurant[1]\n",
      "#     print restaurant[11]\n",
      "#     print restaurant[12]\n",
      "\n"
     ],
     "language": "python",
     "metadata": {},
     "outputs": [],
     "prompt_number": 4
    },
    {
     "cell_type": "markdown",
     "metadata": {},
     "source": [
      "Now, let's get a sense of the data."
     ]
    },
    {
     "cell_type": "code",
     "collapsed": false,
     "input": [
      "min(scores)"
     ],
     "language": "python",
     "metadata": {},
     "outputs": [
      {
       "metadata": {},
       "output_type": "pyout",
       "prompt_number": 5,
       "text": [
        "-1"
       ]
      }
     ],
     "prompt_number": 5
    },
    {
     "cell_type": "code",
     "collapsed": false,
     "input": [
      "max(scores)"
     ],
     "language": "python",
     "metadata": {},
     "outputs": [
      {
       "metadata": {},
       "output_type": "pyout",
       "prompt_number": 6,
       "text": [
        "98"
       ]
      }
     ],
     "prompt_number": 6
    },
    {
     "cell_type": "code",
     "collapsed": false,
     "input": [
      "plt.plot(scores)"
     ],
     "language": "python",
     "metadata": {},
     "outputs": [
      {
       "metadata": {},
       "output_type": "pyout",
       "prompt_number": 7,
       "text": [
        "[<matplotlib.lines.Line2D at 0x110b42410>]"
       ]
      },
      {
       "metadata": {},
       "output_type": "display_data",
       "png": "[encoded data removed]",
       "text": [
        "<matplotlib.figure.Figure at 0x110a51610>"
       ]
      }
     ],
     "prompt_number": 7
    },
    {
     "cell_type": "markdown",
     "metadata": {},
     "source": [
      "Well, that's not useful!"
     ]
    },
    {
     "cell_type": "code",
     "collapsed": false,
     "input": [
      "n, bins, patches = pyplot.hist(scores)"
     ],
     "language": "python",
     "metadata": {},
     "outputs": [
      {
       "metadata": {},
       "output_type": "display_data",
       "png": "[encoded data removed]",
       "text": [
        "<matplotlib.figure.Figure at 0x110b73450>"
       ]
      }
     ],
     "prompt_number": 8
    },
    {
     "cell_type": "code",
     "collapsed": false,
     "input": [],
     "language": "python",
     "metadata": {},
     "outputs": [],
     "prompt_number": 8
    },
    {
     "cell_type": "code",
     "collapsed": false,
     "input": [],
     "language": "python",
     "metadata": {},
     "outputs": [],
     "prompt_number": 8
    },
    {
     "cell_type": "markdown",
     "metadata": {},
     "source": [
      "That's much more interesting.\n",
      "\n",
      "If you look at the restaurant evaluation documentation, you'll find this:\n",
      "\n",
      "\"Restaurants with a score between 0 and 13 points earn an A, those with 14 to 27 points receive a B and those with 28\n",
      "or more a C. Inspection results are posted on the Health Department\u2019s website.\""
     ]
    },
    {
     "cell_type": "code",
     "collapsed": false,
     "input": [
      "for record in restaurant_data:\n",
      "    if record[11] == 98:\n",
      "        print record\n",
      "        break"
     ],
     "language": "python",
     "metadata": {},
     "outputs": [
      {
       "output_type": "stream",
       "stream": "stdout",
       "text": [
        "(41094277, \"JIMBO'S HAMBURGER PLACE\", 2, '690', 'MELROSE AVENUE', 10455, 7182928032, 39, datetime.datetime(2010, 9, 17, 0, 0), 'F', '04L', 98, '', datetime.date(1, 1, 1), datetime.datetime(2013, 8, 30, 1, 1, 8, 80000))\n"
       ]
      }
     ],
     "prompt_number": 9
    },
    {
     "cell_type": "markdown",
     "metadata": {},
     "source": [
      "<img src=\"https://lh4.googleusercontent.com/-kI9HkFrcgAA/UbiCiXsCoCI/AAAAAAAACSg/HxKeqEb9W0g/s512/2013-06-12\" style=\"float:right;margin:10px;\" />\n",
      "\n",
      "We've found the worst (for some value of \"worst\") burger joint in Manhattan."
     ]
    },
    {
     "cell_type": "code",
     "collapsed": false,
     "input": [
      "numpy.median(scores)"
     ],
     "language": "python",
     "metadata": {},
     "outputs": [
      {
       "metadata": {},
       "output_type": "pyout",
       "prompt_number": 10,
       "text": [
        "15.0"
       ]
      }
     ],
     "prompt_number": 10
    },
    {
     "cell_type": "code",
     "collapsed": false,
     "input": [
      "# numpy.mean(scores) # we have two options for calculating the mean. since our data is a list, we can use the mean function...\n",
      "\n",
      "scores = numpy.asarray(scores) # ...or we can convert the data to a numpy array\n",
      "scores.mean() #... which comes with some special powers"
     ],
     "language": "python",
     "metadata": {},
     "outputs": [
      {
       "metadata": {},
       "output_type": "pyout",
       "prompt_number": 11,
       "text": [
        "18.208462086997862"
       ]
      }
     ],
     "prompt_number": 11
    },
    {
     "cell_type": "markdown",
     "metadata": {},
     "source": [
      "What does this mean and median tell us?\n",
      "\n",
      "[this is the part where I rant, in class, about averages.]"
     ]
    },
    {
     "cell_type": "code",
     "collapsed": false,
     "input": [
      "scores.var()"
     ],
     "language": "python",
     "metadata": {},
     "outputs": [
      {
       "metadata": {},
       "output_type": "pyout",
       "prompt_number": 12,
       "text": [
        "173.0772946873557"
       ]
      }
     ],
     "prompt_number": 12
    },
    {
     "cell_type": "code",
     "collapsed": false,
     "input": [
      "numpy.std(scores)"
     ],
     "language": "python",
     "metadata": {},
     "outputs": [
      {
       "metadata": {},
       "output_type": "pyout",
       "prompt_number": 13,
       "text": [
        "13.155884412967291"
       ]
      }
     ],
     "prompt_number": 13
    },
    {
     "cell_type": "markdown",
     "metadata": {},
     "source": [
      "Let's talk about variance and [standard deviation](http://en.wikipedia.org/wiki/Standard_deviation)!\n",
      "\n",
      "Now, for comparison, let's play with some random data."
     ]
    },
    {
     "cell_type": "code",
     "collapsed": false,
     "input": [
      "import scipy\n",
      "\n",
      "random_data = scipy.randn(1000)"
     ],
     "language": "python",
     "metadata": {},
     "outputs": [],
     "prompt_number": 14
    },
    {
     "cell_type": "code",
     "collapsed": false,
     "input": [
      "plt.plot(random_data)"
     ],
     "language": "python",
     "metadata": {},
     "outputs": [
      {
       "metadata": {},
       "output_type": "pyout",
       "prompt_number": 15,
       "text": [
        "[<matplotlib.lines.Line2D at 0x110e55610>]"
       ]
      },
      {
       "metadata": {},
       "output_type": "display_data",
       "png": "[encoded data removed]",
       "text": [
        "<matplotlib.figure.Figure at 0x110dff390>"
       ]
      }
     ],
     "prompt_number": 15
    },
    {
     "cell_type": "code",
     "collapsed": false,
     "input": [
      "random_data.mean()"
     ],
     "language": "python",
     "metadata": {},
     "outputs": [
      {
       "metadata": {},
       "output_type": "pyout",
       "prompt_number": 16,
       "text": [
        "0.041175336011219955"
       ]
      }
     ],
     "prompt_number": 16
    },
    {
     "cell_type": "code",
     "collapsed": false,
     "input": [
      "random_data.var()"
     ],
     "language": "python",
     "metadata": {},
     "outputs": [
      {
       "metadata": {},
       "output_type": "pyout",
       "prompt_number": 17,
       "text": [
        "0.99095448171524281"
       ]
      }
     ],
     "prompt_number": 17
    },
    {
     "cell_type": "code",
     "collapsed": false,
     "input": [
      "random_data.std()"
     ],
     "language": "python",
     "metadata": {},
     "outputs": [
      {
       "metadata": {},
       "output_type": "pyout",
       "prompt_number": 18,
       "text": [
        "0.99546696666199974"
       ]
      }
     ],
     "prompt_number": 18
    },
    {
     "cell_type": "code",
     "collapsed": false,
     "input": [
      "plt.hist(random_data)"
     ],
     "language": "python",
     "metadata": {},
     "outputs": [
      {
       "metadata": {},
       "output_type": "pyout",
       "prompt_number": 19,
       "text": [
        "(array([   3.,   16.,   40.,  113.,  178.,  230.,  198.,  145.,   52.,   25.]),\n",
        " array([-3.3140229 , -2.71927209, -2.12452127, -1.52977045, -0.93501963,\n",
        "       -0.34026881,  0.25448201,  0.84923283,  1.44398365,  2.03873447,\n",
        "        2.63348529]),\n",
        " <a list of 10 Patch objects>)"
       ]
      },
      {
       "metadata": {},
       "output_type": "display_data",
       "png": "[encoded data removed]",
       "text": [
        "<matplotlib.figure.Figure at 0x11147fe10>"
       ]
      }
     ],
     "prompt_number": 19
    },
    {
     "cell_type": "code",
     "collapsed": false,
     "input": [
      "from scipy import stats\n",
      "\n",
      "n, min_max, mean, var, skew, kurt = stats.describe(random_data)\n",
      "print n # num of items in dataset\n",
      "print min_max # min and max values\n",
      "print mean # average\n",
      "print var # variance \n",
      "print skew # biased to one side or another\n",
      "print kurt"
     ],
     "language": "python",
     "metadata": {},
     "outputs": [
      {
       "output_type": "stream",
       "stream": "stdout",
       "text": [
        "1000\n",
        "(-3.3140229045015834, 2.6334852900144132)\n",
        "0.0411753360112\n",
        "0.991946428143\n",
        "-0.0760973626786\n",
        "-0.217994991481\n"
       ]
      }
     ],
     "prompt_number": 20
    },
    {
     "cell_type": "markdown",
     "metadata": {},
     "source": [
      "There are so many questions to ask!\n",
      "\n",
      " * Where should I go to get burgers near NYU?\n",
      " * How do burger restaurant scores compare, overall, to Japanese restaurants? Why might this be?\n",
      " * Are there any cuisines for which the variance of scores is very high? Why do you think that might be the case?\n",
      " * Pick another question: What's the most hygenic food? Is one burough better than others? How are the scores distributed by letter? Do vegan restaurants score differently? What's the most common violation code?"
     ]
    },
    {
     "cell_type": "raw",
     "metadata": {},
     "source": [
      "Let's start finding out how many burguer places there are near NYU, appending restaurants with ZIP 10003 and 10012."
     ]
    },
    {
     "cell_type": "code",
     "collapsed": false,
     "input": [
      "NYUburguers = []\n",
      "\n",
      "for restaurant in restaurant_data:\n",
      "    if restaurant[5] == 10003:\n",
      "        NYUburguers.append(restaurant)\n",
      "    if restaurant[5] == 10012:\n",
      "        NYUburguers.append(restaurant)\n",
      "\n",
      "\n",
      "NYUscores = []\n",
      "NYUnames = []\n",
      "NYUid = []\n",
      "\n",
      "for burguer in NYUburguers:\n",
      "    NYUscores.append(burguer[11])\n",
      "    NYUnames.append(burguer[1])\n",
      "    NYUid.append(burguer[0])\n",
      "\n",
      "    \n"
     ],
     "language": "python",
     "metadata": {},
     "outputs": [],
     "prompt_number": 49
    },
    {
     "cell_type": "raw",
     "metadata": {},
     "source": [
      "Is it a good neighborhood to eat burguers? Let's check the scores."
     ]
    },
    {
     "cell_type": "code",
     "collapsed": false,
     "input": [
      "print \"worst score:\", max(NYUscores)\n",
      "print \"best score:\", min(NYUscores)"
     ],
     "language": "python",
     "metadata": {},
     "outputs": [
      {
       "output_type": "stream",
       "stream": "stdout",
       "text": [
        "worst score: 61\n",
        "best score: -1\n"
       ]
      }
     ],
     "prompt_number": 22
    },
    {
     "cell_type": "code",
     "collapsed": false,
     "input": [
      "from scipy import stats\n",
      "\n",
      "n, min_max, mean, var, skew, kurt = stats.describe(NYUscores)\n",
      "print n # num of items in dataset\n",
      "print min_max # min and max values\n",
      "print mean # average\n",
      "print var # variance \n",
      "print skew # biased to one side or another\n",
      "print kurt\n",
      "\n",
      "print numpy.std(NYUscores)\n"
     ],
     "language": "python",
     "metadata": {},
     "outputs": [
      {
       "output_type": "stream",
       "stream": "stdout",
       "text": [
        "354\n",
        "(-1, 61)\n",
        "20.3728813559\n",
        "136.693426802\n",
        "0.939166780185\n",
        "1.25863209778\n",
        "11.6750711851\n"
       ]
      }
     ],
     "prompt_number": 44
    },
    {
     "cell_type": "raw",
     "metadata": {},
     "source": [
      "354 restaurants. But most of them are duplicated 2x, 3x so I don't know how accurate are these numbers. Mean (average) is 20, which is a bit more than the all NYC burguers average. "
     ]
    },
    {
     "cell_type": "code",
     "collapsed": false,
     "input": [
      "plt.plot(NYUscores)"
     ],
     "language": "python",
     "metadata": {},
     "outputs": [
      {
       "metadata": {},
       "output_type": "pyout",
       "prompt_number": 48,
       "text": [
        "[<matplotlib.lines.Line2D at 0x112f03190>]"
       ]
      },
      {
       "metadata": {},
       "output_type": "display_data",
       "png": "[encoded data removed]",
       "text": [
        "<matplotlib.figure.Figure at 0x1130a0c50>"
       ]
      }
     ],
     "prompt_number": 48
    },
    {
     "cell_type": "code",
     "collapsed": false,
     "input": [
      "n, bins, patches = pyplot.hist(NYUscores)"
     ],
     "language": "python",
     "metadata": {},
     "outputs": [
      {
       "metadata": {},
       "output_type": "display_data",
       "png": "[encoded data removed]",
       "text": [
        "<matplotlib.figure.Figure at 0x11148b950>"
       ]
      }
     ],
     "prompt_number": 25
    },
    {
     "cell_type": "code",
     "collapsed": false,
     "input": [
      "print \"Checking those with grades under than 0 (not inspected?):\"\n",
      "for record in NYUburguers:\n",
      "    if record[11] == -1:\n",
      "       # print record\n",
      "       print record[1], \"at\", record[3], record[4]\n"
     ],
     "language": "python",
     "metadata": {},
     "outputs": [
      {
       "output_type": "stream",
       "stream": "stdout",
       "text": [
        "Checking those with grades under than 0 (not inspected?):\n",
        "MCDONALD'S at 724 BROADWAY\n",
        "PAULS DA BURGER JOINT at 131 2 AVENUE\n",
        "PAULS DA BURGER JOINT at 131 2 AVENUE\n",
        "CLARKE'S STANDARD at 870 BROADWAY\n"
       ]
      }
     ],
     "prompt_number": 43
    },
    {
     "cell_type": "code",
     "collapsed": false,
     "input": [
      "print \"The 3rd best public inspection graded burguer restaurants near NYU\"\n",
      "\n",
      "i = 0;\n",
      "for record in NYUburguers:\n",
      "      if record[11] == 2:\n",
      "            print record[1], \"at\", record[3], record[4]\n",
      "            i = i + 1\n",
      "      if i > 2:\n",
      "        break\n",
      "        \n",
      "        \n"
     ],
     "language": "python",
     "metadata": {},
     "outputs": [
      {
       "output_type": "stream",
       "stream": "stdout",
       "text": [
        "The 3rd best public inspection graded burguer restaurants near NYU\n",
        "MCDONALD'S at 39 UNION SQUARE WEST\n",
        "WENDY'S at 20 EAST   14 STREET\n",
        "MARK at 33 ST MARKS PLACE\n"
       ]
      }
     ],
     "prompt_number": 27
    },
    {
     "cell_type": "code",
     "collapsed": false,
     "input": [
      "print \"List of all A graded burguer restaurants near NYU\"\n",
      "for record in NYUburguers:\n",
      "    if record[11] >0 and record[11] < 13:\n",
      "        print record[1], \"at\", record[3], record[4], \"grade:\", record[11]\n"
     ],
     "language": "python",
     "metadata": {},
     "outputs": [
      {
       "output_type": "stream",
       "stream": "stdout",
       "text": [
        "List of all A graded burguer restaurants near NYU\n",
        "WENDY'S at 650 BROADWAY grade: 12\n",
        "WENDY'S at 650 BROADWAY grade: 12\n",
        "MCDONALD'S at 27 3 AVENUE grade: 3\n",
        "WENDY'S at 20 EAST   14 STREET grade: 10\n",
        "WENDY'S at 20 EAST   14 STREET grade: 10\n",
        "MCDONALD'S at 39 UNION SQUARE WEST grade: 2\n",
        "BLUE 9 BURGER at 92 3 AVENUE grade: 5\n",
        "PAULS DA BURGER JOINT at 131 2 AVENUE grade: 9\n",
        "BLUE 9 BURGER at 92 3 AVENUE grade: 5\n",
        "FIVE GUYS BURGERS AND FRIES at 496        LAGUARDIA PLACE                                    grade: 4\n",
        "PAULS DA BURGER JOINT at 131 2 AVENUE grade: 9\n",
        "MARK at 33 ST MARKS PLACE grade: 11\n",
        "MARK at 33 ST MARKS PLACE grade: 11\n",
        "MARK at 33 ST MARKS PLACE grade: 11\n",
        "POPS at 42 EAST    8 STREET grade: 12\n",
        "POPS at 42 EAST    8 STREET grade: 12\n",
        "BAREBURGER at 85 2 AVENUE grade: 11\n",
        "CLARKE'S STANDARD at 870 BROADWAY grade: 7\n",
        "CLARKE'S STANDARD at 870 BROADWAY grade: 7\n",
        "POPS at 42 EAST    8 STREET grade: 12\n",
        "BAREBURGER at 85 2 AVENUE grade: 11\n",
        "BAREBURGER at 85 2 AVENUE grade: 11\n",
        "WENDY'S at 650 BROADWAY grade: 8\n",
        "WENDY'S at 650 BROADWAY grade: 8\n",
        "MCDONALD'S at 27 3 AVENUE grade: 12\n",
        "MCDONALD'S at 27 3 AVENUE grade: 12\n",
        "MCDONALD'S at 27 3 AVENUE grade: 12\n",
        "MCDONALD'S at 27 3 AVENUE grade: 12\n",
        "MCDONALD'S at 27 3 AVENUE grade: 12\n",
        "MCDONALD'S at 724 BROADWAY grade: 5\n",
        "MCDONALD'S at 724 BROADWAY grade: 12\n",
        "MCDONALD'S at 724 BROADWAY grade: 5\n",
        "WENDY'S at 20 EAST   14 STREET grade: 10\n",
        "WENDY'S at 20 EAST   14 STREET grade: 10\n",
        "MCDONALD'S at 724 BROADWAY grade: 7\n",
        "MCDONALD'S at 724 BROADWAY grade: 12\n",
        "WENDY'S at 20 EAST   14 STREET grade: 2\n",
        "MCDONALD'S at 724 BROADWAY grade: 5\n",
        "MCDONALD'S at 724 BROADWAY grade: 7\n",
        "MCDONALD'S at 724 BROADWAY grade: 12\n",
        "MCDONALD'S at 136 WEST    3 STREET grade: 10\n",
        "MCDONALD'S at 136 WEST    3 STREET grade: 9\n",
        "BLUE 9 BURGER at 92 3 AVENUE grade: 9\n",
        "BLUE 9 BURGER at 92 3 AVENUE grade: 10\n",
        "MCDONALD'S at 39 UNION SQUARE WEST grade: 12\n",
        "BLUE 9 BURGER at 92 3 AVENUE grade: 9\n",
        "BLUE 9 BURGER at 92 3 AVENUE grade: 9\n",
        "BLUE 9 BURGER at 92 3 AVENUE grade: 10\n",
        "BLUE 9 BURGER at 92 3 AVENUE grade: 7\n",
        "BLUE 9 BURGER at 92 3 AVENUE grade: 10\n",
        "BLUE 9 BURGER at 92 3 AVENUE grade: 10\n",
        "MCDONALD'S at 39 UNION SQUARE WEST grade: 12\n",
        "MCDONALD'S at 39 UNION SQUARE WEST grade: 9\n",
        "PAULS DA BURGER JOINT at 131 2 AVENUE grade: 12\n",
        "PAULS DA BURGER JOINT at 131 2 AVENUE grade: 12\n",
        "BLUE 9 BURGER at 92 3 AVENUE grade: 9\n",
        "BLUE 9 BURGER at 92 3 AVENUE grade: 10\n",
        "BLUE 9 BURGER at 92 3 AVENUE grade: 7\n",
        "FIVE GUYS BURGERS AND FRIES at 496        LAGUARDIA PLACE                                    grade: 3\n",
        "FIVE GUYS BURGERS AND FRIES at 496        LAGUARDIA PLACE                                    grade: 5\n",
        "PAULS DA BURGER JOINT at 131 2 AVENUE grade: 12\n",
        "PAULS DA BURGER JOINT at 131 2 AVENUE grade: 12\n",
        "FIVE GUYS BURGERS AND FRIES at 496        LAGUARDIA PLACE                                    grade: 7\n",
        "FIVE GUYS BURGERS AND FRIES at 496        LAGUARDIA PLACE                                    grade: 7\n",
        "MCDONALD'S at 39 UNION SQUARE WEST grade: 9\n",
        "FIVE GUYS BURGERS AND FRIES at 496        LAGUARDIA PLACE                                    grade: 3\n",
        "FIVE GUYS BURGERS AND FRIES at 496        LAGUARDIA PLACE                                    grade: 5\n",
        "MCDONALD'S at 39 UNION SQUARE WEST grade: 3\n",
        "MCDONALD'S at 39 UNION SQUARE WEST grade: 4\n",
        "MCDONALD'S at 39 UNION SQUARE WEST grade: 4\n",
        "BURGER CREATIONS at 52 EAST 8 STREET grade: 12\n",
        "BURGER CREATIONS at 52 EAST 8 STREET grade: 12\n",
        "PAULS DA BURGER JOINT at 131 2 AVENUE grade: 12\n",
        "PAULS DA BURGER JOINT at 131 2 AVENUE grade: 12\n",
        "BURGER CREATIONS at 52 EAST 8 STREET grade: 12\n",
        "BURGER CREATIONS at 52 EAST 8 STREET grade: 8\n",
        "BURGER CREATIONS at 52 EAST 8 STREET grade: 12\n",
        "BURGER CREATIONS at 52 EAST 8 STREET grade: 8\n",
        "MARK at 33 ST MARKS PLACE grade: 11\n",
        "MARK at 33 ST MARKS PLACE grade: 11\n",
        "MARK at 33 ST MARKS PLACE grade: 2\n",
        "POPS at 42 EAST    8 STREET grade: 4\n",
        "CLARKE'S STANDARD at 870 BROADWAY grade: 10\n",
        "CLARKE'S STANDARD at 870 BROADWAY grade: 10\n",
        "POPS at 42 EAST    8 STREET grade: 7\n",
        "POPS at 42 EAST    8 STREET grade: 7\n",
        "CLARKE'S STANDARD at 870 BROADWAY grade: 10\n",
        "CLARKE'S STANDARD at 870 BROADWAY grade: 5\n",
        "WENDY'S at 20 EAST   14 STREET grade: 2\n",
        "MCDONALD'S at 136 WEST    3 STREET grade: 9\n",
        "MCDONALD'S at 136 WEST    3 STREET grade: 10\n",
        "BLUE 9 BURGER at 92 3 AVENUE grade: 10\n",
        "MCDONALD'S at 39 UNION SQUARE WEST grade: 4\n",
        "MCDONALD'S at 39 UNION SQUARE WEST grade: 4\n",
        "FIVE GUYS BURGERS AND FRIES at 496        LAGUARDIA PLACE                                    grade: 3\n",
        "BURGER CREATIONS at 52 EAST 8 STREET grade: 8\n",
        "BURGER CREATIONS at 52 EAST 8 STREET grade: 8\n"
       ]
      }
     ],
     "prompt_number": 28
    },
    {
     "cell_type": "code",
     "collapsed": false,
     "input": [
      "print \"The worst public inspection graded burguer restaurants near NYU\"\n",
      "for record in NYUburguers:\n",
      "    if record[11] > 40:\n",
      "        print record[1], \"at\", record[3], record[4], \"grade:\", record[11]\n",
      "\n",
      "print \" \"\n",
      "print \"No repeat list:\"\n",
      "print \"BLUE 9 BURGER at 92 3 AVENUE\"\n",
      "print \"PAULS DA BURGER JOINT at 131 2 AVENUE\"\n",
      "print \"BURGER CREATIONS at 52 EAST 8 STREET\"\n",
      "\n",
      "        \n",
      "        "
     ],
     "language": "python",
     "metadata": {},
     "outputs": [
      {
       "output_type": "stream",
       "stream": "stdout",
       "text": [
        "The worst public inspection graded burguer restaurants near NYU\n",
        "BLUE 9 BURGER at 92 3 AVENUE grade: 46\n",
        "BLUE 9 BURGER at 92 3 AVENUE grade: 46\n",
        "BLUE 9 BURGER at 92 3 AVENUE grade: 46\n",
        "BLUE 9 BURGER at 92 3 AVENUE grade: 46\n",
        "BLUE 9 BURGER at 92 3 AVENUE grade: 46\n",
        "BLUE 9 BURGER at 92 3 AVENUE grade: 46\n",
        "BLUE 9 BURGER at 92 3 AVENUE grade: 46\n",
        "PAULS DA BURGER JOINT at 131 2 AVENUE grade: 61\n",
        "BLUE 9 BURGER at 92 3 AVENUE grade: 46\n",
        "PAULS DA BURGER JOINT at 131 2 AVENUE grade: 61\n",
        "BLUE 9 BURGER at 92 3 AVENUE grade: 46\n",
        "BURGER CREATIONS at 52 EAST 8 STREET grade: 44\n",
        "BURGER CREATIONS at 52 EAST 8 STREET grade: 44\n",
        "PAULS DA BURGER JOINT at 131 2 AVENUE grade: 61\n",
        "PAULS DA BURGER JOINT at 131 2 AVENUE grade: 61\n",
        "PAULS DA BURGER JOINT at 131 2 AVENUE grade: 61\n",
        "BURGER CREATIONS at 52 EAST 8 STREET grade: 44\n",
        "BURGER CREATIONS at 52 EAST 8 STREET grade: 44\n",
        "BURGER CREATIONS at 52 EAST 8 STREET grade: 44\n",
        "BURGER CREATIONS at 52 EAST 8 STREET grade: 44\n",
        "PAULS DA BURGER JOINT at 131 2 AVENUE grade: 61\n",
        "BURGER CREATIONS at 52 EAST 8 STREET grade: 44\n",
        "BURGER CREATIONS at 52 EAST 8 STREET grade: 44\n",
        " \n",
        "No repeat list:\n",
        "BLUE 9 BURGER at 92 3 AVENUE\n",
        "PAULS DA BURGER JOINT at 131 2 AVENUE\n",
        "BURGER CREATIONS at 52 EAST 8 STREET\n"
       ]
      }
     ],
     "prompt_number": 29
    },
    {
     "cell_type": "code",
     "collapsed": false,
     "input": [
      "print \"But the winner of worst grade of all is:\"\n",
      "for record in NYUburguers:\n",
      "    if record[11] > 60:\n",
      "        print record[1], \"at\", record[3], record[4]\n",
      "        break;\n",
      "        "
     ],
     "language": "python",
     "metadata": {},
     "outputs": [
      {
       "output_type": "stream",
       "stream": "stdout",
       "text": [
        "But the winner of worst grade of all is:\n",
        "PAULS DA BURGER JOINT at 131 2 AVENUE\n"
       ]
      }
     ],
     "prompt_number": 30
    },
    {
     "cell_type": "raw",
     "metadata": {},
     "source": [
      "After realizing that the same restaurant had grade A at some point and it was in the list of 3rd worst graded burguers, I decided to explore the timeline of this restaurant:"
     ]
    },
    {
     "cell_type": "code",
     "collapsed": false,
     "input": [
      "blue9scores = []\n",
      "blue9dates = []\n",
      "\n",
      "for record in NYUburguers:\n",
      "    if record[1] == \"BLUE 9 BURGER\":\n",
      "        #print record[1], \"at\", record[3], record[4], \"inspected in\", record[8], \"had grade\", record[11]\n",
      "        blue9scores.append(record[11])\n",
      "        blue9dates.append(record[8])\n",
      "        print record[8], record[11]\n",
      "        \n",
      "                    \n",
      "s = cbook.Sorter() \n",
      "s(blue9dates) # sort the data   \n",
      "#how to print date + score in order? "
     ],
     "language": "python",
     "metadata": {},
     "outputs": [
      {
       "output_type": "stream",
       "stream": "stdout",
       "text": [
        "2013-06-17 00:00:00 5\n",
        "2013-06-17 00:00:00 5\n",
        "2010-12-06 00:00:00 17\n",
        "2011-07-11 00:00:00 36\n",
        "2011-12-05 00:00:00 26\n",
        "2012-10-18 00:00:00 46\n",
        "2012-11-27 00:00:00 28\n",
        "2010-12-06 00:00:00 17\n",
        "2010-12-22 00:00:00 9\n",
        "2011-12-05 00:00:00 26\n",
        "2012-06-11 00:00:00 10\n",
        "2012-10-18 00:00:00 46\n",
        "2012-10-18 00:00:00 46\n",
        "2012-11-29 00:00:00 35\n",
        "2012-11-29 00:00:00 35\n",
        "2010-12-22 00:00:00 9\n",
        "2010-12-22 00:00:00 9\n",
        "2011-07-11 00:00:00 36\n",
        "2012-05-15 00:00:00 19\n",
        "2012-05-15 00:00:00 19\n",
        "2012-10-18 00:00:00 46\n",
        "2012-10-18 00:00:00 46\n",
        "2012-11-29 00:00:00 35\n",
        "2013-06-05 00:00:00 10\n",
        "2011-08-23 00:00:00 13\n",
        "2011-08-23 00:00:00 13\n",
        "2011-12-05 00:00:00 26\n",
        "2011-12-14 00:00:00 16\n",
        "2012-10-18 00:00:00 46\n",
        "2012-10-18 00:00:00 46\n",
        "2012-11-27 00:00:00 28\n",
        "2012-11-30 00:00:00 7\n",
        "2011-07-11 00:00:00 36\n",
        "2011-08-23 00:00:00 13\n",
        "2011-12-05 00:00:00 26\n",
        "2012-05-15 00:00:00 19\n",
        "2013-06-05 00:00:00 10\n",
        "2013-06-05 00:00:00 10\n",
        "2010-12-22 00:00:00 9\n",
        "2011-07-11 00:00:00 36\n",
        "2011-12-14 00:00:00 16\n",
        "2012-06-11 00:00:00 10\n",
        "2012-10-18 00:00:00 46\n",
        "2012-11-29 00:00:00 35\n",
        "2012-11-30 00:00:00 7\n",
        "2010-12-06 00:00:00 17\n",
        "2010-12-06 00:00:00 17\n",
        "2011-08-23 00:00:00 13\n",
        "2012-05-15 00:00:00 19\n",
        "2012-10-18 00:00:00 46\n",
        "2011-08-23 00:00:00 13\n",
        "2011-08-23 00:00:00 13\n",
        "2011-12-14 00:00:00 16\n",
        "2012-06-11 00:00:00 10\n"
       ]
      },
      {
       "metadata": {},
       "output_type": "pyout",
       "prompt_number": 42,
       "text": [
        "[datetime.datetime(2010, 12, 6, 0, 0),\n",
        " datetime.datetime(2010, 12, 6, 0, 0),\n",
        " datetime.datetime(2010, 12, 6, 0, 0),\n",
        " datetime.datetime(2010, 12, 6, 0, 0),\n",
        " datetime.datetime(2010, 12, 22, 0, 0),\n",
        " datetime.datetime(2010, 12, 22, 0, 0),\n",
        " datetime.datetime(2010, 12, 22, 0, 0),\n",
        " datetime.datetime(2010, 12, 22, 0, 0),\n",
        " datetime.datetime(2011, 7, 11, 0, 0),\n",
        " datetime.datetime(2011, 7, 11, 0, 0),\n",
        " datetime.datetime(2011, 7, 11, 0, 0),\n",
        " datetime.datetime(2011, 7, 11, 0, 0),\n",
        " datetime.datetime(2011, 8, 23, 0, 0),\n",
        " datetime.datetime(2011, 8, 23, 0, 0),\n",
        " datetime.datetime(2011, 8, 23, 0, 0),\n",
        " datetime.datetime(2011, 8, 23, 0, 0),\n",
        " datetime.datetime(2011, 8, 23, 0, 0),\n",
        " datetime.datetime(2011, 8, 23, 0, 0),\n",
        " datetime.datetime(2011, 12, 5, 0, 0),\n",
        " datetime.datetime(2011, 12, 5, 0, 0),\n",
        " datetime.datetime(2011, 12, 5, 0, 0),\n",
        " datetime.datetime(2011, 12, 5, 0, 0),\n",
        " datetime.datetime(2011, 12, 14, 0, 0),\n",
        " datetime.datetime(2011, 12, 14, 0, 0),\n",
        " datetime.datetime(2011, 12, 14, 0, 0),\n",
        " datetime.datetime(2012, 5, 15, 0, 0),\n",
        " datetime.datetime(2012, 5, 15, 0, 0),\n",
        " datetime.datetime(2012, 5, 15, 0, 0),\n",
        " datetime.datetime(2012, 5, 15, 0, 0),\n",
        " datetime.datetime(2012, 6, 11, 0, 0),\n",
        " datetime.datetime(2012, 6, 11, 0, 0),\n",
        " datetime.datetime(2012, 6, 11, 0, 0),\n",
        " datetime.datetime(2012, 10, 18, 0, 0),\n",
        " datetime.datetime(2012, 10, 18, 0, 0),\n",
        " datetime.datetime(2012, 10, 18, 0, 0),\n",
        " datetime.datetime(2012, 10, 18, 0, 0),\n",
        " datetime.datetime(2012, 10, 18, 0, 0),\n",
        " datetime.datetime(2012, 10, 18, 0, 0),\n",
        " datetime.datetime(2012, 10, 18, 0, 0),\n",
        " datetime.datetime(2012, 10, 18, 0, 0),\n",
        " datetime.datetime(2012, 10, 18, 0, 0),\n",
        " datetime.datetime(2012, 11, 27, 0, 0),\n",
        " datetime.datetime(2012, 11, 27, 0, 0),\n",
        " datetime.datetime(2012, 11, 29, 0, 0),\n",
        " datetime.datetime(2012, 11, 29, 0, 0),\n",
        " datetime.datetime(2012, 11, 29, 0, 0),\n",
        " datetime.datetime(2012, 11, 29, 0, 0),\n",
        " datetime.datetime(2012, 11, 30, 0, 0),\n",
        " datetime.datetime(2012, 11, 30, 0, 0),\n",
        " datetime.datetime(2013, 6, 5, 0, 0),\n",
        " datetime.datetime(2013, 6, 5, 0, 0),\n",
        " datetime.datetime(2013, 6, 5, 0, 0),\n",
        " datetime.datetime(2013, 6, 17, 0, 0),\n",
        " datetime.datetime(2013, 6, 17, 0, 0)]"
       ]
      }
     ],
     "prompt_number": 42
    },
    {
     "cell_type": "code",
     "collapsed": false,
     "input": [
      "\n",
      "plt.plot(blue9dates, blue9scores)"
     ],
     "language": "python",
     "metadata": {},
     "outputs": [
      {
       "metadata": {},
       "output_type": "pyout",
       "prompt_number": 41,
       "text": [
        "[<matplotlib.lines.Line2D at 0x112f62e90>]"
       ]
      },
      {
       "metadata": {},
       "output_type": "display_data",
       "png": "[encoded data removed]",
       "text": [
        "<matplotlib.figure.Figure at 0x110e03c10>"
       ]
      }
     ],
     "prompt_number": 41
    },
    {
     "cell_type": "raw",
     "metadata": {},
     "source": [
      "That's a very weird result. Does anyone know how a restaurant can be rated 35 in one day (11-29) and 7 in the next (11-30)?"
     ]
    },
    {
     "cell_type": "raw",
     "metadata": {},
     "source": []
    }
   ],
   "metadata": {}
  }
 ]
}