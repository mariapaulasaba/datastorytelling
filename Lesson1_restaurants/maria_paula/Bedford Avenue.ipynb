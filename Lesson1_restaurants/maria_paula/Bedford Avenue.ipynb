{
 "metadata": {
  "name": ""
 },
 "nbformat": 3,
 "nbformat_minor": 0,
 "worksheets": [
  {
   "cells": [
    {
     "cell_type": "code",
     "collapsed": false,
     "input": [
      "bedford_data = mlab.csv2rec(\"data/bedford.txt\")\n",
      "\n",
      "bedford_NW = []\n",
      "\n",
      "for record in bedford_data:\n",
      "    number = int(record[3])\n",
      "    if number > 100 and number < 300:\n",
      "        print record[1], \"grade:\", record[11]\n",
      "        \n",
      "#how to parse text in python"
     ],
     "language": "python",
     "metadata": {},
     "outputs": [
      {
       "ename": "ValueError",
       "evalue": "invalid literal for int() with base 10: '198 C'",
       "output_type": "pyerr",
       "traceback": [
        "\u001b[0;31m---------------------------------------------------------------------------\u001b[0m\n\u001b[0;31mValueError\u001b[0m                                Traceback (most recent call last)",
        "\u001b[0;32m<ipython-input-7-078200f44c78>\u001b[0m in \u001b[0;36m<module>\u001b[0;34m()\u001b[0m\n\u001b[1;32m      5\u001b[0m \u001b[0;32mfor\u001b[0m \u001b[0mrecord\u001b[0m \u001b[0;32min\u001b[0m \u001b[0mbedford_data\u001b[0m\u001b[0;34m:\u001b[0m\u001b[0;34m\u001b[0m\u001b[0m\n\u001b[1;32m      6\u001b[0m \u001b[0;34m\u001b[0m\u001b[0m\n\u001b[0;32m----> 7\u001b[0;31m     \u001b[0mnumber\u001b[0m \u001b[0;34m=\u001b[0m \u001b[0mint\u001b[0m\u001b[0;34m(\u001b[0m\u001b[0mrecord\u001b[0m\u001b[0;34m[\u001b[0m\u001b[0;36m3\u001b[0m\u001b[0;34m]\u001b[0m\u001b[0;34m)\u001b[0m\u001b[0;34m\u001b[0m\u001b[0m\n\u001b[0m\u001b[1;32m      8\u001b[0m     \u001b[0;32mif\u001b[0m \u001b[0mnumber\u001b[0m \u001b[0;34m>\u001b[0m \u001b[0;36m100\u001b[0m \u001b[0;32mand\u001b[0m \u001b[0mnumber\u001b[0m \u001b[0;34m<\u001b[0m \u001b[0;36m300\u001b[0m\u001b[0;34m:\u001b[0m\u001b[0;34m\u001b[0m\u001b[0m\n\u001b[1;32m      9\u001b[0m         \u001b[0;32mprint\u001b[0m \u001b[0mrecord\u001b[0m\u001b[0;34m[\u001b[0m\u001b[0;36m1\u001b[0m\u001b[0;34m]\u001b[0m\u001b[0;34m,\u001b[0m \u001b[0;34m\"grade:\"\u001b[0m\u001b[0;34m,\u001b[0m \u001b[0mrecord\u001b[0m\u001b[0;34m[\u001b[0m\u001b[0;36m11\u001b[0m\u001b[0;34m]\u001b[0m\u001b[0;34m\u001b[0m\u001b[0m\n",
        "\u001b[0;31mValueError\u001b[0m: invalid literal for int() with base 10: '198 C'"
       ]
      },
      {
       "output_type": "stream",
       "stream": "stdout",
       "text": [
        "AN NHAU grade: 12\n",
        "TRIX grade: 17\n",
        "ROSAMUNDE SAUSAGE GRILL grade: 10\n",
        "DOS TOROS TAQUERIA grade: 12\n",
        "GREENPOINT TAVERN grade: 12\n",
        "GREENPOINT TAVERN grade: 12\n",
        "S & B RESTAURANT/YES DELI grade: 12\n",
        "S & B RESTAURANT/YES DELI grade: 12\n",
        "MUGS ALE HOUSE BAR grade: 11\n",
        "MUGS ALE HOUSE BAR grade: 11\n",
        "MUGS ALE HOUSE BAR grade: 11\n",
        "VITTORIA BAKERY grade: 3\n",
        "ANNA MARIA PIZZA PASTA grade: 13\n",
        "ANNA MARIA PIZZA PASTA grade: 13\n",
        "ANNA MARIA PIZZA PASTA grade: 13\n",
        "ANNA MARIA PIZZA PASTA grade: 13\n",
        "VERB CAFE grade: 50\n",
        "VERB CAFE grade: 50\n",
        "VERB CAFE grade: 50\n",
        "BLISS BAKERY & CAFE grade: 13\n",
        "VERB CAFE grade: 50\n",
        "VERB CAFE grade: 50\n",
        "SPIKE HILL grade: 9\n",
        "SPIKE HILL grade: 9\n",
        "BAGELSMITH grade: 69\n",
        "BAGELSMITH grade: 69\n",
        "BAGELSMITH grade: 69\n",
        "BAGELSMITH grade: 69\n",
        "BAGELSMITH grade: 69\n",
        "TAI THAI grade: 12\n",
        "TAI THAI grade: 12\n",
        "BAGELSMITH grade: 69\n",
        "BAGELSMITH grade: 69\n",
        "KASIA'S RESTAURANT grade: 12\n"
       ]
      }
     ],
     "prompt_number": 7
    },
    {
     "cell_type": "code",
     "collapsed": false,
     "input": [],
     "language": "python",
     "metadata": {},
     "outputs": []
    }
   ],
   "metadata": {}
  }
 ]
}