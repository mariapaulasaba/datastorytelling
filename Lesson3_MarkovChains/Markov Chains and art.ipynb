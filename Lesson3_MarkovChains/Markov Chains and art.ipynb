{
 "metadata": {
  "name": ""
 },
 "nbformat": 3,
 "nbformat_minor": 0,
 "worksheets": [
  {
   "cells": [
    {
     "cell_type": "heading",
     "level": 2,
     "metadata": {},
     "source": [
      "Markov Chains and art"
     ]
    },
    {
     "cell_type": "markdown",
     "metadata": {},
     "source": [
      "The [National Gallery of Art](http://www.nga.gov/content/ngaweb.html) puts thumbnails and descriptions of the works in their collection online. One could, theoretically, crawl these descriptions and process them."
     ]
    },
    {
     "cell_type": "code",
     "collapsed": false,
     "input": [
      "import pickle\n",
      "import random\n",
      "\n",
      "art = pickle.load(open('art.pickle'))"
     ],
     "language": "python",
     "metadata": {},
     "outputs": [],
     "prompt_number": 2
    },
    {
     "cell_type": "markdown",
     "metadata": {},
     "source": [
      "The thumbnails are really interesting. Each one looks like this: <img src=\"http://media.nga.gov/public/supplemental/objects/1/0/7/7/6/4/107764-crop-0-90x90.jpg\" />\n",
      "\n",
      "...and you can play with them to end up with images like this one, which shows the average color of each thumbnail (where each square represents a unique work of art):\n",
      "\n",
      "<img src=\"http://25.media.tumblr.com/c35ed306e3af0ca4b9aef0beff92b8a2/tumblr_mkiepmL5ot1qz7bx4o1_1280.png\" width=\"300\" />"
     ]
    },
    {
     "cell_type": "markdown",
     "metadata": {},
     "source": [
      "...and if you look at the descriptions, you might end up with a data structure like this:"
     ]
    },
    {
     "cell_type": "code",
     "collapsed": false,
     "input": [
      "print art[0]"
     ],
     "language": "python",
     "metadata": {},
     "outputs": [
      {
       "output_type": "stream",
       "stream": "stdout",
       "text": [
        "{'name': 'Saint Paul', 'artist': 'Bernardo Daddi', 'material': 'tempera on panel', 'year': '1333', 'thumbnail': 'http://www.nga.gov:80/thumb-l/a000c6/a000c643.jpg', 'desc': 'The narrow shape and large size of this panel suggest it was meant to hang against a colossal pillar in a church. The original frame utilizes decorative motifs similar to those in the borders of Gothic illuminated manuscripts.\\n Saint Paul holds a book, recalling the Epistles he wrote. The sword he displays has several meanings: his early career as a Roman soldier; his position as defender of the Christian faith; and the instrument of his martyrdom by beheading. The great dignity of his erect figure and the monumental effect of the drapery correspond to his stern, direct gaze. His imposing presence implies that the painter Bernardo Daddi may have been a pupil of \\n A sweeter, gentler mood emanates from the small figures representing the donors who commissioned this painting. Although depictions of donors are not unusual in Gothic art, it is rare to find so many husbands and wives shown kneeling together. The couples are separated, just as men and women were while worshiping in church during the Middle Ages.\\n '}\n"
       ]
      }
     ],
     "prompt_number": 26
    },
    {
     "cell_type": "markdown",
     "metadata": {},
     "source": [
      "The best kind of probabilistic mischief we can get up to with data like this is a structure called a Markov Chain."
     ]
    },
    {
     "cell_type": "code",
     "collapsed": false,
     "input": [
      "# only run this code if we haven't run it already (to save time)\n",
      "try:\n",
      "    trigrams = pickle.load(open('trigrams.pickle'))\n",
      "except IOError:\n",
      "    all_art = pickle.load(open('art.pickle'))\n",
      "\n",
      "    text_data = ''\n",
      "    for art in all_art: # deconstruct the descriptions of the works of art\n",
      "        if art.get('desc',''):\n",
      "            text_data += art['desc'] # add all descriptions of art into one variable\n",
      "\n",
      "        text = [w.lower() for w in text_data.split()] #break it apart\n",
      "        trigrams = []\n",
      "        for i in range(0, len(text)-2):\n",
      "            trigrams.append((text[i], text[i+1], text[i+2])) # build all trigrams\n",
      "\n",
      "random_seed = ' '.join(random.choice(trigrams))\n",
      "print random_seed\n"
     ],
     "language": "python",
     "metadata": {},
     "outputs": [
      {
       "output_type": "stream",
       "stream": "stdout",
       "text": [
        "depiction, this floral\n"
       ]
      }
     ],
     "prompt_number": 3
    },
    {
     "cell_type": "code",
     "collapsed": false,
     "input": [
      "# build lookup table\n",
      "lookup_table = {}\n",
      "for w1, w2, w3 in trigrams:\n",
      "    lookup_table.setdefault((w1, w2), []).append(w3)"
     ],
     "language": "python",
     "metadata": {},
     "outputs": [],
     "prompt_number": 4
    },
    {
     "cell_type": "code",
     "collapsed": false,
     "input": [
      "for j in range(20):\n",
      "    #input_text = \"against this\"\n",
      "    random_seed = ' '.join(random.choice(trigrams))\n",
      "    input_text = random_seed # we need some text to start with!\n",
      "    max_len = 40 # [n] words, please\n",
      "    seed_word, next_word = input_text.split()[-2:]\n",
      "        \n",
      "    fake_art = []\n",
      "    for i in range(max_len): # for each word we need to generate...\n",
      "        fake_art.append(next_word) # append the next word\n",
      "        try: # pick a random choice from the lookup table\n",
      "            seed_word, next_word = next_word, random.choice(lookup_table[(seed_word, next_word)])\n",
      "        except KeyError:\n",
      "            seed_word, next_word = random.choice(lookup_table.keys()) # if there isn't anything\n",
      "            # ... pick something random\n",
      "        \n",
      "    fake_art.append(next_word)\n",
      "    print  \"%s: %s\" % (j, ' '.join(fake_art))\n",
      "    print \"\\n\"\n"
     ],
     "language": "python",
     "metadata": {},
     "outputs": [
      {
       "output_type": "stream",
       "stream": "stdout",
       "text": [
        "0: artistic patronage. designing alexander's armor in the spring of 1818, he was an observer, a voyeur rather than celebrating nature in the past, probably because the pennsylvania german furniture is ornamented with carved shells at the age of seven. reynolds deliberately\n",
        "\n",
        "\n",
        "1: posing her from behind, a friend of the counter-reformation climate that shadowed veronese's career. twice, the artist that he may have used it frequently. though more tightly woven than some overshot coverlets, the pine tree border. notice that the supplementary weft\n",
        "\n",
        "\n",
        "2: gentle west wind. the sculpture completed in 2006 removed a dull brown coating of dirt and overpaint, revealing its original location remains unknown. famed as a determined, strong-minded child whose need for discipline he met constantin brancusi chiseled into the luminous\n",
        "\n",
        "\n",
        "3: century. a student at the bottom of the front plate shows death in 1760. largilli&egrave;re's great facility with a copper plate with a moral lesson. this stove is dated 1830. as pennsylvania german. iron plantations, and later to the average florentine,\n",
        "\n",
        "\n",
        "4: the fact that the spectator to adopt a working style in rome, although its style is typical of effects resulting from limited tools. the massive broken trees in the foreground, suggests the decay of the street teems with beggars, peddlers, and\n",
        "\n",
        "\n",
        "5: house. toy makers invented many ingenious products. pennsylvannia german artists were forced to ponder watson's fate. miraculously, he was made in bucks county, pennsylvania. while patriotic symbols, such as the first pope to write the book of job (10:20) which begins,\n",
        "\n",
        "\n",
        "6: banal or harsh. &ldquo;draw your material from the slightly disheveled suit; a drill to fashion magazines such as this were produced in 15th-century italy. motifs from one of only two known until the end of 1504. <em>saint george and the term\n",
        "\n",
        "\n",
        "7: southern german province of alava, spain. the high chest stands on the memling worked primarily in the renaissance as a print medium, in which viewers could move around them. their surfaces were once completely polychromed, and traces of the conventional visualization\n",
        "\n",
        "\n",
        "8: an unfinished wall, while mother and her children, to the flight of the portrayed at age 24. the french&ndash;born queen exerted a strong linear pattern and color. this is most often used for this work during his career; they reflect the\n",
        "\n",
        "\n",
        "9: at the bottom. the spindles of carver and then studied drawing from life that where either in manet\u2019s studio or zola\u2019s home. but while the subject is the painter's skill, however, but a reality intensified by titian's broad, expressive brushstrokes. in\n",
        "\n",
        "\n",
        "10: all its forms, from the book of courtly love they read together), rodin encouraged viewers to complete the masterpiece for his skill in controlling the thin walls. the realistic costumes of ancient sculpture. classical symmetry pervades the scene also conveys a\n",
        "\n",
        "\n",
        "11: of arrows in each fountain is an alloy of copper oxide. in 1849, christopher webber fenton patented his method of advertising. this carving not only from their horses. a beggar woman with a heavily loaded brush. the energy in their detail.\n",
        "\n",
        "\n",
        "12: model for the work of fantasy marks the marble in arnold b&ouml;cklin's at first sight, to extend the scene&rsquo;s meaning. the cloth, it was that of the seventeenth-century painter <em>the frankland sisters,</em> the story in a byzantine style is his superior\n",
        "\n",
        "\n",
        "13: figures, personifying the seasons in mythological garb that watteau painted for the natural decorative quality of a wealthy middle class became art patrons in their awkward poses, their strain fueling the anguished pitch of the skirt are of self material in\n",
        "\n",
        "\n",
        "14: filippino was assigned the task of finishing masaccio's great frescoes in the contours of ginevra's face is perfectly oval and her right hand raised in a variety of titles throughout the southeastern counties of pennsylvania german gunsmiths displayed their love of\n",
        "\n",
        "\n",
        "15: trips to italy, as well as their name suggests, traced their origin to elijah in the montmartre neighborhood of paris and sketched at museums and landmarks throughout france, britain, and italy. moreover, he was employed to remove the royal family. zoffany&rsquo;s\n",
        "\n",
        "\n",
        "16: trees. this double portrait of peter a. b. widener in london. embroidered rugs is the underlying principle. the sawtooth motif on the right of the west building were originally used for oil. this ecclesiastical vestment was made in the round suggests\n",
        "\n",
        "\n",
        "17: who consistently depicted his subjects seated sideways, with their own right. arthur devis was a brilliant administrator who served as one of aesop's fables. in his youth as a religious confraternity. such while bellini began to explore painting in el greco's\n",
        "\n",
        "\n",
        "18: several fans during his first excursion to brittany, spending three months in london as the chicken brought to america where it is also tinged with pale olive. the shaded room, while a menacing dragon emerges from the observer are necessary.\" escher\n",
        "\n",
        "\n",
        "19: ascetic tendency toward grays and browns. omer talon (1595&ndash;1652), a liberal attorney general of the pervasive grace of god, emerging from a single religious figure or a sad old apple, i catch a glimpse of fire behind lucy alludes to the\n",
        "\n",
        "\n"
       ]
      }
     ],
     "prompt_number": 13
    },
    {
     "cell_type": "code",
     "collapsed": false,
     "input": [],
     "language": "python",
     "metadata": {},
     "outputs": [],
     "prompt_number": 8
    },
    {
     "cell_type": "code",
     "collapsed": false,
     "input": [],
     "language": "python",
     "metadata": {},
     "outputs": []
    }
   ],
   "metadata": {}
  }
 ]
}