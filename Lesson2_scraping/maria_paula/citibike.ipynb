{
 "metadata": {
  "name": ""
 },
 "nbformat": 3,
 "nbformat_minor": 0,
 "worksheets": [
  {
   "cells": [
    {
     "cell_type": "code",
     "collapsed": false,
     "input": [
      "import urllib\n",
      "import json\n"
     ],
     "language": "python",
     "metadata": {},
     "outputs": [],
     "prompt_number": 11
    },
    {
     "cell_type": "code",
     "collapsed": false,
     "input": [
      "data_url = \"http://citibikenyc.com/stations/json/\"\n",
      "\n",
      "data_handler = urllib.urlopen(data_url)"
     ],
     "language": "python",
     "metadata": {},
     "outputs": [],
     "prompt_number": 12
    },
    {
     "cell_type": "code",
     "collapsed": false,
     "input": [
      "dir(data_handler)"
     ],
     "language": "python",
     "metadata": {},
     "outputs": [
      {
       "metadata": {},
       "output_type": "pyout",
       "prompt_number": 13,
       "text": [
        "['__doc__',\n",
        " '__init__',\n",
        " '__iter__',\n",
        " '__module__',\n",
        " '__repr__',\n",
        " 'close',\n",
        " 'code',\n",
        " 'fileno',\n",
        " 'fp',\n",
        " 'getcode',\n",
        " 'geturl',\n",
        " 'headers',\n",
        " 'info',\n",
        " 'next',\n",
        " 'read',\n",
        " 'readline',\n",
        " 'readlines',\n",
        " 'url']"
       ]
      }
     ],
     "prompt_number": 13
    },
    {
     "cell_type": "code",
     "collapsed": false,
     "input": [
      "citiStations = data_handler.read()\n"
     ],
     "language": "python",
     "metadata": {},
     "outputs": [],
     "prompt_number": 14
    },
    {
     "cell_type": "code",
     "collapsed": false,
     "input": [
      "citiStations_data = json.loads(citiStations)"
     ],
     "language": "python",
     "metadata": {},
     "outputs": [],
     "prompt_number": 15
    },
    {
     "cell_type": "code",
     "collapsed": false,
     "input": [
      "print len(citiStations_data['stationBeanList'])\n",
      "\n",
      "for station in citiStations_data['stationBeanList']:\n",
      "    print station\n",
      "    break\n",
      "\n",
      "    "
     ],
     "language": "python",
     "metadata": {},
     "outputs": [
      {
       "output_type": "stream",
       "stream": "stdout",
       "text": [
        "331\n",
        "{u'availableDocks': 6, u'totalDocks': 39, u'city': u'', u'altitude': u'', u'stAddress2': u'', u'longitude': -73.99392888, u'lastCommunicationTime': None, u'postalCode': u'', u'statusValue': u'In Service', u'testStation': False, u'stAddress1': u'W 52 St & 11 Ave', u'stationName': u'W 52 St & 11 Ave', u'landMark': u'', u'latitude': 40.76727216, u'statusKey': 1, u'availableBikes': 33, u'id': 72, u'location': u''}\n"
       ]
      }
     ],
     "prompt_number": 24
    },
    {
     "cell_type": "code",
     "collapsed": false,
     "input": [
      "num_docks = []\n",
      "for station in citiStations_data['stationBeanList']:\n",
      "    num_docks.append(station['totalDocks'])\n",
      "    \n",
      "print num_docks\n"
     ],
     "language": "python",
     "metadata": {},
     "outputs": [
      {
       "output_type": "stream",
       "stream": "stdout",
       "text": [
        "[39, 33, 26, 62, 39, 19, 19, 31, 30, 46, 25, 19, 39, 33, 31, 33, 29, 55, 23, 26, 35, 47, 44, 47, 51, 30, 45, 28, 23, 39, 38, 33, 31, 37, 55, 27, 23, 39, 39, 39, 31, 31, 23, 23, 39, 31, 23, 20, 21, 27, 40, 27, 33, 47, 31, 39, 23, 39, 35, 27, 24, 31, 27, 34, 24, 57, 27, 23, 39, 31, 19, 25, 19, 19, 31, 59, 27, 43, 44, 19, 29, 20, 55, 31, 24, 35, 27, 35, 55, 37, 23, 30, 36, 32, 37, 31, 27, 41, 35, 30, 31, 23, 39, 29, 43, 27, 28, 35, 39, 27, 31, 39, 51, 35, 27, 39, 23, 31, 39, 27, 24, 31, 27, 36, 37, 24, 27, 19, 29, 23, 23, 35, 27, 35, 42, 23, 28, 39, 36, 27, 31, 23, 23, 27, 36, 55, 39, 43, 57, 49, 27, 31, 33, 34, 39, 35, 27, 19, 30, 43, 47, 59, 23, 34, 27, 31, 29, 43, 39, 35, 27, 31, 31, 32, 31, 36, 30, 25, 27, 31, 27, 15, 41, 42, 31, 39, 40, 34, 43, 23, 19, 35, 23, 29, 24, 42, 31, 47, 23, 23, 23, 19, 55, 39, 31, 59, 30, 27, 30, 31, 39, 27, 47, 27, 27, 27, 39, 32, 34, 51, 23, 52, 35, 39, 31, 31, 31, 59, 39, 34, 39, 35, 59, 21, 23, 39, 47, 25, 59, 39, 35, 34, 59, 57, 37, 27, 41, 42, 47, 37, 47, 59, 31, 31, 27, 25, 39, 35, 44, 39, 39, 35, 41, 37, 59, 53, 49, 34, 35, 25, 47, 59, 30, 36, 52, 43, 30, 29, 45, 36, 47, 24, 36, 51, 33, 27, 26, 53, 35, 31, 59, 39, 61, 39, 67, 51, 51, 57, 39, 43, 59, 39, 41, 36, 39, 43, 50, 31, 29, 39, 39, 31, 39, 27, 38, 30, 15, 27, 30, 36, 12, 49, 23, 33, 37, 36, 39, 43, 33, 35, 25]\n"
       ]
      }
     ],
     "prompt_number": 25
    },
    {
     "cell_type": "code",
     "collapsed": false,
     "input": [],
     "language": "python",
     "metadata": {},
     "outputs": []
    }
   ],
   "metadata": {}
  }
 ]
}